{
 "cells": [
  {
   "cell_type": "markdown",
   "metadata": {},
   "source": [
    "# Mini-Project: Data Wrangling and Transformation with Pandas\n",
    "\n",
    "Working with tabular data is a necessity for anyone with enterprises having a majority of their data in relational databases and flat files. This mini-project is adopted from the excellent tutorial on pandas by Brandon Rhodes which you have watched earlier in the Data Wrangling Unit. In this mini-project, we will be looking at some interesting data based on movie data from the IMDB.\n",
    "\n",
    "This assignment should help you reinforce the concepts you learnt in the curriculum for Data Wrangling and sharpen your skills in using Pandas. Good Luck!"
   ]
  },
  {
   "cell_type": "markdown",
   "metadata": {},
   "source": [
    "### Please make sure you have one of the more recent versions of Pandas"
   ]
  },
  {
   "cell_type": "code",
   "execution_count": 2,
   "metadata": {},
   "outputs": [],
   "source": [
    "import pandas as pd\n",
    "import matplotlib.pyplot as plt\n",
    "\n",
    "%matplotlib inline"
   ]
  },
  {
   "cell_type": "code",
   "execution_count": 3,
   "metadata": {},
   "outputs": [
    {
     "data": {
      "text/plain": "'1.4.1'"
     },
     "execution_count": 3,
     "metadata": {},
     "output_type": "execute_result"
    }
   ],
   "source": [
    "pd.__version__"
   ]
  },
  {
   "cell_type": "markdown",
   "metadata": {},
   "source": [
    "## Taking a look at the Movies dataset\n",
    "This data shows the movies based on their title and the year of release"
   ]
  },
  {
   "cell_type": "code",
   "execution_count": 4,
   "metadata": {},
   "outputs": [
    {
     "name": "stdout",
     "output_type": "stream",
     "text": [
      "<class 'pandas.core.frame.DataFrame'>\n",
      "RangeIndex: 244914 entries, 0 to 244913\n",
      "Data columns (total 2 columns):\n",
      " #   Column  Non-Null Count   Dtype \n",
      "---  ------  --------------   ----- \n",
      " 0   title   244914 non-null  object\n",
      " 1   year    244914 non-null  int64 \n",
      "dtypes: int64(1), object(1)\n",
      "memory usage: 3.7+ MB\n"
     ]
    }
   ],
   "source": [
    "movies = pd.read_csv('titles.csv')\n",
    "movies.info()"
   ]
  },
  {
   "cell_type": "code",
   "execution_count": 5,
   "metadata": {},
   "outputs": [
    {
     "data": {
      "text/plain": "                                          title  year\n0                        The Ticket to the Life  2009\n1  Parallel Worlds: A New Rock Music Experience  2016\n2                     Morita - La hija de Jesus  2008\n3                                           Gun  2017\n4                        Love or Nothing at All  2014",
      "text/html": "<div>\n<style scoped>\n    .dataframe tbody tr th:only-of-type {\n        vertical-align: middle;\n    }\n\n    .dataframe tbody tr th {\n        vertical-align: top;\n    }\n\n    .dataframe thead th {\n        text-align: right;\n    }\n</style>\n<table border=\"1\" class=\"dataframe\">\n  <thead>\n    <tr style=\"text-align: right;\">\n      <th></th>\n      <th>title</th>\n      <th>year</th>\n    </tr>\n  </thead>\n  <tbody>\n    <tr>\n      <th>0</th>\n      <td>The Ticket to the Life</td>\n      <td>2009</td>\n    </tr>\n    <tr>\n      <th>1</th>\n      <td>Parallel Worlds: A New Rock Music Experience</td>\n      <td>2016</td>\n    </tr>\n    <tr>\n      <th>2</th>\n      <td>Morita - La hija de Jesus</td>\n      <td>2008</td>\n    </tr>\n    <tr>\n      <th>3</th>\n      <td>Gun</td>\n      <td>2017</td>\n    </tr>\n    <tr>\n      <th>4</th>\n      <td>Love or Nothing at All</td>\n      <td>2014</td>\n    </tr>\n  </tbody>\n</table>\n</div>"
     },
     "execution_count": 5,
     "metadata": {},
     "output_type": "execute_result"
    }
   ],
   "source": [
    "movies.head()"
   ]
  },
  {
   "cell_type": "markdown",
   "metadata": {},
   "source": [
    "## Taking a look at the Cast dataset\n",
    "\n",
    "This data shows the cast (actors, actresses, supporting roles) for each movie\n",
    "\n",
    "- The attribute `n` basically tells the importance of the cast role, lower the number, more important the role.\n",
    "- Supporting cast usually don't have any value for `n`"
   ]
  },
  {
   "cell_type": "code",
   "execution_count": 6,
   "metadata": {},
   "outputs": [
    {
     "name": "stdout",
     "output_type": "stream",
     "text": [
      "<class 'pandas.core.frame.DataFrame'>\n",
      "RangeIndex: 3786176 entries, 0 to 3786175\n",
      "Data columns (total 6 columns):\n",
      " #   Column     Dtype  \n",
      "---  ------     -----  \n",
      " 0   title      object \n",
      " 1   year       int64  \n",
      " 2   name       object \n",
      " 3   type       object \n",
      " 4   character  object \n",
      " 5   n          float64\n",
      "dtypes: float64(1), int64(1), object(4)\n",
      "memory usage: 173.3+ MB\n"
     ]
    }
   ],
   "source": [
    "cast = pd.read_csv('cast.csv.zip')\n",
    "cast.info()"
   ]
  },
  {
   "cell_type": "code",
   "execution_count": 52,
   "metadata": {},
   "outputs": [
    {
     "data": {
      "text/plain": "                                               title  year  \\\n0                                     Closet Monster  2015   \n1                                    Suuri illusioni  1985   \n2                                Battle of the Sexes  2017   \n3                               Secret in Their Eyes  2015   \n4                                         Steve Jobs  2015   \n5                             Straight Outta Compton  2015   \n6                             Straight Outta Compton  2015   \n7                                     For Thy Love 2  2009   \n8  Lapis, Ballpen at Diploma, a True to Life Journey  2014   \n9                                       Desire (III)  2014   \n\n                        name   type                               character  \\\n0                   Buffy #1  actor                                 Buffy 4   \n1                     Homo $  actor                                  Guests   \n2                    $hutter  actor                         Bobby Riggs Fan   \n3                    $hutter  actor                         2002 Dodger Fan   \n4                    $hutter  actor                 1988 Opera House Patron   \n5                    $hutter  actor                             Club Patron   \n6                    $hutter  actor                                 Dopeman   \n7               Bee Moe $lim  actor                                  Thug 1   \n8  Jori ' Danilo' Jurado Jr.  actor                           Jaime (young)   \n9           Syaiful 'Ariffin  actor  Actor Playing Eteocles from 'Antigone'   \n\n      n  \n0  31.0  \n1  22.0  \n2  10.0  \n3   NaN  \n4   NaN  \n5   NaN  \n6   NaN  \n7   NaN  \n8   9.0  \n9   NaN  ",
      "text/html": "<div>\n<style scoped>\n    .dataframe tbody tr th:only-of-type {\n        vertical-align: middle;\n    }\n\n    .dataframe tbody tr th {\n        vertical-align: top;\n    }\n\n    .dataframe thead th {\n        text-align: right;\n    }\n</style>\n<table border=\"1\" class=\"dataframe\">\n  <thead>\n    <tr style=\"text-align: right;\">\n      <th></th>\n      <th>title</th>\n      <th>year</th>\n      <th>name</th>\n      <th>type</th>\n      <th>character</th>\n      <th>n</th>\n    </tr>\n  </thead>\n  <tbody>\n    <tr>\n      <th>0</th>\n      <td>Closet Monster</td>\n      <td>2015</td>\n      <td>Buffy #1</td>\n      <td>actor</td>\n      <td>Buffy 4</td>\n      <td>31.0</td>\n    </tr>\n    <tr>\n      <th>1</th>\n      <td>Suuri illusioni</td>\n      <td>1985</td>\n      <td>Homo $</td>\n      <td>actor</td>\n      <td>Guests</td>\n      <td>22.0</td>\n    </tr>\n    <tr>\n      <th>2</th>\n      <td>Battle of the Sexes</td>\n      <td>2017</td>\n      <td>$hutter</td>\n      <td>actor</td>\n      <td>Bobby Riggs Fan</td>\n      <td>10.0</td>\n    </tr>\n    <tr>\n      <th>3</th>\n      <td>Secret in Their Eyes</td>\n      <td>2015</td>\n      <td>$hutter</td>\n      <td>actor</td>\n      <td>2002 Dodger Fan</td>\n      <td>NaN</td>\n    </tr>\n    <tr>\n      <th>4</th>\n      <td>Steve Jobs</td>\n      <td>2015</td>\n      <td>$hutter</td>\n      <td>actor</td>\n      <td>1988 Opera House Patron</td>\n      <td>NaN</td>\n    </tr>\n    <tr>\n      <th>5</th>\n      <td>Straight Outta Compton</td>\n      <td>2015</td>\n      <td>$hutter</td>\n      <td>actor</td>\n      <td>Club Patron</td>\n      <td>NaN</td>\n    </tr>\n    <tr>\n      <th>6</th>\n      <td>Straight Outta Compton</td>\n      <td>2015</td>\n      <td>$hutter</td>\n      <td>actor</td>\n      <td>Dopeman</td>\n      <td>NaN</td>\n    </tr>\n    <tr>\n      <th>7</th>\n      <td>For Thy Love 2</td>\n      <td>2009</td>\n      <td>Bee Moe $lim</td>\n      <td>actor</td>\n      <td>Thug 1</td>\n      <td>NaN</td>\n    </tr>\n    <tr>\n      <th>8</th>\n      <td>Lapis, Ballpen at Diploma, a True to Life Journey</td>\n      <td>2014</td>\n      <td>Jori ' Danilo' Jurado Jr.</td>\n      <td>actor</td>\n      <td>Jaime (young)</td>\n      <td>9.0</td>\n    </tr>\n    <tr>\n      <th>9</th>\n      <td>Desire (III)</td>\n      <td>2014</td>\n      <td>Syaiful 'Ariffin</td>\n      <td>actor</td>\n      <td>Actor Playing Eteocles from 'Antigone'</td>\n      <td>NaN</td>\n    </tr>\n  </tbody>\n</table>\n</div>"
     },
     "execution_count": 52,
     "metadata": {},
     "output_type": "execute_result"
    }
   ],
   "source": [
    "cast.head(10)"
   ]
  },
  {
   "cell_type": "markdown",
   "metadata": {},
   "source": [
    "## Taking a look at the Release dataset\n",
    "\n",
    "This data shows details of when each movie was release in each country with the release date"
   ]
  },
  {
   "cell_type": "code",
   "execution_count": 8,
   "metadata": {},
   "outputs": [
    {
     "name": "stdout",
     "output_type": "stream",
     "text": [
      "<class 'pandas.core.frame.DataFrame'>\n",
      "RangeIndex: 479488 entries, 0 to 479487\n",
      "Data columns (total 4 columns):\n",
      " #   Column   Non-Null Count   Dtype         \n",
      "---  ------   --------------   -----         \n",
      " 0   title    479488 non-null  object        \n",
      " 1   year     479488 non-null  int64         \n",
      " 2   country  479488 non-null  object        \n",
      " 3   date     479488 non-null  datetime64[ns]\n",
      "dtypes: datetime64[ns](1), int64(1), object(2)\n",
      "memory usage: 14.6+ MB\n"
     ]
    }
   ],
   "source": [
    "release_dates = pd.read_csv('release_dates.csv', parse_dates=['date'], infer_datetime_format=True)\n",
    "release_dates.info()"
   ]
  },
  {
   "cell_type": "code",
   "execution_count": 9,
   "metadata": {},
   "outputs": [
    {
     "data": {
      "text/plain": "                    title  year      country       date\n0   #73, Shaanthi Nivaasa  2007        India 2007-06-15\n1                   #BKKY  2016     Cambodia 2017-10-12\n2                 #Beings  2015      Romania 2015-01-29\n3               #Captured  2017          USA 2017-09-05\n4  #Ewankosau saranghaeyo  2015  Philippines 2015-01-21",
      "text/html": "<div>\n<style scoped>\n    .dataframe tbody tr th:only-of-type {\n        vertical-align: middle;\n    }\n\n    .dataframe tbody tr th {\n        vertical-align: top;\n    }\n\n    .dataframe thead th {\n        text-align: right;\n    }\n</style>\n<table border=\"1\" class=\"dataframe\">\n  <thead>\n    <tr style=\"text-align: right;\">\n      <th></th>\n      <th>title</th>\n      <th>year</th>\n      <th>country</th>\n      <th>date</th>\n    </tr>\n  </thead>\n  <tbody>\n    <tr>\n      <th>0</th>\n      <td>#73, Shaanthi Nivaasa</td>\n      <td>2007</td>\n      <td>India</td>\n      <td>2007-06-15</td>\n    </tr>\n    <tr>\n      <th>1</th>\n      <td>#BKKY</td>\n      <td>2016</td>\n      <td>Cambodia</td>\n      <td>2017-10-12</td>\n    </tr>\n    <tr>\n      <th>2</th>\n      <td>#Beings</td>\n      <td>2015</td>\n      <td>Romania</td>\n      <td>2015-01-29</td>\n    </tr>\n    <tr>\n      <th>3</th>\n      <td>#Captured</td>\n      <td>2017</td>\n      <td>USA</td>\n      <td>2017-09-05</td>\n    </tr>\n    <tr>\n      <th>4</th>\n      <td>#Ewankosau saranghaeyo</td>\n      <td>2015</td>\n      <td>Philippines</td>\n      <td>2015-01-21</td>\n    </tr>\n  </tbody>\n</table>\n</div>"
     },
     "execution_count": 9,
     "metadata": {},
     "output_type": "execute_result"
    }
   ],
   "source": [
    "release_dates.head()"
   ]
  },
  {
   "cell_type": "markdown",
   "metadata": {},
   "source": [
    "# Section I - Basic Querying, Filtering and Transformations"
   ]
  },
  {
   "cell_type": "markdown",
   "metadata": {},
   "source": [
    "### What is the total number of movies?"
   ]
  },
  {
   "cell_type": "code",
   "execution_count": 10,
   "metadata": {},
   "outputs": [
    {
     "data": {
      "text/plain": "244914"
     },
     "execution_count": 10,
     "metadata": {},
     "output_type": "execute_result"
    }
   ],
   "source": [
    "len(movies)"
   ]
  },
  {
   "cell_type": "markdown",
   "metadata": {},
   "source": [
    "### List all Batman movies ever made"
   ]
  },
  {
   "cell_type": "code",
   "execution_count": 11,
   "metadata": {},
   "outputs": [
    {
     "name": "stdout",
     "output_type": "stream",
     "text": [
      "Total Batman Movies: 2\n"
     ]
    },
    {
     "data": {
      "text/plain": "         title  year\n52734   Batman  1943\n150621  Batman  1989",
      "text/html": "<div>\n<style scoped>\n    .dataframe tbody tr th:only-of-type {\n        vertical-align: middle;\n    }\n\n    .dataframe tbody tr th {\n        vertical-align: top;\n    }\n\n    .dataframe thead th {\n        text-align: right;\n    }\n</style>\n<table border=\"1\" class=\"dataframe\">\n  <thead>\n    <tr style=\"text-align: right;\">\n      <th></th>\n      <th>title</th>\n      <th>year</th>\n    </tr>\n  </thead>\n  <tbody>\n    <tr>\n      <th>52734</th>\n      <td>Batman</td>\n      <td>1943</td>\n    </tr>\n    <tr>\n      <th>150621</th>\n      <td>Batman</td>\n      <td>1989</td>\n    </tr>\n  </tbody>\n</table>\n</div>"
     },
     "execution_count": 11,
     "metadata": {},
     "output_type": "execute_result"
    }
   ],
   "source": [
    "batman_df = movies[movies.title == 'Batman']\n",
    "print('Total Batman Movies:', len(batman_df))\n",
    "batman_df"
   ]
  },
  {
   "cell_type": "markdown",
   "metadata": {},
   "source": [
    "### List all Batman movies ever made - the right approach"
   ]
  },
  {
   "cell_type": "code",
   "execution_count": 12,
   "metadata": {},
   "outputs": [
    {
     "name": "stdout",
     "output_type": "stream",
     "text": [
      "Total Batman Movies: 35\n"
     ]
    },
    {
     "data": {
      "text/plain": "                                             title  year\n16813                              Batman: Anarchy  2016\n30236                               Batman Forever  1995\n31674                                Batman Untold  2010\n31711  Scooby-Doo & Batman: the Brave and the Bold  2018\n41881                  Batman the Rise of Red Hood  2018\n43484        Batman: Return of the Caped Crusaders  2016\n46333                               Batman & Robin  1997\n51811                              Batman Revealed  2012\n52734                                       Batman  1943\n56029                 Batman Beyond: Rising Knight  2014",
      "text/html": "<div>\n<style scoped>\n    .dataframe tbody tr th:only-of-type {\n        vertical-align: middle;\n    }\n\n    .dataframe tbody tr th {\n        vertical-align: top;\n    }\n\n    .dataframe thead th {\n        text-align: right;\n    }\n</style>\n<table border=\"1\" class=\"dataframe\">\n  <thead>\n    <tr style=\"text-align: right;\">\n      <th></th>\n      <th>title</th>\n      <th>year</th>\n    </tr>\n  </thead>\n  <tbody>\n    <tr>\n      <th>16813</th>\n      <td>Batman: Anarchy</td>\n      <td>2016</td>\n    </tr>\n    <tr>\n      <th>30236</th>\n      <td>Batman Forever</td>\n      <td>1995</td>\n    </tr>\n    <tr>\n      <th>31674</th>\n      <td>Batman Untold</td>\n      <td>2010</td>\n    </tr>\n    <tr>\n      <th>31711</th>\n      <td>Scooby-Doo &amp; Batman: the Brave and the Bold</td>\n      <td>2018</td>\n    </tr>\n    <tr>\n      <th>41881</th>\n      <td>Batman the Rise of Red Hood</td>\n      <td>2018</td>\n    </tr>\n    <tr>\n      <th>43484</th>\n      <td>Batman: Return of the Caped Crusaders</td>\n      <td>2016</td>\n    </tr>\n    <tr>\n      <th>46333</th>\n      <td>Batman &amp; Robin</td>\n      <td>1997</td>\n    </tr>\n    <tr>\n      <th>51811</th>\n      <td>Batman Revealed</td>\n      <td>2012</td>\n    </tr>\n    <tr>\n      <th>52734</th>\n      <td>Batman</td>\n      <td>1943</td>\n    </tr>\n    <tr>\n      <th>56029</th>\n      <td>Batman Beyond: Rising Knight</td>\n      <td>2014</td>\n    </tr>\n  </tbody>\n</table>\n</div>"
     },
     "execution_count": 12,
     "metadata": {},
     "output_type": "execute_result"
    }
   ],
   "source": [
    "batman_df = movies[movies.title.str.contains('Batman', case=False)]\n",
    "print('Total Batman Movies:', len(batman_df))\n",
    "batman_df.head(10)"
   ]
  },
  {
   "cell_type": "markdown",
   "metadata": {},
   "source": [
    "### Display the top 15 Batman movies in the order they were released"
   ]
  },
  {
   "cell_type": "code",
   "execution_count": 13,
   "metadata": {},
   "outputs": [
    {
     "data": {
      "text/plain": "                               title  year\n52734                         Batman  1943\n100056              Batman and Robin  1949\n161439                Batman Dracula  1964\n84327          Alyas Batman at Robin  1965\n68364                   James Batman  1966\n161527             Batman: The Movie  1966\n56159          Batman Fights Dracula  1967\n168504         Fight! Batman, Fight!  1973\n150621                        Batman  1989\n156239         Alyas Batman en Robin  1991\n156755                Batman Returns  1992\n63366   Batman: Mask of the Phantasm  1993\n30236                 Batman Forever  1995\n46333                 Batman & Robin  1997\n208220                 Batman Begins  2005",
      "text/html": "<div>\n<style scoped>\n    .dataframe tbody tr th:only-of-type {\n        vertical-align: middle;\n    }\n\n    .dataframe tbody tr th {\n        vertical-align: top;\n    }\n\n    .dataframe thead th {\n        text-align: right;\n    }\n</style>\n<table border=\"1\" class=\"dataframe\">\n  <thead>\n    <tr style=\"text-align: right;\">\n      <th></th>\n      <th>title</th>\n      <th>year</th>\n    </tr>\n  </thead>\n  <tbody>\n    <tr>\n      <th>52734</th>\n      <td>Batman</td>\n      <td>1943</td>\n    </tr>\n    <tr>\n      <th>100056</th>\n      <td>Batman and Robin</td>\n      <td>1949</td>\n    </tr>\n    <tr>\n      <th>161439</th>\n      <td>Batman Dracula</td>\n      <td>1964</td>\n    </tr>\n    <tr>\n      <th>84327</th>\n      <td>Alyas Batman at Robin</td>\n      <td>1965</td>\n    </tr>\n    <tr>\n      <th>68364</th>\n      <td>James Batman</td>\n      <td>1966</td>\n    </tr>\n    <tr>\n      <th>161527</th>\n      <td>Batman: The Movie</td>\n      <td>1966</td>\n    </tr>\n    <tr>\n      <th>56159</th>\n      <td>Batman Fights Dracula</td>\n      <td>1967</td>\n    </tr>\n    <tr>\n      <th>168504</th>\n      <td>Fight! Batman, Fight!</td>\n      <td>1973</td>\n    </tr>\n    <tr>\n      <th>150621</th>\n      <td>Batman</td>\n      <td>1989</td>\n    </tr>\n    <tr>\n      <th>156239</th>\n      <td>Alyas Batman en Robin</td>\n      <td>1991</td>\n    </tr>\n    <tr>\n      <th>156755</th>\n      <td>Batman Returns</td>\n      <td>1992</td>\n    </tr>\n    <tr>\n      <th>63366</th>\n      <td>Batman: Mask of the Phantasm</td>\n      <td>1993</td>\n    </tr>\n    <tr>\n      <th>30236</th>\n      <td>Batman Forever</td>\n      <td>1995</td>\n    </tr>\n    <tr>\n      <th>46333</th>\n      <td>Batman &amp; Robin</td>\n      <td>1997</td>\n    </tr>\n    <tr>\n      <th>208220</th>\n      <td>Batman Begins</td>\n      <td>2005</td>\n    </tr>\n  </tbody>\n</table>\n</div>"
     },
     "execution_count": 13,
     "metadata": {},
     "output_type": "execute_result"
    }
   ],
   "source": [
    "batman_df.sort_values(by=['year'], ascending=True).iloc[:15]"
   ]
  },
  {
   "cell_type": "markdown",
   "metadata": {},
   "source": [
    "### Section I - Q1 : List all the 'Harry Potter' movies from the most recent to the earliest"
   ]
  },
  {
   "cell_type": "code",
   "execution_count": 14,
   "metadata": {},
   "outputs": [
    {
     "name": "stdout",
     "output_type": "stream",
     "text": [
      "Total Harry Potter Movies: 8\n"
     ]
    },
    {
     "data": {
      "text/plain": "                                               title  year\n143147  Harry Potter and the Deathly Hallows: Part 2  2011\n152831  Harry Potter and the Deathly Hallows: Part 1  2010\n109213        Harry Potter and the Half-Blood Prince  2009\n50581      Harry Potter and the Order of the Phoenix  2007\n187926           Harry Potter and the Goblet of Fire  2005\n61957       Harry Potter and the Prisoner of Azkaban  2004\n82791        Harry Potter and the Chamber of Secrets  2002\n223087         Harry Potter and the Sorcerer's Stone  2001",
      "text/html": "<div>\n<style scoped>\n    .dataframe tbody tr th:only-of-type {\n        vertical-align: middle;\n    }\n\n    .dataframe tbody tr th {\n        vertical-align: top;\n    }\n\n    .dataframe thead th {\n        text-align: right;\n    }\n</style>\n<table border=\"1\" class=\"dataframe\">\n  <thead>\n    <tr style=\"text-align: right;\">\n      <th></th>\n      <th>title</th>\n      <th>year</th>\n    </tr>\n  </thead>\n  <tbody>\n    <tr>\n      <th>143147</th>\n      <td>Harry Potter and the Deathly Hallows: Part 2</td>\n      <td>2011</td>\n    </tr>\n    <tr>\n      <th>152831</th>\n      <td>Harry Potter and the Deathly Hallows: Part 1</td>\n      <td>2010</td>\n    </tr>\n    <tr>\n      <th>109213</th>\n      <td>Harry Potter and the Half-Blood Prince</td>\n      <td>2009</td>\n    </tr>\n    <tr>\n      <th>50581</th>\n      <td>Harry Potter and the Order of the Phoenix</td>\n      <td>2007</td>\n    </tr>\n    <tr>\n      <th>187926</th>\n      <td>Harry Potter and the Goblet of Fire</td>\n      <td>2005</td>\n    </tr>\n    <tr>\n      <th>61957</th>\n      <td>Harry Potter and the Prisoner of Azkaban</td>\n      <td>2004</td>\n    </tr>\n    <tr>\n      <th>82791</th>\n      <td>Harry Potter and the Chamber of Secrets</td>\n      <td>2002</td>\n    </tr>\n    <tr>\n      <th>223087</th>\n      <td>Harry Potter and the Sorcerer's Stone</td>\n      <td>2001</td>\n    </tr>\n  </tbody>\n</table>\n</div>"
     },
     "execution_count": 14,
     "metadata": {},
     "output_type": "execute_result"
    }
   ],
   "source": [
    "potter_df = movies[movies.title.str.contains('Harry Potter', case=False)]\n",
    "print('Total Harry Potter Movies:', len(potter_df))\n",
    "potter_df.sort_values(by=['year'], ascending=False)\n"
   ]
  },
  {
   "cell_type": "markdown",
   "metadata": {},
   "source": [
    "### How many movies were made in the year 2017?"
   ]
  },
  {
   "cell_type": "code",
   "execution_count": 15,
   "metadata": {},
   "outputs": [
    {
     "data": {
      "text/plain": "11474"
     },
     "execution_count": 15,
     "metadata": {},
     "output_type": "execute_result"
    }
   ],
   "source": [
    "len(movies[movies.year == 2017])"
   ]
  },
  {
   "cell_type": "markdown",
   "metadata": {},
   "source": [
    "### Section I - Q2 : How many movies were made in the year 2015?"
   ]
  },
  {
   "cell_type": "code",
   "execution_count": 16,
   "metadata": {},
   "outputs": [
    {
     "data": {
      "text/plain": "8702"
     },
     "execution_count": 16,
     "metadata": {},
     "output_type": "execute_result"
    }
   ],
   "source": [
    "len(movies[movies.year == 2015])"
   ]
  },
  {
   "cell_type": "markdown",
   "metadata": {},
   "source": [
    "### Section I - Q3 : How many movies were made from 2000 till 2018?\n",
    "- You can chain multiple conditions using OR (`|`) as well as AND (`&`) depending on the condition"
   ]
  },
  {
   "cell_type": "code",
   "execution_count": 17,
   "metadata": {},
   "outputs": [
    {
     "data": {
      "text/plain": "85894"
     },
     "execution_count": 17,
     "metadata": {},
     "output_type": "execute_result"
    }
   ],
   "source": [
    "len(movies[( movies.year >= 2008) & (movies.year <= 2018)])"
   ]
  },
  {
   "cell_type": "markdown",
   "metadata": {},
   "source": [
    "### Section I - Q4: How many movies are titled \"Hamlet\"?"
   ]
  },
  {
   "cell_type": "code",
   "execution_count": 18,
   "metadata": {},
   "outputs": [
    {
     "data": {
      "text/plain": "20"
     },
     "execution_count": 18,
     "metadata": {},
     "output_type": "execute_result"
    }
   ],
   "source": [
    "look_for = ['Hamlet']\n",
    "len(movies[movies.title.isin(look_for)])"
   ]
  },
  {
   "cell_type": "markdown",
   "metadata": {},
   "source": [
    "### Section I - Q5: List all movies titled \"Hamlet\" \n",
    "- The movies should only have been released on or after the year 2000\n",
    "- Display the movies based on the year they were released (earliest to most recent)"
   ]
  },
  {
   "cell_type": "code",
   "execution_count": 19,
   "metadata": {},
   "outputs": [
    {
     "data": {
      "text/plain": "         title  year\n227953  Hamlet  2011\n178290  Hamlet  2014\n186137  Hamlet  2015\n191940  Hamlet  2016\n244747  Hamlet  2017",
      "text/html": "<div>\n<style scoped>\n    .dataframe tbody tr th:only-of-type {\n        vertical-align: middle;\n    }\n\n    .dataframe tbody tr th {\n        vertical-align: top;\n    }\n\n    .dataframe thead th {\n        text-align: right;\n    }\n</style>\n<table border=\"1\" class=\"dataframe\">\n  <thead>\n    <tr style=\"text-align: right;\">\n      <th></th>\n      <th>title</th>\n      <th>year</th>\n    </tr>\n  </thead>\n  <tbody>\n    <tr>\n      <th>227953</th>\n      <td>Hamlet</td>\n      <td>2011</td>\n    </tr>\n    <tr>\n      <th>178290</th>\n      <td>Hamlet</td>\n      <td>2014</td>\n    </tr>\n    <tr>\n      <th>186137</th>\n      <td>Hamlet</td>\n      <td>2015</td>\n    </tr>\n    <tr>\n      <th>191940</th>\n      <td>Hamlet</td>\n      <td>2016</td>\n    </tr>\n    <tr>\n      <th>244747</th>\n      <td>Hamlet</td>\n      <td>2017</td>\n    </tr>\n  </tbody>\n</table>\n</div>"
     },
     "execution_count": 19,
     "metadata": {},
     "output_type": "execute_result"
    }
   ],
   "source": [
    "look_for = ['Hamlet']\n",
    "df = movies[movies.title.isin(look_for)]\n",
    "new_df = df[df.year >= 2010]\n",
    "new_df.sort_values(by=['year'], ascending=True)"
   ]
  },
  {
   "cell_type": "markdown",
   "metadata": {},
   "source": [
    "### Section I - Q6: How many roles in the movie \"Inception\" are of the supporting cast (extra credits)\n",
    "- supporting cast are NOT ranked by an \"n\" value (NaN)\n",
    "- check for how to filter based on nulls"
   ]
  },
  {
   "cell_type": "code",
   "execution_count": 20,
   "metadata": {},
   "outputs": [
    {
     "data": {
      "text/plain": "27"
     },
     "execution_count": 20,
     "metadata": {},
     "output_type": "execute_result"
    }
   ],
   "source": [
    "supporting_cast = cast[ (cast.title == 'Inception') & (cast.n.isnull())]\n",
    "len(supporting_cast)"
   ]
  },
  {
   "cell_type": "markdown",
   "metadata": {},
   "source": [
    "### Section I - Q7: How many roles in the movie \"Inception\" are of the main cast\n",
    "- main cast always have an 'n' value"
   ]
  },
  {
   "cell_type": "code",
   "execution_count": 21,
   "metadata": {},
   "outputs": [
    {
     "data": {
      "text/plain": "51"
     },
     "execution_count": 21,
     "metadata": {},
     "output_type": "execute_result"
    }
   ],
   "source": [
    "inception_cast = cast[ (cast.title == 'Inception') & (cast.n.notnull())]\n",
    "len(inception_cast)"
   ]
  },
  {
   "cell_type": "markdown",
   "metadata": {},
   "source": [
    "### Section I - Q8: Show the top ten cast (actors\\actresses) in the movie \"Inception\" \n",
    "- main cast always have an 'n' value\n",
    "- remember to sort!"
   ]
  },
  {
   "cell_type": "code",
   "execution_count": 22,
   "metadata": {},
   "outputs": [
    {
     "data": {
      "text/plain": "             title  year                name     type              character  \\\n3731263  Inception  2010      Shannon Welles  actress                Old Mal   \n833376   Inception  2010         Jack Gilroy    actor               Old Cobb   \n2250605  Inception  2010       Jason Tendell    actor       Fischer's Driver   \n3473041  Inception  2010  Lisa (II) Reynolds  actress          Private Nurse   \n1812091  Inception  2010      Andrew Pleavin    actor            Businessman   \n2049179  Inception  2010         Felix Scott    actor            Businessman   \n807795   Inception  2010      Michael Gaston    actor    Immigration Officer   \n149008   Inception  2010        Peter Basham    actor  Fischer's Jet Captain   \n3444628  Inception  2010      Nicole Pulliam  actress          Lobby Sub Con   \n3203564  Inception  2010   Alex (II) Lombard  actress          Lobby Sub Con   \n\n            n  \n3731263  51.0  \n833376   50.0  \n2250605  49.0  \n3473041  48.0  \n1812091  47.0  \n2049179  46.0  \n807795   45.0  \n149008   44.0  \n3444628  43.0  \n3203564  42.0  ",
      "text/html": "<div>\n<style scoped>\n    .dataframe tbody tr th:only-of-type {\n        vertical-align: middle;\n    }\n\n    .dataframe tbody tr th {\n        vertical-align: top;\n    }\n\n    .dataframe thead th {\n        text-align: right;\n    }\n</style>\n<table border=\"1\" class=\"dataframe\">\n  <thead>\n    <tr style=\"text-align: right;\">\n      <th></th>\n      <th>title</th>\n      <th>year</th>\n      <th>name</th>\n      <th>type</th>\n      <th>character</th>\n      <th>n</th>\n    </tr>\n  </thead>\n  <tbody>\n    <tr>\n      <th>3731263</th>\n      <td>Inception</td>\n      <td>2010</td>\n      <td>Shannon Welles</td>\n      <td>actress</td>\n      <td>Old Mal</td>\n      <td>51.0</td>\n    </tr>\n    <tr>\n      <th>833376</th>\n      <td>Inception</td>\n      <td>2010</td>\n      <td>Jack Gilroy</td>\n      <td>actor</td>\n      <td>Old Cobb</td>\n      <td>50.0</td>\n    </tr>\n    <tr>\n      <th>2250605</th>\n      <td>Inception</td>\n      <td>2010</td>\n      <td>Jason Tendell</td>\n      <td>actor</td>\n      <td>Fischer's Driver</td>\n      <td>49.0</td>\n    </tr>\n    <tr>\n      <th>3473041</th>\n      <td>Inception</td>\n      <td>2010</td>\n      <td>Lisa (II) Reynolds</td>\n      <td>actress</td>\n      <td>Private Nurse</td>\n      <td>48.0</td>\n    </tr>\n    <tr>\n      <th>1812091</th>\n      <td>Inception</td>\n      <td>2010</td>\n      <td>Andrew Pleavin</td>\n      <td>actor</td>\n      <td>Businessman</td>\n      <td>47.0</td>\n    </tr>\n    <tr>\n      <th>2049179</th>\n      <td>Inception</td>\n      <td>2010</td>\n      <td>Felix Scott</td>\n      <td>actor</td>\n      <td>Businessman</td>\n      <td>46.0</td>\n    </tr>\n    <tr>\n      <th>807795</th>\n      <td>Inception</td>\n      <td>2010</td>\n      <td>Michael Gaston</td>\n      <td>actor</td>\n      <td>Immigration Officer</td>\n      <td>45.0</td>\n    </tr>\n    <tr>\n      <th>149008</th>\n      <td>Inception</td>\n      <td>2010</td>\n      <td>Peter Basham</td>\n      <td>actor</td>\n      <td>Fischer's Jet Captain</td>\n      <td>44.0</td>\n    </tr>\n    <tr>\n      <th>3444628</th>\n      <td>Inception</td>\n      <td>2010</td>\n      <td>Nicole Pulliam</td>\n      <td>actress</td>\n      <td>Lobby Sub Con</td>\n      <td>43.0</td>\n    </tr>\n    <tr>\n      <th>3203564</th>\n      <td>Inception</td>\n      <td>2010</td>\n      <td>Alex (II) Lombard</td>\n      <td>actress</td>\n      <td>Lobby Sub Con</td>\n      <td>42.0</td>\n    </tr>\n  </tbody>\n</table>\n</div>"
     },
     "execution_count": 22,
     "metadata": {},
     "output_type": "execute_result"
    }
   ],
   "source": [
    "inception_cast = cast[ (cast.title == 'Inception') & (cast.n.notnull())]\n",
    "inception_cast.sort_values(by=['n'], ascending=False).head(10)"
   ]
  },
  {
   "cell_type": "markdown",
   "metadata": {},
   "source": [
    "### Section I - Q9:\n",
    "\n",
    "(A) List all movies where there was a character 'Albus Dumbledore' \n",
    "\n",
    "(B) Now modify the above to show only the actors who played the character 'Albus Dumbledore'\n",
    "- For Part (B) remember the same actor might play the same role in multiple movies"
   ]
  },
  {
   "cell_type": "code",
   "execution_count": 23,
   "metadata": {},
   "outputs": [
    {
     "data": {
      "text/plain": "                                             title  year                 name  \\\n704984                                  Epic Movie  2007         Dane Farwell   \n792421         Harry Potter and the Goblet of Fire  2005       Michael Gambon   \n792423   Harry Potter and the Order of the Phoenix  2007       Michael Gambon   \n792424    Harry Potter and the Prisoner of Azkaban  2004       Michael Gambon   \n947789     Harry Potter and the Chamber of Secrets  2002       Richard Harris   \n947790       Harry Potter and the Sorcerer's Stone  2001       Richard Harris   \n1685537                      Ultimate Hero Project  2013  George (X) O'Connor   \n2248085                                     Potter  2015    Timothy Tedmanson   \n\n          type         character     n  \n704984   actor  Albus Dumbledore  17.0  \n792421   actor  Albus Dumbledore  37.0  \n792423   actor  Albus Dumbledore  36.0  \n792424   actor  Albus Dumbledore  27.0  \n947789   actor  Albus Dumbledore  32.0  \n947790   actor  Albus Dumbledore   1.0  \n1685537  actor  Albus Dumbledore   NaN  \n2248085  actor  Albus Dumbledore   NaN  ",
      "text/html": "<div>\n<style scoped>\n    .dataframe tbody tr th:only-of-type {\n        vertical-align: middle;\n    }\n\n    .dataframe tbody tr th {\n        vertical-align: top;\n    }\n\n    .dataframe thead th {\n        text-align: right;\n    }\n</style>\n<table border=\"1\" class=\"dataframe\">\n  <thead>\n    <tr style=\"text-align: right;\">\n      <th></th>\n      <th>title</th>\n      <th>year</th>\n      <th>name</th>\n      <th>type</th>\n      <th>character</th>\n      <th>n</th>\n    </tr>\n  </thead>\n  <tbody>\n    <tr>\n      <th>704984</th>\n      <td>Epic Movie</td>\n      <td>2007</td>\n      <td>Dane Farwell</td>\n      <td>actor</td>\n      <td>Albus Dumbledore</td>\n      <td>17.0</td>\n    </tr>\n    <tr>\n      <th>792421</th>\n      <td>Harry Potter and the Goblet of Fire</td>\n      <td>2005</td>\n      <td>Michael Gambon</td>\n      <td>actor</td>\n      <td>Albus Dumbledore</td>\n      <td>37.0</td>\n    </tr>\n    <tr>\n      <th>792423</th>\n      <td>Harry Potter and the Order of the Phoenix</td>\n      <td>2007</td>\n      <td>Michael Gambon</td>\n      <td>actor</td>\n      <td>Albus Dumbledore</td>\n      <td>36.0</td>\n    </tr>\n    <tr>\n      <th>792424</th>\n      <td>Harry Potter and the Prisoner of Azkaban</td>\n      <td>2004</td>\n      <td>Michael Gambon</td>\n      <td>actor</td>\n      <td>Albus Dumbledore</td>\n      <td>27.0</td>\n    </tr>\n    <tr>\n      <th>947789</th>\n      <td>Harry Potter and the Chamber of Secrets</td>\n      <td>2002</td>\n      <td>Richard Harris</td>\n      <td>actor</td>\n      <td>Albus Dumbledore</td>\n      <td>32.0</td>\n    </tr>\n    <tr>\n      <th>947790</th>\n      <td>Harry Potter and the Sorcerer's Stone</td>\n      <td>2001</td>\n      <td>Richard Harris</td>\n      <td>actor</td>\n      <td>Albus Dumbledore</td>\n      <td>1.0</td>\n    </tr>\n    <tr>\n      <th>1685537</th>\n      <td>Ultimate Hero Project</td>\n      <td>2013</td>\n      <td>George (X) O'Connor</td>\n      <td>actor</td>\n      <td>Albus Dumbledore</td>\n      <td>NaN</td>\n    </tr>\n    <tr>\n      <th>2248085</th>\n      <td>Potter</td>\n      <td>2015</td>\n      <td>Timothy Tedmanson</td>\n      <td>actor</td>\n      <td>Albus Dumbledore</td>\n      <td>NaN</td>\n    </tr>\n  </tbody>\n</table>\n</div>"
     },
     "execution_count": 23,
     "metadata": {},
     "output_type": "execute_result"
    }
   ],
   "source": [
    "df = cast[ (cast.character == 'Albus Dumbledore')]\n",
    "df\n"
   ]
  },
  {
   "cell_type": "code",
   "execution_count": 24,
   "metadata": {},
   "outputs": [
    {
     "data": {
      "text/plain": "array(['Dane Farwell', 'Michael Gambon', 'Richard Harris',\n       \"George (X) O'Connor\", 'Timothy Tedmanson'], dtype=object)"
     },
     "execution_count": 24,
     "metadata": {},
     "output_type": "execute_result"
    }
   ],
   "source": [
    "dumbledore_actors = df[ df.name.notnull()]\n",
    "dumbledore_actors = df.name.unique()\n",
    "dumbledore_actors"
   ]
  },
  {
   "cell_type": "markdown",
   "metadata": {},
   "source": [
    "### Section I - Q10:\n",
    "\n",
    "(A) How many roles has 'Keanu Reeves' played throughout his career?\n",
    "\n",
    "(B) List the leading roles that 'Keanu Reeves' played on or after 1999 in order by year."
   ]
  },
  {
   "cell_type": "code",
   "execution_count": 25,
   "metadata": {},
   "outputs": [
    {
     "data": {
      "text/plain": "                                    title  year          name   type  \\\n1892342                          47 Ronin  2013  Keanu Reeves  actor   \n1892343                  A Scanner Darkly  2006  Keanu Reeves  actor   \n1892344              A Walk in the Clouds  1995  Keanu Reeves  actor   \n1892345        Bill & Ted's Bogus Journey  1991  Keanu Reeves  actor   \n1892346  Bill & Ted's Excellent Adventure  1989  Keanu Reeves  actor   \n...                                   ...   ...           ...    ...   \n1892399                   The Whole Truth  2016  Keanu Reeves  actor   \n1892400                       Thumbsucker  2005  Keanu Reeves  actor   \n1892401                       To the Bone  2017  Keanu Reeves  actor   \n1892402               Tune in Tomorrow...  1990  Keanu Reeves  actor   \n1892403                        Youngblood  1986  Keanu Reeves  actor   \n\n             character     n  \n1892342            Kai   1.0  \n1892343     Bob Arctor   4.0  \n1892344    Paul Sutton   1.0  \n1892345            Ted   1.0  \n1892346            Ted   1.0  \n...                ...   ...  \n1892399         Ramsey   1.0  \n1892400    Perry Lyman  17.0  \n1892401    Dr. Beckham  11.0  \n1892402  Martin Loader   2.0  \n1892403         Heaver  12.0  \n\n[62 rows x 6 columns]",
      "text/html": "<div>\n<style scoped>\n    .dataframe tbody tr th:only-of-type {\n        vertical-align: middle;\n    }\n\n    .dataframe tbody tr th {\n        vertical-align: top;\n    }\n\n    .dataframe thead th {\n        text-align: right;\n    }\n</style>\n<table border=\"1\" class=\"dataframe\">\n  <thead>\n    <tr style=\"text-align: right;\">\n      <th></th>\n      <th>title</th>\n      <th>year</th>\n      <th>name</th>\n      <th>type</th>\n      <th>character</th>\n      <th>n</th>\n    </tr>\n  </thead>\n  <tbody>\n    <tr>\n      <th>1892342</th>\n      <td>47 Ronin</td>\n      <td>2013</td>\n      <td>Keanu Reeves</td>\n      <td>actor</td>\n      <td>Kai</td>\n      <td>1.0</td>\n    </tr>\n    <tr>\n      <th>1892343</th>\n      <td>A Scanner Darkly</td>\n      <td>2006</td>\n      <td>Keanu Reeves</td>\n      <td>actor</td>\n      <td>Bob Arctor</td>\n      <td>4.0</td>\n    </tr>\n    <tr>\n      <th>1892344</th>\n      <td>A Walk in the Clouds</td>\n      <td>1995</td>\n      <td>Keanu Reeves</td>\n      <td>actor</td>\n      <td>Paul Sutton</td>\n      <td>1.0</td>\n    </tr>\n    <tr>\n      <th>1892345</th>\n      <td>Bill &amp; Ted's Bogus Journey</td>\n      <td>1991</td>\n      <td>Keanu Reeves</td>\n      <td>actor</td>\n      <td>Ted</td>\n      <td>1.0</td>\n    </tr>\n    <tr>\n      <th>1892346</th>\n      <td>Bill &amp; Ted's Excellent Adventure</td>\n      <td>1989</td>\n      <td>Keanu Reeves</td>\n      <td>actor</td>\n      <td>Ted</td>\n      <td>1.0</td>\n    </tr>\n    <tr>\n      <th>...</th>\n      <td>...</td>\n      <td>...</td>\n      <td>...</td>\n      <td>...</td>\n      <td>...</td>\n      <td>...</td>\n    </tr>\n    <tr>\n      <th>1892399</th>\n      <td>The Whole Truth</td>\n      <td>2016</td>\n      <td>Keanu Reeves</td>\n      <td>actor</td>\n      <td>Ramsey</td>\n      <td>1.0</td>\n    </tr>\n    <tr>\n      <th>1892400</th>\n      <td>Thumbsucker</td>\n      <td>2005</td>\n      <td>Keanu Reeves</td>\n      <td>actor</td>\n      <td>Perry Lyman</td>\n      <td>17.0</td>\n    </tr>\n    <tr>\n      <th>1892401</th>\n      <td>To the Bone</td>\n      <td>2017</td>\n      <td>Keanu Reeves</td>\n      <td>actor</td>\n      <td>Dr. Beckham</td>\n      <td>11.0</td>\n    </tr>\n    <tr>\n      <th>1892402</th>\n      <td>Tune in Tomorrow...</td>\n      <td>1990</td>\n      <td>Keanu Reeves</td>\n      <td>actor</td>\n      <td>Martin Loader</td>\n      <td>2.0</td>\n    </tr>\n    <tr>\n      <th>1892403</th>\n      <td>Youngblood</td>\n      <td>1986</td>\n      <td>Keanu Reeves</td>\n      <td>actor</td>\n      <td>Heaver</td>\n      <td>12.0</td>\n    </tr>\n  </tbody>\n</table>\n<p>62 rows × 6 columns</p>\n</div>"
     },
     "execution_count": 25,
     "metadata": {},
     "output_type": "execute_result"
    }
   ],
   "source": [
    "keanu_roles = cast[ cast.name == 'Keanu Reeves' ]\n",
    "len(keanu_roles)\n",
    "keanu_roles"
   ]
  },
  {
   "cell_type": "code",
   "execution_count": 26,
   "metadata": {},
   "outputs": [
    {
     "data": {
      "text/plain": "                                  title  year          name   type  \\\n1892391             The Matrix Reloaded  2003  Keanu Reeves  actor   \n1892370                     Me and Will  1999  Keanu Reeves  actor   \n1892369                     Me and Will  1999  Keanu Reeves  actor   \n1892392          The Matrix Revolutions  2003  Keanu Reeves  actor   \n1892365                           Keanu  2016  Keanu Reeves  actor   \n1892351                    Ellie Parker  2005  Keanu Reeves  actor   \n1892400                     Thumbsucker  2005  Keanu Reeves  actor   \n1892396  The Private Lives of Pippa Lee  2009  Keanu Reeves  actor   \n1892401                     To the Bone  2017  Keanu Reeves  actor   \n1892393                  The Neon Demon  2016  Keanu Reeves  actor   \n\n            character     n  \n1892391           Neo  59.0  \n1892370       Himself  42.0  \n1892369       Dogstar  42.0  \n1892392           Neo  33.0  \n1892365         Keanu  25.0  \n1892351       Dogstar  21.0  \n1892400   Perry Lyman  17.0  \n1892396  Chris Nadeau  16.0  \n1892401   Dr. Beckham  11.0  \n1892393          Hank   8.0  ",
      "text/html": "<div>\n<style scoped>\n    .dataframe tbody tr th:only-of-type {\n        vertical-align: middle;\n    }\n\n    .dataframe tbody tr th {\n        vertical-align: top;\n    }\n\n    .dataframe thead th {\n        text-align: right;\n    }\n</style>\n<table border=\"1\" class=\"dataframe\">\n  <thead>\n    <tr style=\"text-align: right;\">\n      <th></th>\n      <th>title</th>\n      <th>year</th>\n      <th>name</th>\n      <th>type</th>\n      <th>character</th>\n      <th>n</th>\n    </tr>\n  </thead>\n  <tbody>\n    <tr>\n      <th>1892391</th>\n      <td>The Matrix Reloaded</td>\n      <td>2003</td>\n      <td>Keanu Reeves</td>\n      <td>actor</td>\n      <td>Neo</td>\n      <td>59.0</td>\n    </tr>\n    <tr>\n      <th>1892370</th>\n      <td>Me and Will</td>\n      <td>1999</td>\n      <td>Keanu Reeves</td>\n      <td>actor</td>\n      <td>Himself</td>\n      <td>42.0</td>\n    </tr>\n    <tr>\n      <th>1892369</th>\n      <td>Me and Will</td>\n      <td>1999</td>\n      <td>Keanu Reeves</td>\n      <td>actor</td>\n      <td>Dogstar</td>\n      <td>42.0</td>\n    </tr>\n    <tr>\n      <th>1892392</th>\n      <td>The Matrix Revolutions</td>\n      <td>2003</td>\n      <td>Keanu Reeves</td>\n      <td>actor</td>\n      <td>Neo</td>\n      <td>33.0</td>\n    </tr>\n    <tr>\n      <th>1892365</th>\n      <td>Keanu</td>\n      <td>2016</td>\n      <td>Keanu Reeves</td>\n      <td>actor</td>\n      <td>Keanu</td>\n      <td>25.0</td>\n    </tr>\n    <tr>\n      <th>1892351</th>\n      <td>Ellie Parker</td>\n      <td>2005</td>\n      <td>Keanu Reeves</td>\n      <td>actor</td>\n      <td>Dogstar</td>\n      <td>21.0</td>\n    </tr>\n    <tr>\n      <th>1892400</th>\n      <td>Thumbsucker</td>\n      <td>2005</td>\n      <td>Keanu Reeves</td>\n      <td>actor</td>\n      <td>Perry Lyman</td>\n      <td>17.0</td>\n    </tr>\n    <tr>\n      <th>1892396</th>\n      <td>The Private Lives of Pippa Lee</td>\n      <td>2009</td>\n      <td>Keanu Reeves</td>\n      <td>actor</td>\n      <td>Chris Nadeau</td>\n      <td>16.0</td>\n    </tr>\n    <tr>\n      <th>1892401</th>\n      <td>To the Bone</td>\n      <td>2017</td>\n      <td>Keanu Reeves</td>\n      <td>actor</td>\n      <td>Dr. Beckham</td>\n      <td>11.0</td>\n    </tr>\n    <tr>\n      <th>1892393</th>\n      <td>The Neon Demon</td>\n      <td>2016</td>\n      <td>Keanu Reeves</td>\n      <td>actor</td>\n      <td>Hank</td>\n      <td>8.0</td>\n    </tr>\n  </tbody>\n</table>\n</div>"
     },
     "execution_count": 26,
     "metadata": {},
     "output_type": "execute_result"
    }
   ],
   "source": [
    "keanu_roles = keanu_roles[ keanu_roles.year >= 1999]\n",
    "keanu_roles.sort_values(by=['n'], ascending=False).head(10)"
   ]
  },
  {
   "cell_type": "markdown",
   "metadata": {},
   "source": [
    "### Section I - Q11: \n",
    "\n",
    "(A) List the total number of actor and actress roles available from 1950 - 1960\n",
    "\n",
    "(B) List the total number of actor and actress roles available from 2007 - 2017"
   ]
  },
  {
   "cell_type": "code",
   "execution_count": 27,
   "metadata": {},
   "outputs": [
    {
     "data": {
      "text/plain": "234635"
     },
     "execution_count": 27,
     "metadata": {},
     "output_type": "execute_result"
    }
   ],
   "source": [
    "total_roles = cast[ (cast.year >= 1950) & (cast.year <= 1960)]\n",
    "len(total_roles)"
   ]
  },
  {
   "cell_type": "code",
   "execution_count": 28,
   "metadata": {},
   "outputs": [
    {
     "data": {
      "text/plain": "1452413"
     },
     "execution_count": 28,
     "metadata": {},
     "output_type": "execute_result"
    }
   ],
   "source": [
    "total_roles = cast[ (cast.year >= 2007) & (cast.year <= 2017)]\n",
    "len(total_roles)"
   ]
  },
  {
   "cell_type": "markdown",
   "metadata": {},
   "source": [
    "### Section I - Q12: \n",
    "\n",
    "(A) List the total number of leading roles available from 2000 to present\n",
    "\n",
    "(B) List the total number of non-leading roles available from 2000 - present (exclude support cast)\n",
    "\n",
    "(C) List the total number of support\\extra-credit roles available from 2000 - present"
   ]
  },
  {
   "cell_type": "code",
   "execution_count": 30,
   "metadata": {},
   "outputs": [
    {
     "data": {
      "text/plain": "1949762"
     },
     "execution_count": 30,
     "metadata": {},
     "output_type": "execute_result"
    }
   ],
   "source": [
    "total_roles = cast[ (cast.year >= 2000)]\n",
    "len(total_roles)"
   ]
  },
  {
   "cell_type": "code",
   "execution_count": 31,
   "metadata": {},
   "outputs": [
    {
     "data": {
      "text/plain": "1062278"
     },
     "execution_count": 31,
     "metadata": {},
     "output_type": "execute_result"
    }
   ],
   "source": [
    "total_roles = cast[ (cast.year >= 2000) & (cast.n.notnull()) ]\n",
    "len(total_roles)"
   ]
  },
  {
   "cell_type": "code",
   "execution_count": 32,
   "metadata": {},
   "outputs": [
    {
     "data": {
      "text/plain": "887484"
     },
     "execution_count": 32,
     "metadata": {},
     "output_type": "execute_result"
    }
   ],
   "source": [
    "total_roles = cast[ (cast.year >= 2000) & (cast.n.isnull()) ]\n",
    "len(total_roles)"
   ]
  },
  {
   "cell_type": "markdown",
   "metadata": {},
   "source": [
    "# Section II - Aggregations, Transformations and Visualizations"
   ]
  },
  {
   "cell_type": "markdown",
   "metadata": {},
   "source": [
    "## What are the top ten most common movie names of all time?\n"
   ]
  },
  {
   "cell_type": "code",
   "execution_count": 33,
   "metadata": {},
   "outputs": [
    {
     "data": {
      "text/plain": "Hamlet                  20\nCarmen                  17\nMacbeth                 16\nMaya                    12\nTemptation              12\nThe Outsider            12\nFreedom                 11\nThe Three Musketeers    11\nHoneymoon               11\nOthello                 11\nName: title, dtype: int64"
     },
     "execution_count": 33,
     "metadata": {},
     "output_type": "execute_result"
    }
   ],
   "source": [
    "top_ten = movies.title.value_counts()[:10]\n",
    "top_ten"
   ]
  },
  {
   "cell_type": "markdown",
   "metadata": {},
   "source": [
    "### Plot the top ten common movie names of all time"
   ]
  },
  {
   "cell_type": "code",
   "execution_count": 34,
   "metadata": {},
   "outputs": [
    {
     "data": {
      "text/plain": "<AxesSubplot:>"
     },
     "execution_count": 34,
     "metadata": {},
     "output_type": "execute_result"
    },
    {
     "data": {
      "text/plain": "<Figure size 432x288 with 1 Axes>",
      "image/png": "[encoded data removed]"
     },
     "metadata": {
      "needs_background": "light"
     },
     "output_type": "display_data"
    }
   ],
   "source": [
    "top_ten.plot(kind='barh')"
   ]
  },
  {
   "cell_type": "markdown",
   "metadata": {},
   "source": [
    "### Section II - Q1:  Which years in the 2000s saw the most movies released? (Show top 3)"
   ]
  },
  {
   "cell_type": "code",
   "execution_count": 35,
   "metadata": {},
   "outputs": [
    {
     "data": {
      "text/plain": "2017    11474\n2016     9440\n2015     8702\nName: year, dtype: int64"
     },
     "execution_count": 35,
     "metadata": {},
     "output_type": "execute_result"
    }
   ],
   "source": [
    "df = movies[movies.year >= 2000]\n",
    "top_three = df.sort_values(by='year', ascending=False)\n",
    "top_three.year.value_counts()[:3]"
   ]
  },
  {
   "cell_type": "markdown",
   "metadata": {},
   "source": [
    "### Section II - Q2: # Plot the total number of films released per-decade (1890, 1900, 1910,....)\n",
    "- Hint: Dividing the year and multiplying with a number might give you the decade the year falls into!\n",
    "- You might need to sort before plotting"
   ]
  },
  {
   "cell_type": "code",
   "execution_count": 76,
   "metadata": {},
   "outputs": [
    {
     "data": {
      "text/plain": "Text(0, 0.5, 'Number of movies')"
     },
     "execution_count": 76,
     "metadata": {},
     "output_type": "execute_result"
    },
    {
     "data": {
      "text/plain": "<Figure size 432x288 with 1 Axes>",
      "image/png": "[encoded data removed]"
     },
     "metadata": {
      "needs_background": "light"
     },
     "output_type": "display_data"
    }
   ],
   "source": [
    "movies['decade'] = movies['year']//10*10\n",
    "per_decade = movies.decade.value_counts()\n",
    "per_decade.sort_index(ascending=True, inplace=True)\n",
    "per_decade.plot(kind='bar')\n",
    "plt.xlabel('Decade')\n",
    "plt.ylabel('Number of movies')\n"
   ]
  },
  {
   "cell_type": "markdown",
   "metadata": {},
   "source": [
    "### Section II - Q3: \n",
    "\n",
    "(A) What are the top 10 most common character names in movie history?\n",
    "\n",
    "(B) Who are the top 10 people most often credited as \"Herself\" in movie history?\n",
    "\n",
    "(C) Who are the top 10 people most often credited as \"Himself\" in movie history?"
   ]
  },
  {
   "cell_type": "code",
   "execution_count": 37,
   "metadata": {},
   "outputs": [
    {
     "data": {
      "text/plain": "Himself        20746\nDancer         12477\nExtra          11948\nReporter        8434\nStudent         7773\nDoctor          7669\nParty Guest     7245\nPoliceman       7029\nNurse           6999\nBartender       6802\nName: character, dtype: int64"
     },
     "execution_count": 37,
     "metadata": {},
     "output_type": "execute_result"
    }
   ],
   "source": [
    "common_char_names = cast.character.value_counts()[:10]\n",
    "common_char_names"
   ]
  },
  {
   "cell_type": "code",
   "execution_count": 38,
   "metadata": {},
   "outputs": [
    {
     "data": {
      "text/plain": "Queen Elizabeth II           12\nJoyce Brothers                9\nLuisa Horga                   9\nMar?a Luisa (V) Mart?n        9\nMargaret Thatcher             8\nHillary Clinton               8\nIn?s J. Southern              6\nMar?a Isabel (III) Mart?n     6\nMarta Berrocal                6\nSumie Sakai                   6\nName: name, dtype: int64"
     },
     "execution_count": 38,
     "metadata": {},
     "output_type": "execute_result"
    }
   ],
   "source": [
    "herself = cast[ cast.character == 'Herself']\n",
    "herself_names = herself.name.value_counts()[:10]\n",
    "herself_names"
   ]
  },
  {
   "cell_type": "code",
   "execution_count": 39,
   "metadata": {},
   "outputs": [
    {
     "data": {
      "text/plain": "Adolf Hitler             99\nRichard Nixon            44\nRonald Reagan            41\nJohn F. Kennedy          37\nGeorge W. Bush           25\nWinston Churchill        24\nMartin Luther King       23\nRon Jeremy               22\nBill Clinton             22\nFranklin D. Roosevelt    21\nName: name, dtype: int64"
     },
     "execution_count": 39,
     "metadata": {},
     "output_type": "execute_result"
    }
   ],
   "source": [
    "himself = cast[ cast.character == 'Himself']\n",
    "himself_names = himself.name.value_counts()[:10]\n",
    "himself_names"
   ]
  },
  {
   "cell_type": "markdown",
   "metadata": {},
   "source": [
    "### Section II - Q4: \n",
    "\n",
    "(A) What are the top 10 most frequent roles that start with the word \"Zombie\"?\n",
    "\n",
    "(B) What are the top 10 most frequent roles that start with the word \"Police\"?\n",
    "\n",
    "- Hint: The `startswith()` function might be useful"
   ]
  },
  {
   "cell_type": "code",
   "execution_count": 65,
   "metadata": {},
   "outputs": [
    {
     "data": {
      "text/plain": "John (II) Migliore    9\nColin Murtagh         7\nS. William Hinzman    4\nClive McKenzie        4\nSteve Hutsko          3\nRichard Ricci         3\nRudy Ricci            3\nSamuel R. Solito      3\nEdward X. Young       3\nRaquel Long           3\nName: name, dtype: int64"
     },
     "execution_count": 65,
     "metadata": {},
     "output_type": "execute_result"
    }
   ],
   "source": [
    "temp = cast[cast['character'].str.startswith('Zombie')]\n",
    "temp.name.value_counts()[:10]\n",
    "\n"
   ]
  },
  {
   "cell_type": "code",
   "execution_count": 66,
   "metadata": {},
   "outputs": [
    {
     "data": {
      "text/plain": "Brick Sullivan    93\nChuck Hamilton    82\nLee Phelps        76\nFrank O'Connor    72\nWade Boteler      70\nRobert Homans     69\nDick Rush         68\nEdgar Dearing     59\nJagdish Raj       58\nJames Flavin      57\nName: name, dtype: int64"
     },
     "execution_count": 66,
     "metadata": {},
     "output_type": "execute_result"
    }
   ],
   "source": [
    "temp = cast[cast['character'].str.startswith('Police')]\n",
    "temp.name.value_counts()[:10]"
   ]
  },
  {
   "cell_type": "markdown",
   "metadata": {},
   "source": [
    "### Section II - Q5: Plot how many roles 'Keanu Reeves' has played in each year of his career."
   ]
  },
  {
   "cell_type": "code",
   "execution_count": 77,
   "metadata": {},
   "outputs": [
    {
     "data": {
      "text/plain": "<Figure size 432x288 with 1 Axes>",
      "image/png": "[encoded data removed]"
     },
     "metadata": {
      "needs_background": "light"
     },
     "output_type": "display_data"
    }
   ],
   "source": [
    "movies_KR = cast[cast.name == 'Keanu Reeves']\n",
    "per_year = movies_KR.year.value_counts()\n",
    "per_year.sort_index(ascending=True, inplace=True)\n",
    "per_year.plot(kind='bar')\n",
    "plt.xlabel('year')\n",
    "plt.ylabel('Number of movies');\n",
    "\n",
    "\n"
   ]
  },
  {
   "cell_type": "markdown",
   "metadata": {},
   "source": [
    "### Section II - Q6: Plot the cast positions (n-values) of Keanu Reeve's roles through his career over the years.\n"
   ]
  },
  {
   "cell_type": "code",
   "execution_count": 78,
   "metadata": {},
   "outputs": [
    {
     "data": {
      "text/plain": "Text(0, 0.5, 'number of roles')"
     },
     "execution_count": 78,
     "metadata": {},
     "output_type": "execute_result"
    },
    {
     "data": {
      "text/plain": "<Figure size 432x288 with 1 Axes>",
      "image/png": "[encoded data removed]"
     },
     "metadata": {
      "needs_background": "light"
     },
     "output_type": "display_data"
    }
   ],
   "source": [
    "per_n = movies_KR.n.value_counts()\n",
    "per_n.sort_index(ascending=True, inplace=True)\n",
    "per_n.plot(kind='bar')\n",
    "plt.xlabel('n values')\n",
    "plt.ylabel('number of roles')"
   ]
  },
  {
   "cell_type": "markdown",
   "metadata": {},
   "source": [
    "### Section II - Q7: Plot the number of \"Hamlet\" films made by each decade"
   ]
  },
  {
   "cell_type": "code",
   "execution_count": 79,
   "metadata": {},
   "outputs": [
    {
     "data": {
      "text/plain": "Text(0, 0.5, 'Number of movies')"
     },
     "execution_count": 79,
     "metadata": {},
     "output_type": "execute_result"
    },
    {
     "data": {
      "text/plain": "<Figure size 432x288 with 1 Axes>",
      "image/png": "[encoded data removed]"
     },
     "metadata": {
      "needs_background": "light"
     },
     "output_type": "display_data"
    }
   ],
   "source": [
    "movies_hamlet = movies[movies.title == \"Hamlet\"];\n",
    "per_decade = movies_hamlet.decade.value_counts()\n",
    "per_decade.sort_index(ascending=True, inplace=True)\n",
    "per_decade.plot(kind='bar')\n",
    "plt.xlabel('Decade')\n",
    "plt.ylabel('Number of movies')\n"
   ]
  },
  {
   "cell_type": "markdown",
   "metadata": {},
   "source": [
    "### Section II - Q8: \n",
    "\n",
    "(A) How many leading roles were available to both actors and actresses, in the 1960s (1960-1969)?\n",
    "\n",
    "(B) How many leading roles were available to both actors and actresses, in the 2000s (2000-2009)?\n",
    "\n",
    "- Hint: A specific value of n might indicate a leading role"
   ]
  },
  {
   "cell_type": "code",
   "execution_count": 83,
   "metadata": {},
   "outputs": [
    {
     "data": {
      "text/plain": "11823"
     },
     "execution_count": 83,
     "metadata": {},
     "output_type": "execute_result"
    }
   ],
   "source": [
    "cast['decade'] = cast['year']//10*10\n",
    "len(cast[(cast.decade == 1960) & (cast.n == 1)])\n"
   ]
  },
  {
   "cell_type": "code",
   "execution_count": 86,
   "metadata": {},
   "outputs": [
    {
     "data": {
      "text/plain": "26344"
     },
     "execution_count": 86,
     "metadata": {},
     "output_type": "execute_result"
    }
   ],
   "source": [
    "len(cast[(cast.decade == 2000) & (cast.n == 1)])"
   ]
  },
  {
   "cell_type": "markdown",
   "metadata": {},
   "source": [
    "### Section II - Q9: List, in order by year, each of the films in which Frank Oz has played more than 1 role."
   ]
  },
  {
   "cell_type": "code",
   "execution_count": 85,
   "metadata": {},
   "outputs": [
    {
     "data": {
      "text/plain": "An American Werewolf in London          2\nFollow That Bird                        3\nMuppet Treasure Island                  4\nMuppets from Space                      4\nThe Adventures of Elmo in Grouchland    3\nThe Dark Crystal                        2\nThe Great Muppet Caper                  6\nThe Muppet Christmas Carol              7\nThe Muppet Movie                        8\nThe Muppets Take Manhattan              7\nName: title, dtype: int64"
     },
     "execution_count": 85,
     "metadata": {},
     "output_type": "execute_result"
    }
   ],
   "source": [
    "cast_FrankOz = cast[(cast.name == 'Frank Oz')]\n",
    "cast_FrankOz.set_index('year')\n",
    "roles = cast_FrankOz.title.value_counts().sort_index()\n",
    "roles[roles>1]"
   ]
  },
  {
   "cell_type": "markdown",
   "metadata": {},
   "source": [
    "### Section II - Q10: List each of the characters that Frank Oz has portrayed at least twice"
   ]
  },
  {
   "cell_type": "code",
   "execution_count": 87,
   "metadata": {},
   "outputs": [
    {
     "data": {
      "text/plain": "Miss Piggy        6\nYoda              6\nAnimal            6\nCookie Monster    5\nSam the Eagle     5\nFozzie Bear       4\nBert              3\nGrover            2\nName: character, dtype: int64"
     },
     "execution_count": 87,
     "metadata": {},
     "output_type": "execute_result"
    }
   ],
   "source": [
    "character = cast_FrankOz.character.value_counts()\n",
    "character[character>1]"
   ]
  },
  {
   "cell_type": "markdown",
   "metadata": {},
   "source": [
    "# Section III - Advanced Merging, Querying and Visualizations"
   ]
  },
  {
   "cell_type": "markdown",
   "metadata": {},
   "source": [
    "## Make a bar plot with the following conditions\n",
    "- Frequency of the number of movies with \"Christmas\" in their title \n",
    "- Movies should be such that they are released in the USA.\n",
    "- Show the frequency plot by month"
   ]
  },
  {
   "cell_type": "code",
   "execution_count": 88,
   "metadata": {},
   "outputs": [
    {
     "data": {
      "text/plain": "<AxesSubplot:>"
     },
     "execution_count": 88,
     "metadata": {},
     "output_type": "execute_result"
    },
    {
     "data": {
      "text/plain": "<Figure size 432x288 with 1 Axes>",
      "image/png": "[encoded data removed]"
     },
     "metadata": {
      "needs_background": "light"
     },
     "output_type": "display_data"
    }
   ],
   "source": [
    "christmas = release_dates[(release_dates.title.str.contains('Christmas')) & (release_dates.country == 'USA')]\n",
    "christmas.date.dt.month.value_counts().sort_index().plot(kind='bar')"
   ]
  },
  {
   "cell_type": "markdown",
   "metadata": {},
   "source": [
    "### Section III - Q1: Make a bar plot with the following conditions\n",
    "- Frequency of the number of movies with \"Summer\" in their title \n",
    "- Movies should be such that they are released in the USA.\n",
    "- Show the frequency plot by month"
   ]
  },
  {
   "cell_type": "code",
   "execution_count": 89,
   "metadata": {},
   "outputs": [
    {
     "data": {
      "text/plain": "                          title  year      country       date\n0         #73, Shaanthi Nivaasa  2007        India 2007-06-15\n1                         #BKKY  2016     Cambodia 2017-10-12\n2                       #Beings  2015      Romania 2015-01-29\n3                     #Captured  2017          USA 2017-09-05\n4        #Ewankosau saranghaeyo  2015  Philippines 2015-01-21\n...                         ...   ...          ...        ...\n479483  xXx: State of the Union  2005      Uruguay 2005-04-29\n479484  xXx: State of the Union  2005       Poland 2005-06-03\n479485  xXx: State of the Union  2005       Turkey 2005-06-03\n479486  xXx: State of the Union  2005        China 2005-06-17\n479487  xXx: State of the Union  2005       Greece 2005-06-24\n\n[479488 rows x 4 columns]",
      "text/html": "<div>\n<style scoped>\n    .dataframe tbody tr th:only-of-type {\n        vertical-align: middle;\n    }\n\n    .dataframe tbody tr th {\n        vertical-align: top;\n    }\n\n    .dataframe thead th {\n        text-align: right;\n    }\n</style>\n<table border=\"1\" class=\"dataframe\">\n  <thead>\n    <tr style=\"text-align: right;\">\n      <th></th>\n      <th>title</th>\n      <th>year</th>\n      <th>country</th>\n      <th>date</th>\n    </tr>\n  </thead>\n  <tbody>\n    <tr>\n      <th>0</th>\n      <td>#73, Shaanthi Nivaasa</td>\n      <td>2007</td>\n      <td>India</td>\n      <td>2007-06-15</td>\n    </tr>\n    <tr>\n      <th>1</th>\n      <td>#BKKY</td>\n      <td>2016</td>\n      <td>Cambodia</td>\n      <td>2017-10-12</td>\n    </tr>\n    <tr>\n      <th>2</th>\n      <td>#Beings</td>\n      <td>2015</td>\n      <td>Romania</td>\n      <td>2015-01-29</td>\n    </tr>\n    <tr>\n      <th>3</th>\n      <td>#Captured</td>\n      <td>2017</td>\n      <td>USA</td>\n      <td>2017-09-05</td>\n    </tr>\n    <tr>\n      <th>4</th>\n      <td>#Ewankosau saranghaeyo</td>\n      <td>2015</td>\n      <td>Philippines</td>\n      <td>2015-01-21</td>\n    </tr>\n    <tr>\n      <th>...</th>\n      <td>...</td>\n      <td>...</td>\n      <td>...</td>\n      <td>...</td>\n    </tr>\n    <tr>\n      <th>479483</th>\n      <td>xXx: State of the Union</td>\n      <td>2005</td>\n      <td>Uruguay</td>\n      <td>2005-04-29</td>\n    </tr>\n    <tr>\n      <th>479484</th>\n      <td>xXx: State of the Union</td>\n      <td>2005</td>\n      <td>Poland</td>\n      <td>2005-06-03</td>\n    </tr>\n    <tr>\n      <th>479485</th>\n      <td>xXx: State of the Union</td>\n      <td>2005</td>\n      <td>Turkey</td>\n      <td>2005-06-03</td>\n    </tr>\n    <tr>\n      <th>479486</th>\n      <td>xXx: State of the Union</td>\n      <td>2005</td>\n      <td>China</td>\n      <td>2005-06-17</td>\n    </tr>\n    <tr>\n      <th>479487</th>\n      <td>xXx: State of the Union</td>\n      <td>2005</td>\n      <td>Greece</td>\n      <td>2005-06-24</td>\n    </tr>\n  </tbody>\n</table>\n<p>479488 rows × 4 columns</p>\n</div>"
     },
     "execution_count": 89,
     "metadata": {},
     "output_type": "execute_result"
    },
    {
     "data": {
      "text/plain": "<Figure size 432x288 with 1 Axes>",
      "image/png": "[encoded data removed]"
     },
     "metadata": {
      "needs_background": "light"
     },
     "output_type": "display_data"
    }
   ],
   "source": [
    "christmas = release_dates[(release_dates.title.str.contains('Christmas')) & (release_dates.country == 'USA')]\n",
    "christmas.date.dt.month.value_counts().sort_index().plot(kind='bar')\n",
    "release_dates"
   ]
  },
  {
   "cell_type": "markdown",
   "metadata": {},
   "source": [
    "### Section III - Q2: Make a bar plot with the following conditions\n",
    "- Frequency of the number of movies with \"Action\" in their title \n",
    "- Movies should be such that they are released in the USA.\n",
    "- Show the frequency plot by week"
   ]
  },
  {
   "cell_type": "code",
   "execution_count": 90,
   "metadata": {},
   "outputs": [
    {
     "data": {
      "text/plain": "<AxesSubplot:>"
     },
     "execution_count": 90,
     "metadata": {},
     "output_type": "execute_result"
    },
    {
     "data": {
      "text/plain": "<Figure size 432x288 with 1 Axes>",
      "image/png": "[encoded data removed]"
     },
     "metadata": {
      "needs_background": "light"
     },
     "output_type": "display_data"
    }
   ],
   "source": [
    "christmas = release_dates[(release_dates.title.str.contains('Summer')) & (release_dates.country == 'USA')]\n",
    "christmas.date.dt.month.value_counts().sort_index().plot(kind='bar')"
   ]
  },
  {
   "cell_type": "markdown",
   "metadata": {},
   "source": [
    "### Section III - Q3: Show all the movies in which Keanu Reeves has played the lead role along with their   release date in the USA sorted by the date of release\n",
    "- Hint: You might need to join or merge two datasets!"
   ]
  },
  {
   "cell_type": "code",
   "execution_count": 91,
   "metadata": {},
   "outputs": [
    {
     "data": {
      "text/plain": "                                       title  year          name   type  \\\ndate                                                                      \n1988-04-15                  The Night Before  1988  Keanu Reeves  actor   \n1989-02-17  Bill & Ted's Excellent Adventure  1989  Keanu Reeves  actor   \n1991-07-19        Bill & Ted's Bogus Journey  1991  Keanu Reeves  actor   \n1994-05-25                     Little Buddha  1993  Keanu Reeves  actor   \n1994-06-10                             Speed  1994  Keanu Reeves  actor   \n1995-05-26                   Johnny Mnemonic  1995  Keanu Reeves  actor   \n1995-08-11              A Walk in the Clouds  1995  Keanu Reeves  actor   \n1996-08-02                    Chain Reaction  1996  Keanu Reeves  actor   \n1996-09-13                 Feeling Minnesota  1996  Keanu Reeves  actor   \n1997-10-17              The Devil's Advocate  1997  Keanu Reeves  actor   \n1999-03-31                        The Matrix  1999  Keanu Reeves  actor   \n2000-08-11                  The Replacements  2000  Keanu Reeves  actor   \n2001-02-16                    Sweet November  2001  Keanu Reeves  actor   \n2001-09-14                         Hard Ball  2001  Keanu Reeves  actor   \n2005-02-18                       Constantine  2005  Keanu Reeves  actor   \n2006-06-16                    The Lake House  2006  Keanu Reeves  actor   \n2008-04-11                      Street Kings  2008  Keanu Reeves  actor   \n2008-12-12     The Day the Earth Stood Still  2008  Keanu Reeves  actor   \n2013-12-25                          47 Ronin  2013  Keanu Reeves  actor   \n2014-10-24                         John Wick  2014  Keanu Reeves  actor   \n2015-10-09                       Knock Knock  2015  Keanu Reeves  actor   \n2017-02-10              John Wick: Chapter 2  2017  Keanu Reeves  actor   \n\n                       character    n country  \ndate                                           \n1988-04-15      Winston Connelly  1.0     USA  \n1989-02-17                   Ted  1.0     USA  \n1991-07-19                   Ted  1.0     USA  \n1994-05-25            Siddhartha  1.0     USA  \n1994-06-10           Jack Traven  1.0     USA  \n1995-05-26       Johnny Mnemonic  1.0     USA  \n1995-08-11           Paul Sutton  1.0     USA  \n1996-08-02      Eddie Kasalivich  1.0     USA  \n1996-09-13         Jjaks Clayton  1.0     USA  \n1997-10-17           Kevin Lomax  1.0     USA  \n1999-03-31                   Neo  1.0     USA  \n2000-08-11           Shane Falco  1.0     USA  \n2001-02-16           Nelson Moss  1.0     USA  \n2001-09-14         Conor O'Neill  1.0     USA  \n2005-02-18      John Constantine  1.0     USA  \n2006-06-16            Alex Wyler  1.0     USA  \n2008-04-11  Detective Tom Ludlow  1.0     USA  \n2008-12-12                Klaatu  1.0     USA  \n2013-12-25                   Kai  1.0     USA  \n2014-10-24             John Wick  1.0     USA  \n2015-10-09                  Evan  1.0     USA  \n2017-02-10             John Wick  1.0     USA  ",
      "text/html": "<div>\n<style scoped>\n    .dataframe tbody tr th:only-of-type {\n        vertical-align: middle;\n    }\n\n    .dataframe tbody tr th {\n        vertical-align: top;\n    }\n\n    .dataframe thead th {\n        text-align: right;\n    }\n</style>\n<table border=\"1\" class=\"dataframe\">\n  <thead>\n    <tr style=\"text-align: right;\">\n      <th></th>\n      <th>title</th>\n      <th>year</th>\n      <th>name</th>\n      <th>type</th>\n      <th>character</th>\n      <th>n</th>\n      <th>country</th>\n    </tr>\n    <tr>\n      <th>date</th>\n      <th></th>\n      <th></th>\n      <th></th>\n      <th></th>\n      <th></th>\n      <th></th>\n      <th></th>\n    </tr>\n  </thead>\n  <tbody>\n    <tr>\n      <th>1988-04-15</th>\n      <td>The Night Before</td>\n      <td>1988</td>\n      <td>Keanu Reeves</td>\n      <td>actor</td>\n      <td>Winston Connelly</td>\n      <td>1.0</td>\n      <td>USA</td>\n    </tr>\n    <tr>\n      <th>1989-02-17</th>\n      <td>Bill &amp; Ted's Excellent Adventure</td>\n      <td>1989</td>\n      <td>Keanu Reeves</td>\n      <td>actor</td>\n      <td>Ted</td>\n      <td>1.0</td>\n      <td>USA</td>\n    </tr>\n    <tr>\n      <th>1991-07-19</th>\n      <td>Bill &amp; Ted's Bogus Journey</td>\n      <td>1991</td>\n      <td>Keanu Reeves</td>\n      <td>actor</td>\n      <td>Ted</td>\n      <td>1.0</td>\n      <td>USA</td>\n    </tr>\n    <tr>\n      <th>1994-05-25</th>\n      <td>Little Buddha</td>\n      <td>1993</td>\n      <td>Keanu Reeves</td>\n      <td>actor</td>\n      <td>Siddhartha</td>\n      <td>1.0</td>\n      <td>USA</td>\n    </tr>\n    <tr>\n      <th>1994-06-10</th>\n      <td>Speed</td>\n      <td>1994</td>\n      <td>Keanu Reeves</td>\n      <td>actor</td>\n      <td>Jack Traven</td>\n      <td>1.0</td>\n      <td>USA</td>\n    </tr>\n    <tr>\n      <th>1995-05-26</th>\n      <td>Johnny Mnemonic</td>\n      <td>1995</td>\n      <td>Keanu Reeves</td>\n      <td>actor</td>\n      <td>Johnny Mnemonic</td>\n      <td>1.0</td>\n      <td>USA</td>\n    </tr>\n    <tr>\n      <th>1995-08-11</th>\n      <td>A Walk in the Clouds</td>\n      <td>1995</td>\n      <td>Keanu Reeves</td>\n      <td>actor</td>\n      <td>Paul Sutton</td>\n      <td>1.0</td>\n      <td>USA</td>\n    </tr>\n    <tr>\n      <th>1996-08-02</th>\n      <td>Chain Reaction</td>\n      <td>1996</td>\n      <td>Keanu Reeves</td>\n      <td>actor</td>\n      <td>Eddie Kasalivich</td>\n      <td>1.0</td>\n      <td>USA</td>\n    </tr>\n    <tr>\n      <th>1996-09-13</th>\n      <td>Feeling Minnesota</td>\n      <td>1996</td>\n      <td>Keanu Reeves</td>\n      <td>actor</td>\n      <td>Jjaks Clayton</td>\n      <td>1.0</td>\n      <td>USA</td>\n    </tr>\n    <tr>\n      <th>1997-10-17</th>\n      <td>The Devil's Advocate</td>\n      <td>1997</td>\n      <td>Keanu Reeves</td>\n      <td>actor</td>\n      <td>Kevin Lomax</td>\n      <td>1.0</td>\n      <td>USA</td>\n    </tr>\n    <tr>\n      <th>1999-03-31</th>\n      <td>The Matrix</td>\n      <td>1999</td>\n      <td>Keanu Reeves</td>\n      <td>actor</td>\n      <td>Neo</td>\n      <td>1.0</td>\n      <td>USA</td>\n    </tr>\n    <tr>\n      <th>2000-08-11</th>\n      <td>The Replacements</td>\n      <td>2000</td>\n      <td>Keanu Reeves</td>\n      <td>actor</td>\n      <td>Shane Falco</td>\n      <td>1.0</td>\n      <td>USA</td>\n    </tr>\n    <tr>\n      <th>2001-02-16</th>\n      <td>Sweet November</td>\n      <td>2001</td>\n      <td>Keanu Reeves</td>\n      <td>actor</td>\n      <td>Nelson Moss</td>\n      <td>1.0</td>\n      <td>USA</td>\n    </tr>\n    <tr>\n      <th>2001-09-14</th>\n      <td>Hard Ball</td>\n      <td>2001</td>\n      <td>Keanu Reeves</td>\n      <td>actor</td>\n      <td>Conor O'Neill</td>\n      <td>1.0</td>\n      <td>USA</td>\n    </tr>\n    <tr>\n      <th>2005-02-18</th>\n      <td>Constantine</td>\n      <td>2005</td>\n      <td>Keanu Reeves</td>\n      <td>actor</td>\n      <td>John Constantine</td>\n      <td>1.0</td>\n      <td>USA</td>\n    </tr>\n    <tr>\n      <th>2006-06-16</th>\n      <td>The Lake House</td>\n      <td>2006</td>\n      <td>Keanu Reeves</td>\n      <td>actor</td>\n      <td>Alex Wyler</td>\n      <td>1.0</td>\n      <td>USA</td>\n    </tr>\n    <tr>\n      <th>2008-04-11</th>\n      <td>Street Kings</td>\n      <td>2008</td>\n      <td>Keanu Reeves</td>\n      <td>actor</td>\n      <td>Detective Tom Ludlow</td>\n      <td>1.0</td>\n      <td>USA</td>\n    </tr>\n    <tr>\n      <th>2008-12-12</th>\n      <td>The Day the Earth Stood Still</td>\n      <td>2008</td>\n      <td>Keanu Reeves</td>\n      <td>actor</td>\n      <td>Klaatu</td>\n      <td>1.0</td>\n      <td>USA</td>\n    </tr>\n    <tr>\n      <th>2013-12-25</th>\n      <td>47 Ronin</td>\n      <td>2013</td>\n      <td>Keanu Reeves</td>\n      <td>actor</td>\n      <td>Kai</td>\n      <td>1.0</td>\n      <td>USA</td>\n    </tr>\n    <tr>\n      <th>2014-10-24</th>\n      <td>John Wick</td>\n      <td>2014</td>\n      <td>Keanu Reeves</td>\n      <td>actor</td>\n      <td>John Wick</td>\n      <td>1.0</td>\n      <td>USA</td>\n    </tr>\n    <tr>\n      <th>2015-10-09</th>\n      <td>Knock Knock</td>\n      <td>2015</td>\n      <td>Keanu Reeves</td>\n      <td>actor</td>\n      <td>Evan</td>\n      <td>1.0</td>\n      <td>USA</td>\n    </tr>\n    <tr>\n      <th>2017-02-10</th>\n      <td>John Wick: Chapter 2</td>\n      <td>2017</td>\n      <td>Keanu Reeves</td>\n      <td>actor</td>\n      <td>John Wick</td>\n      <td>1.0</td>\n      <td>USA</td>\n    </tr>\n  </tbody>\n</table>\n</div>"
     },
     "execution_count": 91,
     "metadata": {},
     "output_type": "execute_result"
    }
   ],
   "source": [
    "# cast.set_index('title').join(release_dates.set_index('title'),lsuffix='_caller', rsuffix='_other' )\n",
    "cast = cast.drop(['decade'], axis=1)\n",
    "df_merger = cast.merge(release_dates, on=['title', 'year'])\n",
    "movies_KR = df_merger[(df_merger.name == 'Keanu Reeves') & (df_merger.n == 1) & (df_merger.country == 'USA')]\n",
    "movies_KR.set_index('date').sort_index()"
   ]
  },
  {
   "cell_type": "markdown",
   "metadata": {},
   "source": [
    "### Section III - Q4: Make a bar plot showing the months in which movies with Keanu Reeves tend to be released in the USA?"
   ]
  },
  {
   "cell_type": "code",
   "execution_count": 92,
   "metadata": {},
   "outputs": [
    {
     "data": {
      "text/plain": "<AxesSubplot:>"
     },
     "execution_count": 92,
     "metadata": {},
     "output_type": "execute_result"
    },
    {
     "data": {
      "text/plain": "<Figure size 432x288 with 1 Axes>",
      "image/png": "[encoded data removed]"
     },
     "metadata": {
      "needs_background": "light"
     },
     "output_type": "display_data"
    }
   ],
   "source": [
    "movies_KR = df_merger[(df_merger.name == 'Keanu Reeves') & (df_merger.country == 'USA')]\n",
    "movies_KR.date.dt.month.value_counts().sort_index().plot(kind='bar')"
   ]
  },
  {
   "cell_type": "markdown",
   "metadata": {},
   "source": [
    "### Section III - Q5: Make a bar plot showing the years in which movies with Ian McKellen tend to be released in the USA?"
   ]
  },
  {
   "cell_type": "code",
   "execution_count": 93,
   "metadata": {
    "pycharm": {
     "name": "#%%\n"
    }
   },
   "outputs": [
    {
     "data": {
      "text/plain": "<AxesSubplot:>"
     },
     "execution_count": 93,
     "metadata": {},
     "output_type": "execute_result"
    },
    {
     "data": {
      "text/plain": "<Figure size 432x288 with 1 Axes>",
      "image/png": "[encoded data removed]"
     },
     "metadata": {
      "needs_background": "light"
     },
     "output_type": "display_data"
    }
   ],
   "source": [
    "movies_McKallen = df_merger[(df_merger.name == 'Ian McKellen') & (df_merger.country == 'USA')]\n",
    "movies_McKallen.date.dt.year.value_counts().sort_index().plot(kind='bar')"
   ]
  }
 ],
 "metadata": {
  "kernelspec": {
   "display_name": "Python 3 (ipykernel)",
   "language": "python",
   "name": "python3"
  },
  "language_info": {
   "codemirror_mode": {
    "name": "ipython",
    "version": 3
   },
   "file_extension": ".py",
   "mimetype": "text/x-python",
   "name": "python",
   "nbconvert_exporter": "python",
   "pygments_lexer": "ipython3",
   "version": "3.9.7"
  }
 },
 "nbformat": 4,
 "nbformat_minor": 2
}