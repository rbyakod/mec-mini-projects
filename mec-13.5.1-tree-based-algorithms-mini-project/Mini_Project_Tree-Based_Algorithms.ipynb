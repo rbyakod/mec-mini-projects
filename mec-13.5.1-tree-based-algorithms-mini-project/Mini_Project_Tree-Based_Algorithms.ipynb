{
 "cells": [
  {
   "cell_type": "markdown",
   "metadata": {},
   "source": [
    "# Mini Project: Tree-Based Algorithms"
   ]
  },
  {
   "cell_type": "markdown",
   "metadata": {},
   "source": [
    "## The \"German Credit\" Dataset"
   ]
  },
  {
   "cell_type": "markdown",
   "metadata": {},
   "source": [
    "### Dataset Details"
   ]
  },
  {
   "cell_type": "markdown",
   "metadata": {},
   "source": [
    "This dataset has two classes (these would be considered labels in Machine Learning terms) to describe the worthiness of a personal loan: \"Good\" or \"Bad\". There are predictors related to attributes, such as: checking account status, duration, credit history, purpose of the loan, amount of the loan, savings accounts or bonds, employment duration, installment rate in percentage of disposable income, personal information, other debtors/guarantors, residence duration, property, age, other installment plans, housing, number of existing credits, job information, number of people being liable to provide maintenance for, telephone, and foreign worker status.\n",
    "\n",
    "Many of these predictors are discrete and have been expanded into several 0/1 indicator variables (a.k.a. they have been one-hot-encoded).\n",
    "\n",
    "This dataset has been kindly provided by Professor Dr. Hans Hofmann of the University of Hamburg, and can also be found on the UCI Machine Learning Repository."
   ]
  },
  {
   "cell_type": "markdown",
   "metadata": {},
   "source": [
    "\n",
    "\n",
    "\n"
   ]
  },
  {
   "cell_type": "markdown",
   "metadata": {},
   "source": [
    "## Decision Trees"
   ]
  },
  {
   "cell_type": "markdown",
   "metadata": {},
   "source": [
    " As we have learned in the previous lectures, Decision Trees as a family of algorithms (irrespective to the particular implementation) are powerful algorithms that can produce models with a predictive accuracy higher than that produced by linear models, such as Linear or Logistic Regression. Primarily, this is due to the fact the DT's can model nonlinear relationships, and also have a number of tuning paramters, that allow for the practicioner to achieve the best possible model. An added bonus is the ability to visualize the trained Decision Tree model, which allows for some insight into how the model has produced the predictions that it has. One caveat here, to keep in mind, is that sometimes, due to the size of the dataset (both in the sense of the number of records, as well as the number of features), the visualization might prove to be very large and complex, increasing the difficulty of interpretation."
   ]
  },
  {
   "cell_type": "markdown",
   "metadata": {},
   "source": [
    "To give you a very good example of how Decision Trees can be visualized and interpreted, we would strongly recommend that, before continuing on with solving the problems in this Mini Project, you take the time to read this fanstastic, detailed and informative blog post: http://explained.ai/decision-tree-viz/index.html"
   ]
  },
  {
   "cell_type": "markdown",
   "metadata": {},
   "source": [
    "## Building Your First Decision Tree Model"
   ]
  },
  {
   "cell_type": "markdown",
   "metadata": {},
   "source": [
    "So, now it's time to jump straight into the heart of the matter. Your first task, is to build a Decision Tree model, using the aforementioned \"German Credit\" dataset, which contains 1,000 records, and 62 columns (one of them presents the labels, and the other 61 present the potential features for the model.)"
   ]
  },
  {
   "cell_type": "markdown",
   "metadata": {},
   "source": [
    "For this task, you will be using the scikit-learn library, which comes already pre-installed with the Anaconda Python distribution. In case you're not using that, you can easily install it using pip."
   ]
  },
  {
   "cell_type": "markdown",
   "metadata": {},
   "source": [
    "Before embarking on creating your first model, we would strongly encourage you to read the short tutorial for Decision Trees in scikit-learn (http://scikit-learn.org/stable/modules/tree.html), and then dive a bit deeper into the documentation of the algorithm itself (http://scikit-learn.org/stable/modules/generated/sklearn.tree.DecisionTreeClassifier.html). "
   ]
  },
  {
   "cell_type": "markdown",
   "metadata": {},
   "source": [
    "Also, since you want to be able to present the results of your model, we suggest you take a look at the tutorial for accuracy metrics for classification models (http://scikit-learn.org/stable/modules/model_evaluation.html#classification-report) as well as the more detailed documentation (http://scikit-learn.org/stable/modules/generated/sklearn.metrics.classification_report.html).\n",
    "\n",
    "Finally, an *amazing* resource that explains the various classification model accuracy metrics, as well as the relationships between them, can be found on Wikipedia: https://en.wikipedia.org/wiki/Confusion_matrix"
   ]
  },
  {
   "cell_type": "markdown",
   "metadata": {},
   "source": [
    "(Note: as you've already learned in the Logistic Regression mini project, a standard practice in Machine Learning for achieving the best possible result when training a model is to use hyperparameter tuning, through Grid Search and k-fold Cross Validation. We strongly encourage you to use it here as well, not just because it's standard practice, but also becuase it's not going to be computationally to intensive, due to the size of the dataset that you're working with. Our suggestion here is that you split the data into 70% training, and 30% testing. Then, do the hyperparameter tuning and Cross Validation on the training set, and afterwards to a final test on the testing set.)"
   ]
  },
  {
   "cell_type": "markdown",
   "metadata": {},
   "source": [
    "### Now we pass the torch onto you! You can start building your first Decision Tree model! :)"
   ]
  },
  {
   "cell_type": "code",
   "execution_count": 2,
   "metadata": {},
   "outputs": [],
   "source": [
    "import pandas as pd\n",
    "import graphviz\n",
    "from sklearn.tree import DecisionTreeClassifier\n",
    "from sklearn.metrics import classification_report\n",
    "from sklearn.model_selection import train_test_split\n",
    "from sklearn.model_selection import GridSearchCV\n",
    "from sklearn import metrics #Import scikit-learn metrics\n",
    "from sklearn.tree import export_graphviz\n"
   ]
  },
  {
   "cell_type": "code",
   "execution_count": 3,
   "metadata": {},
   "outputs": [
    {
     "data": {
      "text/plain": "(1000, 62)"
     },
     "execution_count": 3,
     "metadata": {},
     "output_type": "execute_result"
    }
   ],
   "source": [
    "#German Credit  Dataset\n",
    "#Load German Credit dataset\n",
    "credit_dataset = pd.read_csv('GermanCredit.csv.zip',compression='zip')\n",
    "credit_dataset.shape"
   ]
  },
  {
   "cell_type": "code",
   "execution_count": 4,
   "metadata": {},
   "outputs": [
    {
     "data": {
      "text/plain": "Index(['Duration', 'Amount', 'InstallmentRatePercentage', 'ResidenceDuration',\n       'Age', 'NumberExistingCredits', 'NumberPeopleMaintenance', 'Telephone',\n       'ForeignWorker', 'Class', 'CheckingAccountStatus.lt.0',\n       'CheckingAccountStatus.0.to.200', 'CheckingAccountStatus.gt.200',\n       'CheckingAccountStatus.none', 'CreditHistory.NoCredit.AllPaid',\n       'CreditHistory.ThisBank.AllPaid', 'CreditHistory.PaidDuly',\n       'CreditHistory.Delay', 'CreditHistory.Critical', 'Purpose.NewCar',\n       'Purpose.UsedCar', 'Purpose.Furniture.Equipment',\n       'Purpose.Radio.Television', 'Purpose.DomesticAppliance',\n       'Purpose.Repairs', 'Purpose.Education', 'Purpose.Vacation',\n       'Purpose.Retraining', 'Purpose.Business', 'Purpose.Other',\n       'SavingsAccountBonds.lt.100', 'SavingsAccountBonds.100.to.500',\n       'SavingsAccountBonds.500.to.1000', 'SavingsAccountBonds.gt.1000',\n       'SavingsAccountBonds.Unknown', 'EmploymentDuration.lt.1',\n       'EmploymentDuration.1.to.4', 'EmploymentDuration.4.to.7',\n       'EmploymentDuration.gt.7', 'EmploymentDuration.Unemployed',\n       'Personal.Male.Divorced.Seperated', 'Personal.Female.NotSingle',\n       'Personal.Male.Single', 'Personal.Male.Married.Widowed',\n       'Personal.Female.Single', 'OtherDebtorsGuarantors.None',\n       'OtherDebtorsGuarantors.CoApplicant',\n       'OtherDebtorsGuarantors.Guarantor', 'Property.RealEstate',\n       'Property.Insurance', 'Property.CarOther', 'Property.Unknown',\n       'OtherInstallmentPlans.Bank', 'OtherInstallmentPlans.Stores',\n       'OtherInstallmentPlans.None', 'Housing.Rent', 'Housing.Own',\n       'Housing.ForFree', 'Job.UnemployedUnskilled', 'Job.UnskilledResident',\n       'Job.SkilledEmployee', 'Job.Management.SelfEmp.HighlyQualified'],\n      dtype='object')"
     },
     "execution_count": 4,
     "metadata": {},
     "output_type": "execute_result"
    }
   ],
   "source": [
    "#Feature Names\n",
    "credit_dataset.columns"
   ]
  },
  {
   "cell_type": "code",
   "execution_count": 5,
   "metadata": {},
   "outputs": [],
   "source": [
    "# split dataset in features and target variable\n",
    "credit_target_label = credit_dataset.loc[:]['Class'] #Target Variable\n",
    "credit_target_label = credit_target_label.map({'Good':1, 'Bad':0})\n",
    "credit_features_cols = credit_dataset\n",
    "credit_features_cols.drop('Class', axis=1, inplace=True) # Features\n",
    "#print(credit_target_label)"
   ]
  },
  {
   "cell_type": "code",
   "execution_count": 6,
   "metadata": {},
   "outputs": [],
   "source": [
    "# Splitting Dataset into training set and test set\n",
    "X_train, X_test, y_train, y_test = train_test_split(credit_features_cols, credit_target_label, test_size=0.3, random_state=1) #70% training and 30% test\n"
   ]
  },
  {
   "cell_type": "code",
   "execution_count": 7,
   "metadata": {},
   "outputs": [
    {
     "name": "stdout",
     "output_type": "stream",
     "text": [
      "Model Accuracy:  0.7133333333333334\n"
     ]
    }
   ],
   "source": [
    "#Create Decision Tree Classifier Object\n",
    "clf = DecisionTreeClassifier(max_depth=4)\n",
    "clf = clf.fit(X_train, y_train)\n",
    "y_pred = clf.predict(X_test)\n",
    "\n",
    "# Model Accuracy,the peformance of the prediction\n",
    "accuracy = metrics.accuracy_score(y_test, y_pred)\n",
    "print('Model Accuracy: ',accuracy)"
   ]
  },
  {
   "cell_type": "markdown",
   "metadata": {},
   "source": [
    "### After you've built the best model you can, now it's time to visualize it!"
   ]
  },
  {
   "cell_type": "markdown",
   "metadata": {},
   "source": [
    "Rememeber that amazing blog post from a few paragraphs ago, that demonstrated how to visualize and interpret the results of your Decision Tree model. We've seen that this can perform very well, but let's see how it does on the \"German Credit\" dataset that we're working on, due to it being a bit larger than the one used by the blog authors."
   ]
  },
  {
   "cell_type": "markdown",
   "metadata": {},
   "source": [
    "First, we're going to need to install their package. If you're using Anaconda, this can be done easily by running:"
   ]
  },
  {
   "cell_type": "code",
   "execution_count": 10,
   "metadata": {},
   "outputs": [
    {
     "name": "stdout",
     "output_type": "stream",
     "text": [
      "Requirement already satisfied: dtreeviz in /Users/ravibyakod/.conda/envs/mec-5.3.10-data-wranging-with-pandas-mini-project/lib/python3.10/site-packages (1.3.5)\r\n",
      "Requirement already satisfied: pytest in /Users/ravibyakod/.conda/envs/mec-5.3.10-data-wranging-with-pandas-mini-project/lib/python3.10/site-packages (from dtreeviz) (7.1.1)\r\n",
      "Requirement already satisfied: numpy in /Users/ravibyakod/.conda/envs/mec-5.3.10-data-wranging-with-pandas-mini-project/lib/python3.10/site-packages (from dtreeviz) (1.21.2)\r\n",
      "Requirement already satisfied: matplotlib in /Users/ravibyakod/.local/lib/python3.10/site-packages (from dtreeviz) (2.1.2)\r\n",
      "Requirement already satisfied: pandas in /Users/ravibyakod/.conda/envs/mec-5.3.10-data-wranging-with-pandas-mini-project/lib/python3.10/site-packages (from dtreeviz) (1.4.1)\r\n",
      "Requirement already satisfied: scikit-learn in /Users/ravibyakod/.conda/envs/mec-5.3.10-data-wranging-with-pandas-mini-project/lib/python3.10/site-packages (from dtreeviz) (1.0.2)\r\n",
      "Requirement already satisfied: colour in /Users/ravibyakod/.conda/envs/mec-5.3.10-data-wranging-with-pandas-mini-project/lib/python3.10/site-packages (from dtreeviz) (0.1.5)\r\n",
      "Requirement already satisfied: graphviz>=0.9 in /Users/ravibyakod/.conda/envs/mec-5.3.10-data-wranging-with-pandas-mini-project/lib/python3.10/site-packages (from dtreeviz) (0.19.2)\r\n",
      "Requirement already satisfied: python-dateutil>=2.1 in /Users/ravibyakod/.conda/envs/mec-5.3.10-data-wranging-with-pandas-mini-project/lib/python3.10/site-packages (from matplotlib->dtreeviz) (2.8.2)\r\n",
      "Requirement already satisfied: cycler>=0.10 in /Users/ravibyakod/.conda/envs/mec-5.3.10-data-wranging-with-pandas-mini-project/lib/python3.10/site-packages (from matplotlib->dtreeviz) (0.11.0)\r\n",
      "Requirement already satisfied: pyparsing!=2.0.4,!=2.1.2,!=2.1.6,>=2.0.1 in /Users/ravibyakod/.conda/envs/mec-5.3.10-data-wranging-with-pandas-mini-project/lib/python3.10/site-packages (from matplotlib->dtreeviz) (3.0.7)\r\n",
      "Requirement already satisfied: six>=1.10 in /Users/ravibyakod/.conda/envs/mec-5.3.10-data-wranging-with-pandas-mini-project/lib/python3.10/site-packages (from matplotlib->dtreeviz) (1.16.0)\r\n",
      "Requirement already satisfied: pytz in /Users/ravibyakod/.conda/envs/mec-5.3.10-data-wranging-with-pandas-mini-project/lib/python3.10/site-packages (from matplotlib->dtreeviz) (2021.3)\r\n",
      "Requirement already satisfied: attrs>=19.2.0 in /Users/ravibyakod/.conda/envs/mec-5.3.10-data-wranging-with-pandas-mini-project/lib/python3.10/site-packages (from pytest->dtreeviz) (21.4.0)\r\n",
      "Requirement already satisfied: tomli>=1.0.0 in /Users/ravibyakod/.conda/envs/mec-5.3.10-data-wranging-with-pandas-mini-project/lib/python3.10/site-packages (from pytest->dtreeviz) (2.0.1)\r\n",
      "Requirement already satisfied: iniconfig in /Users/ravibyakod/.conda/envs/mec-5.3.10-data-wranging-with-pandas-mini-project/lib/python3.10/site-packages (from pytest->dtreeviz) (1.1.1)\r\n",
      "Requirement already satisfied: packaging in /Users/ravibyakod/.conda/envs/mec-5.3.10-data-wranging-with-pandas-mini-project/lib/python3.10/site-packages (from pytest->dtreeviz) (21.3)\r\n",
      "Requirement already satisfied: pluggy<2.0,>=0.12 in /Users/ravibyakod/.conda/envs/mec-5.3.10-data-wranging-with-pandas-mini-project/lib/python3.10/site-packages (from pytest->dtreeviz) (1.0.0)\r\n",
      "Requirement already satisfied: py>=1.8.2 in /Users/ravibyakod/.conda/envs/mec-5.3.10-data-wranging-with-pandas-mini-project/lib/python3.10/site-packages (from pytest->dtreeviz) (1.11.0)\r\n",
      "Requirement already satisfied: threadpoolctl>=2.0.0 in /Users/ravibyakod/.conda/envs/mec-5.3.10-data-wranging-with-pandas-mini-project/lib/python3.10/site-packages (from scikit-learn->dtreeviz) (3.1.0)\r\n",
      "Requirement already satisfied: scipy>=1.1.0 in /Users/ravibyakod/.conda/envs/mec-5.3.10-data-wranging-with-pandas-mini-project/lib/python3.10/site-packages (from scikit-learn->dtreeviz) (1.7.3)\r\n",
      "Requirement already satisfied: joblib>=0.11 in /Users/ravibyakod/.conda/envs/mec-5.3.10-data-wranging-with-pandas-mini-project/lib/python3.10/site-packages (from scikit-learn->dtreeviz) (1.1.0)\r\n"
     ]
    }
   ],
   "source": [
    "! pip install dtreeviz"
   ]
  },
  {
   "cell_type": "markdown",
   "metadata": {},
   "source": [
    "If for any reason this way of installing doesn't work for you straight out of the box, please refer to the more detailed documentation here: https://github.com/parrt/dtreeviz"
   ]
  },
  {
   "cell_type": "markdown",
   "metadata": {},
   "source": [
    "Now you're ready to visualize your Decision Tree model! Please feel free to use the blog post for guidance and inspiration!"
   ]
  },
  {
   "cell_type": "code",
   "execution_count": 21,
   "metadata": {},
   "outputs": [
    {
     "data": {
      "image/svg+xml": "<?xml version=\"1.0\" encoding=\"UTF-8\" standalone=\"no\"?>\n<!DOCTYPE svg PUBLIC \"-//W3C//DTD SVG 1.1//EN\"\n \"http://www.w3.org/Graphics/SVG/1.1/DTD/svg11.dtd\">\n<!-- Generated by graphviz version 3.0.0 (20220226.1711)\n -->\n<!-- Title: Tree Pages: 1 -->\n<svg width=\"1928pt\" height=\"477pt\"\n viewBox=\"0.00 0.00 1927.50 477.00\" xmlns=\"http://www.w3.org/2000/svg\" xmlns:xlink=\"http://www.w3.org/1999/xlink\">\n<g id=\"graph0\" class=\"graph\" transform=\"scale(1 1) rotate(0) translate(4 473)\">\n<title>Tree</title>\n<polygon fill=\"white\" stroke=\"transparent\" points=\"-4,4 -4,-473 1923.5,-473 1923.5,4 -4,4\"/>\n<!-- 0 -->\n<g id=\"node1\" class=\"node\">\n<title>0</title>\n<polygon fill=\"none\" stroke=\"black\" points=\"1091,-469 855,-469 855,-401 1091,-401 1091,-469\"/>\n<text text-anchor=\"middle\" x=\"973\" y=\"-453.8\" font-family=\"Helvetica,sans-Serif\" font-size=\"14.00\">CheckingAccountStatus.none &lt;= 0.5</text>\n<text text-anchor=\"middle\" x=\"973\" y=\"-438.8\" font-family=\"Helvetica,sans-Serif\" font-size=\"14.00\">gini = 0.425</text>\n<text text-anchor=\"middle\" x=\"973\" y=\"-423.8\" font-family=\"Helvetica,sans-Serif\" font-size=\"14.00\">samples = 700</text>\n<text text-anchor=\"middle\" x=\"973\" y=\"-408.8\" font-family=\"Helvetica,sans-Serif\" font-size=\"14.00\">value = [214, 486]</text>\n</g>\n<!-- 1 -->\n<g id=\"node2\" class=\"node\">\n<title>1</title>\n<polygon fill=\"none\" stroke=\"black\" points=\"815.5,-365 690.5,-365 690.5,-297 815.5,-297 815.5,-365\"/>\n<text text-anchor=\"middle\" x=\"753\" y=\"-349.8\" font-family=\"Helvetica,sans-Serif\" font-size=\"14.00\">Duration &lt;= 22.5</text>\n<text text-anchor=\"middle\" x=\"753\" y=\"-334.8\" font-family=\"Helvetica,sans-Serif\" font-size=\"14.00\">gini = 0.488</text>\n<text text-anchor=\"middle\" x=\"753\" y=\"-319.8\" font-family=\"Helvetica,sans-Serif\" font-size=\"14.00\">samples = 424</text>\n<text text-anchor=\"middle\" x=\"753\" y=\"-304.8\" font-family=\"Helvetica,sans-Serif\" font-size=\"14.00\">value = [179, 245]</text>\n</g>\n<!-- 0&#45;&gt;1 -->\n<g id=\"edge1\" class=\"edge\">\n<title>0&#45;&gt;1</title>\n<path fill=\"none\" stroke=\"black\" d=\"M901.57,-400.88C876.99,-389.48 849.45,-376.72 824.84,-365.31\"/>\n<polygon fill=\"black\" stroke=\"black\" points=\"826.1,-362.03 815.55,-361 823.15,-368.38 826.1,-362.03\"/>\n<text text-anchor=\"middle\" x=\"824.16\" y=\"-380.78\" font-family=\"Helvetica,sans-Serif\" font-size=\"14.00\">True</text>\n</g>\n<!-- 16 -->\n<g id=\"node17\" class=\"node\">\n<title>16</title>\n<polygon fill=\"none\" stroke=\"black\" points=\"1305,-365 1075,-365 1075,-297 1305,-297 1305,-365\"/>\n<text text-anchor=\"middle\" x=\"1190\" y=\"-349.8\" font-family=\"Helvetica,sans-Serif\" font-size=\"14.00\">OtherInstallmentPlans.None &lt;= 0.5</text>\n<text text-anchor=\"middle\" x=\"1190\" y=\"-334.8\" font-family=\"Helvetica,sans-Serif\" font-size=\"14.00\">gini = 0.221</text>\n<text text-anchor=\"middle\" x=\"1190\" y=\"-319.8\" font-family=\"Helvetica,sans-Serif\" font-size=\"14.00\">samples = 276</text>\n<text text-anchor=\"middle\" x=\"1190\" y=\"-304.8\" font-family=\"Helvetica,sans-Serif\" font-size=\"14.00\">value = [35, 241]</text>\n</g>\n<!-- 0&#45;&gt;16 -->\n<g id=\"edge16\" class=\"edge\">\n<title>0&#45;&gt;16</title>\n<path fill=\"none\" stroke=\"black\" d=\"M1043.45,-400.88C1064.79,-390.86 1088.36,-379.77 1110.26,-369.48\"/>\n<polygon fill=\"black\" stroke=\"black\" points=\"1111.97,-372.55 1119.53,-365.12 1108.99,-366.21 1111.97,-372.55\"/>\n<text text-anchor=\"middle\" x=\"1111.05\" y=\"-384.94\" font-family=\"Helvetica,sans-Serif\" font-size=\"14.00\">False</text>\n</g>\n<!-- 2 -->\n<g id=\"node3\" class=\"node\">\n<title>2</title>\n<polygon fill=\"none\" stroke=\"black\" points=\"516,-261 334,-261 334,-193 516,-193 516,-261\"/>\n<text text-anchor=\"middle\" x=\"425\" y=\"-245.8\" font-family=\"Helvetica,sans-Serif\" font-size=\"14.00\">CreditHistory.Critical &lt;= 0.5</text>\n<text text-anchor=\"middle\" x=\"425\" y=\"-230.8\" font-family=\"Helvetica,sans-Serif\" font-size=\"14.00\">gini = 0.44</text>\n<text text-anchor=\"middle\" x=\"425\" y=\"-215.8\" font-family=\"Helvetica,sans-Serif\" font-size=\"14.00\">samples = 239</text>\n<text text-anchor=\"middle\" x=\"425\" y=\"-200.8\" font-family=\"Helvetica,sans-Serif\" font-size=\"14.00\">value = [78, 161]</text>\n</g>\n<!-- 1&#45;&gt;2 -->\n<g id=\"edge2\" class=\"edge\">\n<title>1&#45;&gt;2</title>\n<path fill=\"none\" stroke=\"black\" d=\"M690.15,-310.45C643.74,-296.02 579.61,-276.08 526.04,-259.42\"/>\n<polygon fill=\"black\" stroke=\"black\" points=\"526.76,-255.98 516.17,-256.35 524.68,-262.66 526.76,-255.98\"/>\n</g>\n<!-- 9 -->\n<g id=\"node10\" class=\"node\">\n<title>9</title>\n<polygon fill=\"none\" stroke=\"black\" points=\"868.5,-261 637.5,-261 637.5,-193 868.5,-193 868.5,-261\"/>\n<text text-anchor=\"middle\" x=\"753\" y=\"-245.8\" font-family=\"Helvetica,sans-Serif\" font-size=\"14.00\">SavingsAccountBonds.lt.100 &lt;= 0.5</text>\n<text text-anchor=\"middle\" x=\"753\" y=\"-230.8\" font-family=\"Helvetica,sans-Serif\" font-size=\"14.00\">gini = 0.496</text>\n<text text-anchor=\"middle\" x=\"753\" y=\"-215.8\" font-family=\"Helvetica,sans-Serif\" font-size=\"14.00\">samples = 185</text>\n<text text-anchor=\"middle\" x=\"753\" y=\"-200.8\" font-family=\"Helvetica,sans-Serif\" font-size=\"14.00\">value = [101, 84]</text>\n</g>\n<!-- 1&#45;&gt;9 -->\n<g id=\"edge9\" class=\"edge\">\n<title>1&#45;&gt;9</title>\n<path fill=\"none\" stroke=\"black\" d=\"M753,-296.88C753,-288.78 753,-279.98 753,-271.47\"/>\n<polygon fill=\"black\" stroke=\"black\" points=\"756.5,-271.3 753,-261.3 749.5,-271.3 756.5,-271.3\"/>\n</g>\n<!-- 3 -->\n<g id=\"node4\" class=\"node\">\n<title>3</title>\n<polygon fill=\"none\" stroke=\"black\" points=\"284.5,-157 39.5,-157 39.5,-89 284.5,-89 284.5,-157\"/>\n<text text-anchor=\"middle\" x=\"162\" y=\"-141.8\" font-family=\"Helvetica,sans-Serif\" font-size=\"14.00\">OtherDebtorsGuarantors.None &lt;= 0.5</text>\n<text text-anchor=\"middle\" x=\"162\" y=\"-126.8\" font-family=\"Helvetica,sans-Serif\" font-size=\"14.00\">gini = 0.474</text>\n<text text-anchor=\"middle\" x=\"162\" y=\"-111.8\" font-family=\"Helvetica,sans-Serif\" font-size=\"14.00\">samples = 184</text>\n<text text-anchor=\"middle\" x=\"162\" y=\"-96.8\" font-family=\"Helvetica,sans-Serif\" font-size=\"14.00\">value = [71, 113]</text>\n</g>\n<!-- 2&#45;&gt;3 -->\n<g id=\"edge3\" class=\"edge\">\n<title>2&#45;&gt;3</title>\n<path fill=\"none\" stroke=\"black\" d=\"M339.61,-192.88C313.18,-182.63 283.9,-171.28 256.87,-160.79\"/>\n<polygon fill=\"black\" stroke=\"black\" points=\"258,-157.48 247.41,-157.12 255.47,-164 258,-157.48\"/>\n</g>\n<!-- 6 -->\n<g id=\"node7\" class=\"node\">\n<title>6</title>\n<polygon fill=\"none\" stroke=\"black\" points=\"547.5,-157 302.5,-157 302.5,-89 547.5,-89 547.5,-157\"/>\n<text text-anchor=\"middle\" x=\"425\" y=\"-141.8\" font-family=\"Helvetica,sans-Serif\" font-size=\"14.00\">OtherDebtorsGuarantors.None &lt;= 0.5</text>\n<text text-anchor=\"middle\" x=\"425\" y=\"-126.8\" font-family=\"Helvetica,sans-Serif\" font-size=\"14.00\">gini = 0.222</text>\n<text text-anchor=\"middle\" x=\"425\" y=\"-111.8\" font-family=\"Helvetica,sans-Serif\" font-size=\"14.00\">samples = 55</text>\n<text text-anchor=\"middle\" x=\"425\" y=\"-96.8\" font-family=\"Helvetica,sans-Serif\" font-size=\"14.00\">value = [7, 48]</text>\n</g>\n<!-- 2&#45;&gt;6 -->\n<g id=\"edge6\" class=\"edge\">\n<title>2&#45;&gt;6</title>\n<path fill=\"none\" stroke=\"black\" d=\"M425,-192.88C425,-184.78 425,-175.98 425,-167.47\"/>\n<polygon fill=\"black\" stroke=\"black\" points=\"428.5,-167.3 425,-157.3 421.5,-167.3 428.5,-167.3\"/>\n</g>\n<!-- 4 -->\n<g id=\"node5\" class=\"node\">\n<title>4</title>\n<polygon fill=\"none\" stroke=\"black\" points=\"102,-53 0,-53 0,0 102,0 102,-53\"/>\n<text text-anchor=\"middle\" x=\"51\" y=\"-37.8\" font-family=\"Helvetica,sans-Serif\" font-size=\"14.00\">gini = 0.087</text>\n<text text-anchor=\"middle\" x=\"51\" y=\"-22.8\" font-family=\"Helvetica,sans-Serif\" font-size=\"14.00\">samples = 22</text>\n<text text-anchor=\"middle\" x=\"51\" y=\"-7.8\" font-family=\"Helvetica,sans-Serif\" font-size=\"14.00\">value = [1, 21]</text>\n</g>\n<!-- 3&#45;&gt;4 -->\n<g id=\"edge4\" class=\"edge\">\n<title>3&#45;&gt;4</title>\n<path fill=\"none\" stroke=\"black\" d=\"M123.18,-88.95C112.11,-79.53 100.07,-69.27 89.05,-59.89\"/>\n<polygon fill=\"black\" stroke=\"black\" points=\"91.11,-57.05 81.23,-53.24 86.58,-62.38 91.11,-57.05\"/>\n</g>\n<!-- 5 -->\n<g id=\"node6\" class=\"node\">\n<title>5</title>\n<polygon fill=\"none\" stroke=\"black\" points=\"230,-53 120,-53 120,0 230,0 230,-53\"/>\n<text text-anchor=\"middle\" x=\"175\" y=\"-37.8\" font-family=\"Helvetica,sans-Serif\" font-size=\"14.00\">gini = 0.491</text>\n<text text-anchor=\"middle\" x=\"175\" y=\"-22.8\" font-family=\"Helvetica,sans-Serif\" font-size=\"14.00\">samples = 162</text>\n<text text-anchor=\"middle\" x=\"175\" y=\"-7.8\" font-family=\"Helvetica,sans-Serif\" font-size=\"14.00\">value = [70, 92]</text>\n</g>\n<!-- 3&#45;&gt;5 -->\n<g id=\"edge5\" class=\"edge\">\n<title>3&#45;&gt;5</title>\n<path fill=\"none\" stroke=\"black\" d=\"M166.55,-88.95C167.69,-80.62 168.93,-71.65 170.09,-63.2\"/>\n<polygon fill=\"black\" stroke=\"black\" points=\"173.56,-63.62 171.46,-53.24 166.63,-62.67 173.56,-63.62\"/>\n</g>\n<!-- 7 -->\n<g id=\"node8\" class=\"node\">\n<title>7</title>\n<polygon fill=\"none\" stroke=\"black\" points=\"355.5,-53 260.5,-53 260.5,0 355.5,0 355.5,-53\"/>\n<text text-anchor=\"middle\" x=\"308\" y=\"-37.8\" font-family=\"Helvetica,sans-Serif\" font-size=\"14.00\">gini = 0.49</text>\n<text text-anchor=\"middle\" x=\"308\" y=\"-22.8\" font-family=\"Helvetica,sans-Serif\" font-size=\"14.00\">samples = 7</text>\n<text text-anchor=\"middle\" x=\"308\" y=\"-7.8\" font-family=\"Helvetica,sans-Serif\" font-size=\"14.00\">value = [4, 3]</text>\n</g>\n<!-- 6&#45;&gt;7 -->\n<g id=\"edge7\" class=\"edge\">\n<title>6&#45;&gt;7</title>\n<path fill=\"none\" stroke=\"black\" d=\"M384.08,-88.95C372.3,-79.43 359.47,-69.07 347.76,-59.62\"/>\n<polygon fill=\"black\" stroke=\"black\" points=\"349.84,-56.8 339.86,-53.24 345.44,-62.24 349.84,-56.8\"/>\n</g>\n<!-- 8 -->\n<g id=\"node9\" class=\"node\">\n<title>8</title>\n<polygon fill=\"none\" stroke=\"black\" points=\"476,-53 374,-53 374,0 476,0 476,-53\"/>\n<text text-anchor=\"middle\" x=\"425\" y=\"-37.8\" font-family=\"Helvetica,sans-Serif\" font-size=\"14.00\">gini = 0.117</text>\n<text text-anchor=\"middle\" x=\"425\" y=\"-22.8\" font-family=\"Helvetica,sans-Serif\" font-size=\"14.00\">samples = 48</text>\n<text text-anchor=\"middle\" x=\"425\" y=\"-7.8\" font-family=\"Helvetica,sans-Serif\" font-size=\"14.00\">value = [3, 45]</text>\n</g>\n<!-- 6&#45;&gt;8 -->\n<g id=\"edge8\" class=\"edge\">\n<title>6&#45;&gt;8</title>\n<path fill=\"none\" stroke=\"black\" d=\"M425,-88.95C425,-80.72 425,-71.85 425,-63.48\"/>\n<polygon fill=\"black\" stroke=\"black\" points=\"428.5,-63.24 425,-53.24 421.5,-63.24 428.5,-63.24\"/>\n</g>\n<!-- 10 -->\n<g id=\"node11\" class=\"node\">\n<title>10</title>\n<polygon fill=\"none\" stroke=\"black\" points=\"763,-157 569,-157 569,-89 763,-89 763,-157\"/>\n<text text-anchor=\"middle\" x=\"666\" y=\"-141.8\" font-family=\"Helvetica,sans-Serif\" font-size=\"14.00\">CreditHistory.PaidDuly &lt;= 0.5</text>\n<text text-anchor=\"middle\" x=\"666\" y=\"-126.8\" font-family=\"Helvetica,sans-Serif\" font-size=\"14.00\">gini = 0.476</text>\n<text text-anchor=\"middle\" x=\"666\" y=\"-111.8\" font-family=\"Helvetica,sans-Serif\" font-size=\"14.00\">samples = 64</text>\n<text text-anchor=\"middle\" x=\"666\" y=\"-96.8\" font-family=\"Helvetica,sans-Serif\" font-size=\"14.00\">value = [25, 39]</text>\n</g>\n<!-- 9&#45;&gt;10 -->\n<g id=\"edge10\" class=\"edge\">\n<title>9&#45;&gt;10</title>\n<path fill=\"none\" stroke=\"black\" d=\"M724.75,-192.88C717.16,-183.98 708.85,-174.24 700.93,-164.96\"/>\n<polygon fill=\"black\" stroke=\"black\" points=\"703.55,-162.64 694.4,-157.3 698.23,-167.18 703.55,-162.64\"/>\n</g>\n<!-- 13 -->\n<g id=\"node14\" class=\"node\">\n<title>13</title>\n<polygon fill=\"none\" stroke=\"black\" points=\"899,-157 781,-157 781,-89 899,-89 899,-157\"/>\n<text text-anchor=\"middle\" x=\"840\" y=\"-141.8\" font-family=\"Helvetica,sans-Serif\" font-size=\"14.00\">Duration &lt;= 47.5</text>\n<text text-anchor=\"middle\" x=\"840\" y=\"-126.8\" font-family=\"Helvetica,sans-Serif\" font-size=\"14.00\">gini = 0.467</text>\n<text text-anchor=\"middle\" x=\"840\" y=\"-111.8\" font-family=\"Helvetica,sans-Serif\" font-size=\"14.00\">samples = 121</text>\n<text text-anchor=\"middle\" x=\"840\" y=\"-96.8\" font-family=\"Helvetica,sans-Serif\" font-size=\"14.00\">value = [76, 45]</text>\n</g>\n<!-- 9&#45;&gt;13 -->\n<g id=\"edge13\" class=\"edge\">\n<title>9&#45;&gt;13</title>\n<path fill=\"none\" stroke=\"black\" d=\"M781.25,-192.88C788.84,-183.98 797.15,-174.24 805.07,-164.96\"/>\n<polygon fill=\"black\" stroke=\"black\" points=\"807.77,-167.18 811.6,-157.3 802.45,-162.64 807.77,-167.18\"/>\n</g>\n<!-- 11 -->\n<g id=\"node12\" class=\"node\">\n<title>11</title>\n<polygon fill=\"none\" stroke=\"black\" points=\"596,-53 494,-53 494,0 596,0 596,-53\"/>\n<text text-anchor=\"middle\" x=\"545\" y=\"-37.8\" font-family=\"Helvetica,sans-Serif\" font-size=\"14.00\">gini = 0.367</text>\n<text text-anchor=\"middle\" x=\"545\" y=\"-22.8\" font-family=\"Helvetica,sans-Serif\" font-size=\"14.00\">samples = 33</text>\n<text text-anchor=\"middle\" x=\"545\" y=\"-7.8\" font-family=\"Helvetica,sans-Serif\" font-size=\"14.00\">value = [8, 25]</text>\n</g>\n<!-- 10&#45;&gt;11 -->\n<g id=\"edge11\" class=\"edge\">\n<title>10&#45;&gt;11</title>\n<path fill=\"none\" stroke=\"black\" d=\"M623.68,-88.95C611.5,-79.43 598.23,-69.07 586.12,-59.62\"/>\n<polygon fill=\"black\" stroke=\"black\" points=\"587.99,-56.63 577.95,-53.24 583.68,-62.15 587.99,-56.63\"/>\n</g>\n<!-- 12 -->\n<g id=\"node13\" class=\"node\">\n<title>12</title>\n<polygon fill=\"none\" stroke=\"black\" points=\"724,-53 614,-53 614,0 724,0 724,-53\"/>\n<text text-anchor=\"middle\" x=\"669\" y=\"-37.8\" font-family=\"Helvetica,sans-Serif\" font-size=\"14.00\">gini = 0.495</text>\n<text text-anchor=\"middle\" x=\"669\" y=\"-22.8\" font-family=\"Helvetica,sans-Serif\" font-size=\"14.00\">samples = 31</text>\n<text text-anchor=\"middle\" x=\"669\" y=\"-7.8\" font-family=\"Helvetica,sans-Serif\" font-size=\"14.00\">value = [17, 14]</text>\n</g>\n<!-- 10&#45;&gt;12 -->\n<g id=\"edge12\" class=\"edge\">\n<title>10&#45;&gt;12</title>\n<path fill=\"none\" stroke=\"black\" d=\"M667.05,-88.95C667.31,-80.72 667.59,-71.85 667.86,-63.48\"/>\n<polygon fill=\"black\" stroke=\"black\" points=\"671.36,-63.34 668.18,-53.24 664.37,-63.12 671.36,-63.34\"/>\n</g>\n<!-- 14 -->\n<g id=\"node15\" class=\"node\">\n<title>14</title>\n<polygon fill=\"none\" stroke=\"black\" points=\"852,-53 742,-53 742,0 852,0 852,-53\"/>\n<text text-anchor=\"middle\" x=\"797\" y=\"-37.8\" font-family=\"Helvetica,sans-Serif\" font-size=\"14.00\">gini = 0.493</text>\n<text text-anchor=\"middle\" x=\"797\" y=\"-22.8\" font-family=\"Helvetica,sans-Serif\" font-size=\"14.00\">samples = 100</text>\n<text text-anchor=\"middle\" x=\"797\" y=\"-7.8\" font-family=\"Helvetica,sans-Serif\" font-size=\"14.00\">value = [56, 44]</text>\n</g>\n<!-- 13&#45;&gt;14 -->\n<g id=\"edge14\" class=\"edge\">\n<title>13&#45;&gt;14</title>\n<path fill=\"none\" stroke=\"black\" d=\"M824.96,-88.95C821.05,-80.35 816.82,-71.06 812.87,-62.37\"/>\n<polygon fill=\"black\" stroke=\"black\" points=\"816.04,-60.89 808.71,-53.24 809.67,-63.79 816.04,-60.89\"/>\n</g>\n<!-- 15 -->\n<g id=\"node16\" class=\"node\">\n<title>15</title>\n<polygon fill=\"none\" stroke=\"black\" points=\"972,-53 870,-53 870,0 972,0 972,-53\"/>\n<text text-anchor=\"middle\" x=\"921\" y=\"-37.8\" font-family=\"Helvetica,sans-Serif\" font-size=\"14.00\">gini = 0.091</text>\n<text text-anchor=\"middle\" x=\"921\" y=\"-22.8\" font-family=\"Helvetica,sans-Serif\" font-size=\"14.00\">samples = 21</text>\n<text text-anchor=\"middle\" x=\"921\" y=\"-7.8\" font-family=\"Helvetica,sans-Serif\" font-size=\"14.00\">value = [20, 1]</text>\n</g>\n<!-- 13&#45;&gt;15 -->\n<g id=\"edge15\" class=\"edge\">\n<title>13&#45;&gt;15</title>\n<path fill=\"none\" stroke=\"black\" d=\"M868.33,-88.95C876.09,-79.89 884.51,-70.07 892.3,-60.99\"/>\n<polygon fill=\"black\" stroke=\"black\" points=\"895.09,-63.11 898.94,-53.24 889.77,-58.55 895.09,-63.11\"/>\n</g>\n<!-- 17 -->\n<g id=\"node18\" class=\"node\">\n<title>17</title>\n<polygon fill=\"none\" stroke=\"black\" points=\"1274,-261 1106,-261 1106,-193 1274,-193 1274,-261\"/>\n<text text-anchor=\"middle\" x=\"1190\" y=\"-245.8\" font-family=\"Helvetica,sans-Serif\" font-size=\"14.00\">Purpose.Business &lt;= 0.5</text>\n<text text-anchor=\"middle\" x=\"1190\" y=\"-230.8\" font-family=\"Helvetica,sans-Serif\" font-size=\"14.00\">gini = 0.418</text>\n<text text-anchor=\"middle\" x=\"1190\" y=\"-215.8\" font-family=\"Helvetica,sans-Serif\" font-size=\"14.00\">samples = 47</text>\n<text text-anchor=\"middle\" x=\"1190\" y=\"-200.8\" font-family=\"Helvetica,sans-Serif\" font-size=\"14.00\">value = [14, 33]</text>\n</g>\n<!-- 16&#45;&gt;17 -->\n<g id=\"edge17\" class=\"edge\">\n<title>16&#45;&gt;17</title>\n<path fill=\"none\" stroke=\"black\" d=\"M1190,-296.88C1190,-288.78 1190,-279.98 1190,-271.47\"/>\n<polygon fill=\"black\" stroke=\"black\" points=\"1193.5,-271.3 1190,-261.3 1186.5,-271.3 1193.5,-271.3\"/>\n</g>\n<!-- 24 -->\n<g id=\"node25\" class=\"node\">\n<title>24</title>\n<polygon fill=\"none\" stroke=\"black\" points=\"1618,-261 1436,-261 1436,-193 1618,-193 1618,-261\"/>\n<text text-anchor=\"middle\" x=\"1527\" y=\"-245.8\" font-family=\"Helvetica,sans-Serif\" font-size=\"14.00\">CreditHistory.Critical &lt;= 0.5</text>\n<text text-anchor=\"middle\" x=\"1527\" y=\"-230.8\" font-family=\"Helvetica,sans-Serif\" font-size=\"14.00\">gini = 0.167</text>\n<text text-anchor=\"middle\" x=\"1527\" y=\"-215.8\" font-family=\"Helvetica,sans-Serif\" font-size=\"14.00\">samples = 229</text>\n<text text-anchor=\"middle\" x=\"1527\" y=\"-200.8\" font-family=\"Helvetica,sans-Serif\" font-size=\"14.00\">value = [21, 208]</text>\n</g>\n<!-- 16&#45;&gt;24 -->\n<g id=\"edge24\" class=\"edge\">\n<title>16&#45;&gt;24</title>\n<path fill=\"none\" stroke=\"black\" d=\"M1299.41,-296.88C1340.16,-284.55 1386.19,-270.62 1426.13,-258.53\"/>\n<polygon fill=\"black\" stroke=\"black\" points=\"1427.33,-261.82 1435.89,-255.58 1425.3,-255.12 1427.33,-261.82\"/>\n</g>\n<!-- 18 -->\n<g id=\"node19\" class=\"node\">\n<title>18</title>\n<polygon fill=\"none\" stroke=\"black\" points=\"1160,-157 1058,-157 1058,-89 1160,-89 1160,-157\"/>\n<text text-anchor=\"middle\" x=\"1109\" y=\"-141.8\" font-family=\"Helvetica,sans-Serif\" font-size=\"14.00\">Age &lt;= 25.5</text>\n<text text-anchor=\"middle\" x=\"1109\" y=\"-126.8\" font-family=\"Helvetica,sans-Serif\" font-size=\"14.00\">gini = 0.332</text>\n<text text-anchor=\"middle\" x=\"1109\" y=\"-111.8\" font-family=\"Helvetica,sans-Serif\" font-size=\"14.00\">samples = 38</text>\n<text text-anchor=\"middle\" x=\"1109\" y=\"-96.8\" font-family=\"Helvetica,sans-Serif\" font-size=\"14.00\">value = [8, 30]</text>\n</g>\n<!-- 17&#45;&gt;18 -->\n<g id=\"edge18\" class=\"edge\">\n<title>17&#45;&gt;18</title>\n<path fill=\"none\" stroke=\"black\" d=\"M1163.7,-192.88C1156.7,-184.07 1149.05,-174.43 1141.75,-165.24\"/>\n<polygon fill=\"black\" stroke=\"black\" points=\"1144.4,-162.95 1135.44,-157.3 1138.92,-167.31 1144.4,-162.95\"/>\n</g>\n<!-- 21 -->\n<g id=\"node22\" class=\"node\">\n<title>21</title>\n<polygon fill=\"none\" stroke=\"black\" points=\"1366,-157 1178,-157 1178,-89 1366,-89 1366,-157\"/>\n<text text-anchor=\"middle\" x=\"1272\" y=\"-141.8\" font-family=\"Helvetica,sans-Serif\" font-size=\"14.00\">Personal.Male.Single &lt;= 0.5</text>\n<text text-anchor=\"middle\" x=\"1272\" y=\"-126.8\" font-family=\"Helvetica,sans-Serif\" font-size=\"14.00\">gini = 0.444</text>\n<text text-anchor=\"middle\" x=\"1272\" y=\"-111.8\" font-family=\"Helvetica,sans-Serif\" font-size=\"14.00\">samples = 9</text>\n<text text-anchor=\"middle\" x=\"1272\" y=\"-96.8\" font-family=\"Helvetica,sans-Serif\" font-size=\"14.00\">value = [6, 3]</text>\n</g>\n<!-- 17&#45;&gt;21 -->\n<g id=\"edge21\" class=\"edge\">\n<title>17&#45;&gt;21</title>\n<path fill=\"none\" stroke=\"black\" d=\"M1216.62,-192.88C1223.71,-184.07 1231.46,-174.43 1238.85,-165.24\"/>\n<polygon fill=\"black\" stroke=\"black\" points=\"1241.69,-167.29 1245.23,-157.3 1236.24,-162.9 1241.69,-167.29\"/>\n</g>\n<!-- 19 -->\n<g id=\"node20\" class=\"node\">\n<title>19</title>\n<polygon fill=\"none\" stroke=\"black\" points=\"1085.5,-53 990.5,-53 990.5,0 1085.5,0 1085.5,-53\"/>\n<text text-anchor=\"middle\" x=\"1038\" y=\"-37.8\" font-family=\"Helvetica,sans-Serif\" font-size=\"14.00\">gini = 0.375</text>\n<text text-anchor=\"middle\" x=\"1038\" y=\"-22.8\" font-family=\"Helvetica,sans-Serif\" font-size=\"14.00\">samples = 4</text>\n<text text-anchor=\"middle\" x=\"1038\" y=\"-7.8\" font-family=\"Helvetica,sans-Serif\" font-size=\"14.00\">value = [3, 1]</text>\n</g>\n<!-- 18&#45;&gt;19 -->\n<g id=\"edge19\" class=\"edge\">\n<title>18&#45;&gt;19</title>\n<path fill=\"none\" stroke=\"black\" d=\"M1084.17,-88.95C1077.43,-79.98 1070.13,-70.27 1063.37,-61.26\"/>\n<polygon fill=\"black\" stroke=\"black\" points=\"1066.14,-59.13 1057.34,-53.24 1060.55,-63.33 1066.14,-59.13\"/>\n</g>\n<!-- 20 -->\n<g id=\"node21\" class=\"node\">\n<title>20</title>\n<polygon fill=\"none\" stroke=\"black\" points=\"1206,-53 1104,-53 1104,0 1206,0 1206,-53\"/>\n<text text-anchor=\"middle\" x=\"1155\" y=\"-37.8\" font-family=\"Helvetica,sans-Serif\" font-size=\"14.00\">gini = 0.251</text>\n<text text-anchor=\"middle\" x=\"1155\" y=\"-22.8\" font-family=\"Helvetica,sans-Serif\" font-size=\"14.00\">samples = 34</text>\n<text text-anchor=\"middle\" x=\"1155\" y=\"-7.8\" font-family=\"Helvetica,sans-Serif\" font-size=\"14.00\">value = [5, 29]</text>\n</g>\n<!-- 18&#45;&gt;20 -->\n<g id=\"edge20\" class=\"edge\">\n<title>18&#45;&gt;20</title>\n<path fill=\"none\" stroke=\"black\" d=\"M1125.09,-88.95C1129.27,-80.35 1133.8,-71.06 1138.03,-62.37\"/>\n<polygon fill=\"black\" stroke=\"black\" points=\"1141.24,-63.76 1142.47,-53.24 1134.95,-60.7 1141.24,-63.76\"/>\n</g>\n<!-- 22 -->\n<g id=\"node23\" class=\"node\">\n<title>22</title>\n<polygon fill=\"none\" stroke=\"black\" points=\"1319.5,-53 1224.5,-53 1224.5,0 1319.5,0 1319.5,-53\"/>\n<text text-anchor=\"middle\" x=\"1272\" y=\"-37.8\" font-family=\"Helvetica,sans-Serif\" font-size=\"14.00\">gini = 0.375</text>\n<text text-anchor=\"middle\" x=\"1272\" y=\"-22.8\" font-family=\"Helvetica,sans-Serif\" font-size=\"14.00\">samples = 4</text>\n<text text-anchor=\"middle\" x=\"1272\" y=\"-7.8\" font-family=\"Helvetica,sans-Serif\" font-size=\"14.00\">value = [1, 3]</text>\n</g>\n<!-- 21&#45;&gt;22 -->\n<g id=\"edge22\" class=\"edge\">\n<title>21&#45;&gt;22</title>\n<path fill=\"none\" stroke=\"black\" d=\"M1272,-88.95C1272,-80.72 1272,-71.85 1272,-63.48\"/>\n<polygon fill=\"black\" stroke=\"black\" points=\"1275.5,-63.24 1272,-53.24 1268.5,-63.24 1275.5,-63.24\"/>\n</g>\n<!-- 23 -->\n<g id=\"node24\" class=\"node\">\n<title>23</title>\n<polygon fill=\"none\" stroke=\"black\" points=\"1432.5,-53 1337.5,-53 1337.5,0 1432.5,0 1432.5,-53\"/>\n<text text-anchor=\"middle\" x=\"1385\" y=\"-37.8\" font-family=\"Helvetica,sans-Serif\" font-size=\"14.00\">gini = 0.0</text>\n<text text-anchor=\"middle\" x=\"1385\" y=\"-22.8\" font-family=\"Helvetica,sans-Serif\" font-size=\"14.00\">samples = 5</text>\n<text text-anchor=\"middle\" x=\"1385\" y=\"-7.8\" font-family=\"Helvetica,sans-Serif\" font-size=\"14.00\">value = [5, 0]</text>\n</g>\n<!-- 21&#45;&gt;23 -->\n<g id=\"edge23\" class=\"edge\">\n<title>21&#45;&gt;23</title>\n<path fill=\"none\" stroke=\"black\" d=\"M1311.52,-88.95C1322.79,-79.53 1335.05,-69.27 1346.27,-59.89\"/>\n<polygon fill=\"black\" stroke=\"black\" points=\"1348.8,-62.34 1354.22,-53.24 1344.31,-56.97 1348.8,-62.34\"/>\n</g>\n<!-- 25 -->\n<g id=\"node26\" class=\"node\">\n<title>25</title>\n<polygon fill=\"none\" stroke=\"black\" points=\"1670,-157 1384,-157 1384,-89 1670,-89 1670,-157\"/>\n<text text-anchor=\"middle\" x=\"1527\" y=\"-141.8\" font-family=\"Helvetica,sans-Serif\" font-size=\"14.00\">OtherDebtorsGuarantors.CoApplicant &lt;= 0.5</text>\n<text text-anchor=\"middle\" x=\"1527\" y=\"-126.8\" font-family=\"Helvetica,sans-Serif\" font-size=\"14.00\">gini = 0.251</text>\n<text text-anchor=\"middle\" x=\"1527\" y=\"-111.8\" font-family=\"Helvetica,sans-Serif\" font-size=\"14.00\">samples = 136</text>\n<text text-anchor=\"middle\" x=\"1527\" y=\"-96.8\" font-family=\"Helvetica,sans-Serif\" font-size=\"14.00\">value = [20, 116]</text>\n</g>\n<!-- 24&#45;&gt;25 -->\n<g id=\"edge25\" class=\"edge\">\n<title>24&#45;&gt;25</title>\n<path fill=\"none\" stroke=\"black\" d=\"M1527,-192.88C1527,-184.78 1527,-175.98 1527,-167.47\"/>\n<polygon fill=\"black\" stroke=\"black\" points=\"1530.5,-167.3 1527,-157.3 1523.5,-167.3 1530.5,-167.3\"/>\n</g>\n<!-- 28 -->\n<g id=\"node29\" class=\"node\">\n<title>28</title>\n<polygon fill=\"none\" stroke=\"black\" points=\"1825.5,-157 1688.5,-157 1688.5,-89 1825.5,-89 1825.5,-157\"/>\n<text text-anchor=\"middle\" x=\"1757\" y=\"-141.8\" font-family=\"Helvetica,sans-Serif\" font-size=\"14.00\">Amount &lt;= 11867.0</text>\n<text text-anchor=\"middle\" x=\"1757\" y=\"-126.8\" font-family=\"Helvetica,sans-Serif\" font-size=\"14.00\">gini = 0.021</text>\n<text text-anchor=\"middle\" x=\"1757\" y=\"-111.8\" font-family=\"Helvetica,sans-Serif\" font-size=\"14.00\">samples = 93</text>\n<text text-anchor=\"middle\" x=\"1757\" y=\"-96.8\" font-family=\"Helvetica,sans-Serif\" font-size=\"14.00\">value = [1, 92]</text>\n</g>\n<!-- 24&#45;&gt;28 -->\n<g id=\"edge28\" class=\"edge\">\n<title>24&#45;&gt;28</title>\n<path fill=\"none\" stroke=\"black\" d=\"M1601.67,-192.88C1626.33,-181.95 1653.82,-169.76 1678.74,-158.71\"/>\n<polygon fill=\"black\" stroke=\"black\" points=\"1680.43,-161.79 1688.15,-154.53 1677.59,-155.39 1680.43,-161.79\"/>\n</g>\n<!-- 26 -->\n<g id=\"node27\" class=\"node\">\n<title>26</title>\n<polygon fill=\"none\" stroke=\"black\" points=\"1569.5,-53 1452.5,-53 1452.5,0 1569.5,0 1569.5,-53\"/>\n<text text-anchor=\"middle\" x=\"1511\" y=\"-37.8\" font-family=\"Helvetica,sans-Serif\" font-size=\"14.00\">gini = 0.226</text>\n<text text-anchor=\"middle\" x=\"1511\" y=\"-22.8\" font-family=\"Helvetica,sans-Serif\" font-size=\"14.00\">samples = 131</text>\n<text text-anchor=\"middle\" x=\"1511\" y=\"-7.8\" font-family=\"Helvetica,sans-Serif\" font-size=\"14.00\">value = [17, 114]</text>\n</g>\n<!-- 25&#45;&gt;26 -->\n<g id=\"edge26\" class=\"edge\">\n<title>25&#45;&gt;26</title>\n<path fill=\"none\" stroke=\"black\" d=\"M1521.4,-88.95C1519.99,-80.62 1518.48,-71.65 1517.04,-63.2\"/>\n<polygon fill=\"black\" stroke=\"black\" points=\"1520.48,-62.51 1515.36,-53.24 1513.58,-63.68 1520.48,-62.51\"/>\n</g>\n<!-- 27 -->\n<g id=\"node28\" class=\"node\">\n<title>27</title>\n<polygon fill=\"none\" stroke=\"black\" points=\"1682.5,-53 1587.5,-53 1587.5,0 1682.5,0 1682.5,-53\"/>\n<text text-anchor=\"middle\" x=\"1635\" y=\"-37.8\" font-family=\"Helvetica,sans-Serif\" font-size=\"14.00\">gini = 0.48</text>\n<text text-anchor=\"middle\" x=\"1635\" y=\"-22.8\" font-family=\"Helvetica,sans-Serif\" font-size=\"14.00\">samples = 5</text>\n<text text-anchor=\"middle\" x=\"1635\" y=\"-7.8\" font-family=\"Helvetica,sans-Serif\" font-size=\"14.00\">value = [3, 2]</text>\n</g>\n<!-- 25&#45;&gt;27 -->\n<g id=\"edge27\" class=\"edge\">\n<title>25&#45;&gt;27</title>\n<path fill=\"none\" stroke=\"black\" d=\"M1564.77,-88.95C1575.54,-79.53 1587.26,-69.27 1597.98,-59.89\"/>\n<polygon fill=\"black\" stroke=\"black\" points=\"1600.37,-62.46 1605.59,-53.24 1595.76,-57.19 1600.37,-62.46\"/>\n</g>\n<!-- 29 -->\n<g id=\"node30\" class=\"node\">\n<title>29</title>\n<polygon fill=\"none\" stroke=\"black\" points=\"1806,-53 1704,-53 1704,0 1806,0 1806,-53\"/>\n<text text-anchor=\"middle\" x=\"1755\" y=\"-37.8\" font-family=\"Helvetica,sans-Serif\" font-size=\"14.00\">gini = 0.0</text>\n<text text-anchor=\"middle\" x=\"1755\" y=\"-22.8\" font-family=\"Helvetica,sans-Serif\" font-size=\"14.00\">samples = 92</text>\n<text text-anchor=\"middle\" x=\"1755\" y=\"-7.8\" font-family=\"Helvetica,sans-Serif\" font-size=\"14.00\">value = [0, 92]</text>\n</g>\n<!-- 28&#45;&gt;29 -->\n<g id=\"edge29\" class=\"edge\">\n<title>28&#45;&gt;29</title>\n<path fill=\"none\" stroke=\"black\" d=\"M1756.3,-88.95C1756.13,-80.72 1755.94,-71.85 1755.76,-63.48\"/>\n<polygon fill=\"black\" stroke=\"black\" points=\"1759.26,-63.16 1755.54,-53.24 1752.26,-63.31 1759.26,-63.16\"/>\n</g>\n<!-- 30 -->\n<g id=\"node31\" class=\"node\">\n<title>30</title>\n<polygon fill=\"none\" stroke=\"black\" points=\"1919.5,-53 1824.5,-53 1824.5,0 1919.5,0 1919.5,-53\"/>\n<text text-anchor=\"middle\" x=\"1872\" y=\"-37.8\" font-family=\"Helvetica,sans-Serif\" font-size=\"14.00\">gini = 0.0</text>\n<text text-anchor=\"middle\" x=\"1872\" y=\"-22.8\" font-family=\"Helvetica,sans-Serif\" font-size=\"14.00\">samples = 1</text>\n<text text-anchor=\"middle\" x=\"1872\" y=\"-7.8\" font-family=\"Helvetica,sans-Serif\" font-size=\"14.00\">value = [1, 0]</text>\n</g>\n<!-- 28&#45;&gt;30 -->\n<g id=\"edge30\" class=\"edge\">\n<title>28&#45;&gt;30</title>\n<path fill=\"none\" stroke=\"black\" d=\"M1797.22,-88.95C1808.8,-79.43 1821.41,-69.07 1832.92,-59.62\"/>\n<polygon fill=\"black\" stroke=\"black\" points=\"1835.18,-62.29 1840.68,-53.24 1830.73,-56.88 1835.18,-62.29\"/>\n</g>\n</g>\n</svg>\n",
      "text/plain": "<graphviz.sources.Source at 0x7fe530e86f80>"
     },
     "execution_count": 21,
     "metadata": {},
     "output_type": "execute_result"
    }
   ],
   "source": [
    "# from dtreeviz.trees import *\n",
    "#viz = dtreeviz(clf,\n",
    "#              X_train,\n",
    "##              y_train,\n",
    "#              target_name='Class',\n",
    "#              feature_names=X_train.columns,\n",
    "#              class_names=[\"1\", \"0\"],\n",
    "#              fancy=False)  # fance=False to remove histograms/scatterplots from decision nodes\n",
    "#viz.view()  \n",
    " #TODO: Couldn't figure it out how to display png in jupyter notebook\n",
    "    \n",
    "# Displaying tree graph using graphviz library\n",
    "from sklearn import tree\n",
    "import graphviz\n",
    "tree_graph = tree.export_graphviz(clf, out_file=None,feature_names=credit_dataset.columns)\n",
    "graphviz.Source(tree_graph)"
   ]
  },
  {
   "cell_type": "markdown",
   "metadata": {},
   "source": [
    "## Random Forests"
   ]
  },
  {
   "cell_type": "markdown",
   "metadata": {},
   "source": [
    "As discussed in the lecture videos, Decision Tree algorithms also have certain undesireable properties. Mainly the have low bias, which is good, but tend to have high variance - which is *not* so good (more about this problem here: https://en.wikipedia.org/wiki/Bias%E2%80%93variance_tradeoff)."
   ]
  },
  {
   "cell_type": "markdown",
   "metadata": {},
   "source": [
    "Noticing these problems, the late Professor Leo Breiman, in 2001, developed the Random Forests algorithm, which mitigates these problems, while at the same time providing even higher predictive accuracy than the majority of Decision Tree algorithm implementations. While the curriculum contains two excellent lectures on Random Forests, if you're interested, you can dive into the original paper here: https://link.springer.com/content/pdf/10.1023%2FA%3A1010933404324.pdf."
   ]
  },
  {
   "cell_type": "markdown",
   "metadata": {},
   "source": [
    "In the next part of this assignment, your are going to use the same \"German Credit\" dataset to train, tune, and measure the performance of a Random Forests model. You will also see certain functionalities that this model, even though it's a bit of a \"black box\", provides for some degree of interpretability."
   ]
  },
  {
   "cell_type": "markdown",
   "metadata": {},
   "source": [
    "First, let's build a Random Forests model, using the same best practices that you've used for your Decision Trees model. You can reuse the things you've already imported there, so no need to do any re-imports, new train/test splits, or loading up the data again."
   ]
  },
  {
   "cell_type": "code",
   "execution_count": 22,
   "metadata": {},
   "outputs": [],
   "source": [
    "from sklearn.ensemble import RandomForestClassifier"
   ]
  },
  {
   "cell_type": "code",
   "execution_count": 23,
   "metadata": {},
   "outputs": [
    {
     "name": "stdout",
     "output_type": "stream",
     "text": [
      "Model Accuracy:  0.7233333333333334\n"
     ]
    }
   ],
   "source": [
    "forest = RandomForestClassifier(n_estimators=100,max_depth=4,random_state=0)\n",
    "forest = forest.fit(X_train, y_train)\n",
    "y_pred = forest.predict(X_test)\n",
    "\n",
    "# Model Accuracy,the peformance of the prediction\n",
    "accuracy = metrics.accuracy_score(y_test, y_pred)\n",
    "print('Model Accuracy: ',accuracy)"
   ]
  },
  {
   "cell_type": "markdown",
   "metadata": {},
   "source": [
    "As mentioned, there are certain ways to \"peek\" into a model created by the Random Forests algorithm. The first, and most popular one, is the Feature Importance calculation functionality. This allows the ML practitioner to see an ordering of the importance of the features that have contributed the most to the predictive accuracy of the model. \n",
    "\n",
    "You can see how to use this in the scikit-learn documentation (http://scikit-learn.org/stable/modules/generated/sklearn.ensemble.RandomForestClassifier.html#sklearn.ensemble.RandomForestClassifier.feature_importances_). Now, if you tried this, you would just get an ordered table of not directly interpretable numeric values. Thus, it's much more useful to show the feature importance in a visual way. You can see an example of how that's done here: http://scikit-learn.org/stable/auto_examples/ensemble/plot_forest_importances.html#sphx-glr-auto-examples-ensemble-plot-forest-importances-py\n",
    "\n",
    "Now you try! Let's visualize the importance of features from your Random Forests model!"
   ]
  },
  {
   "cell_type": "code",
   "execution_count": 24,
   "metadata": {},
   "outputs": [
    {
     "ename": "NameError",
     "evalue": "name 'np' is not defined",
     "output_type": "error",
     "traceback": [
      "\u001B[0;31m---------------------------------------------------------------------------\u001B[0m",
      "\u001B[0;31mNameError\u001B[0m                                 Traceback (most recent call last)",
      "Input \u001B[0;32mIn [24]\u001B[0m, in \u001B[0;36m<cell line: 7>\u001B[0;34m()\u001B[0m\n\u001B[1;32m      3\u001B[0m \u001B[38;5;66;03m#print(len(feature_names))\u001B[39;00m\n\u001B[1;32m      4\u001B[0m \n\u001B[1;32m      5\u001B[0m \u001B[38;5;66;03m#Feature importances based on impurity\u001B[39;00m\n\u001B[1;32m      6\u001B[0m importances \u001B[38;5;241m=\u001B[39m forest\u001B[38;5;241m.\u001B[39mfeature_importances_\n\u001B[0;32m----> 7\u001B[0m std \u001B[38;5;241m=\u001B[39m \u001B[43mnp\u001B[49m\u001B[38;5;241m.\u001B[39mstd([tree\u001B[38;5;241m.\u001B[39mfeature_importances_ \u001B[38;5;28;01mfor\u001B[39;00m tree \u001B[38;5;129;01min\u001B[39;00m forest\u001B[38;5;241m.\u001B[39mestimators_], axis\u001B[38;5;241m=\u001B[39m\u001B[38;5;241m0\u001B[39m)\n\u001B[1;32m      8\u001B[0m forest_importances \u001B[38;5;241m=\u001B[39m pd\u001B[38;5;241m.\u001B[39mSeries(importances, index\u001B[38;5;241m=\u001B[39mfeature_names )\n\u001B[1;32m     10\u001B[0m fig,ax \u001B[38;5;241m=\u001B[39m plt\u001B[38;5;241m.\u001B[39msubplots()\n",
      "\u001B[0;31mNameError\u001B[0m: name 'np' is not defined"
     ]
    }
   ],
   "source": [
    "# Your code here\n",
    "feature_names = [f for i, f in enumerate(X_train.columns)]\n",
    "#print(len(feature_names))\n",
    "\n",
    "#Feature importances based on impurity\n",
    "importances = forest.feature_importances_\n",
    "std = np.std([tree.feature_importances_ for tree in forest.estimators_], axis=0)\n",
    "forest_importances = pd.Series(importances, index=feature_names )\n",
    "\n",
    "fig,ax = plt.subplots()\n",
    "forest_importances.plot.bar(yerr=std, ax=ax)\n",
    "ax.set_title(\"Features importances using MDI\")\n",
    "ax.set_ylabel(\"Mean decrease in impurity\")\n",
    "fig.set_figheight(15)\n",
    "fig.set_figwidth(15)\n"
   ]
  },
  {
   "cell_type": "markdown",
   "metadata": {},
   "source": [
    "A final method for gaining some insight into the inner working of your Random Forests models is a so-called Partial Dependence Plot. The Partial Dependence Plot (PDP or PD plot) shows the marginal effect of a feature on the predicted outcome of a previously fit model. The prediction function is fixed at a few values of the chosen features and averaged over the other features. A partial dependence plot can show if the relationship between the target and a feature is linear, monotonic or more complex. \n",
    "\n",
    "In scikit-learn, PDPs are implemented and available for certain algorithms, but at this point (version 0.20.0) they are not yet implemented for Random Forests. Thankfully, there is an add-on package called **PDPbox** (https://pdpbox.readthedocs.io/en/latest/) which adds this functionality to Random Forests. The package is easy to install through pip."
   ]
  },
  {
   "cell_type": "code",
   "execution_count": 28,
   "metadata": {},
   "outputs": [
    {
     "name": "stdout",
     "output_type": "stream",
     "text": [
      "Requirement already satisfied: pdpbox in /Users/ravibyakod/.conda/envs/mec-5.3.10-data-wranging-with-pandas-mini-project/lib/python3.10/site-packages (0.2.1)\r\n",
      "Requirement already satisfied: joblib in /Users/ravibyakod/.conda/envs/mec-5.3.10-data-wranging-with-pandas-mini-project/lib/python3.10/site-packages (from pdpbox) (1.1.0)\r\n",
      "Requirement already satisfied: pandas in /Users/ravibyakod/.conda/envs/mec-5.3.10-data-wranging-with-pandas-mini-project/lib/python3.10/site-packages (from pdpbox) (1.4.1)\r\n",
      "Requirement already satisfied: psutil in /Users/ravibyakod/.conda/envs/mec-5.3.10-data-wranging-with-pandas-mini-project/lib/python3.10/site-packages (from pdpbox) (5.9.0)\r\n",
      "Collecting matplotlib==3.1.1\r\n",
      "  Using cached matplotlib-3.1.1-cp310-cp310-macosx_10_9_x86_64.whl\r\n",
      "Requirement already satisfied: numpy in /Users/ravibyakod/.conda/envs/mec-5.3.10-data-wranging-with-pandas-mini-project/lib/python3.10/site-packages (from pdpbox) (1.21.2)\r\n",
      "Requirement already satisfied: scipy in /Users/ravibyakod/.conda/envs/mec-5.3.10-data-wranging-with-pandas-mini-project/lib/python3.10/site-packages (from pdpbox) (1.7.3)\r\n",
      "Requirement already satisfied: sklearn in /Users/ravibyakod/.conda/envs/mec-5.3.10-data-wranging-with-pandas-mini-project/lib/python3.10/site-packages (from pdpbox) (0.0)\r\n",
      "Requirement already satisfied: cycler>=0.10 in /Users/ravibyakod/.conda/envs/mec-5.3.10-data-wranging-with-pandas-mini-project/lib/python3.10/site-packages (from matplotlib==3.1.1->pdpbox) (0.11.0)\r\n",
      "Requirement already satisfied: python-dateutil>=2.1 in /Users/ravibyakod/.conda/envs/mec-5.3.10-data-wranging-with-pandas-mini-project/lib/python3.10/site-packages (from matplotlib==3.1.1->pdpbox) (2.8.2)\r\n",
      "Requirement already satisfied: kiwisolver>=1.0.1 in /Users/ravibyakod/.conda/envs/mec-5.3.10-data-wranging-with-pandas-mini-project/lib/python3.10/site-packages (from matplotlib==3.1.1->pdpbox) (1.3.1)\r\n",
      "Requirement already satisfied: pyparsing!=2.0.4,!=2.1.2,!=2.1.6,>=2.0.1 in /Users/ravibyakod/.conda/envs/mec-5.3.10-data-wranging-with-pandas-mini-project/lib/python3.10/site-packages (from matplotlib==3.1.1->pdpbox) (3.0.7)\r\n",
      "Requirement already satisfied: six>=1.5 in /Users/ravibyakod/.conda/envs/mec-5.3.10-data-wranging-with-pandas-mini-project/lib/python3.10/site-packages (from python-dateutil>=2.1->matplotlib==3.1.1->pdpbox) (1.16.0)\r\n",
      "Requirement already satisfied: pytz>=2020.1 in /Users/ravibyakod/.conda/envs/mec-5.3.10-data-wranging-with-pandas-mini-project/lib/python3.10/site-packages (from pandas->pdpbox) (2021.3)\r\n",
      "Requirement already satisfied: scikit-learn in /Users/ravibyakod/.conda/envs/mec-5.3.10-data-wranging-with-pandas-mini-project/lib/python3.10/site-packages (from sklearn->pdpbox) (1.0.2)\r\n",
      "Requirement already satisfied: threadpoolctl>=2.0.0 in /Users/ravibyakod/.conda/envs/mec-5.3.10-data-wranging-with-pandas-mini-project/lib/python3.10/site-packages (from scikit-learn->sklearn->pdpbox) (3.1.0)\r\n",
      "Installing collected packages: matplotlib\r\n",
      "  Attempting uninstall: matplotlib\r\n",
      "    Found existing installation: matplotlib 3.5.1\r\n",
      "    Uninstalling matplotlib-3.5.1:\r\n",
      "      Successfully uninstalled matplotlib-3.5.1\r\n",
      "Successfully installed matplotlib-3.1.1\r\n"
     ]
    }
   ],
   "source": [
    "! pip install pdpbox\n"
   ]
  },
  {
   "cell_type": "markdown",
   "metadata": {},
   "source": [
    "While we encourage you to read the documentation for the package (and reading package documentation in general is a good habit to develop), the authors of the package have also written an excellent blog post on how to use it, showing examples on different algorithms from scikit-learn (the Random Forests example is towards the end of the blog post): https://briangriner.github.io/Partial_Dependence_Plots_presentation-BrianGriner-PrincetonPublicLibrary-4.14.18-updated-4.22.18.html"
   ]
  },
  {
   "cell_type": "markdown",
   "metadata": {},
   "source": [
    "So, armed with this new knowledge, feel free to pick a few features, and make a couple of Partial Dependence Plots of your own!"
   ]
  },
  {
   "cell_type": "code",
   "execution_count": 17,
   "metadata": {},
   "outputs": [],
   "source": [
    "# Your code here!\n",
    "# the blog link is not working to review it\n"
   ]
  },
  {
   "cell_type": "markdown",
   "metadata": {},
   "source": [
    "## (Optional) Advanced Boosting-Based Algorithms"
   ]
  },
  {
   "cell_type": "markdown",
   "metadata": {},
   "source": [
    "As explained in the video lectures, the next generation of algorithms after Random Forests (that use Bagging, a.k.a. Bootstrap Aggregation) were developed using Boosting, and the first one of these were Gradient Boosted Machines, which are implemented in scikit-learn (http://scikit-learn.org/stable/modules/ensemble.html#gradient-tree-boosting)."
   ]
  },
  {
   "cell_type": "markdown",
   "metadata": {},
   "source": [
    "Still, in recent years, a number of variations on GBMs have been developed by different research amd industry groups, all of them bringing improvements, both in speed, accuracy and functionality to the original Gradient Boosting algorithms.\n",
    "\n",
    "In no order of preference, these are:\n",
    "1. **XGBoost**: https://xgboost.readthedocs.io/en/latest/\n",
    "2. **CatBoost**: https://tech.yandex.com/catboost/\n",
    "3. **LightGBM**: https://lightgbm.readthedocs.io/en/latest/"
   ]
  },
  {
   "cell_type": "markdown",
   "metadata": {},
   "source": [
    "If you're using the Anaconda distribution, these are all very easy to install:"
   ]
  },
  {
   "cell_type": "code",
   "execution_count": null,
   "metadata": {},
   "outputs": [
    {
     "name": "stdout",
     "output_type": "stream",
     "text": [
      "Collecting package metadata (current_repodata.json): done\n",
      "Solving environment: \\ \n",
      "The environment is inconsistent, please check the package plan carefully\n",
      "The following packages are causing the inconsistency:\n",
      "\n",
      "  - defaults/noarch::jupyterlab==3.0.14=pyhd3eb1b0_1\n",
      "  - defaults/osx-64::_anaconda_depends==2020.07=py38_0\n",
      "  - defaults/osx-64::anaconda-client==1.8.0=py38hecd8cb5_0\n",
      "  - defaults/noarch::jsonschema==3.2.0=py_2\n",
      "  - defaults/noarch::jupyterlab_server==2.4.0=pyhd3eb1b0_0\n",
      "  - defaults/noarch::nbclient==0.5.3=pyhd3eb1b0_0\n",
      "  - defaults/noarch::conda-repo-cli==1.0.4=pyhd3eb1b0_0\n",
      "  - defaults/osx-64::anaconda==custom=py38_1\n",
      "  - defaults/noarch::nbclassic==0.2.6=pyhd3eb1b0_0\n",
      "  - conda-forge/noarch::ipympl==0.7.0=pyhd8ed1ab_0\n",
      "  - defaults/osx-64::anaconda-navigator==2.1.1=py38_0\n",
      "  - defaults/osx-64::_ipyw_jlab_nb_ext_conf==0.1.0=py38_0\n",
      "  - defaults/noarch::pyls-black==0.4.6=hd3eb1b0_0\n",
      "  - defaults/osx-64::nbconvert==6.1.0=py38hecd8cb5_0\n",
      "  - defaults/osx-64::notebook==6.4.0=py38hecd8cb5_0\n",
      "  - defaults/osx-64::widgetsnbextension==3.5.1=py38_0\n",
      "  - defaults/osx-64::pytest==6.2.4=py38hecd8cb5_2\n",
      "  - defaults/osx-64::jupyter==1.0.0=py38_7\n",
      "  - defaults/noarch::ipywidgets==7.6.3=pyhd3eb1b0_1\n",
      "  - defaults/noarch::black==19.10b0=py_0\n",
      "  - defaults/noarch::nbformat==5.1.3=pyhd3eb1b0_0\n",
      "  - defaults/osx-64::spyder==4.2.5=py38hecd8cb5_0\n",
      "  - defaults/noarch::anaconda-project==0.10.0=pyhd3eb1b0_0\n",
      "  - defaults/osx-64::jupyter_server==1.4.1=py38hecd8cb5_0\n",
      "done\n",
      "\n",
      "## Package Plan ##\n",
      "\n",
      "  environment location: /Users/ldoddi/opt/anaconda3\n",
      "\n",
      "  added / updated specs:\n",
      "    - py-xgboost\n",
      "\n",
      "\n",
      "The following packages will be downloaded:\n",
      "\n",
      "    package                    |            build\n",
      "    ---------------------------|-----------------\n",
      "    _py-xgboost-mutex-2.0      |            cpu_0           8 KB  anaconda\n",
      "    attrs-20.2.0               |             py_0          41 KB  anaconda\n",
      "    ca-certificates-2020.10.14 |                0         127 KB  anaconda\n",
      "    certifi-2020.6.20          |           py38_0         159 KB  anaconda\n",
      "    conda-4.12.0               |   py38hecd8cb5_0        14.5 MB\n",
      "    libcxx-12.0.0              |       h2f01273_0         805 KB\n",
      "    libxgboost-1.5.0           |       he9d5cce_1         1.2 MB\n",
      "    llvm-openmp-12.0.0         |       h0dcd299_1         262 KB\n",
      "    py-xgboost-1.5.0           |   py38hecd8cb5_1         166 KB\n",
      "    ------------------------------------------------------------\n",
      "                                           Total:        17.2 MB\n",
      "\n",
      "The following NEW packages will be INSTALLED:\n",
      "\n",
      "  _py-xgboost-mutex  anaconda/osx-64::_py-xgboost-mutex-2.0-cpu_0\n",
      "  attrs              anaconda/noarch::attrs-20.2.0-py_0\n",
      "  libxgboost         pkgs/main/osx-64::libxgboost-1.5.0-he9d5cce_1\n",
      "  py-xgboost         pkgs/main/osx-64::py-xgboost-1.5.0-py38hecd8cb5_1\n",
      "\n",
      "The following packages will be UPDATED:\n",
      "\n",
      "  conda                               4.11.0-py38hecd8cb5_0 --> 4.12.0-py38hecd8cb5_0\n",
      "  libcxx                                           10.0.0-1 --> 12.0.0-h2f01273_0\n",
      "  llvm-openmp                             10.0.0-h28b9765_0 --> 12.0.0-h0dcd299_1\n",
      "\n",
      "The following packages will be SUPERSEDED by a higher-priority channel:\n",
      "\n",
      "  ca-certificates    pkgs/main::ca-certificates-2021.10.26~ --> anaconda::ca-certificates-2020.10.14-0\n",
      "  certifi            pkgs/main::certifi-2021.10.8-py38hecd~ --> anaconda::certifi-2020.6.20-py38_0\n",
      "\n",
      "\n",
      "Proceed ([y]/n)? "
     ]
    }
   ],
   "source": [
    "! conda install -c anaconda py-xgboost"
   ]
  },
  {
   "cell_type": "code",
   "execution_count": null,
   "metadata": {},
   "outputs": [],
   "source": [
    "! conda install -c conda-forge catboost"
   ]
  },
  {
   "cell_type": "code",
   "execution_count": null,
   "metadata": {},
   "outputs": [],
   "source": [
    "! conda install -c conda-forge lightgbm"
   ]
  },
  {
   "cell_type": "markdown",
   "metadata": {},
   "source": [
    "Your task in this optional section of the mini project is to read the documentation of these three libraries, and apply all of them to the \"German Credit\" dataset, just like you did in the case of Decision Trees and Random Forests."
   ]
  },
  {
   "cell_type": "markdown",
   "metadata": {},
   "source": [
    "The final deliverable of this section should be a table (can be a pandas DataFrame) which shows the accuracy of all the five algorthms taught in this mini project in one place."
   ]
  },
  {
   "cell_type": "markdown",
   "metadata": {},
   "source": [
    "Happy modeling! :)"
   ]
  },
  {
   "cell_type": "code",
   "execution_count": null,
   "metadata": {},
   "outputs": [],
   "source": []
  },
  {
   "cell_type": "code",
   "execution_count": null,
   "metadata": {},
   "outputs": [],
   "source": []
  }
 ],
 "metadata": {
  "kernelspec": {
   "display_name": "Python 3",
   "language": "python",
   "name": "python3"
  },
  "language_info": {
   "codemirror_mode": {
    "name": "ipython",
    "version": 3
   },
   "file_extension": ".py",
   "mimetype": "text/x-python",
   "name": "python",
   "nbconvert_exporter": "python",
   "pygments_lexer": "ipython3",
   "version": "3.8.10"
  }
 },
 "nbformat": 4,
 "nbformat_minor": 2
}