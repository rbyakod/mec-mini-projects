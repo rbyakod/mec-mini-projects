{
 "cells": [
  {
   "cell_type": "code",
   "execution_count": 7,
   "id": "aed23be2",
   "metadata": {},
   "outputs": [],
   "source": [
    "import pandas as pd\n",
    "import matplotlib.pyplot as plt\n",
    "import seaborn as sns\n",
    "import datetime as dt\n",
    "import numpy as np\n",
    "import os\n",
    "import nltk\n",
    "from nltk.tokenize import TweetTokenizer\n",
    "from nltk.stem import PorterStemmer\n",
    "from nltk.corpus import stopwords\n",
    "import re\n",
    "import string\n",
    "from PIL import Image\n",
    "from wordcloud import WordCloud, STOPWORDS, ImageColorGenerator"
   ]
  },
  {
   "cell_type": "code",
   "execution_count": null,
   "outputs": [],
   "source": [
    "# I got a twitter sample labelled data from stanfrod and used it to train the model\n",
    "# http://cs.stanford.edu/people/alecmgo/trainingandtestdata.zip\n",
    "# it is stored in my drive at\n",
    "# https://drive.google.com/drive/folders/1fyP_tBYC_ypFFasTKOFRgMhamD6QYsZc"
   ],
   "metadata": {
    "collapsed": false,
    "pycharm": {
     "name": "#%%\n"
    }
   }
  },
  {
   "cell_type": "code",
   "execution_count": 8,
   "id": "335e88b7",
   "metadata": {},
   "outputs": [
    {
     "name": "stderr",
     "output_type": "stream",
     "text": [
      "[nltk_data] Downloading package twitter_samples to\n",
      "[nltk_data]     /Users/ravibyakod/nltk_data...\n",
      "[nltk_data]   Package twitter_samples is already up-to-date!\n",
      "[nltk_data] Downloading package stopwords to\n",
      "[nltk_data]     /Users/ravibyakod/nltk_data...\n",
      "[nltk_data]   Package stopwords is already up-to-date!\n"
     ]
    }
   ],
   "source": [
    "nltk.download('twitter_samples')\n",
    "nltk.download('stopwords')\n",
    "stopwords_engligh = stopwords.words('english')"
   ]
  },
  {
   "cell_type": "code",
   "execution_count": 9,
   "id": "6aeacd4a",
   "metadata": {},
   "outputs": [],
   "source": [
    "data = pd.read_csv(\"../data/raw/tweet_dataset.csv\")"
   ]
  },
  {
   "cell_type": "code",
   "execution_count": 10,
   "id": "d05b80a1",
   "metadata": {},
   "outputs": [
    {
     "data": {
      "text/plain": "  Unnamed: 0             Tweet Id                 Tweet Date  Follower Count  \\\n0          0  1515782070743748616  2022-04-17 19:59:42+00:00           362.0   \n1          1  1515781883140870144  2022-04-17 19:58:57+00:00           131.0   \n2          2  1515779704019595269  2022-04-17 19:50:17+00:00            75.0   \n3          3  1515778067150819328  2022-04-17 19:43:47+00:00             6.0   \n4          4  1515777929082556424  2022-04-17 19:43:14+00:00          7722.0   \n\n  Account Verified  Favorite Count  Retweets  \\\n0            False             0.0       0.0   \n1            False             0.0       0.0   \n2            False             1.0       0.0   \n3            False             0.0       0.0   \n4            False             3.0       1.0   \n\n                                          Tweet Text       username  \\\n0  b'#GLCVY (GELECEK VARLIK), the company is the ...     123mavi123   \n1  b'Tesla FSD 10.11.2 - MILPITAS, CA - Amazing d...      fsd_tesla   \n2  b'@ryancohen @elonmusk @ChrisJBakke Power to t...  tino_phiathep   \n3  b'Tesla, SpaceX, Boring, Pay Pal is a big deal...  iCare48150160   \n4  b'#HappyEaster to Mr. Tenderonie Man himself @...       2HOT4AMC   \n\n                                         description       location  \\\n0  Paylaştığım tüm yazılar bilgilendirme amaçlı o...            NaN   \n1  Tesla FSD tester - Accelerate the transition t...  San Francisco   \n2  💎💎💎💎🚀🚀🚀🦍🦍🌚🌚🌚\\nDiamond Balling my AMC and GME t...    Menifee, CA   \n3  Nature Photograph Innovation Crypto Musk Feder...            NaN   \n4  The cult classic. The diamond in the rough. TH...            NaN   \n\n   following  followers  totaltweets  retweetcount  \\\n0      137.0      362.0        669.0           0.0   \n1       41.0      131.0        309.0           0.0   \n2      133.0       75.0       1207.0           0.0   \n3      100.0        6.0        117.0           0.0   \n4     1083.0     7722.0       9251.0           1.0   \n\n                                                text  \\\n0  #GLCVY (GELECEK VARLIK), the company is the le...   \n1  Tesla FSD 10.11.2 - MILPITAS, CA - Amazing dri...   \n2  @ryancohen @elonmusk @ChrisJBakke Power to the...   \n3  Tesla, SpaceX, Boring, Pay Pal is a big deal b...   \n4  #HappyEaster to Mr. Tenderonie Man himself @el...   \n\n                                         hashtags  \\\n0               ['GLCVY', 'bist', 'tsla', 'aapl']   \n1  ['FSD', 'Tesla', 'FSDBeta', 'TSLA', 'BayArea']   \n2                          ['tsla', 'AMC', 'GME']   \n3                                              []   \n4                                 ['HappyEaster']   \n\n                                            entities  \n0  {'hashtags': [{'text': 'GLCVY', 'indices': [0,...  \n1  {'hashtags': [{'text': 'FSD', 'indices': [73, ...  \n2  {'hashtags': [{'text': 'tsla', 'indices': [59,...  \n3  {'hashtags': [], 'symbols': [], 'user_mentions...  \n4  {'hashtags': [{'text': 'HappyEaster', 'indices...  ",
      "text/html": "<div>\n<style scoped>\n    .dataframe tbody tr th:only-of-type {\n        vertical-align: middle;\n    }\n\n    .dataframe tbody tr th {\n        vertical-align: top;\n    }\n\n    .dataframe thead th {\n        text-align: right;\n    }\n</style>\n<table border=\"1\" class=\"dataframe\">\n  <thead>\n    <tr style=\"text-align: right;\">\n      <th></th>\n      <th>Unnamed: 0</th>\n      <th>Tweet Id</th>\n      <th>Tweet Date</th>\n      <th>Follower Count</th>\n      <th>Account Verified</th>\n      <th>Favorite Count</th>\n      <th>Retweets</th>\n      <th>Tweet Text</th>\n      <th>username</th>\n      <th>description</th>\n      <th>location</th>\n      <th>following</th>\n      <th>followers</th>\n      <th>totaltweets</th>\n      <th>retweetcount</th>\n      <th>text</th>\n      <th>hashtags</th>\n      <th>entities</th>\n    </tr>\n  </thead>\n  <tbody>\n    <tr>\n      <th>0</th>\n      <td>0</td>\n      <td>1515782070743748616</td>\n      <td>2022-04-17 19:59:42+00:00</td>\n      <td>362.0</td>\n      <td>False</td>\n      <td>0.0</td>\n      <td>0.0</td>\n      <td>b'#GLCVY (GELECEK VARLIK), the company is the ...</td>\n      <td>123mavi123</td>\n      <td>Paylaştığım tüm yazılar bilgilendirme amaçlı o...</td>\n      <td>NaN</td>\n      <td>137.0</td>\n      <td>362.0</td>\n      <td>669.0</td>\n      <td>0.0</td>\n      <td>#GLCVY (GELECEK VARLIK), the company is the le...</td>\n      <td>['GLCVY', 'bist', 'tsla', 'aapl']</td>\n      <td>{'hashtags': [{'text': 'GLCVY', 'indices': [0,...</td>\n    </tr>\n    <tr>\n      <th>1</th>\n      <td>1</td>\n      <td>1515781883140870144</td>\n      <td>2022-04-17 19:58:57+00:00</td>\n      <td>131.0</td>\n      <td>False</td>\n      <td>0.0</td>\n      <td>0.0</td>\n      <td>b'Tesla FSD 10.11.2 - MILPITAS, CA - Amazing d...</td>\n      <td>fsd_tesla</td>\n      <td>Tesla FSD tester - Accelerate the transition t...</td>\n      <td>San Francisco</td>\n      <td>41.0</td>\n      <td>131.0</td>\n      <td>309.0</td>\n      <td>0.0</td>\n      <td>Tesla FSD 10.11.2 - MILPITAS, CA - Amazing dri...</td>\n      <td>['FSD', 'Tesla', 'FSDBeta', 'TSLA', 'BayArea']</td>\n      <td>{'hashtags': [{'text': 'FSD', 'indices': [73, ...</td>\n    </tr>\n    <tr>\n      <th>2</th>\n      <td>2</td>\n      <td>1515779704019595269</td>\n      <td>2022-04-17 19:50:17+00:00</td>\n      <td>75.0</td>\n      <td>False</td>\n      <td>1.0</td>\n      <td>0.0</td>\n      <td>b'@ryancohen @elonmusk @ChrisJBakke Power to t...</td>\n      <td>tino_phiathep</td>\n      <td>💎💎💎💎🚀🚀🚀🦍🦍🌚🌚🌚\\nDiamond Balling my AMC and GME t...</td>\n      <td>Menifee, CA</td>\n      <td>133.0</td>\n      <td>75.0</td>\n      <td>1207.0</td>\n      <td>0.0</td>\n      <td>@ryancohen @elonmusk @ChrisJBakke Power to the...</td>\n      <td>['tsla', 'AMC', 'GME']</td>\n      <td>{'hashtags': [{'text': 'tsla', 'indices': [59,...</td>\n    </tr>\n    <tr>\n      <th>3</th>\n      <td>3</td>\n      <td>1515778067150819328</td>\n      <td>2022-04-17 19:43:47+00:00</td>\n      <td>6.0</td>\n      <td>False</td>\n      <td>0.0</td>\n      <td>0.0</td>\n      <td>b'Tesla, SpaceX, Boring, Pay Pal is a big deal...</td>\n      <td>iCare48150160</td>\n      <td>Nature Photograph Innovation Crypto Musk Feder...</td>\n      <td>NaN</td>\n      <td>100.0</td>\n      <td>6.0</td>\n      <td>117.0</td>\n      <td>0.0</td>\n      <td>Tesla, SpaceX, Boring, Pay Pal is a big deal b...</td>\n      <td>[]</td>\n      <td>{'hashtags': [], 'symbols': [], 'user_mentions...</td>\n    </tr>\n    <tr>\n      <th>4</th>\n      <td>4</td>\n      <td>1515777929082556424</td>\n      <td>2022-04-17 19:43:14+00:00</td>\n      <td>7722.0</td>\n      <td>False</td>\n      <td>3.0</td>\n      <td>1.0</td>\n      <td>b'#HappyEaster to Mr. Tenderonie Man himself @...</td>\n      <td>2HOT4AMC</td>\n      <td>The cult classic. The diamond in the rough. TH...</td>\n      <td>NaN</td>\n      <td>1083.0</td>\n      <td>7722.0</td>\n      <td>9251.0</td>\n      <td>1.0</td>\n      <td>#HappyEaster to Mr. Tenderonie Man himself @el...</td>\n      <td>['HappyEaster']</td>\n      <td>{'hashtags': [{'text': 'HappyEaster', 'indices...</td>\n    </tr>\n  </tbody>\n</table>\n</div>"
     },
     "execution_count": 10,
     "metadata": {},
     "output_type": "execute_result"
    }
   ],
   "source": [
    "data.head()"
   ]
  },
  {
   "cell_type": "code",
   "execution_count": 11,
   "id": "25dd8f9b",
   "metadata": {},
   "outputs": [],
   "source": [
    "tweet = data[\"text\"][0]"
   ]
  },
  {
   "cell_type": "code",
   "execution_count": 12,
   "id": "6642dd08",
   "metadata": {},
   "outputs": [
    {
     "data": {
      "text/plain": "Index(['Unnamed: 0', 'Tweet Id', 'Tweet Date', 'Follower Count',\n       'Account Verified', 'Favorite Count', 'Retweets', 'Tweet Text',\n       'username', 'description', 'location', 'following', 'followers',\n       'totaltweets', 'retweetcount', 'text', 'hashtags', 'entities'],\n      dtype='object')"
     },
     "execution_count": 12,
     "metadata": {},
     "output_type": "execute_result"
    }
   ],
   "source": [
    "data.columns"
   ]
  },
  {
   "cell_type": "code",
   "execution_count": 13,
   "id": "f9f780d0",
   "metadata": {},
   "outputs": [
    {
     "data": {
      "text/plain": "              Tweet Id                                               text  \\\n0  1515782070743748616  #GLCVY (GELECEK VARLIK), the company is the le...   \n1  1515781883140870144  Tesla FSD 10.11.2 - MILPITAS, CA - Amazing dri...   \n2  1515779704019595269  @ryancohen @elonmusk @ChrisJBakke Power to the...   \n3  1515778067150819328  Tesla, SpaceX, Boring, Pay Pal is a big deal b...   \n4  1515777929082556424  #HappyEaster to Mr. Tenderonie Man himself @el...   \n\n                  Tweet Date  followers Account Verified  Favorite Count  \n0  2022-04-17 19:59:42+00:00      362.0            False             0.0  \n1  2022-04-17 19:58:57+00:00      131.0            False             0.0  \n2  2022-04-17 19:50:17+00:00       75.0            False             1.0  \n3  2022-04-17 19:43:47+00:00        6.0            False             0.0  \n4  2022-04-17 19:43:14+00:00     7722.0            False             3.0  ",
      "text/html": "<div>\n<style scoped>\n    .dataframe tbody tr th:only-of-type {\n        vertical-align: middle;\n    }\n\n    .dataframe tbody tr th {\n        vertical-align: top;\n    }\n\n    .dataframe thead th {\n        text-align: right;\n    }\n</style>\n<table border=\"1\" class=\"dataframe\">\n  <thead>\n    <tr style=\"text-align: right;\">\n      <th></th>\n      <th>Tweet Id</th>\n      <th>text</th>\n      <th>Tweet Date</th>\n      <th>followers</th>\n      <th>Account Verified</th>\n      <th>Favorite Count</th>\n    </tr>\n  </thead>\n  <tbody>\n    <tr>\n      <th>0</th>\n      <td>1515782070743748616</td>\n      <td>#GLCVY (GELECEK VARLIK), the company is the le...</td>\n      <td>2022-04-17 19:59:42+00:00</td>\n      <td>362.0</td>\n      <td>False</td>\n      <td>0.0</td>\n    </tr>\n    <tr>\n      <th>1</th>\n      <td>1515781883140870144</td>\n      <td>Tesla FSD 10.11.2 - MILPITAS, CA - Amazing dri...</td>\n      <td>2022-04-17 19:58:57+00:00</td>\n      <td>131.0</td>\n      <td>False</td>\n      <td>0.0</td>\n    </tr>\n    <tr>\n      <th>2</th>\n      <td>1515779704019595269</td>\n      <td>@ryancohen @elonmusk @ChrisJBakke Power to the...</td>\n      <td>2022-04-17 19:50:17+00:00</td>\n      <td>75.0</td>\n      <td>False</td>\n      <td>1.0</td>\n    </tr>\n    <tr>\n      <th>3</th>\n      <td>1515778067150819328</td>\n      <td>Tesla, SpaceX, Boring, Pay Pal is a big deal b...</td>\n      <td>2022-04-17 19:43:47+00:00</td>\n      <td>6.0</td>\n      <td>False</td>\n      <td>0.0</td>\n    </tr>\n    <tr>\n      <th>4</th>\n      <td>1515777929082556424</td>\n      <td>#HappyEaster to Mr. Tenderonie Man himself @el...</td>\n      <td>2022-04-17 19:43:14+00:00</td>\n      <td>7722.0</td>\n      <td>False</td>\n      <td>3.0</td>\n    </tr>\n  </tbody>\n</table>\n</div>"
     },
     "execution_count": 13,
     "metadata": {},
     "output_type": "execute_result"
    }
   ],
   "source": [
    "df = data[['Tweet Id', 'text', 'Tweet Date','followers','Account Verified','Favorite Count']]\n",
    "df.head()"
   ]
  },
  {
   "cell_type": "code",
   "execution_count": 14,
   "id": "d15dcd2b",
   "metadata": {
    "scrolled": true
   },
   "outputs": [
    {
     "name": "stdout",
     "output_type": "stream",
     "text": [
      "<class 'pandas.core.frame.DataFrame'>\n",
      "RangeIndex: 1992 entries, 0 to 1991\n",
      "Data columns (total 6 columns):\n",
      " #   Column            Non-Null Count  Dtype  \n",
      "---  ------            --------------  -----  \n",
      " 0   Tweet Id          1958 non-null   object \n",
      " 1   text              1920 non-null   string \n",
      " 2   Tweet Date        1958 non-null   object \n",
      " 3   followers         1920 non-null   float64\n",
      " 4   Account Verified  1920 non-null   object \n",
      " 5   Favorite Count    1920 non-null   float64\n",
      "dtypes: float64(2), object(3), string(1)\n",
      "memory usage: 93.5+ KB\n"
     ]
    }
   ],
   "source": [
    "#Convering data frame coliumn to string\n",
    "df = df.astype({'text':'string'})\n",
    "df.info()"
   ]
  },
  {
   "cell_type": "markdown",
   "id": "eed6ef70",
   "metadata": {},
   "source": [
    "## Preprocessing Steps\n",
    "\n",
    " - Deleted the missed rows\n",
    " - Lowercase\n",
    " - Remove punctuations, urls,name\n",
    " - Remove stop words\n",
    " - Stemming/ Lemmatization\n",
    " - Tokenize Sentences\n",
    "\n"
   ]
  },
  {
   "cell_type": "code",
   "execution_count": 15,
   "id": "2c112d2f",
   "metadata": {},
   "outputs": [],
   "source": [
    "# Delete the missed data rows\n",
    "df.isnull().sum()\n",
    "df.dropna(inplace=True)"
   ]
  },
  {
   "cell_type": "code",
   "execution_count": 16,
   "id": "3f3f92c0",
   "metadata": {},
   "outputs": [],
   "source": [
    "#Stemming the tweets\n",
    "stemmer = PorterStemmer()\n",
    "\n",
    "#print(stopwords_engligh)"
   ]
  },
  {
   "cell_type": "code",
   "execution_count": 17,
   "id": "7d88c813",
   "metadata": {},
   "outputs": [],
   "source": [
    "def process_tweet(tweet):\n",
    "  \n",
    "    tweet2 = re.sub(r'^RT[\\s]+','', tweet)\n",
    "   \n",
    "    #remove hyperlinks\n",
    "    tweet2 = re.sub(r'https?://[^\\s\\n\\r]+', '', tweet2)\n",
    "    \n",
    "    #remove hashtag by removing the hast #sign from the word\n",
    "    tweet2 = re.sub(r'#','',tweet2)\n",
    "    \n",
    "    \n",
    "    # remove stock market tickers like $GE\n",
    "    tweet = re.sub(r'\\$\\w*', '', tweet)\n",
    "    \n",
    "    #tokenize the sentences and make it lower case\n",
    "    tokenizer = TweetTokenizer(preserve_case=False, strip_handles=True, reduce_len=True)\n",
    "    tweet_tokens = tokenizer.tokenize(tweet2)\n",
    "    \n",
    "    #stemming and removing the punctuation\n",
    "    tweets_clean = []\n",
    "    for word in tweet_tokens:\n",
    "        if(word not in stopwords_engligh and  \n",
    "            word not in string.punctuation):\n",
    "            stem_word = stemmer.stem(word)\n",
    "            tweets_clean.append(stem_word)\n",
    "    return tweets_clean"
   ]
  },
  {
   "cell_type": "code",
   "execution_count": 18,
   "id": "92227607",
   "metadata": {},
   "outputs": [],
   "source": [
    "#Added column clean_tweet to store te processed tweets \n",
    "df['clean_tweet'] = df['text'].map(lambda x : process_tweet(x))"
   ]
  },
  {
   "cell_type": "code",
   "execution_count": 19,
   "id": "c0eef8b0",
   "metadata": {},
   "outputs": [
    {
     "data": {
      "text/plain": "              Tweet Id                                               text  \\\n0  1515782070743748616  #GLCVY (GELECEK VARLIK), the company is the le...   \n1  1515781883140870144  Tesla FSD 10.11.2 - MILPITAS, CA - Amazing dri...   \n2  1515779704019595269  @ryancohen @elonmusk @ChrisJBakke Power to the...   \n3  1515778067150819328  Tesla, SpaceX, Boring, Pay Pal is a big deal b...   \n4  1515777929082556424  #HappyEaster to Mr. Tenderonie Man himself @el...   \n\n                  Tweet Date  followers Account Verified  Favorite Count  \\\n0  2022-04-17 19:59:42+00:00      362.0            False             0.0   \n1  2022-04-17 19:58:57+00:00      131.0            False             0.0   \n2  2022-04-17 19:50:17+00:00       75.0            False             1.0   \n3  2022-04-17 19:43:47+00:00        6.0            False             0.0   \n4  2022-04-17 19:43:14+00:00     7722.0            False             3.0   \n\n                                         clean_tweet  \n0  [glcvi, gelecek, varlik, compani, leader, sect...  \n1  [tesla, fsd, 10.11, 2, milpita, ca, amaz, driv...  \n2               [power, player, lfg, tsla, amc, gme]  \n3  [tesla, spacex, bore, pay, pal, big, deal, tec...  \n4  [happyeast, mr, tenderoni, man, realli, go, se...  ",
      "text/html": "<div>\n<style scoped>\n    .dataframe tbody tr th:only-of-type {\n        vertical-align: middle;\n    }\n\n    .dataframe tbody tr th {\n        vertical-align: top;\n    }\n\n    .dataframe thead th {\n        text-align: right;\n    }\n</style>\n<table border=\"1\" class=\"dataframe\">\n  <thead>\n    <tr style=\"text-align: right;\">\n      <th></th>\n      <th>Tweet Id</th>\n      <th>text</th>\n      <th>Tweet Date</th>\n      <th>followers</th>\n      <th>Account Verified</th>\n      <th>Favorite Count</th>\n      <th>clean_tweet</th>\n    </tr>\n  </thead>\n  <tbody>\n    <tr>\n      <th>0</th>\n      <td>1515782070743748616</td>\n      <td>#GLCVY (GELECEK VARLIK), the company is the le...</td>\n      <td>2022-04-17 19:59:42+00:00</td>\n      <td>362.0</td>\n      <td>False</td>\n      <td>0.0</td>\n      <td>[glcvi, gelecek, varlik, compani, leader, sect...</td>\n    </tr>\n    <tr>\n      <th>1</th>\n      <td>1515781883140870144</td>\n      <td>Tesla FSD 10.11.2 - MILPITAS, CA - Amazing dri...</td>\n      <td>2022-04-17 19:58:57+00:00</td>\n      <td>131.0</td>\n      <td>False</td>\n      <td>0.0</td>\n      <td>[tesla, fsd, 10.11, 2, milpita, ca, amaz, driv...</td>\n    </tr>\n    <tr>\n      <th>2</th>\n      <td>1515779704019595269</td>\n      <td>@ryancohen @elonmusk @ChrisJBakke Power to the...</td>\n      <td>2022-04-17 19:50:17+00:00</td>\n      <td>75.0</td>\n      <td>False</td>\n      <td>1.0</td>\n      <td>[power, player, lfg, tsla, amc, gme]</td>\n    </tr>\n    <tr>\n      <th>3</th>\n      <td>1515778067150819328</td>\n      <td>Tesla, SpaceX, Boring, Pay Pal is a big deal b...</td>\n      <td>2022-04-17 19:43:47+00:00</td>\n      <td>6.0</td>\n      <td>False</td>\n      <td>0.0</td>\n      <td>[tesla, spacex, bore, pay, pal, big, deal, tec...</td>\n    </tr>\n    <tr>\n      <th>4</th>\n      <td>1515777929082556424</td>\n      <td>#HappyEaster to Mr. Tenderonie Man himself @el...</td>\n      <td>2022-04-17 19:43:14+00:00</td>\n      <td>7722.0</td>\n      <td>False</td>\n      <td>3.0</td>\n      <td>[happyeast, mr, tenderoni, man, realli, go, se...</td>\n    </tr>\n  </tbody>\n</table>\n</div>"
     },
     "execution_count": 19,
     "metadata": {},
     "output_type": "execute_result"
    }
   ],
   "source": [
    "df.head()"
   ]
  },
  {
   "cell_type": "code",
   "execution_count": 20,
   "id": "86b81ebb",
   "metadata": {},
   "outputs": [],
   "source": [
    "#write the processed tweet data to CsV file\n",
    "df.to_csv('../data/processed/processed_tweets.csv')"
   ]
  },
  {
   "cell_type": "code",
   "execution_count": null,
   "id": "9fd02395",
   "metadata": {},
   "outputs": [],
   "source": []
  },
  {
   "cell_type": "code",
   "execution_count": null,
   "id": "82087b16",
   "metadata": {},
   "outputs": [],
   "source": []
  }
 ],
 "metadata": {
  "kernelspec": {
   "display_name": "Python 3",
   "language": "python",
   "name": "python3"
  },
  "language_info": {
   "codemirror_mode": {
    "name": "ipython",
    "version": 3
   },
   "file_extension": ".py",
   "mimetype": "text/x-python",
   "name": "python",
   "nbconvert_exporter": "python",
   "pygments_lexer": "ipython3",
   "version": "3.8.10"
  }
 },
 "nbformat": 4,
 "nbformat_minor": 5
}