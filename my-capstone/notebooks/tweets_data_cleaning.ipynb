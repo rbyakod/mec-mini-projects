{
 "cells": [
  {
   "cell_type": "code",
   "execution_count": null,
   "id": "aed23be2",
   "metadata": {},
   "outputs": [],
   "source": [
    "import pandas as pd\n",
    "import matplotlib.pyplot as plt\n",
    "import seaborn as sns\n",
    "import datetime as dt\n",
    "import numpy as np\n",
    "import os\n",
    "import nltk\n",
    "from nltk.tokenize import TweetTokenizer\n",
    "from nltk.stem import PorterStemmer\n",
    "from nltk.corpus import stopwords\n",
    "import re\n",
    "import string\n",
    "from PIL import Image\n",
    "from wordcloud import WordCloud, STOPWORDS, ImageColorGenerator"
   ]
  },
  {
   "cell_type": "code",
   "execution_count": null,
   "id": "335e88b7",
   "metadata": {},
   "outputs": [],
   "source": [
    "nltk.download('twitter_samples')\n",
    "nltk.download('stopwords')\n",
    "stopwords_engligh = stopwords.words('english')"
   ]
  },
  {
   "cell_type": "code",
   "execution_count": null,
   "id": "6aeacd4a",
   "metadata": {},
   "outputs": [],
   "source": [
    "data = pd.read_csv(\"../data/raw/tweet_dataset.csv\")"
   ]
  },
  {
   "cell_type": "code",
   "execution_count": null,
   "id": "d05b80a1",
   "metadata": {},
   "outputs": [],
   "source": [
    "data.head()"
   ]
  },
  {
   "cell_type": "code",
   "execution_count": null,
   "id": "25dd8f9b",
   "metadata": {},
   "outputs": [],
   "source": [
    "tweet = data[\"text\"][0]"
   ]
  },
  {
   "cell_type": "code",
   "execution_count": null,
   "id": "6642dd08",
   "metadata": {},
   "outputs": [],
   "source": [
    "data.columns"
   ]
  },
  {
   "cell_type": "code",
   "execution_count": null,
   "id": "f9f780d0",
   "metadata": {},
   "outputs": [],
   "source": [
    "df = data[['Tweet Id', 'text', 'Tweet Date','followers','Account Verified','Favorite Count']]\n",
    "df.head()"
   ]
  },
  {
   "cell_type": "code",
   "execution_count": null,
   "id": "d15dcd2b",
   "metadata": {
    "scrolled": true
   },
   "outputs": [],
   "source": [
    "#Convering data frame coliumn to string\n",
    "df = df.astype({'text':'string'})\n",
    "df.info()"
   ]
  },
  {
   "cell_type": "markdown",
   "id": "eed6ef70",
   "metadata": {},
   "source": [
    "## Preprocessing Steps\n",
    "\n",
    " - Deleted the missed rows\n",
    " - Lowercase\n",
    " - Remove punctuations, urls,name\n",
    " - Remove stop words\n",
    " - Stemming/ Lemmatization\n",
    " - Tokenize Sentences\n",
    "\n"
   ]
  },
  {
   "cell_type": "code",
   "execution_count": null,
   "id": "2c112d2f",
   "metadata": {},
   "outputs": [],
   "source": [
    "# Delete the missed data rows\n",
    "df.isnull().sum()\n",
    "df.dropna(inplace=True)"
   ]
  },
  {
   "cell_type": "code",
   "execution_count": null,
   "id": "3f3f92c0",
   "metadata": {},
   "outputs": [],
   "source": [
    "#Stemming the tweets\n",
    "stemmer = PorterStemmer()\n",
    "\n",
    "#print(stopwords_engligh)"
   ]
  },
  {
   "cell_type": "code",
   "execution_count": null,
   "id": "7d88c813",
   "metadata": {},
   "outputs": [],
   "source": [
    "def process_tweet(tweet):\n",
    "  \n",
    "    tweet2 = re.sub(r'^RT[\\s]+','', tweet)\n",
    "   \n",
    "    #remove hyperlinks\n",
    "    tweet2 = re.sub(r'https?://[^\\s\\n\\r]+', '', tweet2)\n",
    "    \n",
    "    #remove hashtag by removing the hast #sign from the word\n",
    "    tweet2 = re.sub(r'#','',tweet2)\n",
    "    \n",
    "    \n",
    "    # remove stock market tickers like $GE\n",
    "    tweet = re.sub(r'\\$\\w*', '', tweet)\n",
    "    \n",
    "    #tokenize the sentences and make it lower case\n",
    "    tokenizer = TweetTokenizer(preserve_case=False, strip_handles=True, reduce_len=True)\n",
    "    tweet_tokens = tokenizer.tokenize(tweet2)\n",
    "    \n",
    "    #stemming and removing the punctuation\n",
    "    tweets_clean = []\n",
    "    for word in tweet_tokens:\n",
    "        if(word not in stopwords_engligh and  \n",
    "            word not in string.punctuation):\n",
    "            stem_word = stemmer.stem(word)\n",
    "            tweets_clean.append(stem_word)\n",
    "    return tweets_clean"
   ]
  },
  {
   "cell_type": "code",
   "execution_count": null,
   "id": "92227607",
   "metadata": {},
   "outputs": [],
   "source": [
    "#Added column clean_tweet to store te processed tweets \n",
    "df['clean_tweet'] = df['text'].map(lambda x : process_tweet(x))"
   ]
  },
  {
   "cell_type": "code",
   "execution_count": null,
   "id": "c0eef8b0",
   "metadata": {},
   "outputs": [],
   "source": [
    "df.head()"
   ]
  },
  {
   "cell_type": "code",
   "execution_count": null,
   "id": "86b81ebb",
   "metadata": {},
   "outputs": [],
   "source": [
    "#write the processed tweet data to CsV file\n",
    "df.to_csv('../data/processed/processed_tweets.csv')"
   ]
  },
  {
   "cell_type": "code",
   "execution_count": null,
   "id": "9fd02395",
   "metadata": {},
   "outputs": [],
   "source": []
  },
  {
   "cell_type": "code",
   "execution_count": null,
   "id": "82087b16",
   "metadata": {},
   "outputs": [],
   "source": []
  }
 ],
 "metadata": {
  "kernelspec": {
   "display_name": "Python 3",
   "language": "python",
   "name": "python3"
  },
  "language_info": {
   "codemirror_mode": {
    "name": "ipython",
    "version": 3
   },
   "file_extension": ".py",
   "mimetype": "text/x-python",
   "name": "python",
   "nbconvert_exporter": "python",
   "pygments_lexer": "ipython3",
   "version": "3.8.10"
  }
 },
 "nbformat": 4,
 "nbformat_minor": 5
}
