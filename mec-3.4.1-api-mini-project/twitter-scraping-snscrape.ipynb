{
 "cells": [
  {
   "cell_type": "code",
   "execution_count": 1,
   "metadata": {},
   "outputs": [],
   "source": [
    "import numpy as np\n",
    "import pandas as pd\n",
    "import matplotlib.pyplot as plt\n",
    "import datetime as dt\n",
    "import re\n",
    "import snscrape.modules.twitter as sntwitter\n",
    "from ipywidgets import interact, widgets\n"
   ]
  },
  {
   "cell_type": "markdown",
   "metadata": {},
   "source": [
    "# get data based on input"
   ]
  },
  {
   "cell_type": "code",
   "execution_count": 2,
   "metadata": {},
   "outputs": [
    {
     "name": "stdout",
     "output_type": "stream",
     "text": [
      "#NIFTY\n"
     ]
    }
   ],
   "source": [
    "'''\n",
    "query = widgets.Text(\n",
    " placeholder=’Enter your stock tocker’,\n",
    " description=’stock:’\n",
    " )\n",
    "display(txtsl)\n",
    "'''\n",
    "\n",
    "query = \"#NIFTY\"\n",
    "print(query)\n"
   ]
  },
  {
   "cell_type": "code",
   "execution_count": 3,
   "metadata": {},
   "outputs": [
    {
     "name": "stdout",
     "output_type": "stream",
     "text": [
      "#NIFTY\n",
      "                     Datetime             Tweet Id  \\\n",
      "0   2021-07-20 22:03:45+00:00  1417606180130672648   \n",
      "1   2021-07-20 20:09:51+00:00  1417577514625495040   \n",
      "2   2021-07-20 18:44:22+00:00  1417556001251729411   \n",
      "3   2021-07-20 18:37:24+00:00  1417554250154930178   \n",
      "4   2021-07-20 18:29:17+00:00  1417552205402415105   \n",
      "..                        ...                  ...   \n",
      "96  2021-07-20 09:47:08+00:00  1417420803755237377   \n",
      "97  2021-07-20 09:46:28+00:00  1417420633416224771   \n",
      "98  2021-07-20 09:46:03+00:00  1417420531070955523   \n",
      "99  2021-07-20 09:45:20+00:00  1417420349210169348   \n",
      "100 2021-07-20 09:42:09+00:00  1417419547724767234   \n",
      "\n",
      "                                                  Text         Username  \n",
      "0    #18, 20-07-2021\\n\\n#GUJGASLTD 710 CE\\n\\nLogic:...  Optionbuyer6041  \n",
      "1    #Nifty levels for #Thursday\\n15550-15575 is a ...     NiftyMaestro  \n",
      "2    So many people were sitting in the sideline wi...      Mr_amateure  \n",
      "3    Three weekly lows : 15659.1, 15641.05, 15657.....     _rathihitesh  \n",
      "4    #nifty stamping on crash n climbing the the la...  Balakri91581451  \n",
      "..                                                 ...              ...  \n",
      "96   #nifty50 trading with Loss of  122 points....0...  BusinessNewsPo1  \n",
      "97   Buy 1 CURMON #NIFTY contracts at 15646.75, Sel...   NiftyAnalytics  \n",
      "98   ✨Keep holding Long with Trailing SL's.\\n\\n😇Not...    option_square  \n",
      "99   Tata Motors \\n\\nBlock of 590,543 shares at 303...   BigBreakingNow  \n",
      "100  #NIFTY a close below 15640 is week .\\n#StockMa...       Nitinse333  \n",
      "\n",
      "[101 rows x 4 columns]\n"
     ]
    }
   ],
   "source": [
    "#Get user input\n",
    "#query = input(\"Query: \")\n",
    "query = \"#NIFTY\"\n",
    "print(query)\n",
    "\n",
    "#As long as the query is valid (not empty or equal to '#')...\n",
    "if query != '':\n",
    "    noOfTweet = 100. #input(\"Enter the number of tweets you want to Analyze: \")\n",
    "    if noOfTweet != '' :\n",
    "        noOfDays = 2 # input(\"Enter the number of days you want to Scrape Twitter for: \")\n",
    "        if noOfDays != '':\n",
    "                #Creating list to append tweet data\n",
    "                tweets_list = []\n",
    "                now = dt.date.today()\n",
    "                now = now.strftime('%Y-%m-%d')\n",
    "                yesterday = dt.date.today() - dt.timedelta(days = int(noOfDays))\n",
    "                yesterday = yesterday.strftime('%Y-%m-%d')\n",
    "                for i,tweet in enumerate(sntwitter.TwitterSearchScraper(query + ' lang:en since:' +  yesterday + ' until:' + now + ' -filter:links -filter:replies').get_items()):\n",
    "                    if i > int(noOfTweet):\n",
    "                        break\n",
    "                    tweets_list.append([tweet.date, tweet.id, tweet.content, tweet.username])\n",
    "\n",
    "                #Creating a dataframe from the tweets list above \n",
    "                df = pd.DataFrame(tweets_list, columns=['Datetime', 'Tweet Id', 'Text', 'Username'])\n",
    "\n",
    "                print(df)"
   ]
  },
  {
   "cell_type": "code",
   "execution_count": null,
   "metadata": {},
   "outputs": [],
   "source": []
  }
 ],
 "metadata": {
  "interpreter": {
   "hash": "a396247639a1e443f960a362f00bf550980e9f3165772b27b9b3d645262b2121"
  },
  "kernelspec": {
   "display_name": "Python 3",
   "language": "python",
   "name": "python3"
  },
  "language_info": {
   "codemirror_mode": {
    "name": "ipython",
    "version": 3
   },
   "file_extension": ".py",
   "mimetype": "text/x-python",
   "name": "python",
   "nbconvert_exporter": "python",
   "pygments_lexer": "ipython3",
   "version": "3.8.10"
  }
 },
 "nbformat": 4,
 "nbformat_minor": 4
}
