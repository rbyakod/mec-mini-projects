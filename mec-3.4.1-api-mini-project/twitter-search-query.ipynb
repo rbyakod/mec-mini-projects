{
 "cells": [
  {
   "cell_type": "code",
   "execution_count": 1,
   "metadata": {},
   "outputs": [],
   "source": [
    "import re\n",
    "import tweepy\n",
    "from tweepy import OAuthHandler\n",
    "from textblob import TextBlob\n",
    "\n",
    "import dotenv\n",
    "import os\n",
    "from dotenv import load_dotenv\n"
   ]
  },
  {
   "cell_type": "code",
   "execution_count": null,
   "outputs": [],
   "source": [
    "#set up twitter api access\n",
    "\n",
    "# get the API access keys from file .env\n",
    "\n",
    "load_dotenv()  # take environment variables from .env.\n",
    "config = dotenv.dotenv_values(\".env\")   # config = {\"USER\": \"foo\", \"EMAIL\": \"foo@example.org\"}\n",
    "\n",
    "print(config)\n",
    "\n",
    "# keys and tokens from the Twitter Dev Console\n",
    "consumer_key = config.get('consumer_key')\n",
    "consumer_secret = config.get('consumer_secret')\n",
    "access_token = config.get('access_token')\n",
    "access_token_secret = config.get('access_token_secret')"
   ],
   "metadata": {
    "collapsed": false,
    "pycharm": {
     "name": "#%%\n",
     "is_executing": true
    }
   }
  },
  {
   "cell_type": "markdown",
   "metadata": {},
   "source": [
    "# create a twitter client class"
   ]
  },
  {
   "cell_type": "code",
   "execution_count": 3,
   "metadata": {},
   "outputs": [],
   "source": [
    "class TwitterClient(object):\n",
    "    '''\n",
    "    Generic Twitter Class for sentiment analysis.\n",
    "    '''\n",
    "    def __init__(self):\n",
    "        '''\n",
    "        Class constructor or initialization method.\n",
    "        '''\n",
    "\n",
    "        # attempt authentication\n",
    "        try:\n",
    "            # create OAuthHandler object\n",
    "            self.auth = OAuthHandler(consumer_key, consumer_secret)\n",
    "            # set access token and secret\n",
    "            self.auth.set_access_token(access_token, access_token_secret)\n",
    "            # create tweepy API object to fetch tweets\n",
    "            self.api = tweepy.API(self.auth)\n",
    "        except:\n",
    "            print(\"Error: Authentication Failed\")\n",
    "  \n",
    "    def clean_tweet(self, tweet):\n",
    "        '''\n",
    "        Utility function to clean tweet text by removing links, special characters\n",
    "        using simple regex statements.\n",
    "        '''\n",
    "        return ' '.join(re.sub(\"(@[A-Za-z0-9]+)|([^0-9A-Za-z \\t])|(\\w+:\\/\\/\\S+)\", \" \", tweet).split())\n",
    "  \n",
    "    def get_tweet_sentiment(self, tweet):\n",
    "        '''\n",
    "        Utility function to classify sentiment of passed tweet\n",
    "        using textblob's sentiment method\n",
    "        '''\n",
    "        # create TextBlob object of passed tweet text\n",
    "        analysis = TextBlob(self.clean_tweet(tweet))\n",
    "        # set sentiment\n",
    "        if analysis.sentiment.polarity > 0:\n",
    "            return 'positive'\n",
    "        elif analysis.sentiment.polarity == 0:\n",
    "            return 'neutral'\n",
    "        else:\n",
    "            return 'negative'\n",
    "  \n",
    "    def get_tweets(self, query, count = 10):\n",
    "        '''\n",
    "        Main function to fetch tweets and parse them.\n",
    "        '''\n",
    "        # empty list to store parsed tweets\n",
    "        tweets = []\n",
    "  \n",
    "        try:\n",
    "            # call twitter api to fetch tweets\n",
    "#            fetched_tweets = self.api.search(q = query, count = count)\n",
    "            fetched_tweets = self.api.search_tweets(q = query, count = count)\n",
    "\n",
    "            # parsing tweets one by one\n",
    "            for tweet in fetched_tweets:\n",
    "                # empty dictionary to store required params of a tweet\n",
    "                parsed_tweet = {}\n",
    "  \n",
    "                # saving text of tweet\n",
    "                parsed_tweet['text'] = tweet.text\n",
    "                # saving sentiment of tweet\n",
    "                parsed_tweet['sentiment'] = self.get_tweet_sentiment(tweet.text)\n",
    "  \n",
    "                # appending parsed tweet to tweets list\n",
    "                if tweet.retweet_count > 0:\n",
    "                    # if tweet has retweets, ensure that it is appended only once\n",
    "                    if parsed_tweet not in tweets:\n",
    "                        tweets.append(parsed_tweet)\n",
    "                else:\n",
    "                    tweets.append(parsed_tweet)\n",
    "  \n",
    "            # return parsed tweets\n",
    "            return tweets\n",
    "  \n",
    "        except tweepy.TweepyException as e:\n",
    "            # print error (if any)\n",
    "            print(\"Error : \" + str(e))\n"
   ]
  },
  {
   "cell_type": "markdown",
   "metadata": {},
   "source": [
    "# create our main and search for query\n",
    "# and save data to a file"
   ]
  },
  {
   "cell_type": "code",
   "execution_count": 4,
   "metadata": {},
   "outputs": [
    {
     "name": "stdout",
     "output_type": "stream",
     "text": [
      "\n",
      "\n",
      "First 12 tweets:\n",
      "RT @garyblack00: For those who can’t get through Barron’s paywall.  $tsla $twtr https://t.co/VFQKaQaBzN\n",
      "@KeepIt1K4L $TSLA has been a historically poor earnings overnight play. Move generally comes the following days.… https://t.co/oDPZHY8au2\n",
      "@fh_404 I love you dev! @MercedeYanev @mat98nft @NitinRa42184046 @samostad @MatejFaganeli @hotdonna_eth @sethjpete… https://t.co/0Td7G6eG1a\n",
      "$TSLA Reportedly Plans For 'Closed-Loop Production System' As Giga Shanghai Set To Restart. $XPEV https://t.co/WaQlu0tlwg\n",
      "RT @EveryElonReply: Elon Musk liked a tweet from Tesla Owners Silicon Valley #Tesla $TSLA https://t.co/zA6Oh7FMex\n",
      "#NativeDeFi on @defichain\n",
      "👑DeFi anchored to King #Bitcoin \n",
      "🤑30-500+% APY for your #BTC  #ETH $LTC #dogecoin d-… https://t.co/Jb7znZCd0z\n",
      "RT @charliebilello: Returns, Last 10 Years..\n",
      "Bitcoin $BTC: +820,509%\n",
      "Tesla $TSLA: +14,628%\n",
      "NVIDIA $NVDA: +6,207%\n",
      "Netflix $NFLX: +2,190%\n",
      "Ama…\n",
      "Tesla may finally be preparing to restart operations at its Giga Shanghai, with multiple reports pointing to some d… https://t.co/ONqoHpaeuf\n",
      "RT @KINGARCHEOLOGY: #BREAKINGNEWS #News \n",
      "\n",
      "#USA #NatGas knocked offline \n",
      "\n",
      "Cyber attacks &amp; fire explosion at #USA Natural Gas bypass facility…\n",
      "@ARKInvest @ByeonChansoo Ark’s $TSLA bear case is my bull case for 2026. Have to solve the battery metals supply ch… https://t.co/j8EHagjZUh\n",
      "Well also those pillars\n",
      "\n",
      "$tsla https://t.co/DXxvCrU25q\n",
      "RT @PlainSite: Between April 1 and April 5, Elon Musk lost an important motion in federal court—in secret. As you can see, Document 387 is…\n",
      "Current directory = /Users/ravibyakod/WORK/Python/mec-mini-projects/mec-3.4.1-api-mini-project\n"
     ]
    }
   ],
   "source": [
    "def main():\n",
    "    # creating object of TwitterClient Class\n",
    "    api = TwitterClient()\n",
    "    # calling function to get tweets\n",
    "    tweets = api.get_tweets(query = 'TSLA', count = 2000)\n",
    "  \n",
    "    # printing first 12  tweets\n",
    "    print(\"\\n\\nFirst 12 tweets:\")\n",
    "    for tweet in tweets[:12]:\n",
    "        print(tweet['text'])\n",
    "  \n",
    "    # what is current directory?\n",
    "    cwd = os.getcwd()\n",
    "    print(\"Current directory = \" + cwd)\n",
    "    # save it to a file in data_sets directory\n",
    "    file2 = open(r\"./datasets/twitter_search_query_results.txt\",\"w+\")\n",
    "    # write all tweets to the file\n",
    "    for tweet in tweets:\n",
    "        file2.write(\"{}\\n\".format(tweet))\n",
    "    # close the file handle\n",
    "    file2.close()\n",
    "    \n",
    "if __name__ == \"__main__\":\n",
    "    # calling main function\n",
    "    main()"
   ]
  },
  {
   "cell_type": "code",
   "execution_count": null,
   "metadata": {},
   "outputs": [],
   "source": []
  }
 ],
 "metadata": {
  "kernelspec": {
   "display_name": "Python 3",
   "language": "python",
   "name": "python3"
  },
  "language_info": {
   "codemirror_mode": {
    "name": "ipython",
    "version": 3
   },
   "file_extension": ".py",
   "mimetype": "text/x-python",
   "name": "python",
   "nbconvert_exporter": "python",
   "pygments_lexer": "ipython3",
   "version": "3.8.10"
  }
 },
 "nbformat": 4,
 "nbformat_minor": 4
}