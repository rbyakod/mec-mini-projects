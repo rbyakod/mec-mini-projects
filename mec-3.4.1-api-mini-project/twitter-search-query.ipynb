{
 "cells": [
  {
   "cell_type": "code",
   "execution_count": 14,
   "metadata": {},
   "outputs": [],
   "source": [
    "import re\n",
    "import tweepy\n",
    "from tweepy import OAuthHandler\n",
    "from textblob import TextBlob\n",
    "import os\n"
   ]
  },
  {
   "cell_type": "markdown",
   "metadata": {},
   "source": [
    "# create a twitter client class"
   ]
  },
  {
   "cell_type": "code",
   "execution_count": 15,
   "metadata": {},
   "outputs": [],
   "source": [
    "class TwitterClient(object):\n",
    "    '''\n",
    "    Generic Twitter Class for sentiment analysis.\n",
    "    '''\n",
    "    def __init__(self):\n",
    "        '''\n",
    "        Class constructor or initialization method.\n",
    "        '''\n",
    "        # keys and tokens from the Twitter Dev Console\n",
    "        consumer_key = 'QhwdZmCoUshBbVqm1Fa1u8KzI'\n",
    "        consumer_secret = '7sIToWtUk1fF2wY0xjxc591Bnkejr949LLvP4J4nWnrdr6hfjW'\n",
    "        access_token = '29489350-SJOZz1RzVducii5bneoySYtch5J5mAqcKiiNue3cl'\n",
    "        access_token_secret = 'r6lwFR7KtC01ukTRhkypHvW9y7fhbXPqErRxkfYUK0dAR'\n",
    "  \n",
    "        # attempt authentication\n",
    "        try:\n",
    "            # create OAuthHandler object\n",
    "            self.auth = OAuthHandler(consumer_key, consumer_secret)\n",
    "            # set access token and secret\n",
    "            self.auth.set_access_token(access_token, access_token_secret)\n",
    "            # create tweepy API object to fetch tweets\n",
    "            self.api = tweepy.API(self.auth)\n",
    "        except:\n",
    "            print(\"Error: Authentication Failed\")\n",
    "  \n",
    "    def clean_tweet(self, tweet):\n",
    "        '''\n",
    "        Utility function to clean tweet text by removing links, special characters\n",
    "        using simple regex statements.\n",
    "        '''\n",
    "        return ' '.join(re.sub(\"(@[A-Za-z0-9]+)|([^0-9A-Za-z \\t])|(\\w+:\\/\\/\\S+)\", \" \", tweet).split())\n",
    "  \n",
    "    def get_tweet_sentiment(self, tweet):\n",
    "        '''\n",
    "        Utility function to classify sentiment of passed tweet\n",
    "        using textblob's sentiment method\n",
    "        '''\n",
    "        # create TextBlob object of passed tweet text\n",
    "        analysis = TextBlob(self.clean_tweet(tweet))\n",
    "        # set sentiment\n",
    "        if analysis.sentiment.polarity > 0:\n",
    "            return 'positive'\n",
    "        elif analysis.sentiment.polarity == 0:\n",
    "            return 'neutral'\n",
    "        else:\n",
    "            return 'negative'\n",
    "  \n",
    "    def get_tweets(self, query, count = 10):\n",
    "        '''\n",
    "        Main function to fetch tweets and parse them.\n",
    "        '''\n",
    "        # empty list to store parsed tweets\n",
    "        tweets = []\n",
    "  \n",
    "        try:\n",
    "            # call twitter api to fetch tweets\n",
    "            fetched_tweets = self.api.search(q = query, count = count)\n",
    "  \n",
    "            # parsing tweets one by one\n",
    "            for tweet in fetched_tweets:\n",
    "                # empty dictionary to store required params of a tweet\n",
    "                parsed_tweet = {}\n",
    "  \n",
    "                # saving text of tweet\n",
    "                parsed_tweet['text'] = tweet.text\n",
    "                # saving sentiment of tweet\n",
    "                parsed_tweet['sentiment'] = self.get_tweet_sentiment(tweet.text)\n",
    "  \n",
    "                # appending parsed tweet to tweets list\n",
    "                if tweet.retweet_count > 0:\n",
    "                    # if tweet has retweets, ensure that it is appended only once\n",
    "                    if parsed_tweet not in tweets:\n",
    "                        tweets.append(parsed_tweet)\n",
    "                else:\n",
    "                    tweets.append(parsed_tweet)\n",
    "  \n",
    "            # return parsed tweets\n",
    "            return tweets\n",
    "  \n",
    "        except tweepy.TweepError as e:\n",
    "            # print error (if any)\n",
    "            print(\"Error : \" + str(e))\n"
   ]
  },
  {
   "cell_type": "markdown",
   "metadata": {},
   "source": [
    "# create our main and search for query\n",
    "# and save data to a file"
   ]
  },
  {
   "cell_type": "code",
   "execution_count": 17,
   "metadata": {},
   "outputs": [
    {
     "name": "stdout",
     "output_type": "stream",
     "text": [
      "\n",
      "\n",
      "First 12 tweets:\n",
      "Elon Musk Congratulates Tesla Bull Cathie Wood After She Hits 1M Twitter Followers | $ARKK $TSLA\n",
      "RT @iamtomnash: $TSLA closes on nickel supply deal with $BHP - If you had any doubts about Elon's plans re fully vertically integrated batt…\n",
      "#Options Flow Stream Update $AAPL $AMZN $TSLA $LOW $IWM $MU $NDX ​$SPY $SPX #OptionsTrading #OptionsFlow… https://t.co/09ktDpWSmn\n",
      "$2000 $TSLA calls https://t.co/Wkwmnpuvn3\n",
      "@RedlerPremium $TSLA RDR?\n",
      "@forry9er @BahamaBen9 If you compare enterprise value of $F &amp; $XOM with $TSLA instead of market cap, it looks much… https://t.co/MyPDoFSCCf\n",
      "via GerberKawasaki: Not enough battery cells. Elon said it again yesterday. Tesla will buy every sell made if they… https://t.co/cBW3AdxNzA\n",
      "MM's must have just woke up and said \"Why the hell is $TSLA above $650?\" We'll fix that. https://t.co/pNWCnUnbqd\n",
      "@bburnworth $TSLA doesn't typically respond positively to blowout earnings reports.\n",
      "Not enough battery cells. Elon said it again yesterday. Tesla will buy every sell made if they could. The money is… https://t.co/6rIORAUMib\n",
      "Boom $TSLA CALLS 650 OUT all but 1 used profit cover the 652 calls save 1 also .. #LFG\n",
      "Damn $TSLA 😠 at least get to $700\n",
      "Current directory = /Users/ravindrabyakod/WORK/mec-mini-projects/mec-3.4.1-api-mini-project\n"
     ]
    }
   ],
   "source": [
    "def main():\n",
    "    # creating object of TwitterClient Class\n",
    "    api = TwitterClient()\n",
    "    # calling function to get tweets\n",
    "    tweets = api.get_tweets(query = 'TSLA', count = 2000)\n",
    "  \n",
    "    # printing first 12  tweets\n",
    "    print(\"\\n\\nFirst 12 tweets:\")\n",
    "    for tweet in tweets[:12]:\n",
    "        print(tweet['text'])\n",
    "  \n",
    "    # what is current directory?\n",
    "    cwd = os.getcwd()\n",
    "    print(\"Current directory = \" + cwd)\n",
    "    # save it to a file in data_sets directory\n",
    "    file2 = open(r\"./datasets/twitter_search_query_results.txt\",\"w+\")\n",
    "    # write all tweets to the file\n",
    "    for tweet in tweets:\n",
    "        file2.write(\"{}\\n\".format(tweet))\n",
    "    # close the file handle\n",
    "    file2.close()\n",
    "    \n",
    "if __name__ == \"__main__\":\n",
    "    # calling main function\n",
    "    main()"
   ]
  },
  {
   "cell_type": "code",
   "execution_count": null,
   "metadata": {},
   "outputs": [],
   "source": []
  }
 ],
 "metadata": {
  "kernelspec": {
   "display_name": "Python 3",
   "language": "python",
   "name": "python3"
  },
  "language_info": {
   "codemirror_mode": {
    "name": "ipython",
    "version": 3
   },
   "file_extension": ".py",
   "mimetype": "text/x-python",
   "name": "python",
   "nbconvert_exporter": "python",
   "pygments_lexer": "ipython3",
   "version": "3.8.10"
  }
 },
 "nbformat": 4,
 "nbformat_minor": 4
}
