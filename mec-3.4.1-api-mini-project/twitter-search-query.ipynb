{
 "cells": [
  {
   "cell_type": "code",
   "execution_count": 1,
   "metadata": {},
   "outputs": [],
   "source": [
    "import re\n",
    "import tweepy\n",
    "from tweepy import OAuthHandler\n",
    "from textblob import TextBlob"
   ]
  },
  {
   "cell_type": "markdown",
   "metadata": {},
   "source": [
    "# create a twitter client class"
   ]
  },
  {
   "cell_type": "code",
   "execution_count": 2,
   "metadata": {},
   "outputs": [],
   "source": [
    "class TwitterClient(object):\n",
    "    '''\n",
    "    Generic Twitter Class for sentiment analysis.\n",
    "    '''\n",
    "    def __init__(self):\n",
    "        '''\n",
    "        Class constructor or initialization method.\n",
    "        '''\n",
    "        # keys and tokens from the Twitter Dev Console\n",
    "        consumer_key = 'QhwdZmCoUshBbVqm1Fa1u8KzI'\n",
    "        consumer_secret = '7sIToWtUk1fF2wY0xjxc591Bnkejr949LLvP4J4nWnrdr6hfjW'\n",
    "        access_token = '29489350-SJOZz1RzVducii5bneoySYtch5J5mAqcKiiNue3cl'\n",
    "        access_token_secret = 'r6lwFR7KtC01ukTRhkypHvW9y7fhbXPqErRxkfYUK0dAR'\n",
    "  \n",
    "        # attempt authentication\n",
    "        try:\n",
    "            # create OAuthHandler object\n",
    "            self.auth = OAuthHandler(consumer_key, consumer_secret)\n",
    "            # set access token and secret\n",
    "            self.auth.set_access_token(access_token, access_token_secret)\n",
    "            # create tweepy API object to fetch tweets\n",
    "            self.api = tweepy.API(self.auth)\n",
    "        except:\n",
    "            print(\"Error: Authentication Failed\")\n",
    "  \n",
    "    def clean_tweet(self, tweet):\n",
    "        '''\n",
    "        Utility function to clean tweet text by removing links, special characters\n",
    "        using simple regex statements.\n",
    "        '''\n",
    "        return ' '.join(re.sub(\"(@[A-Za-z0-9]+)|([^0-9A-Za-z \\t])|(\\w+:\\/\\/\\S+)\", \" \", tweet).split())\n",
    "  \n",
    "    def get_tweet_sentiment(self, tweet):\n",
    "        '''\n",
    "        Utility function to classify sentiment of passed tweet\n",
    "        using textblob's sentiment method\n",
    "        '''\n",
    "        # create TextBlob object of passed tweet text\n",
    "        analysis = TextBlob(self.clean_tweet(tweet))\n",
    "        # set sentiment\n",
    "        if analysis.sentiment.polarity > 0:\n",
    "            return 'positive'\n",
    "        elif analysis.sentiment.polarity == 0:\n",
    "            return 'neutral'\n",
    "        else:\n",
    "            return 'negative'\n",
    "  \n",
    "    def get_tweets(self, query, count = 10):\n",
    "        '''\n",
    "        Main function to fetch tweets and parse them.\n",
    "        '''\n",
    "        # empty list to store parsed tweets\n",
    "        tweets = []\n",
    "  \n",
    "        try:\n",
    "            # call twitter api to fetch tweets\n",
    "            fetched_tweets = self.api.search(q = query, count = count)\n",
    "  \n",
    "            # parsing tweets one by one\n",
    "            for tweet in fetched_tweets:\n",
    "                # empty dictionary to store required params of a tweet\n",
    "                parsed_tweet = {}\n",
    "  \n",
    "                # saving text of tweet\n",
    "                parsed_tweet['text'] = tweet.text\n",
    "                # saving sentiment of tweet\n",
    "                parsed_tweet['sentiment'] = self.get_tweet_sentiment(tweet.text)\n",
    "  \n",
    "                # appending parsed tweet to tweets list\n",
    "                if tweet.retweet_count > 0:\n",
    "                    # if tweet has retweets, ensure that it is appended only once\n",
    "                    if parsed_tweet not in tweets:\n",
    "                        tweets.append(parsed_tweet)\n",
    "                else:\n",
    "                    tweets.append(parsed_tweet)\n",
    "  \n",
    "            # return parsed tweets\n",
    "            return tweets\n",
    "  \n",
    "        except tweepy.TweepError as e:\n",
    "            # print error (if any)\n",
    "            print(\"Error : \" + str(e))\n"
   ]
  },
  {
   "cell_type": "markdown",
   "metadata": {},
   "source": [
    "# create our main and search for query\n"
   ]
  },
  {
   "cell_type": "code",
   "execution_count": 4,
   "metadata": {},
   "outputs": [
    {
     "name": "stdout",
     "output_type": "stream",
     "text": [
      "\n",
      "\n",
      "First 12 tweets:\n",
      "RT @_mm85: Why are Super-Apps a Chinese phenomenon?\n",
      "\n",
      "Companies tend to offer a broader range of services &amp; more revenue streams than in the…\n",
      "RT @StanphylCap: Yet ANOTHER company that's WAY head of $TSLA's reckless deathware.\n",
      "\n",
      "And unlike Tesla's fraudulent \"Paint it Black\" video,…\n",
      "@Bounce_Trades Yep send $TSLA too plz nice close there , could use some continuation\n",
      "RT @HeartDocTesla: $TSLA is a technical stock. I have said it in multiple days. This just reaffirms to me that the stock is controlled by a…\n",
      "Tesla..What Can You Say!! #tesla #tsla #stock #stockmarket #options #money #cars #tech #technology https://t.co/Uy4mJFf4Uh\n",
      "RT @us_stock_invest: $TSLA\n",
      "Teslaの電動セミトラック Tesla Semi がついに生産開始に入りそうとのニュース。公式発表が待たれますね。\n",
      "\n",
      "Tesla Semi electric truck is finally about to go int…\n",
      "RT @WholeMarsBlog: How well you drive isn’t a function of how good your eyesight is. \n",
      "\n",
      "It’s about the decions you make. \n",
      "\n",
      "It’s the software…\n",
      "RT @HeartDocTesla: That feeling you get when you enter your $TSLA value on a spreadsheet and it is off by a factor of ten \n",
      "\n",
      "And you think,…\n",
      "Why are Super-Apps a Chinese phenomenon?\n",
      "\n",
      "Companies tend to offer a broader range of services &amp; more revenue stream… https://t.co/uNXuxr5G75\n",
      "RT @Teslaconomics: Tesla is prioritizing Cybertruck production bc it has over 1 million in pre-orders and they know it will be the best fuc…\n",
      "RT @BLKMDL3: 2 years and 56k miles later... I love it more than the day I bought it. @Tesla #Model3 $TSLA @elonmusk https://t.co/SxOIRG62aK\n",
      "@agusnox @StanphylCap Just watch the first five minutes. You can even skip the initial dialog and make it three. Fr… https://t.co/YpsQ5djblU\n"
     ]
    }
   ],
   "source": [
    "def main():\n",
    "    # creating object of TwitterClient Class\n",
    "    api = TwitterClient()\n",
    "    # calling function to get tweets\n",
    "    tweets = api.get_tweets(query = 'TSLA', count = 2000)\n",
    "  \n",
    "    # printing first 12  tweets\n",
    "    print(\"\\n\\nFirst 12 tweets:\")\n",
    "    for tweet in tweets[:12]:\n",
    "        print(tweet['text'])\n",
    "  \n",
    "if __name__ == \"__main__\":\n",
    "    # calling main function\n",
    "    main()"
   ]
  },
  {
   "cell_type": "code",
   "execution_count": null,
   "metadata": {},
   "outputs": [],
   "source": []
  }
 ],
 "metadata": {
  "kernelspec": {
   "display_name": "Python 3",
   "language": "python",
   "name": "python3"
  },
  "language_info": {
   "codemirror_mode": {
    "name": "ipython",
    "version": 3
   },
   "file_extension": ".py",
   "mimetype": "text/x-python",
   "name": "python",
   "nbconvert_exporter": "python",
   "pygments_lexer": "ipython3",
   "version": "3.7.10"
  }
 },
 "nbformat": 4,
 "nbformat_minor": 4
}
