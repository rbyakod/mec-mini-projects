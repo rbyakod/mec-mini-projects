{
 "cells": [
  {
   "cell_type": "code",
   "execution_count": 1,
   "metadata": {},
   "outputs": [],
   "source": [
    "import re\n",
    "import tweepy\n",
    "from tweepy import OAuthHandler\n",
    "from textblob import TextBlob"
   ]
  },
  {
   "cell_type": "markdown",
   "metadata": {},
   "source": [
    "# create a twitter client class"
   ]
  },
  {
   "cell_type": "code",
   "execution_count": 2,
   "metadata": {},
   "outputs": [],
   "source": [
    "class TwitterClient(object):\n",
    "    '''\n",
    "    Generic Twitter Class for sentiment analysis.\n",
    "    '''\n",
    "    def __init__(self):\n",
    "        '''\n",
    "        Class constructor or initialization method.\n",
    "        '''\n",
    "        # keys and tokens from the Twitter Dev Console\n",
    "        consumer_key = 'QhwdZmCoUshBbVqm1Fa1u8KzI'\n",
    "        consumer_secret = '7sIToWtUk1fF2wY0xjxc591Bnkejr949LLvP4J4nWnrdr6hfjW'\n",
    "        access_token = '29489350-SJOZz1RzVducii5bneoySYtch5J5mAqcKiiNue3cl'\n",
    "        access_token_secret = 'r6lwFR7KtC01ukTRhkypHvW9y7fhbXPqErRxkfYUK0dAR'\n",
    "  \n",
    "        # attempt authentication\n",
    "        try:\n",
    "            # create OAuthHandler object\n",
    "            self.auth = OAuthHandler(consumer_key, consumer_secret)\n",
    "            # set access token and secret\n",
    "            self.auth.set_access_token(access_token, access_token_secret)\n",
    "            # create tweepy API object to fetch tweets\n",
    "            self.api = tweepy.API(self.auth)\n",
    "        except:\n",
    "            print(\"Error: Authentication Failed\")\n",
    "  \n",
    "    def clean_tweet(self, tweet):\n",
    "        '''\n",
    "        Utility function to clean tweet text by removing links, special characters\n",
    "        using simple regex statements.\n",
    "        '''\n",
    "        return ' '.join(re.sub(\"(@[A-Za-z0-9]+)|([^0-9A-Za-z \\t])|(\\w+:\\/\\/\\S+)\", \" \", tweet).split())\n",
    "  \n",
    "    def get_tweet_sentiment(self, tweet):\n",
    "        '''\n",
    "        Utility function to classify sentiment of passed tweet\n",
    "        using textblob's sentiment method\n",
    "        '''\n",
    "        # create TextBlob object of passed tweet text\n",
    "        analysis = TextBlob(self.clean_tweet(tweet))\n",
    "        # set sentiment\n",
    "        if analysis.sentiment.polarity > 0:\n",
    "            return 'positive'\n",
    "        elif analysis.sentiment.polarity == 0:\n",
    "            return 'neutral'\n",
    "        else:\n",
    "            return 'negative'\n",
    "  \n",
    "    def get_tweets(self, query, count = 10):\n",
    "        '''\n",
    "        Main function to fetch tweets and parse them.\n",
    "        '''\n",
    "        # empty list to store parsed tweets\n",
    "        tweets = []\n",
    "  \n",
    "        try:\n",
    "            # call twitter api to fetch tweets\n",
    "            fetched_tweets = self.api.search(q = query, count = count)\n",
    "  \n",
    "            # parsing tweets one by one\n",
    "            for tweet in fetched_tweets:\n",
    "                # empty dictionary to store required params of a tweet\n",
    "                parsed_tweet = {}\n",
    "  \n",
    "                # saving text of tweet\n",
    "                parsed_tweet['text'] = tweet.text\n",
    "                # saving sentiment of tweet\n",
    "                parsed_tweet['sentiment'] = self.get_tweet_sentiment(tweet.text)\n",
    "  \n",
    "                # appending parsed tweet to tweets list\n",
    "                if tweet.retweet_count > 0:\n",
    "                    # if tweet has retweets, ensure that it is appended only once\n",
    "                    if parsed_tweet not in tweets:\n",
    "                        tweets.append(parsed_tweet)\n",
    "                else:\n",
    "                    tweets.append(parsed_tweet)\n",
    "  \n",
    "            # return parsed tweets\n",
    "            return tweets\n",
    "  \n",
    "        except tweepy.TweepError as e:\n",
    "            # print error (if any)\n",
    "            print(\"Error : \" + str(e))\n"
   ]
  },
  {
   "cell_type": "markdown",
   "metadata": {},
   "source": [
    "# create our main and search for query\n"
   ]
  },
  {
   "cell_type": "code",
   "execution_count": 3,
   "metadata": {},
   "outputs": [
    {
     "name": "stdout",
     "output_type": "stream",
     "text": [
      "\n",
      "\n",
      "First 12 tweets:\n",
      "TSLA poll! https://t.co/DHUP0uc7lB\n",
      "RT @WholeMarsBlog: it’s clear to anyone who has been following the explosive growth of deep learning over the last decade that the computer…\n",
      "[Last 24 Hours]\n",
      "\n",
      "Stocks trending among elite #fintwit traders: \n",
      "1. $NURO\n",
      "2. $TSLA\n",
      "3. $NFLX\n",
      "4. $AAPL\n",
      "5. $MRNA\n",
      "6.… https://t.co/oHYgS8Jgk8\n",
      "RT @garyblack00: UPDATED:  My top 10 longs, based on my view that higher inflation is transitory, and secular growth will continue to outpe…\n",
      "RT @WholeMarsBlog: I thought this moment of maneuvering on FSD Beta 9 last night was pretty impressive @elonmusk $TSLA https://t.co/P46AUbo…\n",
      "RT @stockmentionbot: 10 most mentioned US stocks on Reddit in past 24 hours:\n",
      "1. $CLOV : 128\n",
      "2. $AMC : 97\n",
      "3. $SPY : 77\n",
      "4. $SOFI : 61\n",
      "5. $GT…\n",
      "RT @garyblack00: $TSLA decision to open its global network of 25K superchargers to other EVs is a positive for Tesla.  It will accelerate E…\n",
      "@cosmos_tsla \n",
      "\n",
      "釣れてるゥーッ！？\n",
      "RT @BitcoinTina: OMG if Elon is this uninfomed about how the #bitcoin ecosystem works TSLA is a massive short.\n",
      "@garyblack00 And what it had if they would have hold it since $TSLA IPO? Or 1/2/3/4/5… years ago? Why you choose th… https://t.co/PHpOnEP0lr\n",
      "What if We hit on $TSLA  with a 100 point move, $Googl with a 100 point move and $Amzn with a 150 point move. All i… https://t.co/AIRu5rY6MA\n",
      "RT @Sebasti60115740: @elonmusk I know we haven’t hung out in a while, but can I grab an X off you and pay you back with all the fuel money?…\n"
     ]
    }
   ],
   "source": [
    "def main():\n",
    "    # creating object of TwitterClient Class\n",
    "    api = TwitterClient()\n",
    "    # calling function to get tweets\n",
    "    tweets = api.get_tweets(query = 'TSLA', count = 2000)\n",
    "  \n",
    "    # printing first 12  tweets\n",
    "    print(\"\\n\\nFirst 12 tweets:\")\n",
    "    for tweet in tweets[:12]:\n",
    "        print(tweet['text'])\n",
    "  \n",
    "if __name__ == \"__main__\":\n",
    "    # calling main function\n",
    "    main()"
   ]
  },
  {
   "cell_type": "code",
   "execution_count": null,
   "metadata": {},
   "outputs": [],
   "source": []
  }
 ],
 "metadata": {
  "kernelspec": {
   "display_name": "Python 3",
   "language": "python",
   "name": "python3"
  },
  "language_info": {
   "codemirror_mode": {
    "name": "ipython",
    "version": 3
   },
   "file_extension": ".py",
   "mimetype": "text/x-python",
   "name": "python",
   "nbconvert_exporter": "python",
   "pygments_lexer": "ipython3",
   "version": "3.8.10"
  }
 },
 "nbformat": 4,
 "nbformat_minor": 4
}
