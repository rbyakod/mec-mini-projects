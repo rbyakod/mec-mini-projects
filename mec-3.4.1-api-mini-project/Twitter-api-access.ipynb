{
 "cells": [
  {
   "cell_type": "markdown",
   "metadata": {
    "gradient": {
     "editing": false
    }
   },
   "source": [
    "# this file holds how to access twitter, reddit and yahoo finance code for datasets\n",
    "#\n",
    "# Twitter access code - get tweets for a single stock"
   ]
  },
  {
   "cell_type": "code",
   "execution_count": 8,
   "metadata": {
    "collapsed": false,
    "gradient": {
     "editing": false,
     "source_hidden": false
    },
    "jupyter": {
     "outputs_hidden": false
    }
   },
   "outputs": [],
   "source": [
    "import tweepy as twitter\n",
    "import os\n"
   ]
  },
  {
   "cell_type": "markdown",
   "metadata": {
    "gradient": {
     "editing": false
    }
   },
   "source": [
    "setup access info for Twitter\n"
   ]
  },
  {
   "cell_type": "code",
   "execution_count": 9,
   "metadata": {
    "collapsed": false,
    "gradient": {
     "editing": false,
     "source_hidden": false
    },
    "jupyter": {
     "outputs_hidden": false
    }
   },
   "outputs": [],
   "source": [
    "consumer_key = \"QhwdZmCoUshBbVqm1Fa1u8KzI\"\n",
    "consumer_secret = \"7sIToWtUk1fF2wY0xjxc591Bnkejr949LLvP4J4nWnrdr6hfjW\"\n",
    "access_token = \"29489350-SJOZz1RzVducii5bneoySYtch5J5mAqcKiiNue3cl\"\n",
    "access_token_secret = \"r6lwFR7KtC01ukTRhkypHvW9y7fhbXPqErRxkfYUK0dAR\"\n"
   ]
  },
  {
   "cell_type": "markdown",
   "metadata": {
    "gradient": {
     "editing": false
    }
   },
   "source": [
    "authenticate"
   ]
  },
  {
   "cell_type": "code",
   "execution_count": 13,
   "metadata": {
    "collapsed": false,
    "gradient": {
     "editing": false,
     "source_hidden": false
    },
    "jupyter": {
     "outputs_hidden": false
    }
   },
   "outputs": [],
   "source": [
    "auth = twitter.OAuthHandler(consumer_key, consumer_secret)\n",
    "auth.set_access_token(access_token, access_token_secret)\n",
    "auth.access_token = access_token\n",
    "API = twitter.API(auth)\n"
   ]
  },
  {
   "cell_type": "code",
   "execution_count": 15,
   "metadata": {
    "collapsed": false,
    "gradient": {
     "editing": false,
     "source_hidden": false
    },
    "jupyter": {
     "outputs_hidden": false
    }
   },
   "outputs": [
    {
     "name": "stdout",
     "output_type": "stream",
     "text": [
      "Current directory = /Users/ravindrabyakod/WORK/mec-mini-projects/mec-3.4.1-api-mini-project\n"
     ]
    }
   ],
   "source": [
    "def main():\n",
    "    # test a query with twitter\n",
    "    public_tweets = API.home_timeline()\n",
    "    # print(public_tweets)\n",
    "\n",
    "    aapl_tweets = API.search(q = '$AAPL')\n",
    "    #print(aapl_tweets)\n",
    "\n",
    "    # SaveData\n",
    "    # what is current directory?\n",
    "    cwd = os.getcwd()\n",
    "    print(\"Current directory = \" + cwd)\n",
    "    # save it to a file in data_sets directory\n",
    "    file2 = open(r\"./datasets/twitter_api_search_query_results.txt\",\"w+\")\n",
    "    # write all tweets to the file\n",
    "    for tweet in aapl_tweets:\n",
    "        file2.write(\"{}\\n\".format(tweet))\n",
    "    # close the file handle\n",
    "    file2.close()\n",
    "    \n",
    "    \n",
    "if __name__ == \"__main__\":\n",
    "    # calling main function\n",
    "    main()\n",
    "    "
   ]
  },
  {
   "cell_type": "code",
   "execution_count": null,
   "metadata": {},
   "outputs": [],
   "source": []
  },
  {
   "cell_type": "code",
   "execution_count": null,
   "metadata": {},
   "outputs": [],
   "source": []
  }
 ],
 "metadata": {
  "kernelspec": {
   "display_name": "ucsd-1",
   "language": "python",
   "name": "ucsd-1"
  },
  "language_info": {
   "codemirror_mode": {
    "name": "ipython",
    "version": 3
   },
   "file_extension": ".py",
   "mimetype": "text/x-python",
   "name": "python",
   "nbconvert_exporter": "python",
   "pygments_lexer": "ipython3",
   "version": "3.8.10"
  }
 },
 "nbformat": 4,
 "nbformat_minor": 4
}
