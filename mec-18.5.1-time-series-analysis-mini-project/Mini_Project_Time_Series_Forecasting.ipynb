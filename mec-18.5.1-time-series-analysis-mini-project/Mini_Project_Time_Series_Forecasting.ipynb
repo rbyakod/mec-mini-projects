{
 "cells": [
  {
   "cell_type": "markdown",
   "metadata": {
    "colab_type": "text",
    "id": "T8IkEZ1mF3MP"
   },
   "source": [
    "# Time Series Forecasting System\n",
    "Time Series is a big component of our everyday lives. They are in fact used in medicine (EEG analysis), finance (Stock Prices) and electronics (Sensor Data Analysis). Many Machine Learning models have been created in order to tackle these types of tasks, two examples are ARIMA (AutoRegressive Integrated Moving Average) models and RNNs (Recurrent Neural Networks).\n"
   ]
  },
  {
   "cell_type": "markdown",
   "metadata": {
    "colab_type": "text",
    "id": "0a1a3jB3GYI8"
   },
   "source": [
    "# Data Source\n",
    "\n",
    "For Time series analysis, we are going to deal with Stock market Analysis. This dataset is based US-based stocks daily price and volume data.\n",
    "Dataset taken for analysis is IBM stock market data from 2006-01-01 to 2018-01-01.\n",
    "\n",
    "Below are the key fields in the dataset:\n",
    "\n",
    "__`Date, Open, High, Low, Close, Volume, Name`__"
   ]
  },
  {
   "cell_type": "markdown",
   "metadata": {
    "colab_type": "text",
    "id": "QJiCYDCPH0JX"
   },
   "source": [
    "# Import Libraries"
   ]
  },
  {
   "cell_type": "code",
   "execution_count": 1,
   "metadata": {
    "colab": {},
    "colab_type": "code",
    "id": "I1SfYI6nebcN"
   },
   "outputs": [],
   "source": [
    "import warnings\n",
    "warnings.filterwarnings('ignore')\n",
    "\n",
    "import pandas as pd\n",
    "import matplotlib.pyplot as plt\n",
    "import numpy as np"
   ]
  },
  {
   "cell_type": "markdown",
   "metadata": {
    "colab_type": "text",
    "id": "7ftJJhAPH9ZJ"
   },
   "source": [
    "# Load Data"
   ]
  },
  {
   "cell_type": "code",
   "execution_count": 2,
   "metadata": {
    "colab": {
     "base_uri": "https://localhost:8080/",
     "height": 195
    },
    "colab_type": "code",
    "id": "zLpZyyGucahj",
    "outputId": "c3cef8f3-bc13-42e6-f496-4096a13e4bd3"
   },
   "outputs": [
    {
     "data": {
      "text/plain": "         Date   Open   High    Low  Close    Volume Name\n0  2006-01-03  82.45  82.55  80.81  82.06  11715200  IBM\n1  2006-01-04  82.20  82.50  81.33  81.95   9840600  IBM\n2  2006-01-05  81.40  82.90  81.00  82.50   7213500  IBM\n3  2006-01-06  83.95  85.03  83.41  84.95   8197400  IBM\n4  2006-01-09  84.10  84.25  83.38  83.73   6858200  IBM",
      "text/html": "<div>\n<style scoped>\n    .dataframe tbody tr th:only-of-type {\n        vertical-align: middle;\n    }\n\n    .dataframe tbody tr th {\n        vertical-align: top;\n    }\n\n    .dataframe thead th {\n        text-align: right;\n    }\n</style>\n<table border=\"1\" class=\"dataframe\">\n  <thead>\n    <tr style=\"text-align: right;\">\n      <th></th>\n      <th>Date</th>\n      <th>Open</th>\n      <th>High</th>\n      <th>Low</th>\n      <th>Close</th>\n      <th>Volume</th>\n      <th>Name</th>\n    </tr>\n  </thead>\n  <tbody>\n    <tr>\n      <th>0</th>\n      <td>2006-01-03</td>\n      <td>82.45</td>\n      <td>82.55</td>\n      <td>80.81</td>\n      <td>82.06</td>\n      <td>11715200</td>\n      <td>IBM</td>\n    </tr>\n    <tr>\n      <th>1</th>\n      <td>2006-01-04</td>\n      <td>82.20</td>\n      <td>82.50</td>\n      <td>81.33</td>\n      <td>81.95</td>\n      <td>9840600</td>\n      <td>IBM</td>\n    </tr>\n    <tr>\n      <th>2</th>\n      <td>2006-01-05</td>\n      <td>81.40</td>\n      <td>82.90</td>\n      <td>81.00</td>\n      <td>82.50</td>\n      <td>7213500</td>\n      <td>IBM</td>\n    </tr>\n    <tr>\n      <th>3</th>\n      <td>2006-01-06</td>\n      <td>83.95</td>\n      <td>85.03</td>\n      <td>83.41</td>\n      <td>84.95</td>\n      <td>8197400</td>\n      <td>IBM</td>\n    </tr>\n    <tr>\n      <th>4</th>\n      <td>2006-01-09</td>\n      <td>84.10</td>\n      <td>84.25</td>\n      <td>83.38</td>\n      <td>83.73</td>\n      <td>6858200</td>\n      <td>IBM</td>\n    </tr>\n  </tbody>\n</table>\n</div>"
     },
     "execution_count": 2,
     "metadata": {},
     "output_type": "execute_result"
    }
   ],
   "source": [
    "df = pd.read_csv(\"IBM_2006-01-01_to_2018-01-01.csv.zip\")\n",
    "df.head()"
   ]
  },
  {
   "cell_type": "code",
   "execution_count": 3,
   "metadata": {
    "colab": {
     "base_uri": "https://localhost:8080/",
     "height": 50
    },
    "colab_type": "code",
    "id": "HqoaX9Zy8wvW",
    "outputId": "03cf2223-ec08-45fa-8803-714664d9fe6e"
   },
   "outputs": [
    {
     "name": "stdout",
     "output_type": "stream",
     "text": [
      "(3020, 7)\n",
      "Index(['Date', 'Open', 'High', 'Low', 'Close', 'Volume', 'Name'], dtype='object')\n"
     ]
    }
   ],
   "source": [
    "print(df.shape)\n",
    "print(df.columns)"
   ]
  },
  {
   "cell_type": "code",
   "execution_count": 4,
   "metadata": {
    "colab": {
     "base_uri": "https://localhost:8080/",
     "height": 34
    },
    "colab_type": "code",
    "id": "QL9CyyYg83ow",
    "outputId": "ffcc3cf0-1be9-4b2d-81d6-4023e849aeaf"
   },
   "outputs": [
    {
     "data": {
      "text/plain": "(3019, 7)"
     },
     "execution_count": 4,
     "metadata": {},
     "output_type": "execute_result"
    }
   ],
   "source": [
    "# Cleaning up the data\n",
    "df.isnull().values.any()\n",
    "df = df.dropna()\n",
    "df.shape"
   ]
  },
  {
   "cell_type": "code",
   "execution_count": 5,
   "metadata": {
    "colab": {
     "base_uri": "https://localhost:8080/",
     "height": 225
    },
    "colab_type": "code",
    "id": "FXk5auRRh2O6",
    "outputId": "38ecc2d6-fb6f-405c-e6aa-72f2a59f9791"
   },
   "outputs": [
    {
     "data": {
      "text/plain": "                  Date   Open   High    Low  Close    Volume Name\nDate                                                             \n2006-01-03  2006-01-03  82.45  82.55  80.81  82.06  11715200  IBM\n2006-01-04  2006-01-04  82.20  82.50  81.33  81.95   9840600  IBM\n2006-01-05  2006-01-05  81.40  82.90  81.00  82.50   7213500  IBM\n2006-01-06  2006-01-06  83.95  85.03  83.41  84.95   8197400  IBM\n2006-01-09  2006-01-09  84.10  84.25  83.38  83.73   6858200  IBM",
      "text/html": "<div>\n<style scoped>\n    .dataframe tbody tr th:only-of-type {\n        vertical-align: middle;\n    }\n\n    .dataframe tbody tr th {\n        vertical-align: top;\n    }\n\n    .dataframe thead th {\n        text-align: right;\n    }\n</style>\n<table border=\"1\" class=\"dataframe\">\n  <thead>\n    <tr style=\"text-align: right;\">\n      <th></th>\n      <th>Date</th>\n      <th>Open</th>\n      <th>High</th>\n      <th>Low</th>\n      <th>Close</th>\n      <th>Volume</th>\n      <th>Name</th>\n    </tr>\n    <tr>\n      <th>Date</th>\n      <th></th>\n      <th></th>\n      <th></th>\n      <th></th>\n      <th></th>\n      <th></th>\n      <th></th>\n    </tr>\n  </thead>\n  <tbody>\n    <tr>\n      <th>2006-01-03</th>\n      <td>2006-01-03</td>\n      <td>82.45</td>\n      <td>82.55</td>\n      <td>80.81</td>\n      <td>82.06</td>\n      <td>11715200</td>\n      <td>IBM</td>\n    </tr>\n    <tr>\n      <th>2006-01-04</th>\n      <td>2006-01-04</td>\n      <td>82.20</td>\n      <td>82.50</td>\n      <td>81.33</td>\n      <td>81.95</td>\n      <td>9840600</td>\n      <td>IBM</td>\n    </tr>\n    <tr>\n      <th>2006-01-05</th>\n      <td>2006-01-05</td>\n      <td>81.40</td>\n      <td>82.90</td>\n      <td>81.00</td>\n      <td>82.50</td>\n      <td>7213500</td>\n      <td>IBM</td>\n    </tr>\n    <tr>\n      <th>2006-01-06</th>\n      <td>2006-01-06</td>\n      <td>83.95</td>\n      <td>85.03</td>\n      <td>83.41</td>\n      <td>84.95</td>\n      <td>8197400</td>\n      <td>IBM</td>\n    </tr>\n    <tr>\n      <th>2006-01-09</th>\n      <td>2006-01-09</td>\n      <td>84.10</td>\n      <td>84.25</td>\n      <td>83.38</td>\n      <td>83.73</td>\n      <td>6858200</td>\n      <td>IBM</td>\n    </tr>\n  </tbody>\n</table>\n</div>"
     },
     "execution_count": 5,
     "metadata": {},
     "output_type": "execute_result"
    }
   ],
   "source": [
    "df.index = pd.to_datetime(df['Date'])\n",
    "df.head()"
   ]
  },
  {
   "cell_type": "markdown",
   "metadata": {
    "colab_type": "text",
    "id": "HDxYwSHoJmDP"
   },
   "source": [
    "# Note\n",
    "This dataset is composed of different features.We will just examine the “Open” stock prices feature. This same analysis can be repeated for most of the other features."
   ]
  },
  {
   "cell_type": "markdown",
   "metadata": {
    "colab_type": "text",
    "id": "piiRMy-_IIZv"
   },
   "source": [
    "# Visualization"
   ]
  },
  {
   "cell_type": "markdown",
   "metadata": {},
   "source": [
    "### Visualizing the High and Low prices of IBM"
   ]
  },
  {
   "cell_type": "code",
   "execution_count": 6,
   "metadata": {
    "colab": {
     "base_uri": "https://localhost:8080/",
     "height": 285
    },
    "colab_type": "code",
    "id": "c7B6d-PTfKuC",
    "outputId": "190fa06f-a8f0-413f-b94b-efab802c758d"
   },
   "outputs": [
    {
     "data": {
      "text/plain": "<Figure size 432x288 with 1 Axes>",
      "image/png": "[encoded data removed]"
     },
     "metadata": {
      "needs_background": "light"
     },
     "output_type": "display_data"
    }
   ],
   "source": [
    "dr = df[['High', 'Low']]\n",
    "dr.plot()\n",
    "plt.title('IBM Returns');"
   ]
  },
  {
   "cell_type": "markdown",
   "metadata": {},
   "source": [
    "### Q1: Visualize the Open and Close prices of IBM"
   ]
  },
  {
   "cell_type": "code",
   "execution_count": 7,
   "metadata": {
    "colab": {
     "base_uri": "https://localhost:8080/",
     "height": 285
    },
    "colab_type": "code",
    "id": "vWGWKmhKgJOr",
    "outputId": "c59eae5b-c44a-4333-9057-8fc405d01986"
   },
   "outputs": [
    {
     "data": {
      "text/plain": "Text(0.5, 1.0, 'IBM Returns')"
     },
     "execution_count": 7,
     "metadata": {},
     "output_type": "execute_result"
    },
    {
     "data": {
      "text/plain": "<Figure size 432x288 with 1 Axes>",
      "image/png": "[encoded data removed]"
     },
     "metadata": {
      "needs_background": "light"
     },
     "output_type": "display_data"
    }
   ],
   "source": [
    "dr = df[['Open', 'Close']]\n",
    "dr.plot()\n",
    "plt.title('IBM Returns')"
   ]
  },
  {
   "cell_type": "markdown",
   "metadata": {},
   "source": [
    "### Q2: Visualize the Open and Close Cumulative Prices of IBM"
   ]
  },
  {
   "cell_type": "code",
   "execution_count": 8,
   "metadata": {
    "colab": {
     "base_uri": "https://localhost:8080/",
     "height": 285
    },
    "colab_type": "code",
    "id": "8Cc0Zseff-4k",
    "outputId": "621dc52c-8621-45ef-a7f0-2d8c76fb7e73"
   },
   "outputs": [
    {
     "data": {
      "text/plain": "Text(0.5, 1.0, 'IBM Returns')"
     },
     "execution_count": 8,
     "metadata": {},
     "output_type": "execute_result"
    },
    {
     "data": {
      "text/plain": "<Figure size 432x288 with 1 Axes>",
      "image/png": "[encoded data removed]"
     },
     "metadata": {
      "needs_background": "light"
     },
     "output_type": "display_data"
    }
   ],
   "source": [
    "dr = df[['Open', 'Close']].cumsum(axis=0)\n",
    "dr.plot()\n",
    "plt.title('IBM Returns')"
   ]
  },
  {
   "cell_type": "markdown",
   "metadata": {
    "colab_type": "text",
    "id": "J0nwpAKqKDfH"
   },
   "source": [
    "####  Before we start working on Time Series forecasting, Let's analyse the autocorrelation plot of the “Open” feature with respect to a few lag values"
   ]
  },
  {
   "cell_type": "markdown",
   "metadata": {},
   "source": [
    "### Auto-correlation plot with Lag 1"
   ]
  },
  {
   "cell_type": "code",
   "execution_count": 9,
   "metadata": {
    "colab": {
     "base_uri": "https://localhost:8080/",
     "height": 350
    },
    "colab_type": "code",
    "id": "ivjXx85Bf_h2",
    "outputId": "dd5ce4e7-8dc9-428e-a958-8e5b9ce42f80"
   },
   "outputs": [
    {
     "data": {
      "text/plain": "<Figure size 360x360 with 1 Axes>",
      "image/png": "[encoded data removed]"
     },
     "metadata": {
      "needs_background": "light"
     },
     "output_type": "display_data"
    }
   ],
   "source": [
    "# START_CODE_HERE - plot the Autocorrelation plot for feature 'Open'\n",
    "from pandas.plotting import lag_plot, autocorrelation_plot\n",
    "\n",
    "plt.figure(figsize=(5,5))\n",
    "lag_plot(df['Open'], lag=1)\n",
    "plt.title('IBM Autocorrelation plot - Lag 1');\n",
    "# END_CODE_HERE"
   ]
  },
  {
   "cell_type": "markdown",
   "metadata": {},
   "source": [
    "### Q3: Visualize the Auto-Correlation plot for IBM Open prices with Lag 5 "
   ]
  },
  {
   "cell_type": "code",
   "execution_count": 10,
   "metadata": {
    "colab": {
     "base_uri": "https://localhost:8080/",
     "height": 350
    },
    "colab_type": "code",
    "id": "1BWxkN2ZhDGq",
    "outputId": "85296efa-0345-459e-a91e-adc3459c6def"
   },
   "outputs": [
    {
     "data": {
      "text/plain": "<Figure size 360x360 with 1 Axes>",
      "image/png": "[encoded data removed]"
     },
     "metadata": {
      "needs_background": "light"
     },
     "output_type": "display_data"
    }
   ],
   "source": [
    "# START_CODE_HERE - plot the Autocorrelation plot for feature 'Open'\n",
    "from pandas.plotting import lag_plot, autocorrelation_plot\n",
    "\n",
    "plt.figure(figsize=(5,5))\n",
    "lag_plot(df['Open'], lag=5)\n",
    "plt.title('IBM Autocorrelation plot - Lag 1');\n",
    "# END_CODE_HERE"
   ]
  },
  {
   "cell_type": "markdown",
   "metadata": {},
   "source": [
    "We see a definite linear trend in the auto-correlation plot telling us there is some correlation in prices with respect to prices from previous 1 / 5 days of lag which sets up the stage of forecasting future prices based on past price data "
   ]
  },
  {
   "cell_type": "markdown",
   "metadata": {
    "colab_type": "text",
    "id": "1n4_JM9Lhb5K"
   },
   "source": [
    "## Build Train-Test Datasets"
   ]
  },
  {
   "cell_type": "markdown",
   "metadata": {
    "colab_type": "text",
    "id": "KLTiykRpKh46"
   },
   "source": [
    "#### Now, Let's divide the data into a training and test set. Once done so, we can plot both on the same figure in order to get a feeling of how does our Time Series looks like"
   ]
  },
  {
   "cell_type": "code",
   "execution_count": 11,
   "metadata": {
    "colab": {},
    "colab_type": "code",
    "id": "dlEMHunIgLjE"
   },
   "outputs": [],
   "source": [
    "train_data, test_data = df.iloc[0:int(len(df)*0.8), :], df.iloc[int(len(df)*0.8):, :]"
   ]
  },
  {
   "cell_type": "code",
   "execution_count": 12,
   "metadata": {
    "colab": {
     "base_uri": "https://localhost:8080/",
     "height": 458
    },
    "colab_type": "code",
    "id": "nXQdYUp0isTi",
    "outputId": "8d99b465-1ca5-42ad-a9ff-9fa9c80ff3ff"
   },
   "outputs": [
    {
     "data": {
      "text/plain": "<Figure size 864x504 with 1 Axes>",
      "image/png": "[encoded data removed]"
     },
     "metadata": {
      "needs_background": "light"
     },
     "output_type": "display_data"
    }
   ],
   "source": [
    "plt.figure(figsize=(12,7))\n",
    "plt.title('IBM Prices')\n",
    "plt.xlabel('Dates')\n",
    "plt.ylabel('Prices')\n",
    "plt.plot(train_data['Open'], 'blue', label='Training Data')\n",
    "plt.plot(test_data['Open'], 'green', label='Testing Data')\n",
    "plt.legend();"
   ]
  },
  {
   "cell_type": "markdown",
   "metadata": {
    "colab_type": "text",
    "id": "wJhAHw6PKrQh"
   },
   "source": [
    "# ARIMA (AutoRegressive Integrated Moving Average)\n",
    "\n",
    "The acronym of ARIMA stands for:\n",
    "\n",
    "AutoRegressive(AR) = the model takes advantage of the connection between a predefined number of lagged observations and the current one.\n",
    "\n",
    "Integrated(I) = differencing between raw observations (eg. subtracting observations at different time steps).\n",
    "\n",
    "Moving Average(MA) = the model takes advantage of the relationship between the residual error and the observations.\n",
    "\n",
    "The ARIMA model makes use of three main parameters (p,d,q). These are:\n",
    "\n",
    "p = number of lag observations.\n",
    "\n",
    "d = the degree of differencing.\n",
    "\n",
    "q = the size of the moving average window.\n",
    "\n"
   ]
  },
  {
   "cell_type": "markdown",
   "metadata": {
    "colab_type": "text",
    "id": "Ftf6yg95L7CR"
   },
   "source": [
    "## Understaning the ARIMA Model\n",
    "\n",
    "### the ARIMA parameters - used to help model the major aspects of a times series: seasonality, trend, and noise. These parameters are labeled p,d,and q. You have already learnt a fair bit of this in the curriculum but following is a brief refresher.\n",
    "\n",
    "__p:__ is the parameter associated with the auto-regressive aspect of the model, which incorporates past values. For example, forecasting that if it rained a lot over the past few days, you state its likely that it will rain tomorrow as well.\n",
    "\n",
    "__d:__ is the parameter associated with the integrated part of the model, which effects the amount of differencing to apply to a time series. You can imagine an example of this as forecasting that the amount of rain tomorrow will be similar to the amount of rain today, if the daily amounts of rain have been similar over the past few days.\n",
    "\n",
    "__q:__ is the parameter associated with the moving average part of the model.\n",
    "\n",
    "### Approach to determine the parameters\n",
    "There are many ways to choose these values statistically, such as looking at auto-correlation plots, correlation plots, domain experience, etc.\n",
    "\n",
    "Another approach is to perform a grid search over multiple values of p,d,q using some sort of performance criteria. The Akaike information criterion (AIC) is an estimator of the relative quality of statistical models for a given set of data. Given a collection of models for the data, AIC estimates the quality of each model, relative to each of the other models.\n",
    "\n",
    "\n",
    "In this exercise, we will look into the statistical method of getting these values from auto-correlation and correlation plots."
   ]
  },
  {
   "cell_type": "markdown",
   "metadata": {
    "colab_type": "text",
    "id": "iP5Qup5I7l0x"
   },
   "source": [
    "### Stationarity of the data - Determine the d value\n",
    "\n",
    "Stationarity typically indicates various statistical measures of the time series do not change over time. Thus, a time series is stationary when its mean, variance and auto-correlation, etc., are constant over time. \n",
    "\n",
    "Most time-series forecasting models typically perform well when the series is stationary and hence it is important to find out if your time-series dataset is stationary. \n",
    "\n",
    "ARIMAs that include differencing (i.e., d > 0) assume that the data becomes stationary after differencing. This is called difference-stationary. \n",
    "\n",
    "Auto-correlation plots are an easy way to determine whether your time series is sufficiently stationary for modeling. \n",
    "\n",
    "If the plot does not appear relatively stationary, your model will likely need a differencing term. \n",
    "\n",
    "The Augmented Dickey-Fuller test is an important statistical test which we will use to prove if the series is stationary or not and take necessary steps in case it is not stationary."
   ]
  },
  {
   "cell_type": "code",
   "execution_count": 13,
   "metadata": {
    "colab": {
     "base_uri": "https://localhost:8080/",
     "height": 390
    },
    "colab_type": "code",
    "id": "0TfnfVdMleJY",
    "outputId": "069bc3f8-aa6b-44f5-8c05-b5e31913d179"
   },
   "outputs": [
    {
     "data": {
      "text/plain": "<Figure size 720x432 with 1 Axes>",
      "image/png": "[encoded data removed]"
     },
     "metadata": {
      "needs_background": "light"
     },
     "output_type": "display_data"
    }
   ],
   "source": [
    "window = 7\n",
    "train_series = train_data['Open']\n",
    "\n",
    "#Determing rolling statistics\n",
    "rolmean = train_series.rolling(window).mean()\n",
    "rolstd = train_series.rolling(window).std()\n",
    "\n",
    "#Plot rolling statistics:\n",
    "fig = plt.figure(figsize=(10, 6))\n",
    "orig = plt.plot(train_series, color='blue',label='Original')\n",
    "mean = plt.plot(rolmean, color='red', label='Rolling Mean')\n",
    "std = plt.plot(rolstd, color='black', label = 'Rolling Std')\n",
    "plt.legend(loc='best')\n",
    "plt.title('Rolling Mean & Standard Deviation');\n",
    "    "
   ]
  },
  {
   "cell_type": "code",
   "execution_count": 14,
   "metadata": {
    "colab": {
     "base_uri": "https://localhost:8080/",
     "height": 151
    },
    "colab_type": "code",
    "id": "RM44jwLammeY",
    "outputId": "509bda4d-22da-43e7-cde6-bedbb0f24dce"
   },
   "outputs": [
    {
     "data": {
      "text/plain": "Test Statistic                   -1.487786\np-value                           0.539545\n#Lags Used                        7.000000\nNumber of Observations Used    2407.000000\nCritical Value (1%)              -3.433070\nCritical Value (5%)              -2.862742\nCritical Value (10%)             -2.567410\ndtype: float64"
     },
     "execution_count": 14,
     "metadata": {},
     "output_type": "execute_result"
    }
   ],
   "source": [
    "from statsmodels.tsa.stattools import adfuller\n",
    "\n",
    "dftest = adfuller(train_series, autolag='AIC')\n",
    "dfoutput = pd.Series(dftest[0:4], index=['Test Statistic','p-value','#Lags Used','Number of Observations Used'])\n",
    "for key,value in dftest[4].items():\n",
    "    dfoutput['Critical Value (%s)'%key] = value\n",
    "dfoutput"
   ]
  },
  {
   "cell_type": "markdown",
   "metadata": {
    "colab_type": "text",
    "id": "R1YJhVNzZD87"
   },
   "source": [
    "If the p-value is small beyond a specific significance level threshold, let's consider that to be a standard value of 0.05, then we can say the series is stationary. F\n",
    "\n",
    "rom the above statistics, we can observe that the p-value is 0.539 which proves that our series is not stationary.\n",
    "\n",
    "To get stationary data, there are many techniques. We can use log, differencing and so on. Let's use a first order differencing here."
   ]
  },
  {
   "cell_type": "markdown",
   "metadata": {},
   "source": [
    "### Q4: Apply a first order differencing on the training data\n",
    "\n",
    "Hint: Check out the __`diff()`__ function in pandas and try using it on the __`train_series`__ dataset"
   ]
  },
  {
   "cell_type": "code",
   "execution_count": 15,
   "metadata": {
    "colab": {},
    "colab_type": "code",
    "id": "EomzoS5494th"
   },
   "outputs": [],
   "source": [
    "train_diff = train_series.diff()\n",
    "train_diff = train_diff.dropna(inplace = False)"
   ]
  },
  {
   "cell_type": "markdown",
   "metadata": {},
   "source": [
    "### Q5: Visualize Rolling statistics for differenced train data"
   ]
  },
  {
   "cell_type": "code",
   "execution_count": 16,
   "metadata": {},
   "outputs": [
    {
     "data": {
      "text/plain": "Date\n2006-01-03           NaN\n2006-01-04           NaN\n2006-01-05           NaN\n2006-01-06           NaN\n2006-01-09           NaN\n                 ...    \n2015-07-31    160.338571\n2015-08-03    160.542857\n2015-08-04    160.130000\n2015-08-05    160.144286\n2015-08-06    159.747143\nName: Open, Length: 2415, dtype: float64"
     },
     "execution_count": 16,
     "metadata": {},
     "output_type": "execute_result"
    }
   ],
   "source": [
    "rolmean"
   ]
  },
  {
   "cell_type": "code",
   "execution_count": 17,
   "metadata": {
    "colab": {
     "base_uri": "https://localhost:8080/",
     "height": 390
    },
    "colab_type": "code",
    "id": "kStK1sqjn_df",
    "outputId": "883dce6e-9e28-441d-d14b-aca927d7c283"
   },
   "outputs": [
    {
     "data": {
      "text/plain": "<Figure size 720x432 with 1 Axes>",
      "image/png": "[encoded data removed]"
     },
     "metadata": {
      "needs_background": "light"
     },
     "output_type": "display_data"
    }
   ],
   "source": [
    "window = 7\n",
    "\n",
    "#Determing rolling statistics\n",
    "rolmean = train_diff.rolling(window).mean()\n",
    "rolstd = train_diff.rolling(window).std()\n",
    "\n",
    "#Plot rolling statistics:\n",
    "fig = plt.figure(figsize=(10, 6))\n",
    "orig = plt.plot(train_diff, color='blue',label='Original')\n",
    "mean = plt.plot(rolmean, color='red', label='Rolling Mean')\n",
    "std = plt.plot(rolstd, color='black', label = 'Rolling Std')\n",
    "plt.legend(loc='best')\n",
    "plt.title('Rolling Mean & Standard Deviation');"
   ]
  },
  {
   "cell_type": "code",
   "execution_count": 18,
   "metadata": {},
   "outputs": [
    {
     "data": {
      "text/plain": "Test Statistic                  -20.324277\np-value                           0.000000\n#Lags Used                        6.000000\nNumber of Observations Used    2407.000000\nCritical Value (1%)              -3.433070\nCritical Value (5%)              -2.862742\nCritical Value (10%)             -2.567410\ndtype: float64"
     },
     "execution_count": 18,
     "metadata": {},
     "output_type": "execute_result"
    }
   ],
   "source": [
    "from statsmodels.tsa.stattools import adfuller\n",
    "\n",
    "dftest = adfuller(train_diff, autolag='AIC')\n",
    "dfoutput = pd.Series(dftest[0:4], index=['Test Statistic','p-value','#Lags Used','Number of Observations Used'])\n",
    "for key,value in dftest[4].items():\n",
    "    dfoutput['Critical Value (%s)'%key] = value\n",
    "dfoutput"
   ]
  },
  {
   "cell_type": "markdown",
   "metadata": {},
   "source": [
    "### Q6: Compute AD-Fuller Stats for differenced train data"
   ]
  },
  {
   "cell_type": "markdown",
   "metadata": {
    "colab_type": "text",
    "id": "-T_wDkhRZdqm"
   },
   "source": [
    "After differencing, the p-value is extremely small. Thus this series is very likely to be stationary."
   ]
  },
  {
   "cell_type": "markdown",
   "metadata": {
    "colab_type": "text",
    "id": "QhY85n0qa85g"
   },
   "source": [
    "### ACF Plots (Auto Correlation Function):\n",
    "ACF is an auto-correlation function which gives us correlation of any series with its lagged values(previous timestep values).\n",
    "\n",
    "ACF plot describes the correlation of the current value with the previous lagged values(specified by *lags*).\n",
    "\n",
    "For example, how the dependency chain is followed as direct dependency .... $S_{t-2} --> S_{t-1} --> S_t$*\n",
    "\n",
    "Also, ACF finds correlation between $S_{t-2} --> S_t$ (indirect dependency).\n",
    "\n",
    "* --> = represents dependency\n",
    "\n",
    "#### Limitation: \n",
    "ACF is not very accurate as indirect dependency is affected by direct dependency and so the plots are always above the confidence band(as shown below)."
   ]
  },
  {
   "cell_type": "markdown",
   "metadata": {
    "colab_type": "text",
    "id": "fXEjp5BubI-L"
   },
   "source": [
    "### PACF Plots: Pearson Auto Correlation Function:\n",
    "PACF plots models the indirect dependencies and is not affected by the direct dependencies.\n",
    "\n",
    "$S_{t-2} --> S_t$\n",
    "\n",
    "From the below example we can see how today's value is affected by the last 10 days. \n",
    "\n",
    "The points that lie inside the blue confidence band do not correlate with or affect today's value. In ACF, we saw that all values are above the confidence band(as $S_{t-2} --> S{t}$ is affected by $S_{t-1} --> S_t$), which is not a good representation of the correlation.\n",
    "\n",
    "\n",
    "In PACF, indirect dependencies are modelled well."
   ]
  },
  {
   "cell_type": "markdown",
   "metadata": {
    "colab_type": "text",
    "id": "9nG-g8DDZhL5"
   },
   "source": [
    "## ACF and PACF - AR and MA Intuition\n",
    "The partial autocorrelation at lag k is the correlation that results after removing the effect of any correlations due to the terms at shorter lags.\n",
    "\n",
    "### Autoregression Intuition\n",
    "Consider a time series that was generated by an autoregression (AR) process with a lag of k.\n",
    "\n",
    "We know that the ACF describes the autocorrelation between an observation and another observation at a prior time step that includes direct and indirect dependence information.\n",
    "\n",
    "This means we would expect the ACF for the AR(k) time series to be strong to a lag of k and the inertia of that relationship would carry on to subsequent lag values, trailing off at some point as the effect was weakened.\n",
    "\n",
    "We know that the PACF only describes the direct relationship between an observation and its lag. This would suggest that there would be no correlation for lag values beyond k.\n",
    "\n",
    "This is exactly the expectation of the ACF and PACF plots for an AR(k) process.\n",
    "\n",
    "### Moving Average Intuition\n",
    "Consider a time series that was generated by a moving average (MA) process with a lag of k.\n",
    "\n",
    "Remember that the moving average process is an autoregression model of the time series of residual errors from prior predictions. Another way to think about the moving average model is that it corrects future forecasts based on errors made on recent forecasts.\n",
    "\n",
    "We would expect the ACF for the MA(k) process to show a strong correlation with recent values up to the lag of k, then a sharp decline to low or no correlation. By definition, this is how the process was generated.\n",
    "\n",
    "For the PACF, we would expect the plot to show a strong relationship to the lag and a trailing off of correlation from the lag onwards.\n",
    "\n",
    "Again, this is exactly the expectation of the ACF and PACF plots for an MA(k) process."
   ]
  },
  {
   "cell_type": "markdown",
   "metadata": {},
   "source": [
    "### Plot ACF and PACF on the original train series"
   ]
  },
  {
   "cell_type": "code",
   "execution_count": 19,
   "metadata": {
    "colab": {
     "base_uri": "https://localhost:8080/",
     "height": 499
    },
    "colab_type": "code",
    "id": "TKCS364Bq2BP",
    "outputId": "6c65562b-c492-4984-b2dd-edf97a2e682e"
   },
   "outputs": [
    {
     "data": {
      "text/plain": "<Figure size 864x576 with 2 Axes>",
      "image/png": "[encoded data removed]"
     },
     "metadata": {
      "needs_background": "light"
     },
     "output_type": "display_data"
    }
   ],
   "source": [
    "from statsmodels.graphics.tsaplots import plot_acf, plot_pacf\n",
    "\n",
    "fig, ax = plt.subplots(2, 1, figsize=(12,8))\n",
    "plot_acf(train_series, ax=ax[0]); # \n",
    "plot_pacf(train_series, ax=ax[1]);"
   ]
  },
  {
   "cell_type": "markdown",
   "metadata": {},
   "source": [
    "### Q7: Plot ACF and PACF on the differenced train series"
   ]
  },
  {
   "cell_type": "code",
   "execution_count": 20,
   "metadata": {
    "colab": {
     "base_uri": "https://localhost:8080/",
     "height": 499
    },
    "colab_type": "code",
    "id": "FPxG3Hkwpl6u",
    "outputId": "74e69c20-903d-45f4-a111-ddfcc15af99a"
   },
   "outputs": [
    {
     "data": {
      "text/plain": "<Figure size 864x576 with 2 Axes>",
      "image/png": "[encoded data removed]"
     },
     "metadata": {
      "needs_background": "light"
     },
     "output_type": "display_data"
    }
   ],
   "source": [
    "from statsmodels.graphics.tsaplots import plot_acf, plot_pacf\n",
    "\n",
    "fig, ax = plt.subplots(2, 1, figsize=(12,8))\n",
    "plot_acf(train_diff, ax=ax[0]); # \n",
    "plot_pacf(train_diff, ax=ax[1]);"
   ]
  },
  {
   "cell_type": "markdown",
   "metadata": {
    "colab_type": "text",
    "id": "z4veOUVxSP8j"
   },
   "source": [
    "# How to determine p, d, q\n",
    "\n",
    "It's easy to determine d. In our case, we see the first order differencing make the ts stationary. Hence d = 1\n",
    "\n",
    "AR model might be investigated first with lag length selected from the PACF or via empirical investigation. In our case, it's clearly that within 5 lags the AR is significant. Which means, we can use AR = 5 i.e, p = 5\n",
    "\n",
    "To avoid the potential for incorrectly specifying the MA order to be too high we set MA = 0 i.e q = 0 by taking a look at the ACF plot though we do have a value of 5 which is significant considering the interval but we start off with the first lag value i.e q = 0.\n",
    "\n",
    "Hence:\n",
    "\n",
    "- p=5\n",
    "- d=1\n",
    "- q=0"
   ]
  },
  {
   "cell_type": "markdown",
   "metadata": {
    "colab_type": "text",
    "id": "dCEcnGXsdLkl"
   },
   "source": [
    "# Evaluation of ARIMA Model\n",
    "\n",
    "In order to evaluate the ARIMA model,we can use two different error functions:\n",
    "\n",
    "- Mean Squared Error (MSE)\n",
    "- Symmetric Mean Absolute Percentage Error (SMAPE)\n",
    "\n",
    "SMAPE is commonly used as an accuracy measure based on relative errors"
   ]
  },
  {
   "cell_type": "markdown",
   "metadata": {
    "colab_type": "text",
    "id": "iClH4YhNdSCB"
   },
   "source": [
    "### SMAPE\n",
    "\n",
    "![](imgs/smape.png)\n",
    "\n",
    "SMAPE is not currently supported in Scikit-learn as a loss function, therefore we first create this function."
   ]
  },
  {
   "cell_type": "code",
   "execution_count": 21,
   "metadata": {
    "colab": {},
    "colab_type": "code",
    "id": "v36vtXA1dZPo"
   },
   "outputs": [],
   "source": [
    "def smape_kun(y_true, y_pred):\n",
    "    # START_CODE_HERE\n",
    "    return np.mean((np.abs(y_pred - y_true) * 200 / (np.abs(y_pred) + np.abs(y_true))))\n",
    "    # END_CODE_HERE"
   ]
  },
  {
   "cell_type": "markdown",
   "metadata": {},
   "source": [
    "### Q8: Difference the Test Series"
   ]
  },
  {
   "cell_type": "code",
   "execution_count": 22,
   "metadata": {
    "colab": {},
    "colab_type": "code",
    "id": "_YRY19919xXD"
   },
   "outputs": [],
   "source": [
    "test_series = test_data['Open']\n",
    "test_diff = test_series.diff()\n",
    "test_diff = test_diff.dropna(inplace = False)"
   ]
  },
  {
   "cell_type": "markdown",
   "metadata": {},
   "source": [
    "### Q9: Train and Forecast using ARIMA Model by filling in the necessary blocks\n",
    "\n",
    "Note: Here we will use a rolling point-based prediction for the ARIMA model where we tried to predict every day's (t) stock price in the test data by using both the training data as well as the previous (n - t) days of test data also to fit the model.\n",
    "Of course this is not the only way for forecasting and you can do it in multiple ways e.g just use train data to forecast, use a window of days to forecast including test data and so on."
   ]
  },
  {
   "cell_type": "code",
   "execution_count": 23,
   "metadata": {
    "colab": {},
    "colab_type": "code",
    "id": "9_0v9P7OtoVu"
   },
   "outputs": [],
   "source": [
    "from statsmodels.tsa.arima.model import ARIMA\n",
    "from sklearn.metrics import mean_squared_error"
   ]
  },
  {
   "cell_type": "code",
   "execution_count": 28,
   "metadata": {
    "colab": {
     "base_uri": "https://localhost:8080/",
     "height": 202
    },
    "colab_type": "code",
    "id": "IUvMaWIRg4VR",
    "outputId": "6dca97a1-65c1-4cc3-9adf-905995a54abe"
   },
   "outputs": [
    {
     "name": "stdout",
     "output_type": "stream",
     "text": [
      "HERE 1\n",
      "HERE 2\n",
      "HERE 3\n",
      "Test Series Point: 0\tPredicted=-0.5229671065015828, Expected=0.8800000000000239\n",
      "HERE 1\n",
      "HERE 2\n",
      "HERE 3\n",
      "HERE 1\n",
      "HERE 2\n",
      "HERE 3\n",
      "HERE 1\n",
      "HERE 2\n",
      "HERE 3\n",
      "HERE 1\n",
      "HERE 2\n",
      "HERE 3\n",
      "HERE 1\n",
      "HERE 2\n",
      "HERE 3\n",
      "HERE 1\n",
      "HERE 2\n",
      "HERE 3\n",
      "HERE 1\n",
      "HERE 2\n",
      "HERE 3\n",
      "HERE 1\n",
      "HERE 2\n",
      "HERE 3\n",
      "HERE 1\n",
      "HERE 2\n",
      "HERE 3\n",
      "HERE 1\n",
      "HERE 2\n",
      "HERE 3\n",
      "HERE 1\n",
      "HERE 2\n",
      "HERE 3\n",
      "HERE 1\n",
      "HERE 2\n",
      "HERE 3\n",
      "HERE 1\n",
      "HERE 2\n",
      "HERE 3\n",
      "HERE 1\n",
      "HERE 2\n",
      "HERE 3\n",
      "HERE 1\n",
      "HERE 2\n",
      "HERE 3\n",
      "HERE 1\n",
      "HERE 2\n",
      "HERE 3\n",
      "HERE 1\n",
      "HERE 2\n",
      "HERE 3\n",
      "HERE 1\n",
      "HERE 2\n",
      "HERE 3\n",
      "HERE 1\n",
      "HERE 2\n",
      "HERE 3\n",
      "HERE 1\n",
      "HERE 2\n",
      "HERE 3\n",
      "HERE 1\n",
      "HERE 2\n",
      "HERE 3\n",
      "HERE 1\n",
      "HERE 2\n",
      "HERE 3\n",
      "HERE 1\n",
      "HERE 2\n",
      "HERE 3\n",
      "HERE 1\n",
      "HERE 2\n",
      "HERE 3\n",
      "HERE 1\n",
      "HERE 2\n",
      "HERE 3\n",
      "HERE 1\n",
      "HERE 2\n",
      "HERE 3\n",
      "HERE 1\n",
      "HERE 2\n",
      "HERE 3\n",
      "HERE 1\n",
      "HERE 2\n",
      "HERE 3\n",
      "HERE 1\n",
      "HERE 2\n",
      "HERE 3\n",
      "HERE 1\n",
      "HERE 2\n",
      "HERE 3\n",
      "HERE 1\n",
      "HERE 2\n",
      "HERE 3\n",
      "HERE 1\n",
      "HERE 2\n",
      "HERE 3\n",
      "HERE 1\n",
      "HERE 2\n",
      "HERE 3\n",
      "HERE 1\n",
      "HERE 2\n",
      "HERE 3\n",
      "HERE 1\n",
      "HERE 2\n",
      "HERE 3\n",
      "HERE 1\n",
      "HERE 2\n",
      "HERE 3\n",
      "HERE 1\n",
      "HERE 2\n",
      "HERE 3\n",
      "HERE 1\n",
      "HERE 2\n",
      "HERE 3\n",
      "HERE 1\n",
      "HERE 2\n",
      "HERE 3\n",
      "HERE 1\n",
      "HERE 2\n",
      "HERE 3\n",
      "HERE 1\n",
      "HERE 2\n",
      "HERE 3\n",
      "HERE 1\n",
      "HERE 2\n",
      "HERE 3\n",
      "HERE 1\n",
      "HERE 2\n",
      "HERE 3\n",
      "HERE 1\n",
      "HERE 2\n",
      "HERE 3\n",
      "HERE 1\n",
      "HERE 2\n",
      "HERE 3\n",
      "HERE 1\n",
      "HERE 2\n",
      "HERE 3\n",
      "HERE 1\n",
      "HERE 2\n",
      "HERE 3\n",
      "HERE 1\n",
      "HERE 2\n",
      "HERE 3\n",
      "HERE 1\n",
      "HERE 2\n",
      "HERE 3\n",
      "HERE 1\n",
      "HERE 2\n",
      "HERE 3\n",
      "HERE 1\n",
      "HERE 2\n",
      "HERE 3\n",
      "HERE 1\n",
      "HERE 2\n",
      "HERE 3\n",
      "HERE 1\n",
      "HERE 2\n",
      "HERE 3\n",
      "HERE 1\n",
      "HERE 2\n",
      "HERE 3\n",
      "HERE 1\n",
      "HERE 2\n",
      "HERE 3\n",
      "HERE 1\n",
      "HERE 2\n",
      "HERE 3\n",
      "HERE 1\n",
      "HERE 2\n",
      "HERE 3\n",
      "HERE 1\n",
      "HERE 2\n",
      "HERE 3\n",
      "HERE 1\n",
      "HERE 2\n",
      "HERE 3\n",
      "HERE 1\n",
      "HERE 2\n",
      "HERE 3\n",
      "HERE 1\n",
      "HERE 2\n",
      "HERE 3\n",
      "HERE 1\n",
      "HERE 2\n",
      "HERE 3\n",
      "HERE 1\n",
      "HERE 2\n",
      "HERE 3\n",
      "HERE 1\n",
      "HERE 2\n",
      "HERE 3\n",
      "HERE 1\n",
      "HERE 2\n",
      "HERE 3\n",
      "HERE 1\n",
      "HERE 2\n",
      "HERE 3\n",
      "HERE 1\n",
      "HERE 2\n",
      "HERE 3\n",
      "HERE 1\n",
      "HERE 2\n",
      "HERE 3\n",
      "HERE 1\n",
      "HERE 2\n",
      "HERE 3\n",
      "HERE 1\n",
      "HERE 2\n",
      "HERE 3\n",
      "HERE 1\n",
      "HERE 2\n",
      "HERE 3\n",
      "HERE 1\n",
      "HERE 2\n",
      "HERE 3\n",
      "HERE 1\n",
      "HERE 2\n",
      "HERE 3\n",
      "HERE 1\n",
      "HERE 2\n",
      "HERE 3\n",
      "HERE 1\n",
      "HERE 2\n",
      "HERE 3\n",
      "HERE 1\n",
      "HERE 2\n",
      "HERE 3\n",
      "HERE 1\n",
      "HERE 2\n",
      "HERE 3\n",
      "HERE 1\n",
      "HERE 2\n",
      "HERE 3\n",
      "HERE 1\n",
      "HERE 2\n",
      "HERE 3\n",
      "HERE 1\n",
      "HERE 2\n",
      "HERE 3\n",
      "HERE 1\n",
      "HERE 2\n",
      "HERE 3\n",
      "HERE 1\n",
      "HERE 2\n",
      "HERE 3\n",
      "HERE 1\n",
      "HERE 2\n",
      "HERE 3\n",
      "HERE 1\n",
      "HERE 2\n",
      "HERE 3\n",
      "HERE 1\n",
      "HERE 2\n",
      "HERE 3\n",
      "HERE 1\n",
      "HERE 2\n",
      "HERE 3\n",
      "HERE 1\n",
      "HERE 2\n",
      "HERE 3\n",
      "HERE 1\n",
      "HERE 2\n",
      "HERE 3\n",
      "HERE 1\n",
      "HERE 2\n",
      "HERE 3\n",
      "HERE 1\n",
      "HERE 2\n",
      "HERE 3\n",
      "HERE 1\n",
      "HERE 2\n",
      "HERE 3\n",
      "HERE 1\n",
      "HERE 2\n",
      "HERE 3\n",
      "HERE 1\n",
      "HERE 2\n",
      "HERE 3\n",
      "HERE 1\n",
      "HERE 2\n",
      "HERE 3\n",
      "HERE 1\n",
      "HERE 2\n",
      "HERE 3\n",
      "HERE 1\n",
      "HERE 2\n",
      "HERE 3\n",
      "HERE 1\n",
      "HERE 2\n",
      "HERE 3\n",
      "HERE 1\n",
      "HERE 2\n",
      "HERE 3\n",
      "HERE 1\n",
      "HERE 2\n",
      "HERE 3\n",
      "HERE 1\n",
      "HERE 2\n",
      "HERE 3\n",
      "Test Series Point: 100\tPredicted=0.5049973044335178, Expected=-0.5100000000000193\n",
      "HERE 1\n",
      "HERE 2\n",
      "HERE 3\n",
      "HERE 1\n",
      "HERE 2\n",
      "HERE 3\n",
      "HERE 1\n",
      "HERE 2\n",
      "HERE 3\n",
      "HERE 1\n",
      "HERE 2\n",
      "HERE 3\n",
      "HERE 1\n",
      "HERE 2\n",
      "HERE 3\n",
      "HERE 1\n",
      "HERE 2\n",
      "HERE 3\n",
      "HERE 1\n",
      "HERE 2\n",
      "HERE 3\n",
      "HERE 1\n",
      "HERE 2\n",
      "HERE 3\n",
      "HERE 1\n",
      "HERE 2\n",
      "HERE 3\n",
      "HERE 1\n",
      "HERE 2\n",
      "HERE 3\n",
      "HERE 1\n",
      "HERE 2\n",
      "HERE 3\n",
      "HERE 1\n",
      "HERE 2\n",
      "HERE 3\n",
      "HERE 1\n",
      "HERE 2\n",
      "HERE 3\n",
      "HERE 1\n",
      "HERE 2\n",
      "HERE 3\n",
      "HERE 1\n",
      "HERE 2\n",
      "HERE 3\n",
      "HERE 1\n",
      "HERE 2\n",
      "HERE 3\n",
      "HERE 1\n",
      "HERE 2\n",
      "HERE 3\n",
      "HERE 1\n",
      "HERE 2\n",
      "HERE 3\n",
      "HERE 1\n",
      "HERE 2\n",
      "HERE 3\n",
      "HERE 1\n",
      "HERE 2\n",
      "HERE 3\n",
      "HERE 1\n",
      "HERE 2\n",
      "HERE 3\n",
      "HERE 1\n",
      "HERE 2\n",
      "HERE 3\n",
      "HERE 1\n",
      "HERE 2\n",
      "HERE 3\n",
      "HERE 1\n",
      "HERE 2\n",
      "HERE 3\n",
      "HERE 1\n",
      "HERE 2\n",
      "HERE 3\n",
      "HERE 1\n",
      "HERE 2\n",
      "HERE 3\n",
      "HERE 1\n",
      "HERE 2\n",
      "HERE 3\n",
      "HERE 1\n",
      "HERE 2\n",
      "HERE 3\n",
      "HERE 1\n",
      "HERE 2\n",
      "HERE 3\n",
      "HERE 1\n",
      "HERE 2\n",
      "HERE 3\n",
      "HERE 1\n",
      "HERE 2\n",
      "HERE 3\n",
      "HERE 1\n",
      "HERE 2\n",
      "HERE 3\n",
      "HERE 1\n",
      "HERE 2\n",
      "HERE 3\n",
      "HERE 1\n",
      "HERE 2\n",
      "HERE 3\n",
      "HERE 1\n",
      "HERE 2\n",
      "HERE 3\n",
      "HERE 1\n",
      "HERE 2\n",
      "HERE 3\n",
      "HERE 1\n",
      "HERE 2\n",
      "HERE 3\n",
      "HERE 1\n",
      "HERE 2\n",
      "HERE 3\n",
      "HERE 1\n",
      "HERE 2\n",
      "HERE 3\n",
      "HERE 1\n",
      "HERE 2\n",
      "HERE 3\n",
      "HERE 1\n",
      "HERE 2\n",
      "HERE 3\n",
      "HERE 1\n",
      "HERE 2\n",
      "HERE 3\n",
      "HERE 1\n",
      "HERE 2\n",
      "HERE 3\n",
      "HERE 1\n",
      "HERE 2\n",
      "HERE 3\n",
      "HERE 1\n",
      "HERE 2\n",
      "HERE 3\n",
      "HERE 1\n",
      "HERE 2\n",
      "HERE 3\n",
      "HERE 1\n",
      "HERE 2\n",
      "HERE 3\n",
      "HERE 1\n",
      "HERE 2\n",
      "HERE 3\n",
      "HERE 1\n",
      "HERE 2\n",
      "HERE 3\n",
      "HERE 1\n",
      "HERE 2\n",
      "HERE 3\n",
      "HERE 1\n",
      "HERE 2\n",
      "HERE 3\n",
      "HERE 1\n",
      "HERE 2\n",
      "HERE 3\n",
      "HERE 1\n",
      "HERE 2\n",
      "HERE 3\n",
      "HERE 1\n",
      "HERE 2\n",
      "HERE 3\n",
      "HERE 1\n",
      "HERE 2\n",
      "HERE 3\n",
      "HERE 1\n",
      "HERE 2\n",
      "HERE 3\n",
      "HERE 1\n",
      "HERE 2\n",
      "HERE 3\n",
      "HERE 1\n",
      "HERE 2\n",
      "HERE 3\n",
      "HERE 1\n",
      "HERE 2\n",
      "HERE 3\n",
      "HERE 1\n",
      "HERE 2\n",
      "HERE 3\n",
      "HERE 1\n",
      "HERE 2\n",
      "HERE 3\n",
      "HERE 1\n",
      "HERE 2\n",
      "HERE 3\n",
      "HERE 1\n",
      "HERE 2\n",
      "HERE 3\n",
      "HERE 1\n",
      "HERE 2\n",
      "HERE 3\n",
      "HERE 1\n",
      "HERE 2\n",
      "HERE 3\n",
      "HERE 1\n",
      "HERE 2\n",
      "HERE 3\n",
      "HERE 1\n",
      "HERE 2\n",
      "HERE 3\n",
      "HERE 1\n",
      "HERE 2\n",
      "HERE 3\n",
      "HERE 1\n",
      "HERE 2\n",
      "HERE 3\n",
      "HERE 1\n",
      "HERE 2\n",
      "HERE 3\n",
      "HERE 1\n",
      "HERE 2\n",
      "HERE 3\n",
      "HERE 1\n",
      "HERE 2\n",
      "HERE 3\n",
      "HERE 1\n",
      "HERE 2\n",
      "HERE 3\n",
      "HERE 1\n",
      "HERE 2\n",
      "HERE 3\n",
      "HERE 1\n",
      "HERE 2\n",
      "HERE 3\n",
      "HERE 1\n",
      "HERE 2\n",
      "HERE 3\n",
      "HERE 1\n",
      "HERE 2\n",
      "HERE 3\n",
      "HERE 1\n",
      "HERE 2\n",
      "HERE 3\n",
      "HERE 1\n",
      "HERE 2\n",
      "HERE 3\n",
      "HERE 1\n",
      "HERE 2\n",
      "HERE 3\n",
      "HERE 1\n",
      "HERE 2\n",
      "HERE 3\n",
      "HERE 1\n",
      "HERE 2\n",
      "HERE 3\n",
      "HERE 1\n",
      "HERE 2\n",
      "HERE 3\n",
      "HERE 1\n",
      "HERE 2\n",
      "HERE 3\n",
      "HERE 1\n",
      "HERE 2\n",
      "HERE 3\n",
      "HERE 1\n",
      "HERE 2\n",
      "HERE 3\n",
      "HERE 1\n",
      "HERE 2\n",
      "HERE 3\n",
      "HERE 1\n",
      "HERE 2\n",
      "HERE 3\n",
      "HERE 1\n",
      "HERE 2\n",
      "HERE 3\n",
      "HERE 1\n",
      "HERE 2\n",
      "HERE 3\n",
      "HERE 1\n",
      "HERE 2\n",
      "HERE 3\n",
      "HERE 1\n",
      "HERE 2\n",
      "HERE 3\n",
      "HERE 1\n",
      "HERE 2\n",
      "HERE 3\n",
      "HERE 1\n",
      "HERE 2\n",
      "HERE 3\n",
      "HERE 1\n",
      "HERE 2\n",
      "HERE 3\n",
      "HERE 1\n",
      "HERE 2\n",
      "HERE 3\n",
      "HERE 1\n",
      "HERE 2\n",
      "HERE 3\n",
      "HERE 1\n",
      "HERE 2\n",
      "HERE 3\n",
      "HERE 1\n",
      "HERE 2\n",
      "HERE 3\n",
      "HERE 1\n",
      "HERE 2\n",
      "HERE 3\n",
      "Test Series Point: 200\tPredicted=0.035878316243220354, Expected=2.0500000000000114\n",
      "HERE 1\n",
      "HERE 2\n",
      "HERE 3\n",
      "HERE 1\n",
      "HERE 2\n",
      "HERE 3\n",
      "HERE 1\n",
      "HERE 2\n",
      "HERE 3\n",
      "HERE 1\n",
      "HERE 2\n",
      "HERE 3\n",
      "HERE 1\n",
      "HERE 2\n",
      "HERE 3\n",
      "HERE 1\n",
      "HERE 2\n",
      "HERE 3\n",
      "HERE 1\n",
      "HERE 2\n",
      "HERE 3\n",
      "HERE 1\n",
      "HERE 2\n",
      "HERE 3\n",
      "HERE 1\n",
      "HERE 2\n",
      "HERE 3\n",
      "HERE 1\n",
      "HERE 2\n",
      "HERE 3\n",
      "HERE 1\n",
      "HERE 2\n",
      "HERE 3\n",
      "HERE 1\n",
      "HERE 2\n",
      "HERE 3\n",
      "HERE 1\n",
      "HERE 2\n",
      "HERE 3\n",
      "HERE 1\n",
      "HERE 2\n",
      "HERE 3\n",
      "HERE 1\n",
      "HERE 2\n",
      "HERE 3\n",
      "HERE 1\n",
      "HERE 2\n",
      "HERE 3\n",
      "HERE 1\n",
      "HERE 2\n",
      "HERE 3\n",
      "HERE 1\n",
      "HERE 2\n",
      "HERE 3\n",
      "HERE 1\n",
      "HERE 2\n",
      "HERE 3\n",
      "HERE 1\n",
      "HERE 2\n",
      "HERE 3\n",
      "HERE 1\n",
      "HERE 2\n",
      "HERE 3\n",
      "HERE 1\n",
      "HERE 2\n",
      "HERE 3\n",
      "HERE 1\n",
      "HERE 2\n",
      "HERE 3\n",
      "HERE 1\n",
      "HERE 2\n",
      "HERE 3\n",
      "HERE 1\n",
      "HERE 2\n",
      "HERE 3\n",
      "HERE 1\n",
      "HERE 2\n",
      "HERE 3\n",
      "HERE 1\n",
      "HERE 2\n",
      "HERE 3\n",
      "HERE 1\n",
      "HERE 2\n",
      "HERE 3\n",
      "HERE 1\n",
      "HERE 2\n",
      "HERE 3\n",
      "HERE 1\n",
      "HERE 2\n",
      "HERE 3\n",
      "HERE 1\n",
      "HERE 2\n",
      "HERE 3\n",
      "HERE 1\n",
      "HERE 2\n",
      "HERE 3\n",
      "HERE 1\n",
      "HERE 2\n",
      "HERE 3\n",
      "HERE 1\n",
      "HERE 2\n",
      "HERE 3\n",
      "HERE 1\n",
      "HERE 2\n",
      "HERE 3\n",
      "HERE 1\n",
      "HERE 2\n",
      "HERE 3\n",
      "HERE 1\n",
      "HERE 2\n",
      "HERE 3\n",
      "HERE 1\n",
      "HERE 2\n",
      "HERE 3\n",
      "HERE 1\n",
      "HERE 2\n",
      "HERE 3\n",
      "HERE 1\n",
      "HERE 2\n",
      "HERE 3\n",
      "HERE 1\n",
      "HERE 2\n",
      "HERE 3\n",
      "HERE 1\n",
      "HERE 2\n",
      "HERE 3\n",
      "HERE 1\n",
      "HERE 2\n",
      "HERE 3\n",
      "HERE 1\n",
      "HERE 2\n",
      "HERE 3\n",
      "HERE 1\n",
      "HERE 2\n",
      "HERE 3\n",
      "HERE 1\n",
      "HERE 2\n",
      "HERE 3\n",
      "HERE 1\n",
      "HERE 2\n",
      "HERE 3\n",
      "HERE 1\n",
      "HERE 2\n",
      "HERE 3\n",
      "HERE 1\n",
      "HERE 2\n",
      "HERE 3\n",
      "HERE 1\n",
      "HERE 2\n",
      "HERE 3\n",
      "HERE 1\n",
      "HERE 2\n",
      "HERE 3\n",
      "HERE 1\n",
      "HERE 2\n",
      "HERE 3\n",
      "HERE 1\n",
      "HERE 2\n",
      "HERE 3\n",
      "HERE 1\n",
      "HERE 2\n",
      "HERE 3\n",
      "HERE 1\n",
      "HERE 2\n",
      "HERE 3\n",
      "HERE 1\n",
      "HERE 2\n",
      "HERE 3\n",
      "HERE 1\n",
      "HERE 2\n",
      "HERE 3\n",
      "HERE 1\n",
      "HERE 2\n",
      "HERE 3\n",
      "HERE 1\n",
      "HERE 2\n",
      "HERE 3\n",
      "HERE 1\n",
      "HERE 2\n",
      "HERE 3\n",
      "HERE 1\n",
      "HERE 2\n",
      "HERE 3\n",
      "HERE 1\n",
      "HERE 2\n",
      "HERE 3\n",
      "HERE 1\n",
      "HERE 2\n",
      "HERE 3\n",
      "HERE 1\n",
      "HERE 2\n",
      "HERE 3\n",
      "HERE 1\n",
      "HERE 2\n",
      "HERE 3\n",
      "HERE 1\n",
      "HERE 2\n",
      "HERE 3\n",
      "HERE 1\n",
      "HERE 2\n",
      "HERE 3\n",
      "HERE 1\n",
      "HERE 2\n",
      "HERE 3\n",
      "HERE 1\n",
      "HERE 2\n",
      "HERE 3\n",
      "HERE 1\n",
      "HERE 2\n",
      "HERE 3\n",
      "HERE 1\n",
      "HERE 2\n",
      "HERE 3\n",
      "HERE 1\n",
      "HERE 2\n",
      "HERE 3\n",
      "HERE 1\n",
      "HERE 2\n",
      "HERE 3\n",
      "HERE 1\n",
      "HERE 2\n",
      "HERE 3\n",
      "HERE 1\n",
      "HERE 2\n",
      "HERE 3\n",
      "HERE 1\n",
      "HERE 2\n",
      "HERE 3\n",
      "HERE 1\n",
      "HERE 2\n",
      "HERE 3\n",
      "HERE 1\n",
      "HERE 2\n",
      "HERE 3\n",
      "HERE 1\n",
      "HERE 2\n",
      "HERE 3\n",
      "HERE 1\n",
      "HERE 2\n",
      "HERE 3\n",
      "HERE 1\n",
      "HERE 2\n",
      "HERE 3\n",
      "HERE 1\n",
      "HERE 2\n",
      "HERE 3\n",
      "HERE 1\n",
      "HERE 2\n",
      "HERE 3\n",
      "HERE 1\n",
      "HERE 2\n",
      "HERE 3\n",
      "HERE 1\n",
      "HERE 2\n",
      "HERE 3\n",
      "HERE 1\n",
      "HERE 2\n",
      "HERE 3\n",
      "HERE 1\n",
      "HERE 2\n",
      "HERE 3\n",
      "HERE 1\n",
      "HERE 2\n",
      "HERE 3\n",
      "HERE 1\n",
      "HERE 2\n",
      "HERE 3\n",
      "HERE 1\n",
      "HERE 2\n",
      "HERE 3\n",
      "HERE 1\n",
      "HERE 2\n",
      "HERE 3\n",
      "HERE 1\n",
      "HERE 2\n",
      "HERE 3\n",
      "HERE 1\n",
      "HERE 2\n",
      "HERE 3\n",
      "HERE 1\n",
      "HERE 2\n",
      "HERE 3\n",
      "HERE 1\n",
      "HERE 2\n",
      "HERE 3\n",
      "HERE 1\n",
      "HERE 2\n",
      "HERE 3\n",
      "HERE 1\n",
      "HERE 2\n",
      "HERE 3\n",
      "HERE 1\n",
      "HERE 2\n",
      "HERE 3\n",
      "HERE 1\n",
      "HERE 2\n",
      "HERE 3\n",
      "HERE 1\n",
      "HERE 2\n",
      "HERE 3\n",
      "Test Series Point: 300\tPredicted=-0.37841001730497625, Expected=-0.020000000000010232\n",
      "HERE 1\n",
      "HERE 2\n",
      "HERE 3\n",
      "HERE 1\n",
      "HERE 2\n",
      "HERE 3\n",
      "HERE 1\n",
      "HERE 2\n",
      "HERE 3\n",
      "HERE 1\n",
      "HERE 2\n",
      "HERE 3\n",
      "HERE 1\n",
      "HERE 2\n",
      "HERE 3\n",
      "HERE 1\n",
      "HERE 2\n",
      "HERE 3\n",
      "HERE 1\n",
      "HERE 2\n",
      "HERE 3\n",
      "HERE 1\n",
      "HERE 2\n",
      "HERE 3\n",
      "HERE 1\n",
      "HERE 2\n",
      "HERE 3\n",
      "HERE 1\n",
      "HERE 2\n",
      "HERE 3\n",
      "HERE 1\n",
      "HERE 2\n",
      "HERE 3\n",
      "HERE 1\n",
      "HERE 2\n",
      "HERE 3\n",
      "HERE 1\n",
      "HERE 2\n",
      "HERE 3\n",
      "HERE 1\n",
      "HERE 2\n",
      "HERE 3\n",
      "HERE 1\n",
      "HERE 2\n",
      "HERE 3\n",
      "HERE 1\n",
      "HERE 2\n",
      "HERE 3\n",
      "HERE 1\n",
      "HERE 2\n",
      "HERE 3\n",
      "HERE 1\n",
      "HERE 2\n",
      "HERE 3\n",
      "HERE 1\n",
      "HERE 2\n",
      "HERE 3\n",
      "HERE 1\n",
      "HERE 2\n",
      "HERE 3\n",
      "HERE 1\n",
      "HERE 2\n",
      "HERE 3\n",
      "HERE 1\n",
      "HERE 2\n",
      "HERE 3\n",
      "HERE 1\n",
      "HERE 2\n",
      "HERE 3\n",
      "HERE 1\n",
      "HERE 2\n",
      "HERE 3\n",
      "HERE 1\n",
      "HERE 2\n",
      "HERE 3\n",
      "HERE 1\n",
      "HERE 2\n",
      "HERE 3\n",
      "HERE 1\n",
      "HERE 2\n",
      "HERE 3\n",
      "HERE 1\n",
      "HERE 2\n",
      "HERE 3\n",
      "HERE 1\n",
      "HERE 2\n",
      "HERE 3\n",
      "HERE 1\n",
      "HERE 2\n",
      "HERE 3\n",
      "HERE 1\n",
      "HERE 2\n",
      "HERE 3\n",
      "HERE 1\n",
      "HERE 2\n",
      "HERE 3\n",
      "HERE 1\n",
      "HERE 2\n",
      "HERE 3\n",
      "HERE 1\n",
      "HERE 2\n",
      "HERE 3\n",
      "HERE 1\n",
      "HERE 2\n",
      "HERE 3\n",
      "HERE 1\n",
      "HERE 2\n",
      "HERE 3\n",
      "HERE 1\n",
      "HERE 2\n",
      "HERE 3\n",
      "HERE 1\n",
      "HERE 2\n",
      "HERE 3\n",
      "HERE 1\n",
      "HERE 2\n",
      "HERE 3\n",
      "HERE 1\n",
      "HERE 2\n",
      "HERE 3\n",
      "HERE 1\n",
      "HERE 2\n",
      "HERE 3\n",
      "HERE 1\n",
      "HERE 2\n",
      "HERE 3\n",
      "HERE 1\n",
      "HERE 2\n",
      "HERE 3\n",
      "HERE 1\n",
      "HERE 2\n",
      "HERE 3\n",
      "HERE 1\n",
      "HERE 2\n",
      "HERE 3\n",
      "HERE 1\n",
      "HERE 2\n",
      "HERE 3\n",
      "HERE 1\n",
      "HERE 2\n",
      "HERE 3\n",
      "HERE 1\n",
      "HERE 2\n",
      "HERE 3\n",
      "HERE 1\n",
      "HERE 2\n",
      "HERE 3\n",
      "HERE 1\n",
      "HERE 2\n",
      "HERE 3\n",
      "HERE 1\n",
      "HERE 2\n",
      "HERE 3\n",
      "HERE 1\n",
      "HERE 2\n",
      "HERE 3\n",
      "HERE 1\n",
      "HERE 2\n",
      "HERE 3\n",
      "HERE 1\n",
      "HERE 2\n",
      "HERE 3\n",
      "HERE 1\n",
      "HERE 2\n",
      "HERE 3\n",
      "HERE 1\n",
      "HERE 2\n",
      "HERE 3\n",
      "HERE 1\n",
      "HERE 2\n",
      "HERE 3\n",
      "HERE 1\n",
      "HERE 2\n",
      "HERE 3\n",
      "HERE 1\n",
      "HERE 2\n",
      "HERE 3\n",
      "HERE 1\n",
      "HERE 2\n",
      "HERE 3\n",
      "HERE 1\n",
      "HERE 2\n",
      "HERE 3\n",
      "HERE 1\n",
      "HERE 2\n",
      "HERE 3\n",
      "HERE 1\n",
      "HERE 2\n",
      "HERE 3\n",
      "HERE 1\n",
      "HERE 2\n",
      "HERE 3\n",
      "HERE 1\n",
      "HERE 2\n",
      "HERE 3\n",
      "HERE 1\n",
      "HERE 2\n",
      "HERE 3\n",
      "HERE 1\n",
      "HERE 2\n",
      "HERE 3\n",
      "HERE 1\n",
      "HERE 2\n",
      "HERE 3\n",
      "HERE 1\n",
      "HERE 2\n",
      "HERE 3\n",
      "HERE 1\n",
      "HERE 2\n",
      "HERE 3\n",
      "HERE 1\n",
      "HERE 2\n",
      "HERE 3\n",
      "HERE 1\n",
      "HERE 2\n",
      "HERE 3\n",
      "HERE 1\n",
      "HERE 2\n",
      "HERE 3\n",
      "HERE 1\n",
      "HERE 2\n",
      "HERE 3\n",
      "HERE 1\n",
      "HERE 2\n",
      "HERE 3\n",
      "HERE 1\n",
      "HERE 2\n",
      "HERE 3\n",
      "HERE 1\n",
      "HERE 2\n",
      "HERE 3\n",
      "HERE 1\n",
      "HERE 2\n",
      "HERE 3\n",
      "HERE 1\n",
      "HERE 2\n",
      "HERE 3\n",
      "HERE 1\n",
      "HERE 2\n",
      "HERE 3\n",
      "HERE 1\n",
      "HERE 2\n",
      "HERE 3\n",
      "HERE 1\n",
      "HERE 2\n",
      "HERE 3\n",
      "HERE 1\n",
      "HERE 2\n",
      "HERE 3\n",
      "HERE 1\n",
      "HERE 2\n",
      "HERE 3\n",
      "HERE 1\n",
      "HERE 2\n",
      "HERE 3\n",
      "HERE 1\n",
      "HERE 2\n",
      "HERE 3\n",
      "HERE 1\n",
      "HERE 2\n",
      "HERE 3\n",
      "HERE 1\n",
      "HERE 2\n",
      "HERE 3\n",
      "HERE 1\n",
      "HERE 2\n",
      "HERE 3\n",
      "HERE 1\n",
      "HERE 2\n",
      "HERE 3\n",
      "HERE 1\n",
      "HERE 2\n",
      "HERE 3\n",
      "HERE 1\n",
      "HERE 2\n",
      "HERE 3\n",
      "HERE 1\n",
      "HERE 2\n",
      "HERE 3\n",
      "HERE 1\n",
      "HERE 2\n",
      "HERE 3\n",
      "HERE 1\n",
      "HERE 2\n",
      "HERE 3\n",
      "HERE 1\n",
      "HERE 2\n",
      "HERE 3\n",
      "HERE 1\n",
      "HERE 2\n",
      "HERE 3\n",
      "HERE 1\n",
      "HERE 2\n",
      "HERE 3\n",
      "HERE 1\n",
      "HERE 2\n",
      "HERE 3\n",
      "HERE 1\n",
      "HERE 2\n",
      "HERE 3\n",
      "Test Series Point: 400\tPredicted=-0.7058202183488523, Expected=-0.36000000000001364\n",
      "HERE 1\n",
      "HERE 2\n",
      "HERE 3\n",
      "HERE 1\n",
      "HERE 2\n",
      "HERE 3\n",
      "HERE 1\n",
      "HERE 2\n",
      "HERE 3\n",
      "HERE 1\n",
      "HERE 2\n",
      "HERE 3\n",
      "HERE 1\n",
      "HERE 2\n",
      "HERE 3\n",
      "HERE 1\n",
      "HERE 2\n",
      "HERE 3\n",
      "HERE 1\n",
      "HERE 2\n",
      "HERE 3\n",
      "HERE 1\n",
      "HERE 2\n",
      "HERE 3\n",
      "HERE 1\n",
      "HERE 2\n",
      "HERE 3\n",
      "HERE 1\n",
      "HERE 2\n",
      "HERE 3\n",
      "HERE 1\n",
      "HERE 2\n",
      "HERE 3\n",
      "HERE 1\n",
      "HERE 2\n",
      "HERE 3\n",
      "HERE 1\n",
      "HERE 2\n",
      "HERE 3\n",
      "HERE 1\n",
      "HERE 2\n",
      "HERE 3\n",
      "HERE 1\n",
      "HERE 2\n",
      "HERE 3\n",
      "HERE 1\n",
      "HERE 2\n",
      "HERE 3\n",
      "HERE 1\n",
      "HERE 2\n",
      "HERE 3\n",
      "HERE 1\n",
      "HERE 2\n",
      "HERE 3\n",
      "HERE 1\n",
      "HERE 2\n",
      "HERE 3\n",
      "HERE 1\n",
      "HERE 2\n",
      "HERE 3\n",
      "HERE 1\n",
      "HERE 2\n",
      "HERE 3\n",
      "HERE 1\n",
      "HERE 2\n",
      "HERE 3\n",
      "HERE 1\n",
      "HERE 2\n",
      "HERE 3\n",
      "HERE 1\n",
      "HERE 2\n",
      "HERE 3\n",
      "HERE 1\n",
      "HERE 2\n",
      "HERE 3\n",
      "HERE 1\n",
      "HERE 2\n",
      "HERE 3\n",
      "HERE 1\n",
      "HERE 2\n",
      "HERE 3\n",
      "HERE 1\n",
      "HERE 2\n",
      "HERE 3\n",
      "HERE 1\n",
      "HERE 2\n",
      "HERE 3\n",
      "HERE 1\n",
      "HERE 2\n",
      "HERE 3\n",
      "HERE 1\n",
      "HERE 2\n",
      "HERE 3\n",
      "HERE 1\n",
      "HERE 2\n",
      "HERE 3\n",
      "HERE 1\n",
      "HERE 2\n",
      "HERE 3\n",
      "HERE 1\n",
      "HERE 2\n",
      "HERE 3\n",
      "HERE 1\n",
      "HERE 2\n",
      "HERE 3\n",
      "HERE 1\n",
      "HERE 2\n",
      "HERE 3\n",
      "HERE 1\n",
      "HERE 2\n",
      "HERE 3\n",
      "HERE 1\n",
      "HERE 2\n",
      "HERE 3\n",
      "HERE 1\n",
      "HERE 2\n",
      "HERE 3\n",
      "HERE 1\n",
      "HERE 2\n",
      "HERE 3\n",
      "HERE 1\n",
      "HERE 2\n",
      "HERE 3\n",
      "HERE 1\n",
      "HERE 2\n",
      "HERE 3\n",
      "HERE 1\n",
      "HERE 2\n",
      "HERE 3\n",
      "HERE 1\n",
      "HERE 2\n",
      "HERE 3\n",
      "HERE 1\n",
      "HERE 2\n",
      "HERE 3\n",
      "HERE 1\n",
      "HERE 2\n",
      "HERE 3\n",
      "HERE 1\n",
      "HERE 2\n",
      "HERE 3\n",
      "HERE 1\n",
      "HERE 2\n",
      "HERE 3\n",
      "HERE 1\n",
      "HERE 2\n",
      "HERE 3\n",
      "HERE 1\n",
      "HERE 2\n",
      "HERE 3\n",
      "HERE 1\n",
      "HERE 2\n",
      "HERE 3\n",
      "HERE 1\n",
      "HERE 2\n",
      "HERE 3\n",
      "HERE 1\n",
      "HERE 2\n",
      "HERE 3\n",
      "HERE 1\n",
      "HERE 2\n",
      "HERE 3\n",
      "HERE 1\n",
      "HERE 2\n",
      "HERE 3\n",
      "HERE 1\n",
      "HERE 2\n",
      "HERE 3\n",
      "HERE 1\n",
      "HERE 2\n",
      "HERE 3\n",
      "HERE 1\n",
      "HERE 2\n",
      "HERE 3\n",
      "HERE 1\n",
      "HERE 2\n",
      "HERE 3\n",
      "HERE 1\n",
      "HERE 2\n",
      "HERE 3\n",
      "HERE 1\n",
      "HERE 2\n",
      "HERE 3\n",
      "HERE 1\n",
      "HERE 2\n",
      "HERE 3\n",
      "HERE 1\n",
      "HERE 2\n",
      "HERE 3\n",
      "HERE 1\n",
      "HERE 2\n",
      "HERE 3\n",
      "HERE 1\n",
      "HERE 2\n",
      "HERE 3\n",
      "HERE 1\n",
      "HERE 2\n",
      "HERE 3\n",
      "HERE 1\n",
      "HERE 2\n",
      "HERE 3\n",
      "HERE 1\n",
      "HERE 2\n",
      "HERE 3\n",
      "HERE 1\n",
      "HERE 2\n",
      "HERE 3\n",
      "HERE 1\n",
      "HERE 2\n",
      "HERE 3\n",
      "HERE 1\n",
      "HERE 2\n",
      "HERE 3\n",
      "HERE 1\n",
      "HERE 2\n",
      "HERE 3\n",
      "HERE 1\n",
      "HERE 2\n",
      "HERE 3\n",
      "HERE 1\n",
      "HERE 2\n",
      "HERE 3\n",
      "HERE 1\n",
      "HERE 2\n",
      "HERE 3\n",
      "HERE 1\n",
      "HERE 2\n",
      "HERE 3\n",
      "HERE 1\n",
      "HERE 2\n",
      "HERE 3\n",
      "HERE 1\n",
      "HERE 2\n",
      "HERE 3\n",
      "HERE 1\n",
      "HERE 2\n",
      "HERE 3\n",
      "HERE 1\n",
      "HERE 2\n",
      "HERE 3\n",
      "HERE 1\n",
      "HERE 2\n",
      "HERE 3\n",
      "HERE 1\n",
      "HERE 2\n",
      "HERE 3\n",
      "HERE 1\n",
      "HERE 2\n",
      "HERE 3\n",
      "HERE 1\n",
      "HERE 2\n",
      "HERE 3\n",
      "HERE 1\n",
      "HERE 2\n",
      "HERE 3\n",
      "HERE 1\n",
      "HERE 2\n",
      "HERE 3\n",
      "HERE 1\n",
      "HERE 2\n",
      "HERE 3\n",
      "HERE 1\n",
      "HERE 2\n",
      "HERE 3\n",
      "HERE 1\n",
      "HERE 2\n",
      "HERE 3\n",
      "HERE 1\n",
      "HERE 2\n",
      "HERE 3\n",
      "HERE 1\n",
      "HERE 2\n",
      "HERE 3\n",
      "HERE 1\n",
      "HERE 2\n",
      "HERE 3\n",
      "HERE 1\n",
      "HERE 2\n",
      "HERE 3\n",
      "HERE 1\n",
      "HERE 2\n",
      "HERE 3\n",
      "HERE 1\n",
      "HERE 2\n",
      "HERE 3\n",
      "HERE 1\n",
      "HERE 2\n",
      "HERE 3\n",
      "HERE 1\n",
      "HERE 2\n",
      "HERE 3\n",
      "HERE 1\n",
      "HERE 2\n",
      "HERE 3\n",
      "HERE 1\n",
      "HERE 2\n",
      "HERE 3\n",
      "HERE 1\n",
      "HERE 2\n",
      "HERE 3\n",
      "Test Series Point: 500\tPredicted=-0.29631462289780275, Expected=0.5699999999999932\n",
      "HERE 1\n",
      "HERE 2\n",
      "HERE 3\n",
      "HERE 1\n",
      "HERE 2\n",
      "HERE 3\n",
      "HERE 1\n",
      "HERE 2\n",
      "HERE 3\n",
      "HERE 1\n",
      "HERE 2\n",
      "HERE 3\n",
      "HERE 1\n",
      "HERE 2\n",
      "HERE 3\n",
      "HERE 1\n",
      "HERE 2\n",
      "HERE 3\n",
      "HERE 1\n",
      "HERE 2\n",
      "HERE 3\n",
      "HERE 1\n",
      "HERE 2\n",
      "HERE 3\n",
      "HERE 1\n",
      "HERE 2\n",
      "HERE 3\n",
      "HERE 1\n",
      "HERE 2\n",
      "HERE 3\n",
      "HERE 1\n",
      "HERE 2\n",
      "HERE 3\n",
      "HERE 1\n",
      "HERE 2\n",
      "HERE 3\n",
      "HERE 1\n",
      "HERE 2\n",
      "HERE 3\n",
      "HERE 1\n",
      "HERE 2\n",
      "HERE 3\n",
      "HERE 1\n",
      "HERE 2\n",
      "HERE 3\n",
      "HERE 1\n",
      "HERE 2\n",
      "HERE 3\n",
      "HERE 1\n",
      "HERE 2\n",
      "HERE 3\n",
      "HERE 1\n",
      "HERE 2\n",
      "HERE 3\n",
      "HERE 1\n",
      "HERE 2\n",
      "HERE 3\n",
      "HERE 1\n",
      "HERE 2\n",
      "HERE 3\n",
      "HERE 1\n",
      "HERE 2\n",
      "HERE 3\n",
      "HERE 1\n",
      "HERE 2\n",
      "HERE 3\n",
      "HERE 1\n",
      "HERE 2\n",
      "HERE 3\n",
      "HERE 1\n",
      "HERE 2\n",
      "HERE 3\n",
      "HERE 1\n",
      "HERE 2\n",
      "HERE 3\n",
      "HERE 1\n",
      "HERE 2\n",
      "HERE 3\n",
      "HERE 1\n",
      "HERE 2\n",
      "HERE 3\n",
      "HERE 1\n",
      "HERE 2\n",
      "HERE 3\n",
      "HERE 1\n",
      "HERE 2\n",
      "HERE 3\n",
      "HERE 1\n",
      "HERE 2\n",
      "HERE 3\n",
      "HERE 1\n",
      "HERE 2\n",
      "HERE 3\n",
      "HERE 1\n",
      "HERE 2\n",
      "HERE 3\n",
      "HERE 1\n",
      "HERE 2\n",
      "HERE 3\n",
      "HERE 1\n",
      "HERE 2\n",
      "HERE 3\n",
      "HERE 1\n",
      "HERE 2\n",
      "HERE 3\n",
      "HERE 1\n",
      "HERE 2\n",
      "HERE 3\n",
      "HERE 1\n",
      "HERE 2\n",
      "HERE 3\n",
      "HERE 1\n",
      "HERE 2\n",
      "HERE 3\n",
      "HERE 1\n",
      "HERE 2\n",
      "HERE 3\n",
      "HERE 1\n",
      "HERE 2\n",
      "HERE 3\n",
      "HERE 1\n",
      "HERE 2\n",
      "HERE 3\n",
      "HERE 1\n",
      "HERE 2\n",
      "HERE 3\n",
      "HERE 1\n",
      "HERE 2\n",
      "HERE 3\n",
      "HERE 1\n",
      "HERE 2\n",
      "HERE 3\n",
      "HERE 1\n",
      "HERE 2\n",
      "HERE 3\n",
      "HERE 1\n",
      "HERE 2\n",
      "HERE 3\n",
      "HERE 1\n",
      "HERE 2\n",
      "HERE 3\n",
      "HERE 1\n",
      "HERE 2\n",
      "HERE 3\n",
      "HERE 1\n",
      "HERE 2\n",
      "HERE 3\n",
      "HERE 1\n",
      "HERE 2\n",
      "HERE 3\n",
      "HERE 1\n",
      "HERE 2\n",
      "HERE 3\n",
      "HERE 1\n",
      "HERE 2\n",
      "HERE 3\n",
      "HERE 1\n",
      "HERE 2\n",
      "HERE 3\n",
      "HERE 1\n",
      "HERE 2\n",
      "HERE 3\n",
      "HERE 1\n",
      "HERE 2\n",
      "HERE 3\n",
      "HERE 1\n",
      "HERE 2\n",
      "HERE 3\n",
      "HERE 1\n",
      "HERE 2\n",
      "HERE 3\n",
      "HERE 1\n",
      "HERE 2\n",
      "HERE 3\n",
      "HERE 1\n",
      "HERE 2\n",
      "HERE 3\n",
      "HERE 1\n",
      "HERE 2\n",
      "HERE 3\n",
      "HERE 1\n",
      "HERE 2\n",
      "HERE 3\n",
      "HERE 1\n",
      "HERE 2\n",
      "HERE 3\n",
      "HERE 1\n",
      "HERE 2\n",
      "HERE 3\n",
      "HERE 1\n",
      "HERE 2\n",
      "HERE 3\n",
      "HERE 1\n",
      "HERE 2\n",
      "HERE 3\n",
      "HERE 1\n",
      "HERE 2\n",
      "HERE 3\n",
      "HERE 1\n",
      "HERE 2\n",
      "HERE 3\n",
      "HERE 1\n",
      "HERE 2\n",
      "HERE 3\n",
      "HERE 1\n",
      "HERE 2\n",
      "HERE 3\n",
      "HERE 1\n",
      "HERE 2\n",
      "HERE 3\n",
      "HERE 1\n",
      "HERE 2\n",
      "HERE 3\n",
      "HERE 1\n",
      "HERE 2\n",
      "HERE 3\n",
      "HERE 1\n",
      "HERE 2\n",
      "HERE 3\n",
      "HERE 1\n",
      "HERE 2\n",
      "HERE 3\n",
      "HERE 1\n",
      "HERE 2\n",
      "HERE 3\n",
      "HERE 1\n",
      "HERE 2\n",
      "HERE 3\n",
      "HERE 1\n",
      "HERE 2\n",
      "HERE 3\n",
      "HERE 1\n",
      "HERE 2\n",
      "HERE 3\n",
      "HERE 1\n",
      "HERE 2\n",
      "HERE 3\n",
      "HERE 1\n",
      "HERE 2\n",
      "HERE 3\n",
      "HERE 1\n",
      "HERE 2\n",
      "HERE 3\n",
      "HERE 1\n",
      "HERE 2\n",
      "HERE 3\n",
      "HERE 1\n",
      "HERE 2\n",
      "HERE 3\n",
      "HERE 1\n",
      "HERE 2\n",
      "HERE 3\n",
      "HERE 1\n",
      "HERE 2\n",
      "HERE 3\n",
      "HERE 1\n",
      "HERE 2\n",
      "HERE 3\n",
      "HERE 1\n",
      "HERE 2\n",
      "HERE 3\n",
      "HERE 1\n",
      "HERE 2\n",
      "HERE 3\n",
      "HERE 1\n",
      "HERE 2\n",
      "HERE 3\n",
      "HERE 1\n",
      "HERE 2\n",
      "HERE 3\n",
      "HERE 1\n",
      "HERE 2\n",
      "HERE 3\n",
      "HERE 1\n",
      "HERE 2\n",
      "HERE 3\n",
      "HERE 1\n",
      "HERE 2\n",
      "HERE 3\n",
      "HERE 1\n",
      "HERE 2\n",
      "HERE 3\n",
      "HERE 1\n",
      "HERE 2\n",
      "HERE 3\n",
      "HERE 1\n",
      "HERE 2\n",
      "HERE 3\n",
      "HERE 1\n",
      "HERE 2\n",
      "HERE 3\n",
      "HERE 1\n",
      "HERE 2\n",
      "HERE 3\n",
      "HERE 1\n",
      "HERE 2\n",
      "HERE 3\n",
      "HERE 1\n",
      "HERE 2\n",
      "HERE 3\n",
      "Test Series Point: 600\tPredicted=-0.2243318798097843, Expected=0.4399999999999977\n",
      "HERE 1\n",
      "HERE 2\n",
      "HERE 3\n",
      "HERE 1\n",
      "HERE 2\n",
      "HERE 3\n",
      "CPU times: user 10min 28s, sys: 3min 57s, total: 14min 26s\n",
      "Wall time: 2min 15s\n"
     ]
    }
   ],
   "source": [
    "%%time \n",
    "\n",
    "history = [x for x in train_diff]\n",
    "\n",
    "predictions = list()\n",
    "for t in range(len(test_diff)):\n",
    "    # START_CODE_HERE - call the ARIMA Method with history and params\n",
    "    model = ARIMA(history, order=(5,1,0))  # initialize the model with history and right order of parameters\n",
    "    model_fit = model.fit()  # fit the model\n",
    "    # END_CODE_HERE\n",
    "    output = model_fit.forecast()  # use forecast on the fitted model\n",
    "\n",
    "#    yhat = output[0][0]\n",
    "    yhat = output.item(0)\n",
    "    predictions.append(yhat)\n",
    "    obs = test_diff[t]\n",
    "    history.append(obs)\n",
    "\n",
    "    if t % 100 == 0:\n",
    "      print('Test Series Point: {}\\tPredicted={}, Expected={}'.format(t, yhat, obs))"
   ]
  },
  {
   "cell_type": "markdown",
   "metadata": {},
   "source": [
    "### Reverse Transform the forecasted values\n",
    "\n",
    "This is very important. Since we used differencing of the first order in the series before training, we need to reverse transform the values to get meaningful price forecasts."
   ]
  },
  {
   "cell_type": "code",
   "execution_count": 29,
   "metadata": {
    "colab": {
     "base_uri": "https://localhost:8080/",
     "height": 34
    },
    "colab_type": "code",
    "id": "unArWBuS7o5z",
    "outputId": "cee241e1-e170-4063-e676-752fc5dbb70d"
   },
   "outputs": [
    {
     "data": {
      "text/plain": "((604,), (604,))"
     },
     "execution_count": 29,
     "metadata": {},
     "output_type": "execute_result"
    }
   ],
   "source": [
    "reverse_test_diff = np.r_[test_series.iloc[0], test_diff].cumsum()\n",
    "reverse_predictions = np.r_[test_series.iloc[0], predictions].cumsum()\n",
    "reverse_test_diff.shape, reverse_predictions.shape"
   ]
  },
  {
   "cell_type": "markdown",
   "metadata": {},
   "source": [
    "### Evaluate model performance"
   ]
  },
  {
   "cell_type": "code",
   "execution_count": 30,
   "metadata": {
    "colab": {
     "base_uri": "https://localhost:8080/",
     "height": 50
    },
    "colab_type": "code",
    "id": "NGDHu85n2clu",
    "outputId": "af8b3b73-5757-4c07-ba29-ed6a37ba0616"
   },
   "outputs": [
    {
     "name": "stdout",
     "output_type": "stream",
     "text": [
      "Testing Mean Squared Error: 17.604\n",
      "Symmetric Mean absolute percentage error: 2.390\n"
     ]
    }
   ],
   "source": [
    "error = mean_squared_error(reverse_test_diff, reverse_predictions)\n",
    "print('Testing Mean Squared Error: %.3f' % error)\n",
    "error2 = smape_kun(reverse_test_diff, reverse_predictions)\n",
    "print('Symmetric Mean absolute percentage error: %.3f' % error2)"
   ]
  },
  {
   "cell_type": "markdown",
   "metadata": {
    "colab_type": "text",
    "id": "kVShn5zgMPcX"
   },
   "source": [
    "The loss results for this model are available above. According to the MSE, the model loss is quite low but for SMAPE is instead consistently higher. One of the main reason for this discrepancy is because SMAPE is commonly used loss a loss function for Time Series problems and can, therefore, provide a more reliable analysis. That showed there is still room for improvement of our model."
   ]
  },
  {
   "cell_type": "markdown",
   "metadata": {
    "colab_type": "text",
    "id": "g5XoIrqDMe7c"
   },
   "source": [
    "## Let's Visualize the forecast results"
   ]
  },
  {
   "cell_type": "code",
   "execution_count": 31,
   "metadata": {
    "colab": {},
    "colab_type": "code",
    "id": "V3S7iMXv8nKg"
   },
   "outputs": [],
   "source": [
    "reverse_test_diff_series = pd.Series(reverse_test_diff)\n",
    "reverse_test_diff_series.index = test_series.index\n",
    "\n",
    "reverse_predictions_series = pd.Series(reverse_test_diff)\n",
    "reverse_predictions_series.index = test_series.index"
   ]
  },
  {
   "cell_type": "markdown",
   "metadata": {},
   "source": [
    "### Visualizing train, test and forecast prices"
   ]
  },
  {
   "cell_type": "code",
   "execution_count": 32,
   "metadata": {
    "colab": {
     "base_uri": "https://localhost:8080/",
     "height": 458
    },
    "colab_type": "code",
    "id": "LEBu1A6P8aJp",
    "outputId": "38f7847a-465b-4fa0-a14d-f5d78b70c5c5"
   },
   "outputs": [
    {
     "data": {
      "text/plain": "<Figure size 864x504 with 1 Axes>",
      "image/png": "[encoded data removed]"
     },
     "metadata": {
      "needs_background": "light"
     },
     "output_type": "display_data"
    }
   ],
   "source": [
    "plt.figure(figsize=(12,7))\n",
    "plt.title('IBM Prices')\n",
    "plt.xlabel('Dates')\n",
    "plt.ylabel('Prices')\n",
    "plt.plot(train_series, color='blue', label='Training Prices')\n",
    "plt.plot(reverse_test_diff_series, color='green', marker='.', label='Testing Prices - Reverse Diff Transform')\n",
    "plt.plot(reverse_test_diff_series, color='red', linestyle='--', label='Forecasted Prices - Reverse Diff Transform')\n",
    "plt.legend();"
   ]
  },
  {
   "cell_type": "markdown",
   "metadata": {},
   "source": [
    "### Q10: Visualize only test and forecast prices"
   ]
  },
  {
   "cell_type": "code",
   "execution_count": 33,
   "metadata": {
    "colab": {
     "base_uri": "https://localhost:8080/",
     "height": 458
    },
    "colab_type": "code",
    "id": "fOKhtSM79hM_",
    "outputId": "694f2659-1a0e-4665-d453-132bba6cda28"
   },
   "outputs": [
    {
     "data": {
      "text/plain": "<Figure size 864x504 with 1 Axes>",
      "image/png": "[encoded data removed]"
     },
     "metadata": {
      "needs_background": "light"
     },
     "output_type": "display_data"
    }
   ],
   "source": [
    "plt.figure(figsize=(12,7))\n",
    "plt.title('IBM Prices')\n",
    "plt.xlabel('Dates')\n",
    "plt.ylabel('Prices')\n",
    "plt.plot(reverse_test_diff_series, color='green', marker='.', label='Testing Prices - Reverse Diff Transform')\n",
    "plt.plot(reverse_test_diff_series, color='red', linestyle='--', label='Forecasted Prices - Reverse Diff Transform')\n",
    "plt.legend();"
   ]
  },
  {
   "cell_type": "markdown",
   "metadata": {
    "colab_type": "text",
    "id": "8k-cTIUyMzd_"
   },
   "source": [
    "This analysis using ARIMA has performed pretty well in forecasting prices "
   ]
  },
  {
   "cell_type": "markdown",
   "metadata": {
    "colab_type": "text",
    "id": "fcM7rwQFCqHL"
   },
   "source": [
    "# Time Series Forecasting with Deep Learning\n",
    "\n",
    "The approach uses sequential models, to be more specific - LSTMs, to build a deep learning model that predicts the 'Open' Stock prices of IBM over a period of two years by using data from the previous 10 years."
   ]
  },
  {
   "cell_type": "markdown",
   "metadata": {
    "colab_type": "text",
    "id": "Ege_yD9YDmSN"
   },
   "source": [
    "### LSTM: A brief overview\n",
    "\n",
    "What are LSTMs? : https://medium.com/deep-math-machine-learning-ai/chapter-10-1-deepnlp-lstm-long-short-term-memory-networks-with-math-21477f8e4235\n",
    "\n",
    "Long short-term memory (LSTM) units (or blocks) are a building unit for layers of a recurrent neural network (RNN). A RNN composed of LSTM units is often called an LSTM network. A common LSTM unit is composed of a cell, an input gate, an output gate and a forget gate. The cell is responsible for \"remembering\" values over arbitrary time intervals; hence the word \"memory\" in LSTM. Each of the three gates can be thought of as a \"conventional\" artificial neuron, as in a multi-layer (or feedforward) neural network: that is, they compute an activation (using an activation function) of a weighted sum. Intuitively, they can be thought as regulators of the flow of values that goes through the connections of the LSTM; hence the denotation \"gate\". There are connections between these gates and the cell.\n",
    "\n",
    "The expression long short-term refers to the fact that LSTM is a model for the short-term memory which can last for a long period of time. An LSTM is well-suited to classify, process and predict time series given time lags of unknown size and duration between important events. LSTMs were developed to deal with the exploding and vanishing gradient problem when training traditional RNNs.\n",
    "\n",
    "Source: [Wikipedia](https://en.wikipedia.org/wiki/Long_short-term_memory)"
   ]
  },
  {
   "cell_type": "markdown",
   "metadata": {
    "colab_type": "text",
    "id": "c8hK0f8wb79O"
   },
   "source": [
    "### Headers"
   ]
  },
  {
   "cell_type": "code",
   "execution_count": 34,
   "metadata": {
    "colab": {},
    "colab_type": "code",
    "id": "Y4Fo2a_Rg5_w"
   },
   "outputs": [],
   "source": [
    "# Let's load the libraries and dependencies for the deep learning model\n",
    "from sklearn.preprocessing import MinMaxScaler\n",
    "\n",
    "# %tensorflow_version 1.x\n",
    "from tensorflow.keras.models import Sequential\n",
    "from tensorflow.keras.layers import Dense, LSTM, Dropout, GRU, Bidirectional\n",
    "from tensorflow.keras.optimizers import SGD"
   ]
  },
  {
   "cell_type": "markdown",
   "metadata": {
    "colab_type": "text",
    "id": "VuF5ziiYcDD-"
   },
   "source": [
    "### Load Data"
   ]
  },
  {
   "cell_type": "code",
   "execution_count": null,
   "metadata": {
    "pycharm": {
     "is_executing": true
    }
   },
   "outputs": [],
   "source": [
    "ls"
   ]
  },
  {
   "cell_type": "code",
   "execution_count": 37,
   "metadata": {
    "colab": {
     "base_uri": "https://localhost:8080/",
     "height": 225
    },
    "colab_type": "code",
    "id": "loos_QCqjZl8",
    "outputId": "8db32178-6d24-41a5-aca4-c8886d2ad4d0"
   },
   "outputs": [
    {
     "data": {
      "text/plain": "                  Date   Open   High    Low  Close    Volume Name\nDate                                                             \n2006-01-03  2006-01-03  82.45  82.55  80.81  82.06  11715200  IBM\n2006-01-04  2006-01-04  82.20  82.50  81.33  81.95   9840600  IBM\n2006-01-05  2006-01-05  81.40  82.90  81.00  82.50   7213500  IBM\n2006-01-06  2006-01-06  83.95  85.03  83.41  84.95   8197400  IBM\n2006-01-09  2006-01-09  84.10  84.25  83.38  83.73   6858200  IBM",
      "text/html": "<div>\n<style scoped>\n    .dataframe tbody tr th:only-of-type {\n        vertical-align: middle;\n    }\n\n    .dataframe tbody tr th {\n        vertical-align: top;\n    }\n\n    .dataframe thead th {\n        text-align: right;\n    }\n</style>\n<table border=\"1\" class=\"dataframe\">\n  <thead>\n    <tr style=\"text-align: right;\">\n      <th></th>\n      <th>Date</th>\n      <th>Open</th>\n      <th>High</th>\n      <th>Low</th>\n      <th>Close</th>\n      <th>Volume</th>\n      <th>Name</th>\n    </tr>\n    <tr>\n      <th>Date</th>\n      <th></th>\n      <th></th>\n      <th></th>\n      <th></th>\n      <th></th>\n      <th></th>\n      <th></th>\n    </tr>\n  </thead>\n  <tbody>\n    <tr>\n      <th>2006-01-03</th>\n      <td>2006-01-03</td>\n      <td>82.45</td>\n      <td>82.55</td>\n      <td>80.81</td>\n      <td>82.06</td>\n      <td>11715200</td>\n      <td>IBM</td>\n    </tr>\n    <tr>\n      <th>2006-01-04</th>\n      <td>2006-01-04</td>\n      <td>82.20</td>\n      <td>82.50</td>\n      <td>81.33</td>\n      <td>81.95</td>\n      <td>9840600</td>\n      <td>IBM</td>\n    </tr>\n    <tr>\n      <th>2006-01-05</th>\n      <td>2006-01-05</td>\n      <td>81.40</td>\n      <td>82.90</td>\n      <td>81.00</td>\n      <td>82.50</td>\n      <td>7213500</td>\n      <td>IBM</td>\n    </tr>\n    <tr>\n      <th>2006-01-06</th>\n      <td>2006-01-06</td>\n      <td>83.95</td>\n      <td>85.03</td>\n      <td>83.41</td>\n      <td>84.95</td>\n      <td>8197400</td>\n      <td>IBM</td>\n    </tr>\n    <tr>\n      <th>2006-01-09</th>\n      <td>2006-01-09</td>\n      <td>84.10</td>\n      <td>84.25</td>\n      <td>83.38</td>\n      <td>83.73</td>\n      <td>6858200</td>\n      <td>IBM</td>\n    </tr>\n  </tbody>\n</table>\n</div>"
     },
     "execution_count": 37,
     "metadata": {},
     "output_type": "execute_result"
    }
   ],
   "source": [
    "df = pd.read_csv(\"IBM_2006-01-01_to_2018-01-01.csv.zip\", compression='zip')\n",
    "df.isnull().values.any()\n",
    "df = df.dropna()\n",
    "\n",
    "df.index = pd.to_datetime(df['Date'])\n",
    "df.head()"
   ]
  },
  {
   "cell_type": "markdown",
   "metadata": {
    "colab_type": "text",
    "id": "EeR4wBTNSAUX"
   },
   "source": [
    "# Note\n",
    "This dataset is composed of different features.we will just examine the \"Open\" stock prices feature. This same analysis can be repeated for most of the other features."
   ]
  },
  {
   "cell_type": "markdown",
   "metadata": {
    "colab_type": "text",
    "id": "Nvliw7fqMCcF"
   },
   "source": [
    "## Build Train-Test Datasets"
   ]
  },
  {
   "cell_type": "code",
   "execution_count": 38,
   "metadata": {
    "colab": {
     "base_uri": "https://localhost:8080/",
     "height": 34
    },
    "colab_type": "code",
    "id": "e51pJz3Ajs0u",
    "outputId": "9d7fa2bd-044f-4f6f-cc4d-8930eb8b61f5"
   },
   "outputs": [
    {
     "data": {
      "text/plain": "((2415,), (604,))"
     },
     "execution_count": 38,
     "metadata": {},
     "output_type": "execute_result"
    }
   ],
   "source": [
    "# Splitting the train and test set considering 'Open' feature from the dataset\n",
    "train_data, test_data = df.iloc[0:int(len(df)*0.8), :], df.iloc[int(len(df)*0.8):, :]\n",
    "train_series = train_data['Open']\n",
    "test_series = test_data['Open']\n",
    "train_series.shape, test_series.shape"
   ]
  },
  {
   "cell_type": "markdown",
   "metadata": {
    "colab_type": "text",
    "id": "vSp2L8YIMfKN"
   },
   "source": [
    "### Q11: Visualize train and test price data"
   ]
  },
  {
   "cell_type": "code",
   "execution_count": 39,
   "metadata": {
    "colab": {
     "base_uri": "https://localhost:8080/",
     "height": 458
    },
    "colab_type": "code",
    "id": "gBnSZGfSj6Cs",
    "outputId": "6e071f16-4d78-413f-b175-37e8cb603955"
   },
   "outputs": [
    {
     "data": {
      "text/plain": "<Figure size 864x504 with 1 Axes>",
      "image/png": "[encoded data removed]"
     },
     "metadata": {
      "needs_background": "light"
     },
     "output_type": "display_data"
    }
   ],
   "source": [
    "plt.figure(figsize=(12,7))\n",
    "plt.title('IBM Prices')\n",
    "plt.xlabel('Dates')\n",
    "plt.ylabel('Prices')\n",
    "plt.plot(train_series, color='blue', label='Training Prices')\n",
    "plt.plot(test_series, color='red', label='Testing Prices')\n",
    "plt.legend();"
   ]
  },
  {
   "cell_type": "markdown",
   "metadata": {
    "colab_type": "text",
    "id": "k8f0sPbUMvg7"
   },
   "source": [
    "### Scaling\n",
    "As stock prices can vary across a wide range, we scale the data to have zero mean and unit variance.\n",
    "\n",
    "This is done to ensure that the gradient descent is sooner when learning a deep learning model"
   ]
  },
  {
   "cell_type": "markdown",
   "metadata": {},
   "source": [
    "### Q12: Use the initialized min-max scaler to scale the prices in train_series"
   ]
  },
  {
   "cell_type": "code",
   "execution_count": 40,
   "metadata": {
    "colab": {},
    "colab_type": "code",
    "id": "-7D3Hvo_kC2F"
   },
   "outputs": [],
   "source": [
    "sc = MinMaxScaler(feature_range=(0,1))\n",
    "# START_CODE_HERE\n",
    "training_set_scaled = sc.fit_transform(train_series.values.reshape(-1,1))\n",
    "# END_CODE_HERE"
   ]
  },
  {
   "cell_type": "code",
   "execution_count": 41,
   "metadata": {
    "colab": {
     "base_uri": "https://localhost:8080/",
     "height": 34
    },
    "colab_type": "code",
    "id": "Rms7Nr3LIeuV",
    "outputId": "5a92caf3-f015-44c1-fbe5-e7451ba445eb"
   },
   "outputs": [
    {
     "data": {
      "text/plain": "(2415, 1)"
     },
     "execution_count": 41,
     "metadata": {},
     "output_type": "execute_result"
    }
   ],
   "source": [
    "training_set_scaled.shape"
   ]
  },
  {
   "cell_type": "markdown",
   "metadata": {
    "colab_type": "text",
    "id": "aEaPD_p2Nu87"
   },
   "source": [
    "### Train Data Preparation\n",
    "\n",
    "Train data uses the previous 60 days (two months) data to predict the stock price of the next day.\n",
    "The data is prepared just like a sliding window approach, where\n",
    "*window_size = 60*\n",
    "\n",
    "Sample image for sliding window:\n",
    "![Sliding window](imgs/sliding_window.png)"
   ]
  },
  {
   "cell_type": "code",
   "execution_count": 42,
   "metadata": {
    "colab": {
     "base_uri": "https://localhost:8080/",
     "height": 34
    },
    "colab_type": "code",
    "id": "3LHfiLnhkGpN",
    "outputId": "278d904e-00b5-44fd-9ca9-cc6bc37c7249"
   },
   "outputs": [
    {
     "data": {
      "text/plain": "((2355, 60), (2355,))"
     },
     "execution_count": 42,
     "metadata": {},
     "output_type": "execute_result"
    }
   ],
   "source": [
    "#1 output and 60 values inputs\n",
    "# So for each element of training set (output), we have 60 previous training set elements (input)\n",
    "\n",
    "X_train = []\n",
    "y_train = []\n",
    "for i in range(60, len(training_set_scaled)):\n",
    "    X_train.append(training_set_scaled[i-60:i,0])\n",
    "    y_train.append(training_set_scaled[i,0])\n",
    "X_train, y_train = np.array(X_train), np.array(y_train)\n",
    "X_train.shape, y_train.shape"
   ]
  },
  {
   "cell_type": "markdown",
   "metadata": {
    "colab_type": "text",
    "id": "YdzzWChQROAg"
   },
   "source": [
    "#### Reshape X_train\n",
    "\n",
    "Now we reshape X_train in the format like:\n",
    "\n",
    "(batch_size, timesteps, input_dim) => (m, features, $x_{i1}$)\n",
    "\n",
    "The X_train should be now: (2709, 60, 1)\n",
    "\n",
    "60 features = 60 day sliding window\n",
    "\n",
    "$x_{i1}$ = 1 data point for each feature and i represents the feature\n",
    "\n"
   ]
  },
  {
   "cell_type": "code",
   "execution_count": 43,
   "metadata": {
    "colab": {},
    "colab_type": "code",
    "id": "KQRlDlXMkKCV"
   },
   "outputs": [],
   "source": [
    "# Reshaping X_train for efficient modeling\n",
    "X_train = np.reshape(X_train, (X_train.shape[0],X_train.shape[1], 1))"
   ]
  },
  {
   "cell_type": "code",
   "execution_count": 44,
   "metadata": {
    "colab": {
     "base_uri": "https://localhost:8080/",
     "height": 34
    },
    "colab_type": "code",
    "id": "I_FLbtZkT-RF",
    "outputId": "70bd8ffd-f73b-4091-ef7f-d594ec30873b"
   },
   "outputs": [
    {
     "data": {
      "text/plain": "(2355, 60, 1)"
     },
     "execution_count": 44,
     "metadata": {},
     "output_type": "execute_result"
    }
   ],
   "source": [
    "X_train.shape"
   ]
  },
  {
   "cell_type": "markdown",
   "metadata": {
    "colab_type": "text",
    "id": "PIrlm79SVn5i"
   },
   "source": [
    "### LSTM Regression model\n",
    "\n",
    "We use  [LSTM](https://www.tensorflow.org/api_docs/python/tf/keras/layers/LSTM):\n",
    "*   units - output dimensions\n",
    "*   return_sequences is set to True to get all the hidden state vectors information\n",
    "\n",
    "The model uses 2 LSTM layers followed by a Dense Layer with a single neuron to output regression prediction."
   ]
  },
  {
   "cell_type": "markdown",
   "metadata": {
    "colab_type": "text",
    "id": "W1gSynqKGGPJ"
   },
   "source": [
    "#### Similar Model Architecture (dimensions not exact)\n",
    "\n",
    "![Similar Model Architecture](imgs/lstm.png)\n"
   ]
  },
  {
   "cell_type": "markdown",
   "metadata": {},
   "source": [
    "### Q13: Build the LSTM based forecasting DL Model architecture\n",
    "\n",
    "Hints:\n",
    "\n",
    "    - Fill the second LSTM layer using an LSTM cell with 64 units, remember NOT to set return_sequences to True as we are only concerned about passing the last sequence output to the next layer\n",
    "    - Fill the Output layer with 1 unit\n",
    "    - Compile the model with mentioned optimizer and loss values"
   ]
  },
  {
   "cell_type": "code",
   "execution_count": 45,
   "metadata": {},
   "outputs": [
    {
     "data": {
      "text/plain": "60"
     },
     "execution_count": 45,
     "metadata": {},
     "output_type": "execute_result"
    }
   ],
   "source": [
    "X_train.shape[1]"
   ]
  },
  {
   "cell_type": "code",
   "execution_count": 46,
   "metadata": {
    "colab": {
     "base_uri": "https://localhost:8080/",
     "height": 319
    },
    "colab_type": "code",
    "id": "Vhe8p4iqkPfB",
    "outputId": "682d878c-bdd6-4d28-e72a-1b8cb3c3f24b"
   },
   "outputs": [
    {
     "name": "stderr",
     "output_type": "stream",
     "text": [
      "2022-04-17 09:17:59.430436: I tensorflow/core/platform/cpu_feature_guard.cc:151] This TensorFlow binary is optimized with oneAPI Deep Neural Network Library (oneDNN) to use the following CPU instructions in performance-critical operations:  AVX2 FMA\n",
      "To enable them in other operations, rebuild TensorFlow with the appropriate compiler flags.\n"
     ]
    },
    {
     "name": "stdout",
     "output_type": "stream",
     "text": [
      "Model: \"sequential\"\n",
      "_________________________________________________________________\n",
      " Layer (type)                Output Shape              Param #   \n",
      "=================================================================\n",
      " lstm (LSTM)                 (None, 60, 64)            16896     \n",
      "                                                                 \n",
      " dropout (Dropout)           (None, 60, 64)            0         \n",
      "                                                                 \n",
      " lstm_1 (LSTM)               (None, 64)                33024     \n",
      "                                                                 \n",
      " dense (Dense)               (None, 1)                 65        \n",
      "                                                                 \n",
      "=================================================================\n",
      "Total params: 49,985\n",
      "Trainable params: 49,985\n",
      "Non-trainable params: 0\n",
      "_________________________________________________________________\n"
     ]
    }
   ],
   "source": [
    "regressor = Sequential()\n",
    "\n",
    "# First LSTM layer with Dropout regularisation\n",
    "regressor.add(LSTM(units=64, return_sequences=True, input_shape=(X_train.shape[1],1)))\n",
    "regressor.add(Dropout(0.2))\n",
    "\n",
    "# Second LSTM layer\n",
    "regressor.add(LSTM(units=64, return_sequences=False))\n",
    "\n",
    "# The output layer\n",
    "regressor.add(Dense(units=1))\n",
    "\n",
    "# Compiling the RNN - optimizer(rmsprop)and loss(mean squared error)\n",
    "regressor.compile(optimizer='RMSprop', loss='mean_squared_error')\n",
    "\n",
    "regressor.summary()"
   ]
  },
  {
   "cell_type": "markdown",
   "metadata": {},
   "source": [
    "### Train the model"
   ]
  },
  {
   "cell_type": "code",
   "execution_count": 47,
   "metadata": {
    "colab": {
     "base_uri": "https://localhost:8080/",
     "height": 554
    },
    "colab_type": "code",
    "id": "MBRin4eMAsT_",
    "outputId": "91760fb0-6085-42c1-f507-8adf135eadb6"
   },
   "outputs": [
    {
     "name": "stdout",
     "output_type": "stream",
     "text": [
      "Epoch 1/15\n",
      "34/34 [==============================] - 9s 139ms/step - loss: 0.0096 - val_loss: 0.0129\n",
      "Epoch 2/15\n",
      "34/34 [==============================] - 4s 122ms/step - loss: 0.0085 - val_loss: 0.0035\n",
      "Epoch 3/15\n",
      "34/34 [==============================] - 4s 130ms/step - loss: 0.0052 - val_loss: 0.0048\n",
      "Epoch 4/15\n",
      "34/34 [==============================] - 5s 147ms/step - loss: 0.0051 - val_loss: 0.0054\n",
      "Epoch 5/15\n",
      "34/34 [==============================] - 5s 149ms/step - loss: 0.0049 - val_loss: 0.0056\n",
      "Epoch 6/15\n",
      "34/34 [==============================] - 4s 121ms/step - loss: 0.0042 - val_loss: 0.0054\n",
      "Epoch 7/15\n",
      "34/34 [==============================] - 4s 104ms/step - loss: 0.0041 - val_loss: 0.0036\n",
      "Epoch 8/15\n",
      "34/34 [==============================] - 3s 84ms/step - loss: 0.0032 - val_loss: 0.0080\n",
      "Epoch 9/15\n",
      "34/34 [==============================] - 3s 90ms/step - loss: 0.0036 - val_loss: 0.0039\n",
      "Epoch 10/15\n",
      "34/34 [==============================] - 3s 93ms/step - loss: 0.0028 - val_loss: 0.0032\n",
      "Epoch 11/15\n",
      "34/34 [==============================] - 3s 100ms/step - loss: 0.0025 - val_loss: 0.0085\n",
      "Epoch 12/15\n",
      "34/34 [==============================] - 4s 110ms/step - loss: 0.0033 - val_loss: 0.0051\n",
      "Epoch 13/15\n",
      "34/34 [==============================] - 4s 116ms/step - loss: 0.0031 - val_loss: 0.0064\n",
      "Epoch 14/15\n",
      "34/34 [==============================] - 4s 115ms/step - loss: 0.0028 - val_loss: 0.0038\n",
      "Epoch 15/15\n",
      "34/34 [==============================] - 4s 115ms/step - loss: 0.0020 - val_loss: 8.6318e-04\n"
     ]
    },
    {
     "data": {
      "text/plain": "<keras.callbacks.History at 0x1392f3e80>"
     },
     "execution_count": 47,
     "metadata": {},
     "output_type": "execute_result"
    }
   ],
   "source": [
    "regressor.fit(X_train,y_train, epochs=15, batch_size=64, validation_split=0.1, shuffle=False)"
   ]
  },
  {
   "cell_type": "markdown",
   "metadata": {
    "colab_type": "text",
    "id": "tXyIJG9vauFj"
   },
   "source": [
    "### Test Data Forecasting\n",
    "\n",
    "#### Data Preparation:\n",
    "Lets prepare the test data just like we did with the train data.\n",
    "\n",
    "Remember to start forecasting on the first day of the test data, we need the last 60 days of train data.\n",
    "\n",
    "Thus, the following steps have been performed so first 60 entires of test set have 60 previous values from the train dataset"
   ]
  },
  {
   "cell_type": "markdown",
   "metadata": {},
   "source": [
    "### Q14: Get the last 60 records from train_series"
   ]
  },
  {
   "cell_type": "code",
   "execution_count": 48,
   "metadata": {
    "colab": {
     "base_uri": "https://localhost:8080/",
     "height": 34
    },
    "colab_type": "code",
    "id": "4mLalxGGCxzf",
    "outputId": "1df0414a-9ab3-4443-e527-ca56226c674e"
   },
   "outputs": [
    {
     "name": "stdout",
     "output_type": "stream",
     "text": [
      "(60,)\n"
     ]
    }
   ],
   "source": [
    "train_last60 = train_series[-60:]\n",
    "print(train_last60.shape)\n",
    "assert train_last60.shape == (60,), (\"Oops! There is a data dimension mismatch error. Hint: Slice the last 60 records from train_series\")"
   ]
  },
  {
   "cell_type": "code",
   "execution_count": 49,
   "metadata": {
    "colab": {
     "base_uri": "https://localhost:8080/",
     "height": 34
    },
    "colab_type": "code",
    "id": "vhfLNVCnCrNE",
    "outputId": "7c6324e3-572a-491a-e8e8-ab7b9ec99e91"
   },
   "outputs": [
    {
     "data": {
      "text/plain": "(604,)"
     },
     "execution_count": 49,
     "metadata": {},
     "output_type": "execute_result"
    }
   ],
   "source": [
    "test_series.shape"
   ]
  },
  {
   "cell_type": "markdown",
   "metadata": {},
   "source": [
    "### Q15: Combine both train_last60 and test_series together \n",
    "\n",
    "Hint: Check pandas __`concat()`__"
   ]
  },
  {
   "cell_type": "code",
   "execution_count": 50,
   "metadata": {
    "colab": {
     "base_uri": "https://localhost:8080/",
     "height": 34
    },
    "colab_type": "code",
    "id": "_XrJWDeZC_nG",
    "outputId": "2ceb51ec-08f9-440b-a6be-9cfc26883ab5"
   },
   "outputs": [
    {
     "name": "stdout",
     "output_type": "stream",
     "text": [
      "(664,)\n"
     ]
    }
   ],
   "source": [
    "new_test_series =  pd.concat([train_last60, test_series])\n",
    "print(new_test_series.shape)\n",
    "assert new_test_series.shape == (664,), (\"Oops! There is a data dimension mismatch error. Hint: Use pandas concat with the right axis parameter\")"
   ]
  },
  {
   "cell_type": "markdown",
   "metadata": {},
   "source": [
    "### Q16: Scale the test dataset (new_test_series) using the trained MinMaxScaler transformer - sc\n",
    "\n",
    "Hint: Don't fit the scaler again here since it has already been trained"
   ]
  },
  {
   "cell_type": "code",
   "execution_count": 51,
   "metadata": {
    "colab": {},
    "colab_type": "code",
    "id": "E6EEBJmFkRsB"
   },
   "outputs": [
    {
     "data": {
      "text/plain": "array([[0.69054964],\n       [0.70639372],\n       [0.70926809],\n       [0.70597308],\n       [0.70267807],\n       [0.70520191],\n       [0.7051318 ],\n       [0.70316882],\n       [0.69664891],\n       [0.68998878],\n       [0.69202187],\n       [0.69132081],\n       [0.68332866],\n       [0.6794728 ],\n       [0.68536175],\n       [0.67856141],\n       [0.66958777],\n       [0.66201626],\n       [0.64918676],\n       [0.65724902],\n       [0.67666854],\n       [0.66944756],\n       [0.64911666],\n       [0.65612731],\n       [0.66082445],\n       [0.66117499],\n       [0.66517106],\n       [0.66538138],\n       [0.67049916],\n       [0.67281268],\n       [0.66643298],\n       [0.65542625],\n       [0.63923163],\n       [0.63972238],\n       [0.63958216],\n       [0.64715367],\n       [0.63860067],\n       [0.6463825 ],\n       [0.63979248],\n       [0.64918676],\n       [0.65143017],\n       [0.66734436],\n       [0.67786035],\n       [0.67120022],\n       [0.67814077],\n       [0.68416994],\n       [0.70141615],\n       [0.64217611],\n       [0.63088895],\n       [0.61364274],\n       [0.62079361],\n       [0.6047392 ],\n       [0.6111189 ],\n       [0.61174986],\n       [0.61525519],\n       [0.62156478],\n       [0.62366798],\n       [0.60053281],\n       [0.60544027],\n       [0.59162928],\n       [0.58293606],\n       [0.58910544],\n       [0.58342681],\n       [0.57150869],\n       [0.58412787],\n       [0.57669658],\n       [0.57809871],\n       [0.58027201],\n       [0.57774818],\n       [0.5608525 ],\n       [0.55215928],\n       [0.49586371],\n       [0.52019069],\n       [0.50021032],\n       [0.53112731],\n       [0.52586932],\n       [0.52327538],\n       [0.50595906],\n       [0.50476725],\n       [0.51395121],\n       [0.50357543],\n       [0.51261918],\n       [0.53280987],\n       [0.51254907],\n       [0.51296971],\n       [0.52320527],\n       [0.51780707],\n       [0.52650028],\n       [0.52832305],\n       [0.51395121],\n       [0.50932417],\n       [0.50392597],\n       [0.5010516 ],\n       [0.48976444],\n       [0.51044588],\n       [0.50252384],\n       [0.48548794],\n       [0.49740606],\n       [0.50876332],\n       [0.47889792],\n       [0.51233875],\n       [0.53505328],\n       [0.54192372],\n       [0.53946999],\n       [0.55888951],\n       [0.55846887],\n       [0.54711161],\n       [0.53883904],\n       [0.54802299],\n       [0.54479809],\n       [0.5405917 ],\n       [0.48899327],\n       [0.4732894 ],\n       [0.48373528],\n       [0.50385586],\n       [0.50483735],\n       [0.49614414],\n       [0.45695457],\n       [0.47406057],\n       [0.47462142],\n       [0.47504206],\n       [0.47167695],\n       [0.48941391],\n       [0.48282389],\n       [0.46172182],\n       [0.45695457],\n       [0.43900729],\n       [0.44412507],\n       [0.43438026],\n       [0.42211161],\n       [0.41397925],\n       [0.43101514],\n       [0.43501122],\n       [0.44496635],\n       [0.45309871],\n       [0.46123107],\n       [0.45506169],\n       [0.46010937],\n       [0.45751542],\n       [0.46179192],\n       [0.46859226],\n       [0.47805665],\n       [0.4722378 ],\n       [0.45814638],\n       [0.47265844],\n       [0.45947841],\n       [0.45316882],\n       [0.45071509],\n       [0.43809591],\n       [0.43865676],\n       [0.45330903],\n       [0.46536736],\n       [0.46697981],\n       [0.44636848],\n       [0.4423023 ],\n       [0.44265283],\n       [0.45961862],\n       [0.46053001],\n       [0.45569265],\n       [0.45926809],\n       [0.46859226],\n       [0.46501683],\n       [0.44068985],\n       [0.44882221],\n       [0.43213685],\n       [0.4273696 ],\n       [0.42372406],\n       [0.41411946],\n       [0.42701907],\n       [0.42596747],\n       [0.41496074],\n       [0.40150028],\n       [0.40220135],\n       [0.3205272 ],\n       [0.34043746],\n       [0.36406338],\n       [0.34604599],\n       [0.34709759],\n       [0.3504627 ],\n       [0.34015704],\n       [0.35431856],\n       [0.3621705 ],\n       [0.35705272],\n       [0.35929613],\n       [0.36693775],\n       [0.38194055],\n       [0.37338755],\n       [0.37422883],\n       [0.36637689],\n       [0.32277061],\n       [0.32613573],\n       [0.34415311],\n       [0.35733315],\n       [0.40143017],\n       [0.41797532],\n       [0.42835109],\n       [0.42344363],\n       [0.41229669],\n       [0.42449523],\n       [0.43304823],\n       [0.41545149],\n       [0.41713404],\n       [0.4273696 ],\n       [0.45204711],\n       [0.45429052],\n       [0.45246775],\n       [0.46950365],\n       [0.46669938],\n       [0.48022995],\n       [0.48366517],\n       [0.48562815],\n       [0.48373528],\n       [0.48990466],\n       [0.50504767],\n       [0.52341559],\n       [0.52271453],\n       [0.52804262],\n       [0.52762199],\n       [0.5064498 ],\n       [0.52586932],\n       [0.52474762],\n       [0.54129277],\n       [0.54017106],\n       [0.54521873],\n       [0.55804823],\n       [0.55166854],\n       [0.54094223],\n       [0.53512339],\n       [0.53505328],\n       [0.54346607],\n       [0.53890914],\n       [0.54690129],\n       [0.55215928],\n       [0.54893438],\n       [0.55391195],\n       [0.51689568],\n       [0.50126192],\n       [0.51766685],\n       [0.53771733],\n       [0.52874369],\n       [0.53217891],\n       [0.53708637],\n       [0.53989063],\n       [0.51703589],\n       [0.51752664],\n       [0.50413629],\n       [0.49509254],\n       [0.51325014],\n       [0.50560852],\n       [0.52551879],\n       [0.52930454],\n       [0.53961021],\n       [0.53610488],\n       [0.5331604 ],\n       [0.52516826],\n       [0.53610488],\n       [0.52755188],\n       [0.51696579],\n       [0.51156758],\n       [0.52488783],\n       [0.51977005],\n       [0.5341419 ],\n       [0.55250981],\n       [0.55811834],\n       [0.55959058],\n       [0.56267527],\n       [0.5598009 ],\n       [0.55846887],\n       [0.56330623],\n       [0.56484857],\n       [0.56639091],\n       [0.56211441],\n       [0.56120303],\n       [0.55307067],\n       [0.55061694],\n       [0.55187886],\n       [0.54297532],\n       [0.54837353],\n       [0.559871  ],\n       [0.57080763],\n       [0.56793326],\n       [0.56583006],\n       [0.54143298],\n       [0.51486259],\n       [0.50504767],\n       [0.517106  ],\n       [0.53365115],\n       [0.55699663],\n       [0.54998598],\n       [0.55461301],\n       [0.5609226 ],\n       [0.56968592],\n       [0.57389232],\n       [0.58370723],\n       [0.59597588],\n       [0.60340718],\n       [0.61104879],\n       [0.6068424 ],\n       [0.62422883],\n       [0.61153954],\n       [0.61700785],\n       [0.61721817],\n       [0.62577117],\n       [0.6303281 ],\n       [0.62661245],\n       [0.62142457],\n       [0.62128435],\n       [0.61630679],\n       [0.62065339],\n       [0.61266125],\n       [0.61777902],\n       [0.62577117],\n       [0.63088895],\n       [0.62731352],\n       [0.6271032 ],\n       [0.62752384],\n       [0.63411385],\n       [0.62857543],\n       [0.61953169],\n       [0.6185502 ],\n       [0.61798934],\n       [0.61763881],\n       [0.61174986],\n       [0.61406338],\n       [0.61097869],\n       [0.6047392 ],\n       [0.60389792],\n       [0.60354739],\n       [0.6100673 ],\n       [0.60936624],\n       [0.59997196],\n       [0.61090858],\n       [0.61090858],\n       [0.61308188],\n       [0.61560572],\n       [0.59793887],\n       [0.57851935],\n       [0.5951346 ],\n       [0.58160404],\n       [0.57178912],\n       [0.57697701],\n       [0.57578519],\n       [0.58279585],\n       [0.57606562],\n       [0.58475883],\n       [0.58104319],\n       [0.57291082],\n       [0.57192933],\n       [0.59064778],\n       [0.60214526],\n       [0.60403814],\n       [0.59814919],\n       [0.59541503],\n       [0.59120864],\n       [0.58959619],\n       [0.59169938],\n       [0.5886848 ],\n       [0.58882501],\n       [0.57648626],\n       [0.56758273],\n       [0.57298093],\n       [0.57284072],\n       [0.54178351],\n       [0.55054683],\n       [0.55061694],\n       [0.54570948],\n       [0.54444756],\n       [0.54648065],\n       [0.54662086],\n       [0.56141335],\n       [0.57003646],\n       [0.56099271],\n       [0.56618059],\n       [0.55902973],\n       [0.55924004],\n       [0.55846887],\n       [0.56961582],\n       [0.57361189],\n       [0.56239484],\n       [0.59534492],\n       [0.61153954],\n       [0.62051318],\n       [0.60067302],\n       [0.60095345],\n       [0.60628155],\n       [0.61034773],\n       [0.61658721],\n       [0.63278183],\n       [0.62535053],\n       [0.62457936],\n       [0.63418396],\n       [0.63979248],\n       [0.63523556],\n       [0.62542064],\n       [0.6047392 ],\n       [0.61770892],\n       [0.61266125],\n       [0.61595625],\n       [0.64589176],\n       [0.64806506],\n       [0.65886147],\n       [0.65157039],\n       [0.67042905],\n       [0.66790522],\n       [0.67463545],\n       [0.65963264],\n       [0.66425967],\n       [0.65556646],\n       [0.66334829],\n       [0.66082445],\n       [0.66068424],\n       [0.66285754],\n       [0.65395401],\n       [0.65689849],\n       [0.66082445],\n       [0.66622266],\n       [0.67659843],\n       [0.67267246],\n       [0.67814077],\n       [0.6676949 ],\n       [0.65416433],\n       [0.66622266],\n       [0.66762479],\n       [0.65865115],\n       [0.66397925],\n       [0.66054403],\n       [0.66650308],\n       [0.68241727],\n       [0.69139091],\n       [0.72574313],\n       [0.73836231],\n       [0.74123668],\n       [0.7307908 ],\n       [0.71726024],\n       [0.7169097 ],\n       [0.7115115 ],\n       [0.7169097 ],\n       [0.71908301],\n       [0.72392036],\n       [0.73443634],\n       [0.72511217],\n       [0.73352496],\n       [0.74663489],\n       [0.74193775],\n       [0.75336511],\n       [0.76212844],\n       [0.7607263 ],\n       [0.75616938],\n       [0.75259394],\n       [0.7659843 ],\n       [0.75343522],\n       [0.76030566],\n       [0.74761638],\n       [0.7553281 ],\n       [0.76514302],\n       [0.75224341],\n       [0.75      ],\n       [0.75694055],\n       [0.75722098],\n       [0.74600393],\n       [0.73941391],\n       [0.73689007],\n       [0.72518228],\n       [0.72188727],\n       [0.74116657],\n       [0.72595345],\n       [0.72146663],\n       [0.72399047],\n       [0.71017947],\n       [0.71291363],\n       [0.71775098],\n       [0.70071509],\n       [0.70947841],\n       [0.71200224],\n       [0.70891755],\n       [0.70975883],\n       [0.70863713],\n       [0.70653393],\n       [0.71480651],\n       [0.7061834 ],\n       [0.69643859],\n       [0.69959338],\n       [0.68641335],\n       [0.6891475 ],\n       [0.68129557],\n       [0.68010376],\n       [0.68739484],\n       [0.62408861],\n       [0.62100393],\n       [0.6261217 ],\n       [0.62079361],\n       [0.62422883],\n       [0.61546551],\n       [0.61378295],\n       [0.61525519],\n       [0.61210039],\n       [0.60782389],\n       [0.60291643],\n       [0.60396803],\n       [0.56632081],\n       [0.56127314],\n       [0.559871  ],\n       [0.55321088],\n       [0.54900449],\n       [0.54374649],\n       [0.5459899 ],\n       [0.55328099],\n       [0.56477846],\n       [0.54767246],\n       [0.54872406],\n       [0.55636568],\n       [0.55966068],\n       [0.55713685],\n       [0.56442793],\n       [0.56162367],\n       [0.55531408],\n       [0.55587493],\n       [0.56127314],\n       [0.56316601],\n       [0.55440269],\n       [0.55566461],\n       [0.5630258 ],\n       [0.54865395],\n       [0.55566461],\n       [0.57101795],\n       [0.57978127],\n       [0.5694756 ],\n       [0.56470836],\n       [0.57129837],\n       [0.58027201],\n       [0.57305104],\n       [0.582235  ],\n       [0.57354178],\n       [0.57206955],\n       [0.57466349],\n       [0.57669658],\n       [0.57774818],\n       [0.57915031],\n       [0.57164891],\n       [0.56674145],\n       [0.58209478],\n       [0.5651991 ],\n       [0.56001122],\n       [0.56204431],\n       [0.56449804],\n       [0.56604038],\n       [0.56758273],\n       [0.56975603],\n       [0.56681155],\n       [0.55818845],\n       [0.54178351],\n       [0.52432698],\n       [0.52474762],\n       [0.52061133],\n       [0.51759675],\n       [0.51549355],\n       [0.50659002],\n       [0.50525799],\n       [0.50659002],\n       [0.5074313 ],\n       [0.50259394],\n       [0.50659002],\n       [0.50659002],\n       [0.48555805],\n       [0.48380538],\n       [0.48303421],\n       [0.48871284],\n       [0.48555805],\n       [0.48941391],\n       [0.48408581],\n       [0.48920359],\n       [0.47763601],\n       [0.46866237],\n       [0.47602356],\n       [0.4764442 ],\n       [0.48906338],\n       [0.4946719 ],\n       [0.50035053],\n       [0.48625911],\n       [0.49439148],\n       [0.49270892],\n       [0.49242849],\n       [0.49607403],\n       [0.49873808],\n       [0.50028043],\n       [0.4936203 ],\n       [0.49635446],\n       [0.50736119],\n       [0.50904375],\n       [0.51261918],\n       [0.5053281 ],\n       [0.50525799],\n       [0.50511778],\n       [0.50609927],\n       [0.51114694],\n       [0.5107263 ],\n       [0.5074313 ],\n       [0.51612451],\n       [0.51836792],\n       [0.50890353],\n       [0.50974481],\n       [0.50904375],\n       [0.51843803],\n       [0.52061133],\n       [0.51836792],\n       [0.51808749],\n       [0.517106  ],\n       [0.5255889 ],\n       [0.53042625],\n       [0.5245373 ],\n       [0.52397644],\n       [0.52215367],\n       [0.51801739],\n       [0.59155917],\n       [0.61034773],\n       [0.61925126],\n       [0.6261217 ],\n       [0.60929613],\n       [0.58377734],\n       [0.57185923],\n       [0.57347168],\n       [0.56800337],\n       [0.57199944],\n       [0.57038699],\n       [0.57094784],\n       [0.56561974],\n       [0.55405216],\n       [0.5512479 ],\n       [0.55286035],\n       [0.54115255],\n       [0.54620022],\n       [0.53379136],\n       [0.52727145],\n       [0.52762199],\n       [0.52572911],\n       [0.53701626],\n       [0.54613012],\n       [0.55075715],\n       [0.55566461],\n       [0.55531408],\n       [0.55608525],\n       [0.55811834],\n       [0.56134324],\n       [0.56723219],\n       [0.57249019],\n       [0.58342681],\n       [0.58686203],\n       [0.57038699],\n       [0.56681155],\n       [0.57536455],\n       [0.57992148],\n       [0.58889512],\n       [0.58791363],\n       [0.57389232],\n       [0.56695177],\n       [0.56681155],\n       [0.57003646],\n       [0.56723219],\n       [0.56386708],\n       [0.55440269],\n       [0.55924004],\n       [0.56232473],\n       [0.5640774 ],\n       [0.57087773]])"
     },
     "execution_count": 51,
     "metadata": {},
     "output_type": "execute_result"
    }
   ],
   "source": [
    "test_set_scaled = sc.transform(new_test_series.values.reshape(-1,1))\n",
    "test_set_scaled"
   ]
  },
  {
   "cell_type": "code",
   "execution_count": 52,
   "metadata": {},
   "outputs": [
    {
     "data": {
      "text/plain": "(664, 1)"
     },
     "execution_count": 52,
     "metadata": {},
     "output_type": "execute_result"
    }
   ],
   "source": [
    "test_set_scaled.shape"
   ]
  },
  {
   "cell_type": "markdown",
   "metadata": {},
   "source": [
    "### Prepare Test dataset Windows of 60  days each"
   ]
  },
  {
   "cell_type": "code",
   "execution_count": 53,
   "metadata": {
    "colab": {
     "base_uri": "https://localhost:8080/",
     "height": 34
    },
    "colab_type": "code",
    "id": "ja7H-jR0kWvX",
    "outputId": "ccc648fb-249a-4fd0-b4d7-a6f9ae827a0b"
   },
   "outputs": [
    {
     "data": {
      "text/plain": "(604, 60, 1)"
     },
     "execution_count": 53,
     "metadata": {},
     "output_type": "execute_result"
    }
   ],
   "source": [
    "# Preparing X_test and predicting the prices\n",
    "X_test = []\n",
    "for i in range(60,len(test_set_scaled)):\n",
    "    X_test.append(test_set_scaled[i-60:i,0])\n",
    "\n",
    "X_test = np.array(X_test)\n",
    "X_test = np.reshape(X_test, (X_test.shape[0],X_test.shape[1],1))\n",
    "X_test.shape"
   ]
  },
  {
   "cell_type": "markdown",
   "metadata": {},
   "source": [
    "### Model Prediction and Reverse Transform of Prices"
   ]
  },
  {
   "cell_type": "code",
   "execution_count": 54,
   "metadata": {
    "colab": {
     "base_uri": "https://localhost:8080/",
     "height": 34
    },
    "colab_type": "code",
    "id": "BBQ-3C53DZ5W",
    "outputId": "8beb0870-626b-4e77-bcae-3d8b05107a0d"
   },
   "outputs": [
    {
     "data": {
      "text/plain": "((604,), (604,))"
     },
     "execution_count": 54,
     "metadata": {},
     "output_type": "execute_result"
    }
   ],
   "source": [
    "predicted_stock_price = regressor.predict(X_test)\n",
    "predicted_stock_price_revtrans = sc.inverse_transform(predicted_stock_price).ravel()\n",
    "predicted_stock_price_revtrans_series = pd.Series(predicted_stock_price_revtrans)\n",
    "predicted_stock_price_revtrans_series.index = test_series.index\n",
    "predicted_stock_price_revtrans_series.shape, test_series.shape"
   ]
  },
  {
   "cell_type": "markdown",
   "metadata": {
    "colab_type": "text",
    "id": "Dhjde2l_Dx1y"
   },
   "source": [
    "## Model Evaluation"
   ]
  },
  {
   "cell_type": "code",
   "execution_count": 55,
   "metadata": {
    "colab": {
     "base_uri": "https://localhost:8080/",
     "height": 50
    },
    "colab_type": "code",
    "id": "iLDpDXl5kcnH",
    "outputId": "16f9238f-2d13-4c19-bed3-b3281f0388b7"
   },
   "outputs": [
    {
     "name": "stdout",
     "output_type": "stream",
     "text": [
      "Testing Mean Squared Error: 22.038\n",
      "Symmetric Mean absolute percentage error: 2.584\n"
     ]
    }
   ],
   "source": [
    "# Evaluating our model\n",
    "error = mean_squared_error(test_series, predicted_stock_price_revtrans_series)\n",
    "print('Testing Mean Squared Error: %.3f' % error)\n",
    "error2 = smape_kun(test_series, predicted_stock_price_revtrans_series)\n",
    "print('Symmetric Mean absolute percentage error: %.3f' % error2)"
   ]
  },
  {
   "cell_type": "markdown",
   "metadata": {
    "colab_type": "text",
    "id": "tR06LgzkD58c"
   },
   "source": [
    "## Visualizing the results from model predictions"
   ]
  },
  {
   "cell_type": "markdown",
   "metadata": {},
   "source": [
    "### Visualize train, test and forecasted prices"
   ]
  },
  {
   "cell_type": "code",
   "execution_count": 56,
   "metadata": {
    "colab": {
     "base_uri": "https://localhost:8080/",
     "height": 458
    },
    "colab_type": "code",
    "id": "g32mqimHkYja",
    "outputId": "c998166f-1e23-4aac-d1bf-98ee4bfe82ee"
   },
   "outputs": [
    {
     "data": {
      "text/plain": "<Figure size 864x504 with 1 Axes>",
      "image/png": "[encoded data removed]"
     },
     "metadata": {
      "needs_background": "light"
     },
     "output_type": "display_data"
    }
   ],
   "source": [
    "plt.figure(figsize=(12,7))\n",
    "plt.title('IBM Prices')\n",
    "plt.xlabel('Dates')\n",
    "plt.ylabel('Prices')\n",
    "plt.plot(train_series, color='blue', label='Training Prices')\n",
    "plt.plot(test_series, color='green', label='Testing Prices')\n",
    "plt.plot(predicted_stock_price_revtrans_series, color='red', linestyle='--', label='Forecasted Prices - Reverse Transform')\n",
    "plt.legend();"
   ]
  },
  {
   "cell_type": "markdown",
   "metadata": {},
   "source": [
    "### Q17: Visualize only test and forecast prices"
   ]
  },
  {
   "cell_type": "code",
   "execution_count": 57,
   "metadata": {
    "colab": {
     "base_uri": "https://localhost:8080/",
     "height": 458
    },
    "colab_type": "code",
    "id": "UH7f5oS8Fqxy",
    "outputId": "25bb2da0-b464-4a96-f357-41fead67b1ba"
   },
   "outputs": [
    {
     "data": {
      "text/plain": "<Figure size 864x504 with 1 Axes>",
      "image/png": "[encoded data removed]"
     },
     "metadata": {
      "needs_background": "light"
     },
     "output_type": "display_data"
    }
   ],
   "source": [
    "plt.figure(figsize=(12,7))\n",
    "plt.title('IBM Prices')\n",
    "plt.xlabel('Dates')\n",
    "plt.ylabel('Prices')\n",
    "plt.plot(test_series, color='green', label='Testing Prices')\n",
    "plt.plot(predicted_stock_price_revtrans_series, color='red', linestyle='--', label='Forecasted Prices - Reverse Transform')\n",
    "plt.legend();"
   ]
  },
  {
   "cell_type": "markdown",
   "metadata": {
    "colab_type": "text",
    "id": "c1xuGfJuQTOp"
   },
   "source": [
    "# Conclusion\n",
    "\n",
    "Remember we did a rolling point-based prediction for the ARIMA model where we tried to predict every day's (t) stock price in the test data by using both the training data as well as the previous (n - t) days of test data also to fit the model which gave it such good results vs. the LSTM model where we used 2 months of rolling window price data to predict the next day's price."
   ]
  },
  {
   "cell_type": "code",
   "execution_count": null,
   "metadata": {},
   "outputs": [],
   "source": []
  }
 ],
 "metadata": {
  "accelerator": "GPU",
  "colab": {
   "collapsed_sections": [],
   "name": "Time_Series_Prediction.ipynb",
   "provenance": []
  },
  "kernelspec": {
   "display_name": "Python 3",
   "language": "python",
   "name": "python3"
  },
  "language_info": {
   "codemirror_mode": {
    "name": "ipython",
    "version": 3
   },
   "file_extension": ".py",
   "mimetype": "text/x-python",
   "name": "python",
   "nbconvert_exporter": "python",
   "pygments_lexer": "ipython3",
   "version": "3.7.11"
  }
 },
 "nbformat": 4,
 "nbformat_minor": 1
}