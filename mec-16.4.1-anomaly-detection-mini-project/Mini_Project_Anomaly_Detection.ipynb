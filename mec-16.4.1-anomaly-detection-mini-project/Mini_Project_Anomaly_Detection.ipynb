{
 "nbformat": 4,
 "nbformat_minor": 0,
 "metadata": {
  "kernelspec": {
   "display_name": "Python 3",
   "language": "python",
   "name": "python3"
  },
  "language_info": {
   "codemirror_mode": {
    "name": "ipython",
    "version": 3
   },
   "file_extension": ".py",
   "mimetype": "text/x-python",
   "name": "python",
   "nbconvert_exporter": "python",
   "pygments_lexer": "ipython3",
   "version": "3.7.6"
  },
  "colab": {
   "name": "Anomaly_Detection_MiniProject.ipynb",
   "provenance": [],
   "collapsed_sections": [],
   "toc_visible": true
  }
 },
 "cells": [
  {
   "cell_type": "markdown",
   "metadata": {
    "id": "ObWa5RAYmQ6C"
   },
   "source": [
    "# Anomaly Detection of Retail Store Sales\n",
    "\n",
    "This hands-on mini-project will enable you to reinforce your learnings pertaining to anomaly detection in this unit. By now, you must already be aware of the key objective of anomaly detection. Just to refresh your memory, anomaly detection is the identification of outliers or rare event items in a dataset which potentially exhibit abnormal behavior or properties as compared to the rest of the datapoints.\n",
    "\n",
    "There are a wide variety of anomaly detection methods including supervised, unsupervised and semi-supervised. Typically you can perform anomaly detection on univariate data, multivariate data as well as data which is temporal in nature. In this mini-project you will leverage state-of-the-art anomaly detection models from frameworks like [__`scikit-learn`__](https://scikit-learn.org/stable/modules/outlier_detection.html) and [__`PyOD`__](https://pyod.readthedocs.io/en/latest/index.html).\n",
    "\n",
    "\n",
    "By the end of this mini-project, you will have successfully applied these techniques to find out potential outliers pertaining to sales transactional data in a retail store dataset and also learnt how to visualize outliers similar to the following plot.\n",
    "\n",
    "![](outlier_ex.png)\n",
    "\n",
    "We will be performing anomaly detection on both univariate and multivariate data and leverage the following anomaly detection techniques.\n",
    "\n",
    "- Simple Statistical Models (mean & standard deviation: the three-sigma rule)\n",
    "- Isolation Forest\n",
    "- Clustering-Based Local Outlier Factor\n",
    "- Auto-encoders"
   ]
  },
  {
   "cell_type": "markdown",
   "metadata": {
    "id": "2E6whB6XmQ6J"
   },
   "source": [
    "# 1. Getting and Loading the Dataset\n",
    "\n",
    "The first step towards solving any data science or machine learning problem is to obtain the necessary data. In this scenario, we will be dealing with a popular retail dataset known as the [SuperStore Sales Dataset](https://community.tableau.com/docs/DOC-1236) which consists of transactional data pertaining to a retail store.\n",
    "\n",
    "#### Please download the required dataset from [here](https://community.tableau.com/docs/DOC-1236) if necessary, although it will also be provided to you along with this notebook for this mini-project\n",
    "\n",
    "Once we have the necessary data, we will load up the dataset and perform some initial exploratory data analysis"
   ]
  },
  {
   "cell_type": "markdown",
   "metadata": {
    "id": "eMO8eIeOmQ6K"
   },
   "source": [
    "# 2. Exploratory Data Analysis\n",
    "\n",
    "It's time to do some basic exploratory analysis on the retail store transactional data. We start by loading up the dataset into a pandas dataframe."
   ]
  },
  {
   "cell_type": "code",
   "metadata": {
    "colab": {
     "base_uri": "https://localhost:8080/"
    },
    "id": "2PaRTsoTmQ6K",
    "outputId": "1c1f7de2-c60a-4d11-820e-811b3a4e0f47"
   },
   "source": [
    "import pandas as pd\n",
    "import numpy as np\n",
    "import matplotlib.pyplot as plt\n",
    "import seaborn as sns\n",
    "import matplotlib\n",
    "import warnings\n",
    "warnings.filterwarnings('ignore')\n",
    "\n",
    "%matplotlib inline\n",
    "\n",
    "\n",
    "df = pd.read_excel(\"./Superstore.xls\")\n",
    "df.info()"
   ],
   "execution_count": 1,
   "outputs": [
    {
     "name": "stdout",
     "output_type": "stream",
     "text": [
      "<class 'pandas.core.frame.DataFrame'>\n",
      "RangeIndex: 9994 entries, 0 to 9993\n",
      "Data columns (total 21 columns):\n",
      " #   Column         Non-Null Count  Dtype         \n",
      "---  ------         --------------  -----         \n",
      " 0   Row ID         9994 non-null   int64         \n",
      " 1   Order ID       9994 non-null   object        \n",
      " 2   Order Date     9994 non-null   datetime64[ns]\n",
      " 3   Ship Date      9994 non-null   datetime64[ns]\n",
      " 4   Ship Mode      9994 non-null   object        \n",
      " 5   Customer ID    9994 non-null   object        \n",
      " 6   Customer Name  9994 non-null   object        \n",
      " 7   Segment        9994 non-null   object        \n",
      " 8   Country        9994 non-null   object        \n",
      " 9   City           9994 non-null   object        \n",
      " 10  State          9994 non-null   object        \n",
      " 11  Postal Code    9994 non-null   int64         \n",
      " 12  Region         9994 non-null   object        \n",
      " 13  Product ID     9994 non-null   object        \n",
      " 14  Category       9994 non-null   object        \n",
      " 15  Sub-Category   9994 non-null   object        \n",
      " 16  Product Name   9994 non-null   object        \n",
      " 17  Sales          9994 non-null   float64       \n",
      " 18  Quantity       9994 non-null   int64         \n",
      " 19  Discount       9994 non-null   float64       \n",
      " 20  Profit         9994 non-null   float64       \n",
      "dtypes: datetime64[ns](2), float64(3), int64(3), object(13)\n",
      "memory usage: 1.6+ MB\n"
     ]
    }
   ]
  },
  {
   "cell_type": "markdown",
   "metadata": {
    "id": "OEmah4AymQ6L"
   },
   "source": [
    "We don't have any major missing values in our dataset and we can now look at a sample subset of the data"
   ]
  },
  {
   "cell_type": "code",
   "metadata": {
    "colab": {
     "base_uri": "https://localhost:8080/",
     "height": 520
    },
    "id": "RlVfgbZDmQ6L",
    "outputId": "6ea6923a-188d-4494-b5eb-41bf4244af9f"
   },
   "source": [
    "df.head()"
   ],
   "execution_count": 2,
   "outputs": [
    {
     "data": {
      "text/plain": "   Row ID        Order ID Order Date  Ship Date       Ship Mode Customer ID  \\\n0       1  CA-2016-152156 2016-11-08 2016-11-11    Second Class    CG-12520   \n1       2  CA-2016-152156 2016-11-08 2016-11-11    Second Class    CG-12520   \n2       3  CA-2016-138688 2016-06-12 2016-06-16    Second Class    DV-13045   \n3       4  US-2015-108966 2015-10-11 2015-10-18  Standard Class    SO-20335   \n4       5  US-2015-108966 2015-10-11 2015-10-18  Standard Class    SO-20335   \n\n     Customer Name    Segment        Country             City  ...  \\\n0      Claire Gute   Consumer  United States        Henderson  ...   \n1      Claire Gute   Consumer  United States        Henderson  ...   \n2  Darrin Van Huff  Corporate  United States      Los Angeles  ...   \n3   Sean O'Donnell   Consumer  United States  Fort Lauderdale  ...   \n4   Sean O'Donnell   Consumer  United States  Fort Lauderdale  ...   \n\n  Postal Code  Region       Product ID         Category Sub-Category  \\\n0       42420   South  FUR-BO-10001798        Furniture    Bookcases   \n1       42420   South  FUR-CH-10000454        Furniture       Chairs   \n2       90036    West  OFF-LA-10000240  Office Supplies       Labels   \n3       33311   South  FUR-TA-10000577        Furniture       Tables   \n4       33311   South  OFF-ST-10000760  Office Supplies      Storage   \n\n                                        Product Name     Sales  Quantity  \\\n0                  Bush Somerset Collection Bookcase  261.9600         2   \n1  Hon Deluxe Fabric Upholstered Stacking Chairs,...  731.9400         3   \n2  Self-Adhesive Address Labels for Typewriters b...   14.6200         2   \n3      Bretford CR4500 Series Slim Rectangular Table  957.5775         5   \n4                     Eldon Fold 'N Roll Cart System   22.3680         2   \n\n   Discount    Profit  \n0      0.00   41.9136  \n1      0.00  219.5820  \n2      0.00    6.8714  \n3      0.45 -383.0310  \n4      0.20    2.5164  \n\n[5 rows x 21 columns]",
      "text/html": "<div>\n<style scoped>\n    .dataframe tbody tr th:only-of-type {\n        vertical-align: middle;\n    }\n\n    .dataframe tbody tr th {\n        vertical-align: top;\n    }\n\n    .dataframe thead th {\n        text-align: right;\n    }\n</style>\n<table border=\"1\" class=\"dataframe\">\n  <thead>\n    <tr style=\"text-align: right;\">\n      <th></th>\n      <th>Row ID</th>\n      <th>Order ID</th>\n      <th>Order Date</th>\n      <th>Ship Date</th>\n      <th>Ship Mode</th>\n      <th>Customer ID</th>\n      <th>Customer Name</th>\n      <th>Segment</th>\n      <th>Country</th>\n      <th>City</th>\n      <th>...</th>\n      <th>Postal Code</th>\n      <th>Region</th>\n      <th>Product ID</th>\n      <th>Category</th>\n      <th>Sub-Category</th>\n      <th>Product Name</th>\n      <th>Sales</th>\n      <th>Quantity</th>\n      <th>Discount</th>\n      <th>Profit</th>\n    </tr>\n  </thead>\n  <tbody>\n    <tr>\n      <th>0</th>\n      <td>1</td>\n      <td>CA-2016-152156</td>\n      <td>2016-11-08</td>\n      <td>2016-11-11</td>\n      <td>Second Class</td>\n      <td>CG-12520</td>\n      <td>Claire Gute</td>\n      <td>Consumer</td>\n      <td>United States</td>\n      <td>Henderson</td>\n      <td>...</td>\n      <td>42420</td>\n      <td>South</td>\n      <td>FUR-BO-10001798</td>\n      <td>Furniture</td>\n      <td>Bookcases</td>\n      <td>Bush Somerset Collection Bookcase</td>\n      <td>261.9600</td>\n      <td>2</td>\n      <td>0.00</td>\n      <td>41.9136</td>\n    </tr>\n    <tr>\n      <th>1</th>\n      <td>2</td>\n      <td>CA-2016-152156</td>\n      <td>2016-11-08</td>\n      <td>2016-11-11</td>\n      <td>Second Class</td>\n      <td>CG-12520</td>\n      <td>Claire Gute</td>\n      <td>Consumer</td>\n      <td>United States</td>\n      <td>Henderson</td>\n      <td>...</td>\n      <td>42420</td>\n      <td>South</td>\n      <td>FUR-CH-10000454</td>\n      <td>Furniture</td>\n      <td>Chairs</td>\n      <td>Hon Deluxe Fabric Upholstered Stacking Chairs,...</td>\n      <td>731.9400</td>\n      <td>3</td>\n      <td>0.00</td>\n      <td>219.5820</td>\n    </tr>\n    <tr>\n      <th>2</th>\n      <td>3</td>\n      <td>CA-2016-138688</td>\n      <td>2016-06-12</td>\n      <td>2016-06-16</td>\n      <td>Second Class</td>\n      <td>DV-13045</td>\n      <td>Darrin Van Huff</td>\n      <td>Corporate</td>\n      <td>United States</td>\n      <td>Los Angeles</td>\n      <td>...</td>\n      <td>90036</td>\n      <td>West</td>\n      <td>OFF-LA-10000240</td>\n      <td>Office Supplies</td>\n      <td>Labels</td>\n      <td>Self-Adhesive Address Labels for Typewriters b...</td>\n      <td>14.6200</td>\n      <td>2</td>\n      <td>0.00</td>\n      <td>6.8714</td>\n    </tr>\n    <tr>\n      <th>3</th>\n      <td>4</td>\n      <td>US-2015-108966</td>\n      <td>2015-10-11</td>\n      <td>2015-10-18</td>\n      <td>Standard Class</td>\n      <td>SO-20335</td>\n      <td>Sean O'Donnell</td>\n      <td>Consumer</td>\n      <td>United States</td>\n      <td>Fort Lauderdale</td>\n      <td>...</td>\n      <td>33311</td>\n      <td>South</td>\n      <td>FUR-TA-10000577</td>\n      <td>Furniture</td>\n      <td>Tables</td>\n      <td>Bretford CR4500 Series Slim Rectangular Table</td>\n      <td>957.5775</td>\n      <td>5</td>\n      <td>0.45</td>\n      <td>-383.0310</td>\n    </tr>\n    <tr>\n      <th>4</th>\n      <td>5</td>\n      <td>US-2015-108966</td>\n      <td>2015-10-11</td>\n      <td>2015-10-18</td>\n      <td>Standard Class</td>\n      <td>SO-20335</td>\n      <td>Sean O'Donnell</td>\n      <td>Consumer</td>\n      <td>United States</td>\n      <td>Fort Lauderdale</td>\n      <td>...</td>\n      <td>33311</td>\n      <td>South</td>\n      <td>OFF-ST-10000760</td>\n      <td>Office Supplies</td>\n      <td>Storage</td>\n      <td>Eldon Fold 'N Roll Cart System</td>\n      <td>22.3680</td>\n      <td>2</td>\n      <td>0.20</td>\n      <td>2.5164</td>\n    </tr>\n  </tbody>\n</table>\n<p>5 rows × 21 columns</p>\n</div>"
     },
     "execution_count": 2,
     "metadata": {},
     "output_type": "execute_result"
    }
   ]
  },
  {
   "cell_type": "markdown",
   "metadata": {
    "id": "1jJ5-FOmmQ6M"
   },
   "source": [
    "## Visualize Sales vs. Order Date \n",
    "\n",
    "Let's look more closely at the __`Sales`__ attribute of the dataset in the next few cells. We'll start by looking at typical sales over time "
   ]
  },
  {
   "cell_type": "code",
   "metadata": {
    "colab": {
     "base_uri": "https://localhost:8080/",
     "height": 392
    },
    "id": "TJFiA_R_mQ6M",
    "outputId": "6371535e-b2b1-4026-bee6-73a18ae53425"
   },
   "source": [
    "fig, ax = plt.subplots(1, 1, figsize=(12, 6))\n",
    "sns.lineplot(x=df['Order Date'], y=df['Sales']);"
   ],
   "execution_count": 3,
   "outputs": [
    {
     "data": {
      "text/plain": "<Figure size 864x432 with 1 Axes>",
      "image/png": "[encoded data removed]"
     },
     "metadata": {
      "needs_background": "light"
     },
     "output_type": "display_data"
    }
   ]
  },
  {
   "cell_type": "markdown",
   "metadata": {
    "id": "AwySwKEemQ6M"
   },
   "source": [
    "## Visualize Sales Distribution\n",
    "\n",
    "\n",
    "Let's now look at the data distribution for __`Sales`__"
   ]
  },
  {
   "cell_type": "code",
   "metadata": {
    "colab": {
     "base_uri": "https://localhost:8080/"
    },
    "id": "2QgKmAZQmQ6N",
    "outputId": "7606e4c7-e6c6-4673-b307-218a11488676"
   },
   "source": [
    "df['Sales'].describe()"
   ],
   "execution_count": 5,
   "outputs": [
    {
     "data": {
      "text/plain": "count     9994.000000\nmean       229.858001\nstd        623.245101\nmin          0.444000\n25%         17.280000\n50%         54.490000\n75%        209.940000\nmax      22638.480000\nName: Sales, dtype: float64"
     },
     "execution_count": 5,
     "metadata": {},
     "output_type": "execute_result"
    }
   ]
  },
  {
   "cell_type": "code",
   "execution_count": 6,
   "outputs": [
    {
     "data": {
      "text/plain": "<Figure size 432x288 with 1 Axes>",
      "image/png": "[encoded data removed]"
     },
     "metadata": {
      "needs_background": "light"
     },
     "output_type": "display_data"
    }
   ],
   "source": [
    "sns.distplot(df['Sales'])\n",
    "plt.title(\"Sales Distribution\");"
   ],
   "metadata": {
    "collapsed": false,
    "pycharm": {
     "name": "#%%\n"
    }
   }
  },
  {
   "cell_type": "markdown",
   "metadata": {
    "id": "8keYbWLgmQ6N"
   },
   "source": [
    "We can definitely see the presence of potential outliers in terms of the min or max values as compared to the meat of the distribution in the interquartile range as observed in the distribution statistics"
   ]
  },
  {
   "cell_type": "markdown",
   "metadata": {
    "id": "8jRwZqpimQ6N"
   },
   "source": [
    "## Q 2.1: Visualize Profit vs. Order Date \n",
    "\n",
    "Let's now look closely at the __`Profit`__ attribute of the dataset in the next few cells. We'll start by looking at typical profits over time.\n",
    "\n",
    "__Your turn: Plot `Order Date` vs. `Profit` using a line plot__"
   ]
  },
  {
   "cell_type": "code",
   "metadata": {
    "colab": {
     "base_uri": "https://localhost:8080/",
     "height": 387
    },
    "id": "_irwEaUhmQ6N",
    "outputId": "a0dc6bd2-9d50-4cdb-b1ba-d4a48420353c"
   },
   "source": [
    "fig, ax = plt.subplots(1, 1, figsize=(12, 6))\n",
    "sns.lineplot(x=df['Order Date'], y=df['Profit']);"
   ],
   "execution_count": 7,
   "outputs": [
    {
     "data": {
      "text/plain": "<Figure size 864x432 with 1 Axes>",
      "image/png": "[encoded data removed]"
     },
     "metadata": {
      "needs_background": "light"
     },
     "output_type": "display_data"
    }
   ]
  },
  {
   "cell_type": "markdown",
   "metadata": {
    "id": "ZLS01kuWmQ6P"
   },
   "source": [
    "## Q 2.2: Visualize Profit Distribution\n",
    "\n",
    "Let's now look at the data distribution for __`Profit`__\n",
    "\n",
    "__Your turn: Plot the distribution for `Profit`__"
   ]
  },
  {
   "cell_type": "code",
   "metadata": {
    "colab": {
     "base_uri": "https://localhost:8080/",
     "height": 350
    },
    "id": "AQG1IBFkmQ6P",
    "outputId": "66e1c579-db90-44d5-faa2-4bbe91f25857"
   },
   "source": [
    "plt.figure(figsize=(13,5))\n",
    "sns.distplot(df.Profit)\n",
    "plt.title(\"Profit Distribution\");"
   ],
   "execution_count": 8,
   "outputs": [
    {
     "data": {
      "text/plain": "<Figure size 936x360 with 1 Axes>",
      "image/png": "[encoded data removed]"
     },
     "metadata": {
      "needs_background": "light"
     },
     "output_type": "display_data"
    }
   ]
  },
  {
   "cell_type": "markdown",
   "metadata": {
    "id": "91G48ZT5mQ6Q"
   },
   "source": [
    "__Your turn: Get the essential descriptive statistics for `Profit` using an appropriate function__"
   ]
  },
  {
   "cell_type": "code",
   "metadata": {
    "colab": {
     "base_uri": "https://localhost:8080/"
    },
    "id": "uLtRQpYbmQ6Q",
    "outputId": "218f71c9-1151-4a61-edfe-1b1ed2c4c557"
   },
   "source": [
    "df.Profit.describe()"
   ],
   "execution_count": 9,
   "outputs": [
    {
     "data": {
      "text/plain": "count    9994.000000\nmean       28.656896\nstd       234.260108\nmin     -6599.978000\n25%         1.728750\n50%         8.666500\n75%        29.364000\nmax      8399.976000\nName: Profit, dtype: float64"
     },
     "execution_count": 9,
     "metadata": {},
     "output_type": "execute_result"
    }
   ]
  },
  {
   "cell_type": "markdown",
   "metadata": {
    "id": "dJNo-VPXmQ6R"
   },
   "source": [
    "We have both positive and negative values in profits since it indicates either a profit or a loss based on the sales and original price of the items."
   ]
  },
  {
   "cell_type": "markdown",
   "metadata": {
    "id": "LZvYEr9pmQ6Q"
   },
   "source": [
    "**Do you notice anything interesting about the distribution?**\n",
    "- **The distribution for Profit is interesting because most of the values are clustered around values -100 to 100, however the plot is stretched out because of a few extremely large and extremely small values which affect the std. dev and mean values.**"
   ]
  },
  {
   "cell_type": "markdown",
   "metadata": {
    "id": "NRpPwgYSmQ6R"
   },
   "source": [
    "## Visualize Discount vs. Profit"
   ]
  },
  {
   "cell_type": "code",
   "metadata": {
    "colab": {
     "base_uri": "https://localhost:8080/",
     "height": 387
    },
    "id": "uw1WMnKjmQ6R",
    "outputId": "42e4ab76-eb79-43f0-cf99-1140f71eb8fd"
   },
   "source": [
    "plt.figure(figsize = (15,6))\n",
    "sns.scatterplot(x=\"Discount\", y=\"Profit\", data=df);"
   ],
   "execution_count": 10,
   "outputs": [
    {
     "data": {
      "text/plain": "<Figure size 1080x432 with 1 Axes>",
      "image/png": "[encoded data removed]"
     },
     "metadata": {
      "needs_background": "light"
     },
     "output_type": "display_data"
    }
   ]
  },
  {
   "cell_type": "markdown",
   "metadata": {
    "id": "ohYNUpUYmQ6S"
   },
   "source": [
    "In the above visual, we look at a scatter plot showing the distribution of profits w.r.t discounts given"
   ]
  },
  {
   "cell_type": "markdown",
   "metadata": {
    "id": "sf0_BdULmQ6S"
   },
   "source": [
    "# 3. Univariate Anomaly Detection\n",
    "\n",
    "Univariate is basically analysis done on a single attribute or feature. In this section, we will perform anomaly detection on a single attribute using the following methods.\n",
    "\n",
    "- Statistical Process Control Methods (mean + 3sigma thresholding)\n",
    "- Isolation Forest\n",
    "\n",
    "We will start off by demonstrating both these techniques on the __`Sales`__ attribute and later on, you will implement similar techniques on the __`Profit`__ attribute."
   ]
  },
  {
   "cell_type": "markdown",
   "metadata": {
    "id": "c1wFBdi1mQ6T"
   },
   "source": [
    "## 3.1: Univariate Anomaly Detection on Sales using Statistical Modeling\n",
    "\n",
    "Here we start off by implementing anomaly detecting using statistical modeling on the __`Sales`__ attribute"
   ]
  },
  {
   "cell_type": "markdown",
   "metadata": {
    "id": "JNYj0eo8mQ6T"
   },
   "source": [
    "### Obtain Upper Limit Threshold for Sales\n",
    "\n",
    "Here we are concerned about transactions with high sales values so we compute the upper limit using the $\\mu$ + 3$\\sigma$ rule where $\\mu$ is the mean of the distribution and $\\sigma$ is the standard deviation of the distribution."
   ]
  },
  {
   "cell_type": "code",
   "metadata": {
    "colab": {
     "base_uri": "https://localhost:8080/"
    },
    "id": "X8QblKfDmQ6T",
    "outputId": "62b7c0b8-a1dc-47e1-d49b-cd966cc1e429"
   },
   "source": [
    "mean_sales = df['Sales'].mean()\n",
    "sigma_sales = df['Sales'].std()\n",
    "three_sigma_sales = 3*sigma_sales\n",
    "\n",
    "threshold_sales_value = mean_sales + three_sigma_sales\n",
    "print('Threshold Sales:', threshold_sales_value)"
   ],
   "execution_count": 11,
   "outputs": [
    {
     "name": "stdout",
     "output_type": "stream",
     "text": [
      "Threshold Sales: 2099.593302356541\n"
     ]
    }
   ]
  },
  {
   "cell_type": "markdown",
   "metadata": {
    "id": "MgycMeg5mQ6T"
   },
   "source": [
    "### Visualize Outlier Region"
   ]
  },
  {
   "cell_type": "code",
   "metadata": {
    "colab": {
     "base_uri": "https://localhost:8080/",
     "height": 403
    },
    "id": "15o-ooCBmQ6T",
    "outputId": "b11a79d7-694a-4317-da5e-47e7493dd400"
   },
   "source": [
    "fig, ax = plt.subplots(1, 1, figsize=(12, 6))\n",
    "\n",
    "sns.distplot(df['Sales'])\n",
    "plt.axvspan(threshold_sales_value, df['Sales'].max(), facecolor='r', alpha=0.3)\n",
    "plt.title(\"Sales Distribution with Outlier Region\");"
   ],
   "execution_count": 12,
   "outputs": [
    {
     "data": {
      "text/plain": "<Figure size 864x432 with 1 Axes>",
      "image/png": "[encoded data removed]"
     },
     "metadata": {
      "needs_background": "light"
     },
     "output_type": "display_data"
    }
   ]
  },
  {
   "cell_type": "markdown",
   "metadata": {
    "id": "7ZUV5SdqmQ6U"
   },
   "source": [
    "### Filter and Sort Outliers\n",
    "\n",
    "Here we filter out the outlier observations and sort by descending order and view the top 5 outlier values"
   ]
  },
  {
   "cell_type": "code",
   "metadata": {
    "colab": {
     "base_uri": "https://localhost:8080/"
    },
    "id": "LGKRQiO3mQ6U",
    "outputId": "691066c0-8c49-4dd4-9a60-02f4ae71c6a4"
   },
   "source": [
    "sales_outliers_df = df['Sales'][df['Sales'] > threshold_sales_value]\n",
    "print('Total Sales Outliers:', len(sales_outliers_df))\n",
    "sales_outliers_sorted = sales_outliers_df.sort_values(ascending=False)\n",
    "sales_outliers_sorted.head(5)"
   ],
   "execution_count": 13,
   "outputs": [
    {
     "name": "stdout",
     "output_type": "stream",
     "text": [
      "Total Sales Outliers: 127\n"
     ]
    },
    {
     "data": {
      "text/plain": "2697    22638.480\n6826    17499.950\n8153    13999.960\n2623    11199.968\n4190    10499.970\nName: Sales, dtype: float64"
     },
     "execution_count": 13,
     "metadata": {},
     "output_type": "execute_result"
    }
   ]
  },
  {
   "cell_type": "markdown",
   "metadata": {
    "id": "Y9pFkCG4mQ6U"
   },
   "source": [
    "### View Top 10 Outlier Transactions"
   ]
  },
  {
   "cell_type": "code",
   "metadata": {
    "colab": {
     "base_uri": "https://localhost:8080/",
     "height": 335
    },
    "id": "5DVOZo0FmQ6U",
    "outputId": "9f87b7b8-3bca-46f2-b64a-5147ec19c1c1"
   },
   "source": [
    "(df.loc[sales_outliers_sorted.index.tolist()][['City', 'Category', 'Sub-Category', 'Product Name', \n",
    "                                              'Sales', 'Quantity', 'Discount', 'Profit']]).head(10)"
   ],
   "execution_count": 14,
   "outputs": [
    {
     "data": {
      "text/plain": "               City         Category Sub-Category  \\\n2697   Jacksonville       Technology     Machines   \n6826      Lafayette       Technology      Copiers   \n8153        Seattle       Technology      Copiers   \n2623  New York City       Technology      Copiers   \n4190         Newark       Technology      Copiers   \n9039        Detroit  Office Supplies      Binders   \n4098    Minneapolis  Office Supplies      Binders   \n4277       Lakewood       Technology     Machines   \n8488      Arlington       Technology     Machines   \n6425   Philadelphia       Technology      Copiers   \n\n                                           Product Name      Sales  Quantity  \\\n2697  Cisco TelePresence System EX90 Videoconferenci...  22638.480         6   \n6826              Canon imageCLASS 2200 Advanced Copier  17499.950         5   \n8153              Canon imageCLASS 2200 Advanced Copier  13999.960         4   \n2623              Canon imageCLASS 2200 Advanced Copier  11199.968         4   \n4190              Canon imageCLASS 2200 Advanced Copier  10499.970         3   \n9039   GBC Ibimaster 500 Manual ProClick Binding System   9892.740        13   \n4098               Ibico EPK-21 Electric Binding System   9449.950         5   \n4277   3D Systems Cube Printer, 2nd Generation, Magenta   9099.930         7   \n8488  HP Designjet T520 Inkjet Large Format Printer ...   8749.950         5   \n6425              Canon imageCLASS 2200 Advanced Copier   8399.976         4   \n\n      Discount     Profit  \n2697       0.5 -1811.0784  \n6826       0.0  8399.9760  \n8153       0.0  6719.9808  \n2623       0.2  3919.9888  \n4190       0.0  5039.9856  \n9039       0.0  4946.3700  \n4098       0.0  4630.4755  \n4277       0.0  2365.9818  \n8488       0.0  2799.9840  \n6425       0.4  1119.9968  ",
      "text/html": "<div>\n<style scoped>\n    .dataframe tbody tr th:only-of-type {\n        vertical-align: middle;\n    }\n\n    .dataframe tbody tr th {\n        vertical-align: top;\n    }\n\n    .dataframe thead th {\n        text-align: right;\n    }\n</style>\n<table border=\"1\" class=\"dataframe\">\n  <thead>\n    <tr style=\"text-align: right;\">\n      <th></th>\n      <th>City</th>\n      <th>Category</th>\n      <th>Sub-Category</th>\n      <th>Product Name</th>\n      <th>Sales</th>\n      <th>Quantity</th>\n      <th>Discount</th>\n      <th>Profit</th>\n    </tr>\n  </thead>\n  <tbody>\n    <tr>\n      <th>2697</th>\n      <td>Jacksonville</td>\n      <td>Technology</td>\n      <td>Machines</td>\n      <td>Cisco TelePresence System EX90 Videoconferenci...</td>\n      <td>22638.480</td>\n      <td>6</td>\n      <td>0.5</td>\n      <td>-1811.0784</td>\n    </tr>\n    <tr>\n      <th>6826</th>\n      <td>Lafayette</td>\n      <td>Technology</td>\n      <td>Copiers</td>\n      <td>Canon imageCLASS 2200 Advanced Copier</td>\n      <td>17499.950</td>\n      <td>5</td>\n      <td>0.0</td>\n      <td>8399.9760</td>\n    </tr>\n    <tr>\n      <th>8153</th>\n      <td>Seattle</td>\n      <td>Technology</td>\n      <td>Copiers</td>\n      <td>Canon imageCLASS 2200 Advanced Copier</td>\n      <td>13999.960</td>\n      <td>4</td>\n      <td>0.0</td>\n      <td>6719.9808</td>\n    </tr>\n    <tr>\n      <th>2623</th>\n      <td>New York City</td>\n      <td>Technology</td>\n      <td>Copiers</td>\n      <td>Canon imageCLASS 2200 Advanced Copier</td>\n      <td>11199.968</td>\n      <td>4</td>\n      <td>0.2</td>\n      <td>3919.9888</td>\n    </tr>\n    <tr>\n      <th>4190</th>\n      <td>Newark</td>\n      <td>Technology</td>\n      <td>Copiers</td>\n      <td>Canon imageCLASS 2200 Advanced Copier</td>\n      <td>10499.970</td>\n      <td>3</td>\n      <td>0.0</td>\n      <td>5039.9856</td>\n    </tr>\n    <tr>\n      <th>9039</th>\n      <td>Detroit</td>\n      <td>Office Supplies</td>\n      <td>Binders</td>\n      <td>GBC Ibimaster 500 Manual ProClick Binding System</td>\n      <td>9892.740</td>\n      <td>13</td>\n      <td>0.0</td>\n      <td>4946.3700</td>\n    </tr>\n    <tr>\n      <th>4098</th>\n      <td>Minneapolis</td>\n      <td>Office Supplies</td>\n      <td>Binders</td>\n      <td>Ibico EPK-21 Electric Binding System</td>\n      <td>9449.950</td>\n      <td>5</td>\n      <td>0.0</td>\n      <td>4630.4755</td>\n    </tr>\n    <tr>\n      <th>4277</th>\n      <td>Lakewood</td>\n      <td>Technology</td>\n      <td>Machines</td>\n      <td>3D Systems Cube Printer, 2nd Generation, Magenta</td>\n      <td>9099.930</td>\n      <td>7</td>\n      <td>0.0</td>\n      <td>2365.9818</td>\n    </tr>\n    <tr>\n      <th>8488</th>\n      <td>Arlington</td>\n      <td>Technology</td>\n      <td>Machines</td>\n      <td>HP Designjet T520 Inkjet Large Format Printer ...</td>\n      <td>8749.950</td>\n      <td>5</td>\n      <td>0.0</td>\n      <td>2799.9840</td>\n    </tr>\n    <tr>\n      <th>6425</th>\n      <td>Philadelphia</td>\n      <td>Technology</td>\n      <td>Copiers</td>\n      <td>Canon imageCLASS 2200 Advanced Copier</td>\n      <td>8399.976</td>\n      <td>4</td>\n      <td>0.4</td>\n      <td>1119.9968</td>\n    </tr>\n  </tbody>\n</table>\n</div>"
     },
     "execution_count": 14,
     "metadata": {},
     "output_type": "execute_result"
    }
   ]
  },
  {
   "cell_type": "markdown",
   "metadata": {
    "id": "vQuiTNLKmQ6U"
   },
   "source": [
    "### View Bottom 10 Outlier Transactions"
   ]
  },
  {
   "cell_type": "code",
   "metadata": {
    "colab": {
     "base_uri": "https://localhost:8080/",
     "height": 335
    },
    "id": "O6dgAAyPmQ6V",
    "outputId": "d0a28a9a-fdf6-4ebf-b4aa-b109a3af1abf"
   },
   "source": [
    "(df.loc[sales_outliers_sorted.index.tolist()][['City', 'Category', 'Sub-Category', 'Product Name', \n",
    "                                              'Sales', 'Quantity', 'Discount', 'Profit']]).tail(10)"
   ],
   "execution_count": 15,
   "outputs": [
    {
     "data": {
      "text/plain": "               City         Category Sub-Category  \\\n5300    Springfield        Furniture       Tables   \n6101  New York City        Furniture       Chairs   \n4881      Henderson       Technology  Accessories   \n7487          Dover       Technology  Accessories   \n1155   Harrisonburg        Furniture       Tables   \n8699      Nashville       Technology       Phones   \n9774    San Antonio  Office Supplies      Binders   \n8424       Lakewood        Furniture    Bookcases   \n6534        Buffalo  Office Supplies      Binders   \n8680       Richmond  Office Supplies   Appliances   \n\n                                           Product Name     Sales  Quantity  \\\n5300                  Hon Rectangular Conference Tables  2275.500        10   \n6101      Global Troy Executive Leather Low-Back Tilter  2254.410         5   \n4881                      Logitech diNovo Edge Keyboard  2249.910         9   \n7487                      Logitech diNovo Edge Keyboard  2249.910         9   \n1155  Chromcraft 48\" x 96\" Racetrack Double Pedestal...  2244.480         7   \n8699  Samsung Galaxy S III - 16GB - pebble blue (T-M...  2239.936         8   \n9774          GBC DocuBind P400 Electric Binding System  2177.584         8   \n8424  Global Adaptabilites Bookcase, Cherry/Storm Gr...  2154.900         5   \n6534         GBC DocuBind TL300 Electric Binding System  2152.776         3   \n8680  Honeywell Enviracaire Portable HEPA Air Cleane...  2104.550         7   \n\n      Discount     Profit  \n5300       0.0   386.8350  \n6101       0.1   375.7350  \n4881       0.0   517.4793  \n7487       0.0   517.4793  \n1155       0.0   493.7856  \n8699       0.2   223.9936  \n9774       0.8 -3701.8928  \n8424       0.0   129.2940  \n6534       0.2   726.5619  \n8680       0.0   694.5015  ",
      "text/html": "<div>\n<style scoped>\n    .dataframe tbody tr th:only-of-type {\n        vertical-align: middle;\n    }\n\n    .dataframe tbody tr th {\n        vertical-align: top;\n    }\n\n    .dataframe thead th {\n        text-align: right;\n    }\n</style>\n<table border=\"1\" class=\"dataframe\">\n  <thead>\n    <tr style=\"text-align: right;\">\n      <th></th>\n      <th>City</th>\n      <th>Category</th>\n      <th>Sub-Category</th>\n      <th>Product Name</th>\n      <th>Sales</th>\n      <th>Quantity</th>\n      <th>Discount</th>\n      <th>Profit</th>\n    </tr>\n  </thead>\n  <tbody>\n    <tr>\n      <th>5300</th>\n      <td>Springfield</td>\n      <td>Furniture</td>\n      <td>Tables</td>\n      <td>Hon Rectangular Conference Tables</td>\n      <td>2275.500</td>\n      <td>10</td>\n      <td>0.0</td>\n      <td>386.8350</td>\n    </tr>\n    <tr>\n      <th>6101</th>\n      <td>New York City</td>\n      <td>Furniture</td>\n      <td>Chairs</td>\n      <td>Global Troy Executive Leather Low-Back Tilter</td>\n      <td>2254.410</td>\n      <td>5</td>\n      <td>0.1</td>\n      <td>375.7350</td>\n    </tr>\n    <tr>\n      <th>4881</th>\n      <td>Henderson</td>\n      <td>Technology</td>\n      <td>Accessories</td>\n      <td>Logitech diNovo Edge Keyboard</td>\n      <td>2249.910</td>\n      <td>9</td>\n      <td>0.0</td>\n      <td>517.4793</td>\n    </tr>\n    <tr>\n      <th>7487</th>\n      <td>Dover</td>\n      <td>Technology</td>\n      <td>Accessories</td>\n      <td>Logitech diNovo Edge Keyboard</td>\n      <td>2249.910</td>\n      <td>9</td>\n      <td>0.0</td>\n      <td>517.4793</td>\n    </tr>\n    <tr>\n      <th>1155</th>\n      <td>Harrisonburg</td>\n      <td>Furniture</td>\n      <td>Tables</td>\n      <td>Chromcraft 48\" x 96\" Racetrack Double Pedestal...</td>\n      <td>2244.480</td>\n      <td>7</td>\n      <td>0.0</td>\n      <td>493.7856</td>\n    </tr>\n    <tr>\n      <th>8699</th>\n      <td>Nashville</td>\n      <td>Technology</td>\n      <td>Phones</td>\n      <td>Samsung Galaxy S III - 16GB - pebble blue (T-M...</td>\n      <td>2239.936</td>\n      <td>8</td>\n      <td>0.2</td>\n      <td>223.9936</td>\n    </tr>\n    <tr>\n      <th>9774</th>\n      <td>San Antonio</td>\n      <td>Office Supplies</td>\n      <td>Binders</td>\n      <td>GBC DocuBind P400 Electric Binding System</td>\n      <td>2177.584</td>\n      <td>8</td>\n      <td>0.8</td>\n      <td>-3701.8928</td>\n    </tr>\n    <tr>\n      <th>8424</th>\n      <td>Lakewood</td>\n      <td>Furniture</td>\n      <td>Bookcases</td>\n      <td>Global Adaptabilites Bookcase, Cherry/Storm Gr...</td>\n      <td>2154.900</td>\n      <td>5</td>\n      <td>0.0</td>\n      <td>129.2940</td>\n    </tr>\n    <tr>\n      <th>6534</th>\n      <td>Buffalo</td>\n      <td>Office Supplies</td>\n      <td>Binders</td>\n      <td>GBC DocuBind TL300 Electric Binding System</td>\n      <td>2152.776</td>\n      <td>3</td>\n      <td>0.2</td>\n      <td>726.5619</td>\n    </tr>\n    <tr>\n      <th>8680</th>\n      <td>Richmond</td>\n      <td>Office Supplies</td>\n      <td>Appliances</td>\n      <td>Honeywell Enviracaire Portable HEPA Air Cleane...</td>\n      <td>2104.550</td>\n      <td>7</td>\n      <td>0.0</td>\n      <td>694.5015</td>\n    </tr>\n  </tbody>\n</table>\n</div>"
     },
     "execution_count": 15,
     "metadata": {},
     "output_type": "execute_result"
    }
   ]
  },
  {
   "cell_type": "markdown",
   "metadata": {
    "id": "NAu-lTASmQ6V"
   },
   "source": [
    "## Q 3.2: Univariate Anomaly Detection on Profit using Statistical Modeling\n",
    "\n",
    "In this section you will use the learning from Section 3.1 and implement anomaly detecting using statistical modeling on the __`Profit`__ attribute. Since we have both +ve (profits) and -ve (losses) values in the distribution, we will try to find anomalies for each."
   ]
  },
  {
   "cell_type": "markdown",
   "metadata": {
    "id": "hPD0cWXUmQ6V"
   },
   "source": [
    "### Obtain Upper Limit Threshold for Profit\n",
    "\n",
    "__Your turn:__ Compute the upper and lower limits using the  𝜇  + 3 𝜎  rule where  𝜇  is the mean of the distribution and  𝜎  is the standard deviation of the distribution."
   ]
  },
  {
   "cell_type": "code",
   "metadata": {
    "colab": {
     "base_uri": "https://localhost:8080/"
    },
    "id": "LlZqjeulmQ6V",
    "outputId": "f75ef2e6-4a08-4325-d9b1-d8197f5356f6"
   },
   "source": [
    "mean_profit = df.Profit.mean()\n",
    "sigma_profit = df.Profit.std()\n",
    "three_sigma_profit = (3 * (sigma_profit))\n",
    "\n",
    "threshold_profit_upper_limit = mean_profit + three_sigma_profit\n",
    "threshold_profit_lower_limit = mean_profit - three_sigma_profit\n",
    "\n",
    "print('Thresholds Profit : (Lower: {}, Upper: {})'.format(threshold_profit_lower_limit, threshold_profit_upper_limit))"
   ],
   "execution_count": 16,
   "outputs": [
    {
     "name": "stdout",
     "output_type": "stream",
     "text": [
      "Thresholds Profit : (Lower: -674.1234267650873, Upper: 731.4372193806566)\n"
     ]
    }
   ]
  },
  {
   "cell_type": "markdown",
   "metadata": {
    "id": "5SuHjodgmQ6V"
   },
   "source": [
    "### Visualize Outlier Regions\n",
    "\n",
    "__Your turn:__ Visualize the upper and lower outlier regions in the distribution similar to what you did in 3.1"
   ]
  },
  {
   "cell_type": "code",
   "metadata": {
    "colab": {
     "base_uri": "https://localhost:8080/",
     "height": 403
    },
    "id": "Wr_JQMOYmQ6W",
    "outputId": "86715050-9fde-4703-8bf2-d803eb111080"
   },
   "source": [
    "fig, ax = plt.subplots(1, 1, figsize=(12, 6))\n",
    "\n",
    "sns.distplot(df.Profit)\n",
    "plt.axvspan(threshold_profit_lower_limit,df.Profit.min(), facecolor='r', alpha=0.3)\n",
    "plt.axvspan(threshold_profit_upper_limit ,df.Profit.max(),facecolor='r', alpha=0.3)\n",
    "plt.title(\"Profit Distribution with Outlier Region\");"
   ],
   "execution_count": 17,
   "outputs": [
    {
     "data": {
      "text/plain": "<Figure size 864x432 with 1 Axes>",
      "image/png": "[encoded data removed]"
     },
     "metadata": {
      "needs_background": "light"
     },
     "output_type": "display_data"
    }
   ]
  },
  {
   "cell_type": "markdown",
   "metadata": {
    "id": "u_2Y6W3bmQ6W"
   },
   "source": [
    "### Filter and Sort Outliers\n",
    "\n",
    "__Your turn:__ Filter out the outlier observations and sort by descending order and view the top 5 outlier values"
   ]
  },
  {
   "cell_type": "code",
   "metadata": {
    "colab": {
     "base_uri": "https://localhost:8080/"
    },
    "id": "Bz4dclB7mQ6W",
    "outputId": "8b0a8bd0-3358-44e1-8685-f7a667f5b445"
   },
   "source": [
    "profit_outliers_df = df['Profit'][(df.Profit > threshold_profit_upper_limit) | (df.Profit < threshold_profit_lower_limit)]\n",
    "print('Total Profit Outliers:', len(profit_outliers_df))\n",
    "profit_outliers_sorted = profit_outliers_df.sort_values(ascending=False)\n",
    "profit_outliers_sorted.head(5)"
   ],
   "execution_count": 18,
   "outputs": [
    {
     "name": "stdout",
     "output_type": "stream",
     "text": [
      "Total Profit Outliers: 107\n"
     ]
    },
    {
     "data": {
      "text/plain": "6826    8399.9760\n8153    6719.9808\n4190    5039.9856\n9039    4946.3700\n4098    4630.4755\nName: Profit, dtype: float64"
     },
     "execution_count": 18,
     "metadata": {},
     "output_type": "execute_result"
    }
   ]
  },
  {
   "cell_type": "markdown",
   "metadata": {
    "id": "iWlv2OyumQ6W"
   },
   "source": [
    "### View Top 10 Outlier Transactions\n",
    "\n",
    "__Your turn:__ View the top ten transactions based on highest profits"
   ]
  },
  {
   "cell_type": "code",
   "metadata": {
    "colab": {
     "base_uri": "https://localhost:8080/",
     "height": 335
    },
    "id": "O09h7tWtmQ6W",
    "outputId": "d9f9c48c-cf3d-480b-e84b-53b06c1ae8bc"
   },
   "source": [
    "(df.loc[sales_outliers_sorted.index.tolist()][['City', 'Category', 'Sub-Category', 'Product Name', \n",
    "                                              'Sales', 'Quantity', 'Discount', 'Profit']]).head(10)"
   ],
   "execution_count": 19,
   "outputs": [
    {
     "data": {
      "text/plain": "               City         Category Sub-Category  \\\n2697   Jacksonville       Technology     Machines   \n6826      Lafayette       Technology      Copiers   \n8153        Seattle       Technology      Copiers   \n2623  New York City       Technology      Copiers   \n4190         Newark       Technology      Copiers   \n9039        Detroit  Office Supplies      Binders   \n4098    Minneapolis  Office Supplies      Binders   \n4277       Lakewood       Technology     Machines   \n8488      Arlington       Technology     Machines   \n6425   Philadelphia       Technology      Copiers   \n\n                                           Product Name      Sales  Quantity  \\\n2697  Cisco TelePresence System EX90 Videoconferenci...  22638.480         6   \n6826              Canon imageCLASS 2200 Advanced Copier  17499.950         5   \n8153              Canon imageCLASS 2200 Advanced Copier  13999.960         4   \n2623              Canon imageCLASS 2200 Advanced Copier  11199.968         4   \n4190              Canon imageCLASS 2200 Advanced Copier  10499.970         3   \n9039   GBC Ibimaster 500 Manual ProClick Binding System   9892.740        13   \n4098               Ibico EPK-21 Electric Binding System   9449.950         5   \n4277   3D Systems Cube Printer, 2nd Generation, Magenta   9099.930         7   \n8488  HP Designjet T520 Inkjet Large Format Printer ...   8749.950         5   \n6425              Canon imageCLASS 2200 Advanced Copier   8399.976         4   \n\n      Discount     Profit  \n2697       0.5 -1811.0784  \n6826       0.0  8399.9760  \n8153       0.0  6719.9808  \n2623       0.2  3919.9888  \n4190       0.0  5039.9856  \n9039       0.0  4946.3700  \n4098       0.0  4630.4755  \n4277       0.0  2365.9818  \n8488       0.0  2799.9840  \n6425       0.4  1119.9968  ",
      "text/html": "<div>\n<style scoped>\n    .dataframe tbody tr th:only-of-type {\n        vertical-align: middle;\n    }\n\n    .dataframe tbody tr th {\n        vertical-align: top;\n    }\n\n    .dataframe thead th {\n        text-align: right;\n    }\n</style>\n<table border=\"1\" class=\"dataframe\">\n  <thead>\n    <tr style=\"text-align: right;\">\n      <th></th>\n      <th>City</th>\n      <th>Category</th>\n      <th>Sub-Category</th>\n      <th>Product Name</th>\n      <th>Sales</th>\n      <th>Quantity</th>\n      <th>Discount</th>\n      <th>Profit</th>\n    </tr>\n  </thead>\n  <tbody>\n    <tr>\n      <th>2697</th>\n      <td>Jacksonville</td>\n      <td>Technology</td>\n      <td>Machines</td>\n      <td>Cisco TelePresence System EX90 Videoconferenci...</td>\n      <td>22638.480</td>\n      <td>6</td>\n      <td>0.5</td>\n      <td>-1811.0784</td>\n    </tr>\n    <tr>\n      <th>6826</th>\n      <td>Lafayette</td>\n      <td>Technology</td>\n      <td>Copiers</td>\n      <td>Canon imageCLASS 2200 Advanced Copier</td>\n      <td>17499.950</td>\n      <td>5</td>\n      <td>0.0</td>\n      <td>8399.9760</td>\n    </tr>\n    <tr>\n      <th>8153</th>\n      <td>Seattle</td>\n      <td>Technology</td>\n      <td>Copiers</td>\n      <td>Canon imageCLASS 2200 Advanced Copier</td>\n      <td>13999.960</td>\n      <td>4</td>\n      <td>0.0</td>\n      <td>6719.9808</td>\n    </tr>\n    <tr>\n      <th>2623</th>\n      <td>New York City</td>\n      <td>Technology</td>\n      <td>Copiers</td>\n      <td>Canon imageCLASS 2200 Advanced Copier</td>\n      <td>11199.968</td>\n      <td>4</td>\n      <td>0.2</td>\n      <td>3919.9888</td>\n    </tr>\n    <tr>\n      <th>4190</th>\n      <td>Newark</td>\n      <td>Technology</td>\n      <td>Copiers</td>\n      <td>Canon imageCLASS 2200 Advanced Copier</td>\n      <td>10499.970</td>\n      <td>3</td>\n      <td>0.0</td>\n      <td>5039.9856</td>\n    </tr>\n    <tr>\n      <th>9039</th>\n      <td>Detroit</td>\n      <td>Office Supplies</td>\n      <td>Binders</td>\n      <td>GBC Ibimaster 500 Manual ProClick Binding System</td>\n      <td>9892.740</td>\n      <td>13</td>\n      <td>0.0</td>\n      <td>4946.3700</td>\n    </tr>\n    <tr>\n      <th>4098</th>\n      <td>Minneapolis</td>\n      <td>Office Supplies</td>\n      <td>Binders</td>\n      <td>Ibico EPK-21 Electric Binding System</td>\n      <td>9449.950</td>\n      <td>5</td>\n      <td>0.0</td>\n      <td>4630.4755</td>\n    </tr>\n    <tr>\n      <th>4277</th>\n      <td>Lakewood</td>\n      <td>Technology</td>\n      <td>Machines</td>\n      <td>3D Systems Cube Printer, 2nd Generation, Magenta</td>\n      <td>9099.930</td>\n      <td>7</td>\n      <td>0.0</td>\n      <td>2365.9818</td>\n    </tr>\n    <tr>\n      <th>8488</th>\n      <td>Arlington</td>\n      <td>Technology</td>\n      <td>Machines</td>\n      <td>HP Designjet T520 Inkjet Large Format Printer ...</td>\n      <td>8749.950</td>\n      <td>5</td>\n      <td>0.0</td>\n      <td>2799.9840</td>\n    </tr>\n    <tr>\n      <th>6425</th>\n      <td>Philadelphia</td>\n      <td>Technology</td>\n      <td>Copiers</td>\n      <td>Canon imageCLASS 2200 Advanced Copier</td>\n      <td>8399.976</td>\n      <td>4</td>\n      <td>0.4</td>\n      <td>1119.9968</td>\n    </tr>\n  </tbody>\n</table>\n</div>"
     },
     "execution_count": 19,
     "metadata": {},
     "output_type": "execute_result"
    }
   ]
  },
  {
   "cell_type": "markdown",
   "metadata": {
    "id": "7qhIvOm4mQ6X"
   },
   "source": [
    "### Q: Do you notice any interesting insights based on these transactions?"
   ]
  },
  {
   "cell_type": "markdown",
   "metadata": {
    "id": "7ZSsRdLmmQ6X"
   },
   "source": [
    "__A:__ **Most of these are purchases for Copiers and Binders , and it looks like Canon products yielded some good profits.**`"
   ]
  },
  {
   "cell_type": "markdown",
   "metadata": {
    "id": "KiNb6gvMmQ6X"
   },
   "source": [
    "### View Bottom 10 Outlier Transactions\n",
    "\n",
    "__Your turn:__ View the bottom ten transactions based on lowest profits (highest losses)"
   ]
  },
  {
   "cell_type": "code",
   "metadata": {
    "colab": {
     "base_uri": "https://localhost:8080/",
     "height": 335
    },
    "id": "t3FYWVejmQ6X",
    "outputId": "a5c18cdb-e57e-4e3d-d3fc-89e96db5f84b"
   },
   "source": [
    "(df.loc[sales_outliers_sorted.index.tolist()][['City', 'Category', 'Sub-Category', 'Product Name', \n",
    "                                              'Sales', 'Quantity', 'Discount', 'Profit']]).tail(10)"
   ],
   "execution_count": 20,
   "outputs": [
    {
     "data": {
      "text/plain": "               City         Category Sub-Category  \\\n5300    Springfield        Furniture       Tables   \n6101  New York City        Furniture       Chairs   \n4881      Henderson       Technology  Accessories   \n7487          Dover       Technology  Accessories   \n1155   Harrisonburg        Furniture       Tables   \n8699      Nashville       Technology       Phones   \n9774    San Antonio  Office Supplies      Binders   \n8424       Lakewood        Furniture    Bookcases   \n6534        Buffalo  Office Supplies      Binders   \n8680       Richmond  Office Supplies   Appliances   \n\n                                           Product Name     Sales  Quantity  \\\n5300                  Hon Rectangular Conference Tables  2275.500        10   \n6101      Global Troy Executive Leather Low-Back Tilter  2254.410         5   \n4881                      Logitech diNovo Edge Keyboard  2249.910         9   \n7487                      Logitech diNovo Edge Keyboard  2249.910         9   \n1155  Chromcraft 48\" x 96\" Racetrack Double Pedestal...  2244.480         7   \n8699  Samsung Galaxy S III - 16GB - pebble blue (T-M...  2239.936         8   \n9774          GBC DocuBind P400 Electric Binding System  2177.584         8   \n8424  Global Adaptabilites Bookcase, Cherry/Storm Gr...  2154.900         5   \n6534         GBC DocuBind TL300 Electric Binding System  2152.776         3   \n8680  Honeywell Enviracaire Portable HEPA Air Cleane...  2104.550         7   \n\n      Discount     Profit  \n5300       0.0   386.8350  \n6101       0.1   375.7350  \n4881       0.0   517.4793  \n7487       0.0   517.4793  \n1155       0.0   493.7856  \n8699       0.2   223.9936  \n9774       0.8 -3701.8928  \n8424       0.0   129.2940  \n6534       0.2   726.5619  \n8680       0.0   694.5015  ",
      "text/html": "<div>\n<style scoped>\n    .dataframe tbody tr th:only-of-type {\n        vertical-align: middle;\n    }\n\n    .dataframe tbody tr th {\n        vertical-align: top;\n    }\n\n    .dataframe thead th {\n        text-align: right;\n    }\n</style>\n<table border=\"1\" class=\"dataframe\">\n  <thead>\n    <tr style=\"text-align: right;\">\n      <th></th>\n      <th>City</th>\n      <th>Category</th>\n      <th>Sub-Category</th>\n      <th>Product Name</th>\n      <th>Sales</th>\n      <th>Quantity</th>\n      <th>Discount</th>\n      <th>Profit</th>\n    </tr>\n  </thead>\n  <tbody>\n    <tr>\n      <th>5300</th>\n      <td>Springfield</td>\n      <td>Furniture</td>\n      <td>Tables</td>\n      <td>Hon Rectangular Conference Tables</td>\n      <td>2275.500</td>\n      <td>10</td>\n      <td>0.0</td>\n      <td>386.8350</td>\n    </tr>\n    <tr>\n      <th>6101</th>\n      <td>New York City</td>\n      <td>Furniture</td>\n      <td>Chairs</td>\n      <td>Global Troy Executive Leather Low-Back Tilter</td>\n      <td>2254.410</td>\n      <td>5</td>\n      <td>0.1</td>\n      <td>375.7350</td>\n    </tr>\n    <tr>\n      <th>4881</th>\n      <td>Henderson</td>\n      <td>Technology</td>\n      <td>Accessories</td>\n      <td>Logitech diNovo Edge Keyboard</td>\n      <td>2249.910</td>\n      <td>9</td>\n      <td>0.0</td>\n      <td>517.4793</td>\n    </tr>\n    <tr>\n      <th>7487</th>\n      <td>Dover</td>\n      <td>Technology</td>\n      <td>Accessories</td>\n      <td>Logitech diNovo Edge Keyboard</td>\n      <td>2249.910</td>\n      <td>9</td>\n      <td>0.0</td>\n      <td>517.4793</td>\n    </tr>\n    <tr>\n      <th>1155</th>\n      <td>Harrisonburg</td>\n      <td>Furniture</td>\n      <td>Tables</td>\n      <td>Chromcraft 48\" x 96\" Racetrack Double Pedestal...</td>\n      <td>2244.480</td>\n      <td>7</td>\n      <td>0.0</td>\n      <td>493.7856</td>\n    </tr>\n    <tr>\n      <th>8699</th>\n      <td>Nashville</td>\n      <td>Technology</td>\n      <td>Phones</td>\n      <td>Samsung Galaxy S III - 16GB - pebble blue (T-M...</td>\n      <td>2239.936</td>\n      <td>8</td>\n      <td>0.2</td>\n      <td>223.9936</td>\n    </tr>\n    <tr>\n      <th>9774</th>\n      <td>San Antonio</td>\n      <td>Office Supplies</td>\n      <td>Binders</td>\n      <td>GBC DocuBind P400 Electric Binding System</td>\n      <td>2177.584</td>\n      <td>8</td>\n      <td>0.8</td>\n      <td>-3701.8928</td>\n    </tr>\n    <tr>\n      <th>8424</th>\n      <td>Lakewood</td>\n      <td>Furniture</td>\n      <td>Bookcases</td>\n      <td>Global Adaptabilites Bookcase, Cherry/Storm Gr...</td>\n      <td>2154.900</td>\n      <td>5</td>\n      <td>0.0</td>\n      <td>129.2940</td>\n    </tr>\n    <tr>\n      <th>6534</th>\n      <td>Buffalo</td>\n      <td>Office Supplies</td>\n      <td>Binders</td>\n      <td>GBC DocuBind TL300 Electric Binding System</td>\n      <td>2152.776</td>\n      <td>3</td>\n      <td>0.2</td>\n      <td>726.5619</td>\n    </tr>\n    <tr>\n      <th>8680</th>\n      <td>Richmond</td>\n      <td>Office Supplies</td>\n      <td>Appliances</td>\n      <td>Honeywell Enviracaire Portable HEPA Air Cleane...</td>\n      <td>2104.550</td>\n      <td>7</td>\n      <td>0.0</td>\n      <td>694.5015</td>\n    </tr>\n  </tbody>\n</table>\n</div>"
     },
     "execution_count": 20,
     "metadata": {},
     "output_type": "execute_result"
    }
   ]
  },
  {
   "cell_type": "markdown",
   "metadata": {
    "id": "vNFO-DMZmQ6X"
   },
   "source": [
    "### Q: Do you notice any interesting insights based on these transactions?"
   ]
  },
  {
   "cell_type": "markdown",
   "metadata": {
    "id": "TjtmoW_RmQ6X"
   },
   "source": [
    "__Answer:__ **Most of these are purchases for Machines and Binders , and it looks like Cibify 3D Printers yielded high losses.**"
   ]
  },
  {
   "cell_type": "markdown",
   "metadata": {
    "id": "oQdPIagkmQ6X"
   },
   "source": [
    "## 3.3: Univariate Anomaly Detection on Sales using Isolation Forest\n",
    "\n",
    "You might have already learnt about this model from the curriculum. Just to briefly recap, the Isolation Forest model,  'isolates' observations by randomly selecting a feature and then randomly selecting a split value between the maximum and minimum values of the selected feature.\n",
    "\n",
    "Recursive partitioning can be represented by a tree structure. Hence, the number of splittings required to isolate a sample is equivalent to the path length from the root node to the terminating node. This path length, averaged over a forest of such random trees, is a measure of normality and our decision function.\n",
    "\n",
    "Random partitioning produces noticeably shorter paths for anomalies. Hence, when a forest of random trees collectively produce shorter path lengths for particular samples, they are highly likely to be anomalies.\n",
    "\n",
    "More details are available in this [User Guide](https://scikit-learn.org/stable/modules/outlier_detection.html#isolation-forest)"
   ]
  },
  {
   "cell_type": "markdown",
   "metadata": {
    "id": "3t9HmnkimQ6Y"
   },
   "source": [
    "### Initialize and Train Model\n",
    "\n",
    "Here we initialize the isolation forest model with some hyperparameters assuming the proportion of outliers to be 1% of the total data (using the `contamination` setting)"
   ]
  },
  {
   "cell_type": "code",
   "metadata": {
    "colab": {
     "base_uri": "https://localhost:8080/"
    },
    "id": "hxXWrsO0mQ6Y",
    "outputId": "fef6c548-0c09-429d-fff6-8ff8eafcd01f"
   },
   "source": [
    "from sklearn.ensemble import IsolationForest\n",
    "\n",
    "sales_ifmodel = IsolationForest(n_estimators=100,\n",
    "                                contamination=0.01)\n",
    "sales_ifmodel.fit(df[['Sales']])"
   ],
   "execution_count": 21,
   "outputs": [
    {
     "data": {
      "text/plain": "IsolationForest(contamination=0.01)"
     },
     "execution_count": 21,
     "metadata": {},
     "output_type": "execute_result"
    }
   ]
  },
  {
   "cell_type": "markdown",
   "metadata": {
    "id": "57kkujJ9mQ6Y"
   },
   "source": [
    "### Visualize Outlier Region\n",
    "\n",
    "Here we visualize the outlier region in the data distribution"
   ]
  },
  {
   "cell_type": "code",
   "metadata": {
    "scrolled": false,
    "colab": {
     "base_uri": "https://localhost:8080/",
     "height": 387
    },
    "id": "4IHl-x6tmQ6Y",
    "outputId": "350bd66f-bf7d-4767-a5c6-6ff4809c8281"
   },
   "source": [
    "xx = np.linspace(df['Sales'].min(), df['Sales'].max(), len(df)).reshape(-1,1)\n",
    "anomaly_score = sales_ifmodel.decision_function(xx)\n",
    "outlier = sales_ifmodel.predict(xx)\n",
    "plt.figure(figsize=(12, 6))\n",
    "plt.plot(xx, anomaly_score, label='anomaly score')\n",
    "plt.fill_between(xx.T[0], np.min(anomaly_score), np.max(anomaly_score), \n",
    "                 where=outlier==-1, color='r', \n",
    "                 alpha=.4, label='outlier region')\n",
    "plt.legend()\n",
    "plt.ylabel('anomaly score')\n",
    "plt.xlabel('Sales');"
   ],
   "execution_count": 22,
   "outputs": [
    {
     "data": {
      "text/plain": "<Figure size 864x432 with 1 Axes>",
      "image/png": "[encoded data removed]"
     },
     "metadata": {
      "needs_background": "light"
     },
     "output_type": "display_data"
    }
   ]
  },
  {
   "cell_type": "markdown",
   "metadata": {
    "id": "5U99U6OmmQ6Z"
   },
   "source": [
    "### Filter and Sort Outliers\n",
    "\n",
    "Here we predict outliers in our dataset using our trained model and filter out the outlier observations and sort by descending order and view the top 5 outlier values"
   ]
  },
  {
   "cell_type": "code",
   "metadata": {
    "colab": {
     "base_uri": "https://localhost:8080/"
    },
    "id": "ftrOTnnCmQ6Z",
    "outputId": "487865f1-0c75-40d1-8fce-9841f500c88a"
   },
   "source": [
    "outlier_predictions = sales_ifmodel.predict(df[['Sales']])\n",
    "\n",
    "sales_outliers_df = df[['Sales']]\n",
    "sales_outliers_df['Outlier'] = outlier_predictions\n",
    "sales_outliers_df = sales_outliers_df[sales_outliers_df['Outlier'] == -1]['Sales']\n",
    "\n",
    "print('Total Sales Outliers:', len(sales_outliers_df))\n",
    "sales_outliers_sorted = sales_outliers_df.sort_values(ascending=False)\n",
    "sales_outliers_sorted.head(5)"
   ],
   "execution_count": 23,
   "outputs": [
    {
     "name": "stdout",
     "output_type": "stream",
     "text": [
      "Total Sales Outliers: 100\n"
     ]
    },
    {
     "data": {
      "text/plain": "2697    22638.480\n6826    17499.950\n8153    13999.960\n2623    11199.968\n4190    10499.970\nName: Sales, dtype: float64"
     },
     "execution_count": 23,
     "metadata": {},
     "output_type": "execute_result"
    }
   ]
  },
  {
   "cell_type": "markdown",
   "metadata": {
    "id": "VOtvuWilmQ6Z"
   },
   "source": [
    "### View Top 10 Outlier Transactions"
   ]
  },
  {
   "cell_type": "code",
   "metadata": {
    "colab": {
     "base_uri": "https://localhost:8080/",
     "height": 335
    },
    "id": "tCC1enfhmQ6Z",
    "outputId": "0be0beab-6a97-4c4a-8b58-e7c45a82e82f"
   },
   "source": [
    "(df.loc[sales_outliers_sorted.index.tolist()][['City', 'Category', 'Sub-Category', 'Product Name', \n",
    "                                              'Sales', 'Quantity', 'Discount', 'Profit']]).head(10)"
   ],
   "execution_count": 24,
   "outputs": [
    {
     "data": {
      "text/plain": "               City         Category Sub-Category  \\\n2697   Jacksonville       Technology     Machines   \n6826      Lafayette       Technology      Copiers   \n8153        Seattle       Technology      Copiers   \n2623  New York City       Technology      Copiers   \n4190         Newark       Technology      Copiers   \n9039        Detroit  Office Supplies      Binders   \n4098    Minneapolis  Office Supplies      Binders   \n4277       Lakewood       Technology     Machines   \n8488      Arlington       Technology     Machines   \n6425   Philadelphia       Technology      Copiers   \n\n                                           Product Name      Sales  Quantity  \\\n2697  Cisco TelePresence System EX90 Videoconferenci...  22638.480         6   \n6826              Canon imageCLASS 2200 Advanced Copier  17499.950         5   \n8153              Canon imageCLASS 2200 Advanced Copier  13999.960         4   \n2623              Canon imageCLASS 2200 Advanced Copier  11199.968         4   \n4190              Canon imageCLASS 2200 Advanced Copier  10499.970         3   \n9039   GBC Ibimaster 500 Manual ProClick Binding System   9892.740        13   \n4098               Ibico EPK-21 Electric Binding System   9449.950         5   \n4277   3D Systems Cube Printer, 2nd Generation, Magenta   9099.930         7   \n8488  HP Designjet T520 Inkjet Large Format Printer ...   8749.950         5   \n6425              Canon imageCLASS 2200 Advanced Copier   8399.976         4   \n\n      Discount     Profit  \n2697       0.5 -1811.0784  \n6826       0.0  8399.9760  \n8153       0.0  6719.9808  \n2623       0.2  3919.9888  \n4190       0.0  5039.9856  \n9039       0.0  4946.3700  \n4098       0.0  4630.4755  \n4277       0.0  2365.9818  \n8488       0.0  2799.9840  \n6425       0.4  1119.9968  ",
      "text/html": "<div>\n<style scoped>\n    .dataframe tbody tr th:only-of-type {\n        vertical-align: middle;\n    }\n\n    .dataframe tbody tr th {\n        vertical-align: top;\n    }\n\n    .dataframe thead th {\n        text-align: right;\n    }\n</style>\n<table border=\"1\" class=\"dataframe\">\n  <thead>\n    <tr style=\"text-align: right;\">\n      <th></th>\n      <th>City</th>\n      <th>Category</th>\n      <th>Sub-Category</th>\n      <th>Product Name</th>\n      <th>Sales</th>\n      <th>Quantity</th>\n      <th>Discount</th>\n      <th>Profit</th>\n    </tr>\n  </thead>\n  <tbody>\n    <tr>\n      <th>2697</th>\n      <td>Jacksonville</td>\n      <td>Technology</td>\n      <td>Machines</td>\n      <td>Cisco TelePresence System EX90 Videoconferenci...</td>\n      <td>22638.480</td>\n      <td>6</td>\n      <td>0.5</td>\n      <td>-1811.0784</td>\n    </tr>\n    <tr>\n      <th>6826</th>\n      <td>Lafayette</td>\n      <td>Technology</td>\n      <td>Copiers</td>\n      <td>Canon imageCLASS 2200 Advanced Copier</td>\n      <td>17499.950</td>\n      <td>5</td>\n      <td>0.0</td>\n      <td>8399.9760</td>\n    </tr>\n    <tr>\n      <th>8153</th>\n      <td>Seattle</td>\n      <td>Technology</td>\n      <td>Copiers</td>\n      <td>Canon imageCLASS 2200 Advanced Copier</td>\n      <td>13999.960</td>\n      <td>4</td>\n      <td>0.0</td>\n      <td>6719.9808</td>\n    </tr>\n    <tr>\n      <th>2623</th>\n      <td>New York City</td>\n      <td>Technology</td>\n      <td>Copiers</td>\n      <td>Canon imageCLASS 2200 Advanced Copier</td>\n      <td>11199.968</td>\n      <td>4</td>\n      <td>0.2</td>\n      <td>3919.9888</td>\n    </tr>\n    <tr>\n      <th>4190</th>\n      <td>Newark</td>\n      <td>Technology</td>\n      <td>Copiers</td>\n      <td>Canon imageCLASS 2200 Advanced Copier</td>\n      <td>10499.970</td>\n      <td>3</td>\n      <td>0.0</td>\n      <td>5039.9856</td>\n    </tr>\n    <tr>\n      <th>9039</th>\n      <td>Detroit</td>\n      <td>Office Supplies</td>\n      <td>Binders</td>\n      <td>GBC Ibimaster 500 Manual ProClick Binding System</td>\n      <td>9892.740</td>\n      <td>13</td>\n      <td>0.0</td>\n      <td>4946.3700</td>\n    </tr>\n    <tr>\n      <th>4098</th>\n      <td>Minneapolis</td>\n      <td>Office Supplies</td>\n      <td>Binders</td>\n      <td>Ibico EPK-21 Electric Binding System</td>\n      <td>9449.950</td>\n      <td>5</td>\n      <td>0.0</td>\n      <td>4630.4755</td>\n    </tr>\n    <tr>\n      <th>4277</th>\n      <td>Lakewood</td>\n      <td>Technology</td>\n      <td>Machines</td>\n      <td>3D Systems Cube Printer, 2nd Generation, Magenta</td>\n      <td>9099.930</td>\n      <td>7</td>\n      <td>0.0</td>\n      <td>2365.9818</td>\n    </tr>\n    <tr>\n      <th>8488</th>\n      <td>Arlington</td>\n      <td>Technology</td>\n      <td>Machines</td>\n      <td>HP Designjet T520 Inkjet Large Format Printer ...</td>\n      <td>8749.950</td>\n      <td>5</td>\n      <td>0.0</td>\n      <td>2799.9840</td>\n    </tr>\n    <tr>\n      <th>6425</th>\n      <td>Philadelphia</td>\n      <td>Technology</td>\n      <td>Copiers</td>\n      <td>Canon imageCLASS 2200 Advanced Copier</td>\n      <td>8399.976</td>\n      <td>4</td>\n      <td>0.4</td>\n      <td>1119.9968</td>\n    </tr>\n  </tbody>\n</table>\n</div>"
     },
     "execution_count": 24,
     "metadata": {},
     "output_type": "execute_result"
    }
   ]
  },
  {
   "cell_type": "markdown",
   "metadata": {
    "id": "CV3G3ip1mQ6Z"
   },
   "source": [
    "### View Bottom 10 Outlier Transactions"
   ]
  },
  {
   "cell_type": "code",
   "metadata": {
    "colab": {
     "base_uri": "https://localhost:8080/",
     "height": 335
    },
    "id": "1XGf8oVdmQ6a",
    "outputId": "4e636b2e-4d14-4cd7-9f8e-c5cf9354c689"
   },
   "source": [
    "(df.loc[sales_outliers_sorted.index.tolist()][['City', 'Category', 'Sub-Category', 'Product Name', \n",
    "                                              'Sales', 'Quantity', 'Discount', 'Profit']]).tail(10)"
   ],
   "execution_count": 25,
   "outputs": [
    {
     "data": {
      "text/plain": "               City         Category Sub-Category  \\\n1805    Los Angeles       Technology       Phones   \n7474      Henderson        Furniture       Chairs   \n6884    Minneapolis        Furniture       Chairs   \n8271  New York City        Furniture       Chairs   \n3011     Louisville       Technology     Machines   \n6010    Los Angeles       Technology     Machines   \n7280       Columbia  Office Supplies      Binders   \n263         Houston       Technology     Machines   \n7937      Brentwood  Office Supplies   Appliances   \n3443  New York City  Office Supplies   Appliances   \n\n                                           Product Name     Sales  Quantity  \\\n1805                              Samsung Galaxy Note 2  2575.944         7   \n7474            Global Deluxe High-Back Manager's Chair  2573.820         9   \n6884                         Hon Pagoda Stacking Chairs  2567.840         8   \n8271  Hon 4700 Series Mobuis Mid-Back Task Chairs wi...  2563.056         8   \n3011          Lexmark MX611dhe Monochrome Laser Printer  2549.985         5   \n6010  Zebra GX420t Direct Thermal/Thermal Transfer P...  2548.560         6   \n7280  Fellowes PB500 Electric Punch Plastic Comb Bin...  2541.980         2   \n263   Xerox WorkCentre 6505DN Laser Multifunction Pr...  2519.958         7   \n7937  Sanyo 2.5 Cubic Foot Mid-Size Office Refrigera...  2518.290         9   \n3443     Hoover Shoulder Vac Commercial Portable Vacuum  2504.740         7   \n\n      Discount     Profit  \n1805       0.2   257.5944  \n7474       0.0   746.4078  \n6884       0.0   770.3520  \n8271       0.1   313.2624  \n3011       0.7 -3399.9800  \n6010       0.2   286.7130  \n7280       0.0  1270.9900  \n263        0.4  -251.9958  \n7937       0.0   654.7554  \n3443       0.0   626.1850  ",
      "text/html": "<div>\n<style scoped>\n    .dataframe tbody tr th:only-of-type {\n        vertical-align: middle;\n    }\n\n    .dataframe tbody tr th {\n        vertical-align: top;\n    }\n\n    .dataframe thead th {\n        text-align: right;\n    }\n</style>\n<table border=\"1\" class=\"dataframe\">\n  <thead>\n    <tr style=\"text-align: right;\">\n      <th></th>\n      <th>City</th>\n      <th>Category</th>\n      <th>Sub-Category</th>\n      <th>Product Name</th>\n      <th>Sales</th>\n      <th>Quantity</th>\n      <th>Discount</th>\n      <th>Profit</th>\n    </tr>\n  </thead>\n  <tbody>\n    <tr>\n      <th>1805</th>\n      <td>Los Angeles</td>\n      <td>Technology</td>\n      <td>Phones</td>\n      <td>Samsung Galaxy Note 2</td>\n      <td>2575.944</td>\n      <td>7</td>\n      <td>0.2</td>\n      <td>257.5944</td>\n    </tr>\n    <tr>\n      <th>7474</th>\n      <td>Henderson</td>\n      <td>Furniture</td>\n      <td>Chairs</td>\n      <td>Global Deluxe High-Back Manager's Chair</td>\n      <td>2573.820</td>\n      <td>9</td>\n      <td>0.0</td>\n      <td>746.4078</td>\n    </tr>\n    <tr>\n      <th>6884</th>\n      <td>Minneapolis</td>\n      <td>Furniture</td>\n      <td>Chairs</td>\n      <td>Hon Pagoda Stacking Chairs</td>\n      <td>2567.840</td>\n      <td>8</td>\n      <td>0.0</td>\n      <td>770.3520</td>\n    </tr>\n    <tr>\n      <th>8271</th>\n      <td>New York City</td>\n      <td>Furniture</td>\n      <td>Chairs</td>\n      <td>Hon 4700 Series Mobuis Mid-Back Task Chairs wi...</td>\n      <td>2563.056</td>\n      <td>8</td>\n      <td>0.1</td>\n      <td>313.2624</td>\n    </tr>\n    <tr>\n      <th>3011</th>\n      <td>Louisville</td>\n      <td>Technology</td>\n      <td>Machines</td>\n      <td>Lexmark MX611dhe Monochrome Laser Printer</td>\n      <td>2549.985</td>\n      <td>5</td>\n      <td>0.7</td>\n      <td>-3399.9800</td>\n    </tr>\n    <tr>\n      <th>6010</th>\n      <td>Los Angeles</td>\n      <td>Technology</td>\n      <td>Machines</td>\n      <td>Zebra GX420t Direct Thermal/Thermal Transfer P...</td>\n      <td>2548.560</td>\n      <td>6</td>\n      <td>0.2</td>\n      <td>286.7130</td>\n    </tr>\n    <tr>\n      <th>7280</th>\n      <td>Columbia</td>\n      <td>Office Supplies</td>\n      <td>Binders</td>\n      <td>Fellowes PB500 Electric Punch Plastic Comb Bin...</td>\n      <td>2541.980</td>\n      <td>2</td>\n      <td>0.0</td>\n      <td>1270.9900</td>\n    </tr>\n    <tr>\n      <th>263</th>\n      <td>Houston</td>\n      <td>Technology</td>\n      <td>Machines</td>\n      <td>Xerox WorkCentre 6505DN Laser Multifunction Pr...</td>\n      <td>2519.958</td>\n      <td>7</td>\n      <td>0.4</td>\n      <td>-251.9958</td>\n    </tr>\n    <tr>\n      <th>7937</th>\n      <td>Brentwood</td>\n      <td>Office Supplies</td>\n      <td>Appliances</td>\n      <td>Sanyo 2.5 Cubic Foot Mid-Size Office Refrigera...</td>\n      <td>2518.290</td>\n      <td>9</td>\n      <td>0.0</td>\n      <td>654.7554</td>\n    </tr>\n    <tr>\n      <th>3443</th>\n      <td>New York City</td>\n      <td>Office Supplies</td>\n      <td>Appliances</td>\n      <td>Hoover Shoulder Vac Commercial Portable Vacuum</td>\n      <td>2504.740</td>\n      <td>7</td>\n      <td>0.0</td>\n      <td>626.1850</td>\n    </tr>\n  </tbody>\n</table>\n</div>"
     },
     "execution_count": 25,
     "metadata": {},
     "output_type": "execute_result"
    }
   ]
  },
  {
   "cell_type": "markdown",
   "metadata": {
    "id": "yjSc4kVpmQ6a"
   },
   "source": [
    "## Q 3.4: Univariate Anomaly Detection on Profit using Isolation Forest\n",
    "\n",
    "In this section you will use the learning from Section 3.3 and implement anomaly detecting using isolation on the __`Profit`__ attribute. Since we have both +ve (profits) and -ve (losses) values in the distribution, we will try to find anomalies for each."
   ]
  },
  {
   "cell_type": "markdown",
   "metadata": {
    "id": "sN0g_fUEmQ6a"
   },
   "source": [
    "### Initialize and Train Model\n",
    "\n",
    "__Your Turn:__ Initialize the isolation forest model with similar hyperparameters as Section 3.3 and also assuming the proportion of outliers to be 1% of the total data (using the contamination setting)"
   ]
  },
  {
   "cell_type": "code",
   "metadata": {
    "colab": {
     "base_uri": "https://localhost:8080/"
    },
    "id": "Ve4khq46mQ6a",
    "outputId": "2c99db4a-f934-46c2-bcd0-251e0efbc73c"
   },
   "source": [
    "profit_ifmodel = IsolationForest(n_estimators=100,\n",
    "                                contamination=0.01)\n",
    "profit_ifmodel.fit(df[['Profit']])"
   ],
   "execution_count": 26,
   "outputs": [
    {
     "data": {
      "text/plain": "IsolationForest(contamination=0.01)"
     },
     "execution_count": 26,
     "metadata": {},
     "output_type": "execute_result"
    }
   ]
  },
  {
   "cell_type": "markdown",
   "metadata": {
    "id": "vJMX8_3PmQ6a"
   },
   "source": [
    "### Visualize Outlier Regions\n",
    "\n",
    "__Your turn:__ Visualize the upper and lower outlier regions in the distribution similar to what you did in 3.3"
   ]
  },
  {
   "cell_type": "code",
   "metadata": {
    "colab": {
     "base_uri": "https://localhost:8080/",
     "height": 387
    },
    "id": "GGAClgf7mQ6a",
    "outputId": "24729ea5-d66f-4740-8018-6fabc2cc1e84"
   },
   "source": [
    "xx = np.linspace(df['Profit'].min(), df['Profit'].max(), len(df)).reshape(-1,1)\n",
    "anomaly_score = profit_ifmodel.decision_function(xx)\n",
    "outlier = profit_ifmodel.predict(xx)\n",
    "\n",
    "plt.figure(figsize=(12, 6))\n",
    "plt.plot(xx, anomaly_score, label='anomaly score')\n",
    "plt.fill_between(xx.T[0], np.min(anomaly_score), np.max(anomaly_score), \n",
    "                 where=outlier==-1, color='r', \n",
    "                 alpha=.4, label='outlier region')\n",
    "plt.legend()\n",
    "plt.ylabel('Anomaly Score')\n",
    "plt.xlabel('Profit');"
   ],
   "execution_count": 27,
   "outputs": [
    {
     "data": {
      "text/plain": "<Figure size 864x432 with 1 Axes>",
      "image/png": "[encoded data removed]"
     },
     "metadata": {
      "needs_background": "light"
     },
     "output_type": "display_data"
    }
   ]
  },
  {
   "cell_type": "markdown",
   "metadata": {
    "id": "uxx0N50mAFMe"
   },
   "source": [
    "**The Isolated forest base estimator is ExtraTreeRegressor - an extremely randomized tree regressor. It splits the best split among randomly chosen attributes with randomly chosen split points. This helps overcome overfitting and locally greedy trees. It returns a value of (0.5 - anomaly score), so  SMALLER (negative) anomaly scores are attributed to anomalous values.**"
   ]
  },
  {
   "cell_type": "markdown",
   "metadata": {
    "id": "ae50otQImQ6a"
   },
   "source": [
    "### Filter and Sort Outliers\n",
    "\n",
    "__Your Turn:__ Predict outliers in our dataset using our trained model and filter out the outlier observations and sort by descending order and view the top 5 outlier values similar to 3.3"
   ]
  },
  {
   "cell_type": "code",
   "metadata": {
    "colab": {
     "base_uri": "https://localhost:8080/"
    },
    "id": "Mi9BL-YjmQ6b",
    "outputId": "84ec4a7d-3edb-4fcd-82b0-8274d6da6938"
   },
   "source": [
    "outlier_predictions = profit_ifmodel.predict(df[['Profit']])\n",
    "\n",
    "profit_outliers_df = df[['Profit']]\n",
    "profit_outliers_df['Outlier'] = outlier_predictions\n",
    "profit_outliers_df = profit_outliers_df[profit_outliers_df['Outlier'] == -1]['Profit']\n",
    "\n",
    "print('Total Profit Outliers:', len(profit_outliers_df))\n",
    "profit_outliers_sorted = profit_outliers_df.sort_values(ascending=False)\n",
    "profit_outliers_sorted.head(5)"
   ],
   "execution_count": 28,
   "outputs": [
    {
     "name": "stdout",
     "output_type": "stream",
     "text": [
      "Total Profit Outliers: 99\n"
     ]
    },
    {
     "data": {
      "text/plain": "6826    8399.9760\n8153    6719.9808\n4190    5039.9856\n9039    4946.3700\n4098    4630.4755\nName: Profit, dtype: float64"
     },
     "execution_count": 28,
     "metadata": {},
     "output_type": "execute_result"
    }
   ]
  },
  {
   "cell_type": "markdown",
   "metadata": {
    "id": "Ty9J_-5DmQ6b"
   },
   "source": [
    "### View Top 10 Outlier Transactions\n",
    "\n",
    "__Your turn:__ View the top ten transactions based on highest profits"
   ]
  },
  {
   "cell_type": "code",
   "metadata": {
    "colab": {
     "base_uri": "https://localhost:8080/",
     "height": 335
    },
    "id": "724ceCs6mQ6b",
    "outputId": "5f9e07da-9805-4576-f680-f968bf1f29bc"
   },
   "source": [
    "(df.loc[profit_outliers_sorted.index.tolist()][['City', 'Category', 'Sub-Category', 'Product Name', \n",
    "                                              'Sales', 'Quantity', 'Discount', 'Profit']]).head(10)"
   ],
   "execution_count": 29,
   "outputs": [
    {
     "data": {
      "text/plain": "               City         Category Sub-Category  \\\n6826      Lafayette       Technology      Copiers   \n8153        Seattle       Technology      Copiers   \n4190         Newark       Technology      Copiers   \n9039        Detroit  Office Supplies      Binders   \n4098    Minneapolis  Office Supplies      Binders   \n2623  New York City       Technology      Copiers   \n509         Atlanta  Office Supplies      Binders   \n8488      Arlington       Technology     Machines   \n7666     Providence       Technology      Copiers   \n6520        Jackson  Office Supplies      Binders   \n\n                                           Product Name      Sales  Quantity  \\\n6826              Canon imageCLASS 2200 Advanced Copier  17499.950         5   \n8153              Canon imageCLASS 2200 Advanced Copier  13999.960         4   \n4190              Canon imageCLASS 2200 Advanced Copier  10499.970         3   \n9039   GBC Ibimaster 500 Manual ProClick Binding System   9892.740        13   \n4098               Ibico EPK-21 Electric Binding System   9449.950         5   \n2623              Canon imageCLASS 2200 Advanced Copier  11199.968         4   \n509   Fellowes PB500 Electric Punch Plastic Comb Bin...   6354.950         5   \n8488  HP Designjet T520 Inkjet Large Format Printer ...   8749.950         5   \n7666               Hewlett Packard LaserJet 3310 Copier   5399.910         9   \n6520          GBC DocuBind P400 Electric Binding System   5443.960         4   \n\n      Discount     Profit  \n6826       0.0  8399.9760  \n8153       0.0  6719.9808  \n4190       0.0  5039.9856  \n9039       0.0  4946.3700  \n4098       0.0  4630.4755  \n2623       0.2  3919.9888  \n509        0.0  3177.4750  \n8488       0.0  2799.9840  \n7666       0.0  2591.9568  \n6520       0.0  2504.2216  ",
      "text/html": "<div>\n<style scoped>\n    .dataframe tbody tr th:only-of-type {\n        vertical-align: middle;\n    }\n\n    .dataframe tbody tr th {\n        vertical-align: top;\n    }\n\n    .dataframe thead th {\n        text-align: right;\n    }\n</style>\n<table border=\"1\" class=\"dataframe\">\n  <thead>\n    <tr style=\"text-align: right;\">\n      <th></th>\n      <th>City</th>\n      <th>Category</th>\n      <th>Sub-Category</th>\n      <th>Product Name</th>\n      <th>Sales</th>\n      <th>Quantity</th>\n      <th>Discount</th>\n      <th>Profit</th>\n    </tr>\n  </thead>\n  <tbody>\n    <tr>\n      <th>6826</th>\n      <td>Lafayette</td>\n      <td>Technology</td>\n      <td>Copiers</td>\n      <td>Canon imageCLASS 2200 Advanced Copier</td>\n      <td>17499.950</td>\n      <td>5</td>\n      <td>0.0</td>\n      <td>8399.9760</td>\n    </tr>\n    <tr>\n      <th>8153</th>\n      <td>Seattle</td>\n      <td>Technology</td>\n      <td>Copiers</td>\n      <td>Canon imageCLASS 2200 Advanced Copier</td>\n      <td>13999.960</td>\n      <td>4</td>\n      <td>0.0</td>\n      <td>6719.9808</td>\n    </tr>\n    <tr>\n      <th>4190</th>\n      <td>Newark</td>\n      <td>Technology</td>\n      <td>Copiers</td>\n      <td>Canon imageCLASS 2200 Advanced Copier</td>\n      <td>10499.970</td>\n      <td>3</td>\n      <td>0.0</td>\n      <td>5039.9856</td>\n    </tr>\n    <tr>\n      <th>9039</th>\n      <td>Detroit</td>\n      <td>Office Supplies</td>\n      <td>Binders</td>\n      <td>GBC Ibimaster 500 Manual ProClick Binding System</td>\n      <td>9892.740</td>\n      <td>13</td>\n      <td>0.0</td>\n      <td>4946.3700</td>\n    </tr>\n    <tr>\n      <th>4098</th>\n      <td>Minneapolis</td>\n      <td>Office Supplies</td>\n      <td>Binders</td>\n      <td>Ibico EPK-21 Electric Binding System</td>\n      <td>9449.950</td>\n      <td>5</td>\n      <td>0.0</td>\n      <td>4630.4755</td>\n    </tr>\n    <tr>\n      <th>2623</th>\n      <td>New York City</td>\n      <td>Technology</td>\n      <td>Copiers</td>\n      <td>Canon imageCLASS 2200 Advanced Copier</td>\n      <td>11199.968</td>\n      <td>4</td>\n      <td>0.2</td>\n      <td>3919.9888</td>\n    </tr>\n    <tr>\n      <th>509</th>\n      <td>Atlanta</td>\n      <td>Office Supplies</td>\n      <td>Binders</td>\n      <td>Fellowes PB500 Electric Punch Plastic Comb Bin...</td>\n      <td>6354.950</td>\n      <td>5</td>\n      <td>0.0</td>\n      <td>3177.4750</td>\n    </tr>\n    <tr>\n      <th>8488</th>\n      <td>Arlington</td>\n      <td>Technology</td>\n      <td>Machines</td>\n      <td>HP Designjet T520 Inkjet Large Format Printer ...</td>\n      <td>8749.950</td>\n      <td>5</td>\n      <td>0.0</td>\n      <td>2799.9840</td>\n    </tr>\n    <tr>\n      <th>7666</th>\n      <td>Providence</td>\n      <td>Technology</td>\n      <td>Copiers</td>\n      <td>Hewlett Packard LaserJet 3310 Copier</td>\n      <td>5399.910</td>\n      <td>9</td>\n      <td>0.0</td>\n      <td>2591.9568</td>\n    </tr>\n    <tr>\n      <th>6520</th>\n      <td>Jackson</td>\n      <td>Office Supplies</td>\n      <td>Binders</td>\n      <td>GBC DocuBind P400 Electric Binding System</td>\n      <td>5443.960</td>\n      <td>4</td>\n      <td>0.0</td>\n      <td>2504.2216</td>\n    </tr>\n  </tbody>\n</table>\n</div>"
     },
     "execution_count": 29,
     "metadata": {},
     "output_type": "execute_result"
    }
   ]
  },
  {
   "cell_type": "markdown",
   "metadata": {
    "id": "r0mAwP4bmQ6b"
   },
   "source": [
    "### View Bottom 10 Outlier Transactions\n",
    "\n",
    "__Your turn:__ View the bottom ten transactions based on lowest profits (highest losses)"
   ]
  },
  {
   "cell_type": "code",
   "metadata": {
    "colab": {
     "base_uri": "https://localhost:8080/",
     "height": 335
    },
    "id": "beNjfWYZmQ6b",
    "outputId": "ee574c84-c6ea-400f-a1cb-c9a9b1ef3d0c"
   },
   "source": [
    "(df.loc[profit_outliers_sorted.index.tolist()][['City', 'Category', 'Sub-Category', 'Product Name', \n",
    "                                              'Sales', 'Quantity', 'Discount', 'Profit']]).tail(10)"
   ],
   "execution_count": 30,
   "outputs": [
    {
     "data": {
      "text/plain": "              City         Category Sub-Category  \\\n2697  Jacksonville       Technology     Machines   \n1199       Houston  Office Supplies      Binders   \n9639       Concord        Furniture       Tables   \n5310       Houston  Office Supplies      Binders   \n3151        Newark       Technology     Machines   \n4991       Chicago  Office Supplies      Binders   \n3011    Louisville       Technology     Machines   \n9774   San Antonio  Office Supplies      Binders   \n683     Burlington       Technology     Machines   \n7772     Lancaster       Technology     Machines   \n\n                                           Product Name      Sales  Quantity  \\\n2697  Cisco TelePresence System EX90 Videoconferenci...  22638.480         6   \n1199          GBC DocuBind P400 Electric Binding System   1088.792         4   \n9639  Chromcraft Bull-Nose Wood Oval Conference Tabl...   4297.644        13   \n5310  Fellowes PB500 Electric Punch Plastic Comb Bin...   1525.188         6   \n3151          Cubify CubeX 3D Printer Double Head Print   1799.994         2   \n4991               Ibico EPK-21 Electric Binding System   1889.990         5   \n3011          Lexmark MX611dhe Monochrome Laser Printer   2549.985         5   \n9774          GBC DocuBind P400 Electric Binding System   2177.584         8   \n683           Cubify CubeX 3D Printer Triple Head Print   7999.980         4   \n7772          Cubify CubeX 3D Printer Double Head Print   4499.985         5   \n\n      Discount     Profit  \n2697       0.5 -1811.0784  \n1199       0.8 -1850.9464  \n9639       0.4 -1862.3124  \n5310       0.8 -2287.7820  \n3151       0.7 -2639.9912  \n4991       0.8 -2929.4845  \n3011       0.7 -3399.9800  \n9774       0.8 -3701.8928  \n683        0.5 -3839.9904  \n7772       0.7 -6599.9780  ",
      "text/html": "<div>\n<style scoped>\n    .dataframe tbody tr th:only-of-type {\n        vertical-align: middle;\n    }\n\n    .dataframe tbody tr th {\n        vertical-align: top;\n    }\n\n    .dataframe thead th {\n        text-align: right;\n    }\n</style>\n<table border=\"1\" class=\"dataframe\">\n  <thead>\n    <tr style=\"text-align: right;\">\n      <th></th>\n      <th>City</th>\n      <th>Category</th>\n      <th>Sub-Category</th>\n      <th>Product Name</th>\n      <th>Sales</th>\n      <th>Quantity</th>\n      <th>Discount</th>\n      <th>Profit</th>\n    </tr>\n  </thead>\n  <tbody>\n    <tr>\n      <th>2697</th>\n      <td>Jacksonville</td>\n      <td>Technology</td>\n      <td>Machines</td>\n      <td>Cisco TelePresence System EX90 Videoconferenci...</td>\n      <td>22638.480</td>\n      <td>6</td>\n      <td>0.5</td>\n      <td>-1811.0784</td>\n    </tr>\n    <tr>\n      <th>1199</th>\n      <td>Houston</td>\n      <td>Office Supplies</td>\n      <td>Binders</td>\n      <td>GBC DocuBind P400 Electric Binding System</td>\n      <td>1088.792</td>\n      <td>4</td>\n      <td>0.8</td>\n      <td>-1850.9464</td>\n    </tr>\n    <tr>\n      <th>9639</th>\n      <td>Concord</td>\n      <td>Furniture</td>\n      <td>Tables</td>\n      <td>Chromcraft Bull-Nose Wood Oval Conference Tabl...</td>\n      <td>4297.644</td>\n      <td>13</td>\n      <td>0.4</td>\n      <td>-1862.3124</td>\n    </tr>\n    <tr>\n      <th>5310</th>\n      <td>Houston</td>\n      <td>Office Supplies</td>\n      <td>Binders</td>\n      <td>Fellowes PB500 Electric Punch Plastic Comb Bin...</td>\n      <td>1525.188</td>\n      <td>6</td>\n      <td>0.8</td>\n      <td>-2287.7820</td>\n    </tr>\n    <tr>\n      <th>3151</th>\n      <td>Newark</td>\n      <td>Technology</td>\n      <td>Machines</td>\n      <td>Cubify CubeX 3D Printer Double Head Print</td>\n      <td>1799.994</td>\n      <td>2</td>\n      <td>0.7</td>\n      <td>-2639.9912</td>\n    </tr>\n    <tr>\n      <th>4991</th>\n      <td>Chicago</td>\n      <td>Office Supplies</td>\n      <td>Binders</td>\n      <td>Ibico EPK-21 Electric Binding System</td>\n      <td>1889.990</td>\n      <td>5</td>\n      <td>0.8</td>\n      <td>-2929.4845</td>\n    </tr>\n    <tr>\n      <th>3011</th>\n      <td>Louisville</td>\n      <td>Technology</td>\n      <td>Machines</td>\n      <td>Lexmark MX611dhe Monochrome Laser Printer</td>\n      <td>2549.985</td>\n      <td>5</td>\n      <td>0.7</td>\n      <td>-3399.9800</td>\n    </tr>\n    <tr>\n      <th>9774</th>\n      <td>San Antonio</td>\n      <td>Office Supplies</td>\n      <td>Binders</td>\n      <td>GBC DocuBind P400 Electric Binding System</td>\n      <td>2177.584</td>\n      <td>8</td>\n      <td>0.8</td>\n      <td>-3701.8928</td>\n    </tr>\n    <tr>\n      <th>683</th>\n      <td>Burlington</td>\n      <td>Technology</td>\n      <td>Machines</td>\n      <td>Cubify CubeX 3D Printer Triple Head Print</td>\n      <td>7999.980</td>\n      <td>4</td>\n      <td>0.5</td>\n      <td>-3839.9904</td>\n    </tr>\n    <tr>\n      <th>7772</th>\n      <td>Lancaster</td>\n      <td>Technology</td>\n      <td>Machines</td>\n      <td>Cubify CubeX 3D Printer Double Head Print</td>\n      <td>4499.985</td>\n      <td>5</td>\n      <td>0.7</td>\n      <td>-6599.9780</td>\n    </tr>\n  </tbody>\n</table>\n</div>"
     },
     "execution_count": 30,
     "metadata": {},
     "output_type": "execute_result"
    }
   ]
  },
  {
   "cell_type": "markdown",
   "metadata": {
    "id": "IROSGibdmQ6b"
   },
   "source": [
    "### Q: Do you observe any similarity in the results with the previous method?"
   ]
  },
  {
   "cell_type": "markdown",
   "metadata": {
    "id": "iUMgPZOMmQ6b"
   },
   "source": [
    "__Answer:__ **Yes, there is significant similarity in the results with the previous method**"
   ]
  },
  {
   "cell_type": "markdown",
   "metadata": {
    "id": "PnJttgSpmQ6b"
   },
   "source": [
    "Another interesting approach to check out would be the [Generalized ESD Test for Outliers](https://www.itl.nist.gov/div898/handbook/eda/section3/eda35h3.htm)\n",
    "\n"
   ]
  },
  {
   "cell_type": "markdown",
   "metadata": {
    "id": "sMrmbClWmQ6c"
   },
   "source": [
    "# 4. Multivariate Anomaly Detection\n",
    "\n",
    "Multivariate is basically analysis done on more than one attribute or feature at a time. In this section, we will perform anomaly detection on two attributes (__`Discount`__ & __`Profit`__) using the following methods.\n",
    "\n",
    "- Clustering Based Local Outlier Factor (CBLOF)\n",
    "- Isolation Forest\n",
    "- Auto-Encoders\n",
    "\n",
    "You will learn how to train these models to detect outliers and also visualize these outliers. For this section we will be using the __[`pyod`](https://pyod.readthedocs.io/en/latest/)__ package so make sure you have it installed."
   ]
  },
  {
   "cell_type": "code",
   "metadata": {
    "colab": {
     "base_uri": "https://localhost:8080/"
    },
    "id": "Lr2ll7jCmQ6c",
    "outputId": "cefaa63e-3fcb-4148-ad90-d5b60f09bcb5"
   },
   "source": [
    "!pip install pyod"
   ],
   "execution_count": 70,
   "outputs": [
    {
     "name": "stdout",
     "output_type": "stream",
     "text": [
      "Requirement already satisfied: pyod in /Users/ravibyakod/WORK/Python/mec-mini-projects/mec-18.5.1-time-series-analysis-mini-project/venv/lib/python3.9/site-packages (0.9.9)\r\n",
      "Requirement already satisfied: numba>=0.35 in /Users/ravibyakod/WORK/Python/mec-mini-projects/mec-18.5.1-time-series-analysis-mini-project/venv/lib/python3.9/site-packages (from pyod) (0.55.1)\r\n",
      "Requirement already satisfied: matplotlib in /Users/ravibyakod/WORK/Python/mec-mini-projects/mec-18.5.1-time-series-analysis-mini-project/venv/lib/python3.9/site-packages (from pyod) (3.5.1)\r\n",
      "Requirement already satisfied: joblib in /Users/ravibyakod/WORK/Python/mec-mini-projects/mec-18.5.1-time-series-analysis-mini-project/venv/lib/python3.9/site-packages (from pyod) (1.1.0)\r\n",
      "Requirement already satisfied: six in /Users/ravibyakod/WORK/Python/mec-mini-projects/mec-18.5.1-time-series-analysis-mini-project/venv/lib/python3.9/site-packages (from pyod) (1.16.0)\r\n",
      "Requirement already satisfied: scipy>=1.3.1 in /Users/ravibyakod/WORK/Python/mec-mini-projects/mec-18.5.1-time-series-analysis-mini-project/venv/lib/python3.9/site-packages (from pyod) (1.8.0)\r\n",
      "Requirement already satisfied: scikit-learn>=0.20.0 in /Users/ravibyakod/WORK/Python/mec-mini-projects/mec-18.5.1-time-series-analysis-mini-project/venv/lib/python3.9/site-packages (from pyod) (1.0.2)\r\n",
      "Requirement already satisfied: numpy>=1.13 in /Users/ravibyakod/WORK/Python/mec-mini-projects/mec-18.5.1-time-series-analysis-mini-project/venv/lib/python3.9/site-packages (from pyod) (1.20.3)\r\n",
      "Requirement already satisfied: statsmodels in /Users/ravibyakod/WORK/Python/mec-mini-projects/mec-18.5.1-time-series-analysis-mini-project/venv/lib/python3.9/site-packages (from pyod) (0.13.2)\r\n",
      "Requirement already satisfied: llvmlite<0.39,>=0.38.0rc1 in /Users/ravibyakod/WORK/Python/mec-mini-projects/mec-18.5.1-time-series-analysis-mini-project/venv/lib/python3.9/site-packages (from numba>=0.35->pyod) (0.38.0)\r\n",
      "Requirement already satisfied: setuptools in /Users/ravibyakod/WORK/Python/mec-mini-projects/mec-18.5.1-time-series-analysis-mini-project/venv/lib/python3.9/site-packages (from numba>=0.35->pyod) (60.2.0)\r\n",
      "Requirement already satisfied: threadpoolctl>=2.0.0 in /Users/ravibyakod/WORK/Python/mec-mini-projects/mec-18.5.1-time-series-analysis-mini-project/venv/lib/python3.9/site-packages (from scikit-learn>=0.20.0->pyod) (3.1.0)\r\n",
      "Requirement already satisfied: cycler>=0.10 in /Users/ravibyakod/WORK/Python/mec-mini-projects/mec-18.5.1-time-series-analysis-mini-project/venv/lib/python3.9/site-packages (from matplotlib->pyod) (0.11.0)\r\n",
      "Requirement already satisfied: kiwisolver>=1.0.1 in /Users/ravibyakod/WORK/Python/mec-mini-projects/mec-18.5.1-time-series-analysis-mini-project/venv/lib/python3.9/site-packages (from matplotlib->pyod) (1.4.2)\r\n",
      "Requirement already satisfied: fonttools>=4.22.0 in /Users/ravibyakod/WORK/Python/mec-mini-projects/mec-18.5.1-time-series-analysis-mini-project/venv/lib/python3.9/site-packages (from matplotlib->pyod) (4.32.0)\r\n",
      "Requirement already satisfied: packaging>=20.0 in /Users/ravibyakod/WORK/Python/mec-mini-projects/mec-18.5.1-time-series-analysis-mini-project/venv/lib/python3.9/site-packages (from matplotlib->pyod) (21.3)\r\n",
      "Requirement already satisfied: python-dateutil>=2.7 in /Users/ravibyakod/WORK/Python/mec-mini-projects/mec-18.5.1-time-series-analysis-mini-project/venv/lib/python3.9/site-packages (from matplotlib->pyod) (2.8.2)\r\n",
      "Requirement already satisfied: pillow>=6.2.0 in /Users/ravibyakod/WORK/Python/mec-mini-projects/mec-18.5.1-time-series-analysis-mini-project/venv/lib/python3.9/site-packages (from matplotlib->pyod) (9.1.0)\r\n",
      "Requirement already satisfied: pyparsing>=2.2.1 in /Users/ravibyakod/WORK/Python/mec-mini-projects/mec-18.5.1-time-series-analysis-mini-project/venv/lib/python3.9/site-packages (from matplotlib->pyod) (3.0.8)\r\n",
      "Requirement already satisfied: patsy>=0.5.2 in /Users/ravibyakod/WORK/Python/mec-mini-projects/mec-18.5.1-time-series-analysis-mini-project/venv/lib/python3.9/site-packages (from statsmodels->pyod) (0.5.2)\r\n",
      "Requirement already satisfied: pandas>=0.25 in /Users/ravibyakod/WORK/Python/mec-mini-projects/mec-18.5.1-time-series-analysis-mini-project/venv/lib/python3.9/site-packages (from statsmodels->pyod) (1.4.2)\r\n",
      "Requirement already satisfied: pytz>=2020.1 in /Users/ravibyakod/WORK/Python/mec-mini-projects/mec-18.5.1-time-series-analysis-mini-project/venv/lib/python3.9/site-packages (from pandas>=0.25->statsmodels->pyod) (2022.1)\r\n",
      "\u001B[33mWARNING: You are using pip version 21.3.1; however, version 22.0.4 is available.\r\n",
      "You should consider upgrading via the '/Users/ravibyakod/WORK/Python/mec-mini-projects/mec-18.5.1-time-series-analysis-mini-project/venv/bin/python -m pip install --upgrade pip' command.\u001B[0m\r\n"
     ]
    }
   ]
  },
  {
   "cell_type": "markdown",
   "metadata": {
    "id": "Z3ZzvuwJmQ6c"
   },
   "source": [
    "## Extract Subset Data for Outlier Detection"
   ]
  },
  {
   "cell_type": "code",
   "metadata": {
    "colab": {
     "base_uri": "https://localhost:8080/",
     "height": 191
    },
    "id": "cSiKFg56mQ6c",
    "outputId": "2bfb7acd-2d65-4007-cf4c-e18fd4176ac3"
   },
   "source": [
    "cols = ['Discount', 'Profit']\n",
    "subset_df = df[cols]\n",
    "subset_df.head()"
   ],
   "execution_count": 31,
   "outputs": [
    {
     "data": {
      "text/plain": "   Discount    Profit\n0      0.00   41.9136\n1      0.00  219.5820\n2      0.00    6.8714\n3      0.45 -383.0310\n4      0.20    2.5164",
      "text/html": "<div>\n<style scoped>\n    .dataframe tbody tr th:only-of-type {\n        vertical-align: middle;\n    }\n\n    .dataframe tbody tr th {\n        vertical-align: top;\n    }\n\n    .dataframe thead th {\n        text-align: right;\n    }\n</style>\n<table border=\"1\" class=\"dataframe\">\n  <thead>\n    <tr style=\"text-align: right;\">\n      <th></th>\n      <th>Discount</th>\n      <th>Profit</th>\n    </tr>\n  </thead>\n  <tbody>\n    <tr>\n      <th>0</th>\n      <td>0.00</td>\n      <td>41.9136</td>\n    </tr>\n    <tr>\n      <th>1</th>\n      <td>0.00</td>\n      <td>219.5820</td>\n    </tr>\n    <tr>\n      <th>2</th>\n      <td>0.00</td>\n      <td>6.8714</td>\n    </tr>\n    <tr>\n      <th>3</th>\n      <td>0.45</td>\n      <td>-383.0310</td>\n    </tr>\n    <tr>\n      <th>4</th>\n      <td>0.20</td>\n      <td>2.5164</td>\n    </tr>\n  </tbody>\n</table>\n</div>"
     },
     "execution_count": 31,
     "metadata": {},
     "output_type": "execute_result"
    }
   ]
  },
  {
   "cell_type": "markdown",
   "metadata": {
    "id": "HQzWCedGmQ6c"
   },
   "source": [
    "## Feature Scaling"
   ]
  },
  {
   "cell_type": "code",
   "metadata": {
    "colab": {
     "base_uri": "https://localhost:8080/",
     "height": 191
    },
    "id": "HWfkduvZmQ6c",
    "outputId": "8ee184d3-0c4e-42ac-a079-e0e1499b1545"
   },
   "source": [
    "from sklearn.preprocessing import MinMaxScaler\n",
    "\n",
    "mms = MinMaxScaler(feature_range=(0, 1))\n",
    "subset_df[cols] = mms.fit_transform(subset_df)\n",
    "subset_df.head()"
   ],
   "execution_count": 32,
   "outputs": [
    {
     "data": {
      "text/plain": "   Discount    Profit\n0    0.0000  0.442794\n1    0.0000  0.454639\n2    0.0000  0.440458\n3    0.5625  0.414464\n4    0.2500  0.440168",
      "text/html": "<div>\n<style scoped>\n    .dataframe tbody tr th:only-of-type {\n        vertical-align: middle;\n    }\n\n    .dataframe tbody tr th {\n        vertical-align: top;\n    }\n\n    .dataframe thead th {\n        text-align: right;\n    }\n</style>\n<table border=\"1\" class=\"dataframe\">\n  <thead>\n    <tr style=\"text-align: right;\">\n      <th></th>\n      <th>Discount</th>\n      <th>Profit</th>\n    </tr>\n  </thead>\n  <tbody>\n    <tr>\n      <th>0</th>\n      <td>0.0000</td>\n      <td>0.442794</td>\n    </tr>\n    <tr>\n      <th>1</th>\n      <td>0.0000</td>\n      <td>0.454639</td>\n    </tr>\n    <tr>\n      <th>2</th>\n      <td>0.0000</td>\n      <td>0.440458</td>\n    </tr>\n    <tr>\n      <th>3</th>\n      <td>0.5625</td>\n      <td>0.414464</td>\n    </tr>\n    <tr>\n      <th>4</th>\n      <td>0.2500</td>\n      <td>0.440168</td>\n    </tr>\n  </tbody>\n</table>\n</div>"
     },
     "execution_count": 32,
     "metadata": {},
     "output_type": "execute_result"
    }
   ]
  },
  {
   "cell_type": "markdown",
   "metadata": {
    "id": "-EymYYKtmQ6c"
   },
   "source": [
    "## 4.1: Multivariate Anomaly Detection with Clustering Based Local Outlier Factor (CBLOF)\n",
    "\n",
    "The CBLOF model takes as an input the dataset and the cluster model that was generated by a clustering algorithm. It classifies the clusters into small clusters and large clusters using the parameters alpha and beta. The anomaly score is then calculated based on the size of the cluster the point belongs to as well as the distance to the nearest large cluster.\n",
    "\n",
    "By default, kMeans is used for clustering algorithm. You can read more in the [official documentation](https://pyod.readthedocs.io/en/latest/pyod.models.html#module-pyod.models.cblof)"
   ]
  },
  {
   "cell_type": "markdown",
   "metadata": {
    "id": "7NHauycHmQ6c"
   },
   "source": [
    "### Initialize and Train Model\n",
    "\n",
    "Here we initialize the CBLOF model with some hyperparameters assuming the proportion of outliers to be 1% of the total data (using the `contamination` setting)"
   ]
  },
  {
   "cell_type": "code",
   "metadata": {
    "colab": {
     "base_uri": "https://localhost:8080/"
    },
    "id": "ms62jJRnmQ6d",
    "outputId": "098994f1-af7a-4d60-ecf4-912eb019da21"
   },
   "source": [
    "import numpy\n",
    "from pyod.models import cblof\n",
    "\n",
    "cblof_model = cblof.CBLOF(contamination=0.01, random_state=42)\n",
    "cblof_model.fit(subset_df)"
   ],
   "execution_count": 33,
   "outputs": [
    {
     "data": {
      "text/plain": "CBLOF(alpha=0.9, beta=5, check_estimator=False, clustering_estimator=None,\n   contamination=0.01, n_clusters=8, n_jobs=None, random_state=42,\n   use_weights=False)"
     },
     "execution_count": 33,
     "metadata": {},
     "output_type": "execute_result"
    }
   ]
  },
  {
   "cell_type": "markdown",
   "metadata": {
    "id": "Cs6QS3m3mQ6d"
   },
   "source": [
    "### Filter and Sort Outliers\n",
    "\n",
    "Here we predict outliers in our dataset using our trained model and filter out the outlier observations and sort by descending order and view the top 5 outlier values"
   ]
  },
  {
   "cell_type": "code",
   "metadata": {
    "colab": {
     "base_uri": "https://localhost:8080/",
     "height": 207
    },
    "id": "idNhBclWmQ6d",
    "outputId": "694f70ba-0c2a-4575-b55f-93eeb3ab26df"
   },
   "source": [
    "outlier_predictions = cblof_model.predict(subset_df)\n",
    "\n",
    "outliers_df = subset_df.copy(deep=True)\n",
    "outliers_df['Outlier'] = outlier_predictions\n",
    "outliers_df = outliers_df[outliers_df['Outlier'] == 1]\n",
    "\n",
    "print('Total Outliers:', len(outliers_df))\n",
    "outliers_sorted = outliers_df.sort_values(by=['Profit', 'Discount'], ascending=False)\n",
    "outliers_sorted.head(5)"
   ],
   "execution_count": 34,
   "outputs": [
    {
     "name": "stdout",
     "output_type": "stream",
     "text": [
      "Total Outliers: 100\n"
     ]
    },
    {
     "data": {
      "text/plain": "      Discount    Profit  Outlier\n6826       0.0  1.000000        1\n8153       0.0  0.888000        1\n4190       0.0  0.776000        1\n9039       0.0  0.769759        1\n4098       0.0  0.748699        1",
      "text/html": "<div>\n<style scoped>\n    .dataframe tbody tr th:only-of-type {\n        vertical-align: middle;\n    }\n\n    .dataframe tbody tr th {\n        vertical-align: top;\n    }\n\n    .dataframe thead th {\n        text-align: right;\n    }\n</style>\n<table border=\"1\" class=\"dataframe\">\n  <thead>\n    <tr style=\"text-align: right;\">\n      <th></th>\n      <th>Discount</th>\n      <th>Profit</th>\n      <th>Outlier</th>\n    </tr>\n  </thead>\n  <tbody>\n    <tr>\n      <th>6826</th>\n      <td>0.0</td>\n      <td>1.000000</td>\n      <td>1</td>\n    </tr>\n    <tr>\n      <th>8153</th>\n      <td>0.0</td>\n      <td>0.888000</td>\n      <td>1</td>\n    </tr>\n    <tr>\n      <th>4190</th>\n      <td>0.0</td>\n      <td>0.776000</td>\n      <td>1</td>\n    </tr>\n    <tr>\n      <th>9039</th>\n      <td>0.0</td>\n      <td>0.769759</td>\n      <td>1</td>\n    </tr>\n    <tr>\n      <th>4098</th>\n      <td>0.0</td>\n      <td>0.748699</td>\n      <td>1</td>\n    </tr>\n  </tbody>\n</table>\n</div>"
     },
     "execution_count": 34,
     "metadata": {},
     "output_type": "execute_result"
    }
   ]
  },
  {
   "cell_type": "markdown",
   "metadata": {
    "id": "HmM-rHt4mQ6d"
   },
   "source": [
    "### View Bottom 10 Outlier Transactions"
   ]
  },
  {
   "cell_type": "code",
   "metadata": {
    "colab": {
     "base_uri": "https://localhost:8080/",
     "height": 335
    },
    "id": "r4s2vK32mQ6d",
    "outputId": "146b6f5e-6b3b-457f-e515-1d11ae1d3b60"
   },
   "source": [
    "(df.loc[outliers_sorted.index.tolist()][['City', 'Category', 'Sub-Category', 'Product Name', \n",
    "                                              'Sales', 'Quantity', 'Discount', 'Profit']]).tail(10)"
   ],
   "execution_count": 35,
   "outputs": [
    {
     "data": {
      "text/plain": "              City    Category Sub-Category  \\\n463        Phoenix   Furniture       Tables   \n4128     Charlotte  Technology     Machines   \n8993      Columbia   Furniture       Tables   \n5320     Knoxville   Furniture       Tables   \n165    San Antonio  Technology     Machines   \n27    Philadelphia   Furniture    Bookcases   \n2697  Jacksonville  Technology     Machines   \n9639       Concord   Furniture       Tables   \n683     Burlington  Technology     Machines   \n7772     Lancaster  Technology     Machines   \n\n                                           Product Name      Sales  Quantity  \\\n463   Bush Advantage Collection Racetrack Conference...   1272.630         6   \n4128  HP Designjet T520 Inkjet Large Format Printer ...   2624.985         3   \n8993                       Balt Solid Wood Round Tables   1875.258         7   \n5320  Chromcraft Bull-Nose Wood Oval Conference Tabl...   2314.116         7   \n165           Lexmark MX611dhe Monochrome Laser Printer   8159.952         8   \n27    Riverside Palais Royal Lawyers Bookcase, Royal...   3083.430         7   \n2697  Cisco TelePresence System EX90 Videoconferenci...  22638.480         6   \n9639  Chromcraft Bull-Nose Wood Oval Conference Tabl...   4297.644        13   \n683           Cubify CubeX 3D Printer Triple Head Print   7999.980         4   \n7772          Cubify CubeX 3D Printer Double Head Print   4499.985         5   \n\n      Discount     Profit  \n463        0.5  -814.4832  \n4128       0.5  -944.9946  \n8993       0.4  -968.8833  \n5320       0.4 -1002.7836  \n165        0.4 -1359.9920  \n27         0.5 -1665.0522  \n2697       0.5 -1811.0784  \n9639       0.4 -1862.3124  \n683        0.5 -3839.9904  \n7772       0.7 -6599.9780  ",
      "text/html": "<div>\n<style scoped>\n    .dataframe tbody tr th:only-of-type {\n        vertical-align: middle;\n    }\n\n    .dataframe tbody tr th {\n        vertical-align: top;\n    }\n\n    .dataframe thead th {\n        text-align: right;\n    }\n</style>\n<table border=\"1\" class=\"dataframe\">\n  <thead>\n    <tr style=\"text-align: right;\">\n      <th></th>\n      <th>City</th>\n      <th>Category</th>\n      <th>Sub-Category</th>\n      <th>Product Name</th>\n      <th>Sales</th>\n      <th>Quantity</th>\n      <th>Discount</th>\n      <th>Profit</th>\n    </tr>\n  </thead>\n  <tbody>\n    <tr>\n      <th>463</th>\n      <td>Phoenix</td>\n      <td>Furniture</td>\n      <td>Tables</td>\n      <td>Bush Advantage Collection Racetrack Conference...</td>\n      <td>1272.630</td>\n      <td>6</td>\n      <td>0.5</td>\n      <td>-814.4832</td>\n    </tr>\n    <tr>\n      <th>4128</th>\n      <td>Charlotte</td>\n      <td>Technology</td>\n      <td>Machines</td>\n      <td>HP Designjet T520 Inkjet Large Format Printer ...</td>\n      <td>2624.985</td>\n      <td>3</td>\n      <td>0.5</td>\n      <td>-944.9946</td>\n    </tr>\n    <tr>\n      <th>8993</th>\n      <td>Columbia</td>\n      <td>Furniture</td>\n      <td>Tables</td>\n      <td>Balt Solid Wood Round Tables</td>\n      <td>1875.258</td>\n      <td>7</td>\n      <td>0.4</td>\n      <td>-968.8833</td>\n    </tr>\n    <tr>\n      <th>5320</th>\n      <td>Knoxville</td>\n      <td>Furniture</td>\n      <td>Tables</td>\n      <td>Chromcraft Bull-Nose Wood Oval Conference Tabl...</td>\n      <td>2314.116</td>\n      <td>7</td>\n      <td>0.4</td>\n      <td>-1002.7836</td>\n    </tr>\n    <tr>\n      <th>165</th>\n      <td>San Antonio</td>\n      <td>Technology</td>\n      <td>Machines</td>\n      <td>Lexmark MX611dhe Monochrome Laser Printer</td>\n      <td>8159.952</td>\n      <td>8</td>\n      <td>0.4</td>\n      <td>-1359.9920</td>\n    </tr>\n    <tr>\n      <th>27</th>\n      <td>Philadelphia</td>\n      <td>Furniture</td>\n      <td>Bookcases</td>\n      <td>Riverside Palais Royal Lawyers Bookcase, Royal...</td>\n      <td>3083.430</td>\n      <td>7</td>\n      <td>0.5</td>\n      <td>-1665.0522</td>\n    </tr>\n    <tr>\n      <th>2697</th>\n      <td>Jacksonville</td>\n      <td>Technology</td>\n      <td>Machines</td>\n      <td>Cisco TelePresence System EX90 Videoconferenci...</td>\n      <td>22638.480</td>\n      <td>6</td>\n      <td>0.5</td>\n      <td>-1811.0784</td>\n    </tr>\n    <tr>\n      <th>9639</th>\n      <td>Concord</td>\n      <td>Furniture</td>\n      <td>Tables</td>\n      <td>Chromcraft Bull-Nose Wood Oval Conference Tabl...</td>\n      <td>4297.644</td>\n      <td>13</td>\n      <td>0.4</td>\n      <td>-1862.3124</td>\n    </tr>\n    <tr>\n      <th>683</th>\n      <td>Burlington</td>\n      <td>Technology</td>\n      <td>Machines</td>\n      <td>Cubify CubeX 3D Printer Triple Head Print</td>\n      <td>7999.980</td>\n      <td>4</td>\n      <td>0.5</td>\n      <td>-3839.9904</td>\n    </tr>\n    <tr>\n      <th>7772</th>\n      <td>Lancaster</td>\n      <td>Technology</td>\n      <td>Machines</td>\n      <td>Cubify CubeX 3D Printer Double Head Print</td>\n      <td>4499.985</td>\n      <td>5</td>\n      <td>0.7</td>\n      <td>-6599.9780</td>\n    </tr>\n  </tbody>\n</table>\n</div>"
     },
     "execution_count": 35,
     "metadata": {},
     "output_type": "execute_result"
    }
   ]
  },
  {
   "cell_type": "markdown",
   "metadata": {
    "id": "Jm3RSIMFmQ6d"
   },
   "source": [
    "We can definitely see some huge losses incurred based on giving higher discounts even if the sales amount was high which is interesting as well as concerning."
   ]
  },
  {
   "cell_type": "markdown",
   "metadata": {
    "id": "AluWKaZUmQ6d"
   },
   "source": [
    "## Q 4.2: Multivariate Anomaly Detection with Isolation Forest\n",
    "\n",
    "Here you will detect anomalies using the Isolation Forest model and use the learnings from 4.1. Here you will use the [`pyod`](https://pyod.readthedocs.io/en/latest/pyod.models.html#module-pyod.models.iforest) version of [Isolation Forest](https://pyod.readthedocs.io/en/latest/pyod.models.html#module-pyod.models.iforest) which is basically a wrapper over the `scikit-learn` version but with more functionalities."
   ]
  },
  {
   "cell_type": "markdown",
   "metadata": {
    "id": "OLJSGaQnmQ6d"
   },
   "source": [
    "### Initialize and Train Model\n",
    "\n",
    "__Your Turn:__ Initialize the isolation forest model with similar hyperparameters as before and also assuming the proportion of outliers to be 1% of the total data (using the contamination setting)"
   ]
  },
  {
   "cell_type": "code",
   "metadata": {
    "colab": {
     "base_uri": "https://localhost:8080/"
    },
    "id": "kfDndh-bmQ6e",
    "outputId": "a423d7ec-3028-4124-c9c5-5f253606f238"
   },
   "source": [
    "from pyod.models import iforest\n",
    "\n",
    "if_model = iforest.IForest(contamination=0.01, random_state=42)\n",
    "if_model.fit(subset_df)"
   ],
   "execution_count": 36,
   "outputs": [
    {
     "data": {
      "text/plain": "IForest(behaviour='old', bootstrap=False, contamination=0.01,\n    max_features=1.0, max_samples='auto', n_estimators=100, n_jobs=1,\n    random_state=42, verbose=0)"
     },
     "execution_count": 36,
     "metadata": {},
     "output_type": "execute_result"
    }
   ]
  },
  {
   "cell_type": "markdown",
   "metadata": {
    "id": "__D2IOW7mQ6e"
   },
   "source": [
    "### Filter and Sort Outliers\n",
    "\n",
    "__Your Turn:__ Predict outliers in our dataset using our trained model and filter out the outlier observations and sort by descending order and view the top 5 outlier values similar to 4.1"
   ]
  },
  {
   "cell_type": "code",
   "metadata": {
    "colab": {
     "base_uri": "https://localhost:8080/",
     "height": 207
    },
    "id": "Lgwqh8eCmQ6e",
    "outputId": "7f3673ac-d120-42fe-b665-a7ccc337d8b2"
   },
   "source": [
    "outlier_predictions = if_model.predict(subset_df)\n",
    "\n",
    "outliers_df = subset_df.copy(deep=True)\n",
    "outliers_df['Outlier'] = outlier_predictions\n",
    "outliers_df = outliers_df[outliers_df['Outlier'] == 1]\n",
    "\n",
    "print('Total Outliers:', len(outliers_df))\n",
    "outliers_sorted = outliers_df.sort_values(by=['Profit', 'Discount'], ascending=False)\n",
    "outliers_sorted.head(5)"
   ],
   "execution_count": 37,
   "outputs": [
    {
     "name": "stdout",
     "output_type": "stream",
     "text": [
      "Total Outliers: 99\n"
     ]
    },
    {
     "data": {
      "text/plain": "      Discount    Profit  Outlier\n6826       0.0  1.000000        1\n8153       0.0  0.888000        1\n4190       0.0  0.776000        1\n9039       0.0  0.769759        1\n4098       0.0  0.748699        1",
      "text/html": "<div>\n<style scoped>\n    .dataframe tbody tr th:only-of-type {\n        vertical-align: middle;\n    }\n\n    .dataframe tbody tr th {\n        vertical-align: top;\n    }\n\n    .dataframe thead th {\n        text-align: right;\n    }\n</style>\n<table border=\"1\" class=\"dataframe\">\n  <thead>\n    <tr style=\"text-align: right;\">\n      <th></th>\n      <th>Discount</th>\n      <th>Profit</th>\n      <th>Outlier</th>\n    </tr>\n  </thead>\n  <tbody>\n    <tr>\n      <th>6826</th>\n      <td>0.0</td>\n      <td>1.000000</td>\n      <td>1</td>\n    </tr>\n    <tr>\n      <th>8153</th>\n      <td>0.0</td>\n      <td>0.888000</td>\n      <td>1</td>\n    </tr>\n    <tr>\n      <th>4190</th>\n      <td>0.0</td>\n      <td>0.776000</td>\n      <td>1</td>\n    </tr>\n    <tr>\n      <th>9039</th>\n      <td>0.0</td>\n      <td>0.769759</td>\n      <td>1</td>\n    </tr>\n    <tr>\n      <th>4098</th>\n      <td>0.0</td>\n      <td>0.748699</td>\n      <td>1</td>\n    </tr>\n  </tbody>\n</table>\n</div>"
     },
     "execution_count": 37,
     "metadata": {},
     "output_type": "execute_result"
    }
   ]
  },
  {
   "cell_type": "markdown",
   "metadata": {
    "id": "RJXwAt0emQ6e"
   },
   "source": [
    "### View Bottom 10 Outlier Transactions\n",
    "\n",
    "__Your turn:__ View the bottom ten transactions "
   ]
  },
  {
   "cell_type": "code",
   "metadata": {
    "colab": {
     "base_uri": "https://localhost:8080/",
     "height": 335
    },
    "id": "raoOcvi5mQ6e",
    "outputId": "d8c54440-22a1-4402-e278-3c7aab230f0b"
   },
   "source": [
    "(df.loc[outliers_sorted.index.tolist()][['City', 'Category', 'Sub-Category', 'Product Name', \n",
    "                                              'Sales', 'Quantity', 'Discount', 'Profit']]).tail(10)"
   ],
   "execution_count": 38,
   "outputs": [
    {
     "data": {
      "text/plain": "              City         Category Sub-Category  \\\n2697  Jacksonville       Technology     Machines   \n1199       Houston  Office Supplies      Binders   \n9639       Concord        Furniture       Tables   \n5310       Houston  Office Supplies      Binders   \n3151        Newark       Technology     Machines   \n4991       Chicago  Office Supplies      Binders   \n3011    Louisville       Technology     Machines   \n9774   San Antonio  Office Supplies      Binders   \n683     Burlington       Technology     Machines   \n7772     Lancaster       Technology     Machines   \n\n                                           Product Name      Sales  Quantity  \\\n2697  Cisco TelePresence System EX90 Videoconferenci...  22638.480         6   \n1199          GBC DocuBind P400 Electric Binding System   1088.792         4   \n9639  Chromcraft Bull-Nose Wood Oval Conference Tabl...   4297.644        13   \n5310  Fellowes PB500 Electric Punch Plastic Comb Bin...   1525.188         6   \n3151          Cubify CubeX 3D Printer Double Head Print   1799.994         2   \n4991               Ibico EPK-21 Electric Binding System   1889.990         5   \n3011          Lexmark MX611dhe Monochrome Laser Printer   2549.985         5   \n9774          GBC DocuBind P400 Electric Binding System   2177.584         8   \n683           Cubify CubeX 3D Printer Triple Head Print   7999.980         4   \n7772          Cubify CubeX 3D Printer Double Head Print   4499.985         5   \n\n      Discount     Profit  \n2697       0.5 -1811.0784  \n1199       0.8 -1850.9464  \n9639       0.4 -1862.3124  \n5310       0.8 -2287.7820  \n3151       0.7 -2639.9912  \n4991       0.8 -2929.4845  \n3011       0.7 -3399.9800  \n9774       0.8 -3701.8928  \n683        0.5 -3839.9904  \n7772       0.7 -6599.9780  ",
      "text/html": "<div>\n<style scoped>\n    .dataframe tbody tr th:only-of-type {\n        vertical-align: middle;\n    }\n\n    .dataframe tbody tr th {\n        vertical-align: top;\n    }\n\n    .dataframe thead th {\n        text-align: right;\n    }\n</style>\n<table border=\"1\" class=\"dataframe\">\n  <thead>\n    <tr style=\"text-align: right;\">\n      <th></th>\n      <th>City</th>\n      <th>Category</th>\n      <th>Sub-Category</th>\n      <th>Product Name</th>\n      <th>Sales</th>\n      <th>Quantity</th>\n      <th>Discount</th>\n      <th>Profit</th>\n    </tr>\n  </thead>\n  <tbody>\n    <tr>\n      <th>2697</th>\n      <td>Jacksonville</td>\n      <td>Technology</td>\n      <td>Machines</td>\n      <td>Cisco TelePresence System EX90 Videoconferenci...</td>\n      <td>22638.480</td>\n      <td>6</td>\n      <td>0.5</td>\n      <td>-1811.0784</td>\n    </tr>\n    <tr>\n      <th>1199</th>\n      <td>Houston</td>\n      <td>Office Supplies</td>\n      <td>Binders</td>\n      <td>GBC DocuBind P400 Electric Binding System</td>\n      <td>1088.792</td>\n      <td>4</td>\n      <td>0.8</td>\n      <td>-1850.9464</td>\n    </tr>\n    <tr>\n      <th>9639</th>\n      <td>Concord</td>\n      <td>Furniture</td>\n      <td>Tables</td>\n      <td>Chromcraft Bull-Nose Wood Oval Conference Tabl...</td>\n      <td>4297.644</td>\n      <td>13</td>\n      <td>0.4</td>\n      <td>-1862.3124</td>\n    </tr>\n    <tr>\n      <th>5310</th>\n      <td>Houston</td>\n      <td>Office Supplies</td>\n      <td>Binders</td>\n      <td>Fellowes PB500 Electric Punch Plastic Comb Bin...</td>\n      <td>1525.188</td>\n      <td>6</td>\n      <td>0.8</td>\n      <td>-2287.7820</td>\n    </tr>\n    <tr>\n      <th>3151</th>\n      <td>Newark</td>\n      <td>Technology</td>\n      <td>Machines</td>\n      <td>Cubify CubeX 3D Printer Double Head Print</td>\n      <td>1799.994</td>\n      <td>2</td>\n      <td>0.7</td>\n      <td>-2639.9912</td>\n    </tr>\n    <tr>\n      <th>4991</th>\n      <td>Chicago</td>\n      <td>Office Supplies</td>\n      <td>Binders</td>\n      <td>Ibico EPK-21 Electric Binding System</td>\n      <td>1889.990</td>\n      <td>5</td>\n      <td>0.8</td>\n      <td>-2929.4845</td>\n    </tr>\n    <tr>\n      <th>3011</th>\n      <td>Louisville</td>\n      <td>Technology</td>\n      <td>Machines</td>\n      <td>Lexmark MX611dhe Monochrome Laser Printer</td>\n      <td>2549.985</td>\n      <td>5</td>\n      <td>0.7</td>\n      <td>-3399.9800</td>\n    </tr>\n    <tr>\n      <th>9774</th>\n      <td>San Antonio</td>\n      <td>Office Supplies</td>\n      <td>Binders</td>\n      <td>GBC DocuBind P400 Electric Binding System</td>\n      <td>2177.584</td>\n      <td>8</td>\n      <td>0.8</td>\n      <td>-3701.8928</td>\n    </tr>\n    <tr>\n      <th>683</th>\n      <td>Burlington</td>\n      <td>Technology</td>\n      <td>Machines</td>\n      <td>Cubify CubeX 3D Printer Triple Head Print</td>\n      <td>7999.980</td>\n      <td>4</td>\n      <td>0.5</td>\n      <td>-3839.9904</td>\n    </tr>\n    <tr>\n      <th>7772</th>\n      <td>Lancaster</td>\n      <td>Technology</td>\n      <td>Machines</td>\n      <td>Cubify CubeX 3D Printer Double Head Print</td>\n      <td>4499.985</td>\n      <td>5</td>\n      <td>0.7</td>\n      <td>-6599.9780</td>\n    </tr>\n  </tbody>\n</table>\n</div>"
     },
     "execution_count": 38,
     "metadata": {},
     "output_type": "execute_result"
    }
   ]
  },
  {
   "cell_type": "markdown",
   "metadata": {
    "id": "jvnLltZYmQ6f"
   },
   "source": [
    "### Q: Do you notice any differences in the results with the previous model?"
   ]
  },
  {
   "cell_type": "markdown",
   "metadata": {
    "id": "Ni_xd-2qmQ6f"
   },
   "source": [
    "**Answer: We do notice some transactions with 80% discount and high losses**"
   ]
  },
  {
   "cell_type": "markdown",
   "metadata": {
    "id": "0DkKPZ0wmQ6f"
   },
   "source": [
    "## Q 4.3: Multivariate Anomaly Detection with Auto-encoders\n",
    "\n",
    "Here you will detect anomalies using the Auto-encoder model and use the learnings from 4.1. Here you will use the [Auto-encoder](https://pyod.readthedocs.io/en/latest/pyod.models.html#module-pyod.models.auto_encoder) model from `pyod` which is a deep learning model often used for learning useful data representations in an unsupervised fashion without any labeled data. \n",
    "\n",
    "![](outlier_ae.png)\n",
    "\n",
    "Similar to PCA, AE could be used to detect outlier objects in the data by calculating the reconstruction errors"
   ]
  },
  {
   "cell_type": "markdown",
   "metadata": {
    "id": "8wG0jiQ0mQ6h"
   },
   "source": [
    "### Initialize Model\n",
    "\n",
    "Here we initiaze an auto-encoder network with a few hidden layers so that we could train it for a 100 epochs"
   ]
  },
  {
   "cell_type": "code",
   "metadata": {
    "id": "ZNFSJzXrmQ6h"
   },
   "source": [
    "from pyod.models import auto_encoder\n",
    "\n",
    "ae_model = auto_encoder.AutoEncoder(hidden_neurons=[2, 32, 32, 2], \n",
    "                                    hidden_activation='relu',\n",
    "                                    output_activation='sigmoid',\n",
    "                                    epochs=100,\n",
    "                                    batch_size=32,\n",
    "                                    contamination=0.01)"
   ],
   "execution_count": 39,
   "outputs": []
  },
  {
   "cell_type": "markdown",
   "metadata": {
    "id": "soqK1ZD2mQ6h"
   },
   "source": [
    "### Train Model\n",
    "\n",
    "__Your turn:__ Train the model by calling the `fit()` function on the right data"
   ]
  },
  {
   "cell_type": "code",
   "metadata": {
    "colab": {
     "base_uri": "https://localhost:8080/"
    },
    "id": "pANNmjfzmQ6i",
    "outputId": "455d477f-3482-4aca-b51e-8c1ed53b789b"
   },
   "source": [
    "# Calling Autoencoder model to fit df with all columns\n",
    "ae_model.fit(subset_df)"
   ],
   "execution_count": 40,
   "outputs": [
    {
     "name": "stdout",
     "output_type": "stream",
     "text": [
      "Model: \"sequential\"\n",
      "_________________________________________________________________\n",
      " Layer (type)                Output Shape              Param #   \n",
      "=================================================================\n",
      " dense (Dense)               (None, 2)                 6         \n",
      "                                                                 \n",
      " dropout (Dropout)           (None, 2)                 0         \n",
      "                                                                 \n",
      " dense_1 (Dense)             (None, 2)                 6         \n",
      "                                                                 \n",
      " dropout_1 (Dropout)         (None, 2)                 0         \n",
      "                                                                 \n",
      " dense_2 (Dense)             (None, 2)                 6         \n",
      "                                                                 \n",
      " dropout_2 (Dropout)         (None, 2)                 0         \n",
      "                                                                 \n",
      " dense_3 (Dense)             (None, 32)                96        \n",
      "                                                                 \n",
      " dropout_3 (Dropout)         (None, 32)                0         \n",
      "                                                                 \n",
      " dense_4 (Dense)             (None, 32)                1056      \n",
      "                                                                 \n",
      " dropout_4 (Dropout)         (None, 32)                0         \n",
      "                                                                 \n",
      " dense_5 (Dense)             (None, 2)                 66        \n",
      "                                                                 \n",
      " dropout_5 (Dropout)         (None, 2)                 0         \n",
      "                                                                 \n",
      " dense_6 (Dense)             (None, 2)                 6         \n",
      "                                                                 \n",
      "=================================================================\n",
      "Total params: 1,242\n",
      "Trainable params: 1,242\n",
      "Non-trainable params: 0\n",
      "_________________________________________________________________\n"
     ]
    },
    {
     "name": "stderr",
     "output_type": "stream",
     "text": [
      "2022-04-18 13:42:28.873488: I tensorflow/core/platform/cpu_feature_guard.cc:151] This TensorFlow binary is optimized with oneAPI Deep Neural Network Library (oneDNN) to use the following CPU instructions in performance-critical operations:  AVX2 FMA\n",
      "To enable them in other operations, rebuild TensorFlow with the appropriate compiler flags.\n"
     ]
    },
    {
     "name": "stdout",
     "output_type": "stream",
     "text": [
      "None\n",
      "Epoch 1/100\n",
      "282/282 [==============================] - 2s 2ms/step - loss: 1.2557 - val_loss: 0.7165\n",
      "Epoch 2/100\n",
      "282/282 [==============================] - 0s 2ms/step - loss: 1.1605 - val_loss: 0.6678\n",
      "Epoch 3/100\n",
      "282/282 [==============================] - 1s 2ms/step - loss: 1.1252 - val_loss: 0.6437\n",
      "Epoch 4/100\n",
      "282/282 [==============================] - 1s 2ms/step - loss: 1.1078 - val_loss: 0.6316\n",
      "Epoch 5/100\n",
      "282/282 [==============================] - 1s 2ms/step - loss: 1.0926 - val_loss: 0.6194\n",
      "Epoch 6/100\n",
      "282/282 [==============================] - 1s 2ms/step - loss: 1.0853 - val_loss: 0.6104\n",
      "Epoch 7/100\n",
      "282/282 [==============================] - 1s 2ms/step - loss: 1.0770 - val_loss: 0.6057\n",
      "Epoch 8/100\n",
      "282/282 [==============================] - 1s 2ms/step - loss: 1.0725 - val_loss: 0.5997\n",
      "Epoch 9/100\n",
      "282/282 [==============================] - 1s 2ms/step - loss: 1.0678 - val_loss: 0.5959\n",
      "Epoch 10/100\n",
      "282/282 [==============================] - 1s 2ms/step - loss: 1.0637 - val_loss: 0.5912\n",
      "Epoch 11/100\n",
      "282/282 [==============================] - 1s 2ms/step - loss: 1.0603 - val_loss: 0.5896\n",
      "Epoch 12/100\n",
      "282/282 [==============================] - 1s 2ms/step - loss: 1.0579 - val_loss: 0.5872\n",
      "Epoch 13/100\n",
      "282/282 [==============================] - 1s 2ms/step - loss: 1.0555 - val_loss: 0.5825\n",
      "Epoch 14/100\n",
      "282/282 [==============================] - 1s 2ms/step - loss: 1.0539 - val_loss: 0.5818\n",
      "Epoch 15/100\n",
      "282/282 [==============================] - 1s 2ms/step - loss: 1.0518 - val_loss: 0.5809\n",
      "Epoch 16/100\n",
      "282/282 [==============================] - 1s 2ms/step - loss: 1.0510 - val_loss: 0.5768\n",
      "Epoch 17/100\n",
      "282/282 [==============================] - 1s 2ms/step - loss: 1.0488 - val_loss: 0.5761\n",
      "Epoch 18/100\n",
      "282/282 [==============================] - 1s 2ms/step - loss: 1.0482 - val_loss: 0.5720\n",
      "Epoch 19/100\n",
      "282/282 [==============================] - 1s 2ms/step - loss: 1.0471 - val_loss: 0.5734\n",
      "Epoch 20/100\n",
      "282/282 [==============================] - 1s 2ms/step - loss: 1.0451 - val_loss: 0.5747\n",
      "Epoch 21/100\n",
      "282/282 [==============================] - 1s 2ms/step - loss: 1.0445 - val_loss: 0.5776\n",
      "Epoch 22/100\n",
      "282/282 [==============================] - 1s 2ms/step - loss: 1.0433 - val_loss: 0.5698\n",
      "Epoch 23/100\n",
      "282/282 [==============================] - 1s 2ms/step - loss: 1.0427 - val_loss: 0.5746\n",
      "Epoch 24/100\n",
      "282/282 [==============================] - 1s 2ms/step - loss: 1.0418 - val_loss: 0.5795\n",
      "Epoch 25/100\n",
      "282/282 [==============================] - 1s 2ms/step - loss: 1.0416 - val_loss: 0.5659\n",
      "Epoch 26/100\n",
      "282/282 [==============================] - 1s 2ms/step - loss: 1.0409 - val_loss: 0.5708\n",
      "Epoch 27/100\n",
      "282/282 [==============================] - 1s 3ms/step - loss: 1.0409 - val_loss: 0.5650\n",
      "Epoch 28/100\n",
      "282/282 [==============================] - 1s 3ms/step - loss: 1.0398 - val_loss: 0.5609\n",
      "Epoch 29/100\n",
      "282/282 [==============================] - 1s 2ms/step - loss: 1.0388 - val_loss: 0.5622\n",
      "Epoch 30/100\n",
      "282/282 [==============================] - 1s 2ms/step - loss: 1.0388 - val_loss: 0.5567\n",
      "Epoch 31/100\n",
      "282/282 [==============================] - 0s 2ms/step - loss: 1.0387 - val_loss: 0.5599\n",
      "Epoch 32/100\n",
      "282/282 [==============================] - 1s 2ms/step - loss: 1.0380 - val_loss: 0.5710\n",
      "Epoch 33/100\n",
      "282/282 [==============================] - 0s 2ms/step - loss: 1.0388 - val_loss: 0.5648\n",
      "Epoch 34/100\n",
      "282/282 [==============================] - 0s 2ms/step - loss: 1.0374 - val_loss: 0.5669\n",
      "Epoch 35/100\n",
      "282/282 [==============================] - 0s 2ms/step - loss: 1.0381 - val_loss: 0.5690\n",
      "Epoch 36/100\n",
      "282/282 [==============================] - 1s 2ms/step - loss: 1.0382 - val_loss: 0.5603\n",
      "Epoch 37/100\n",
      "282/282 [==============================] - 1s 2ms/step - loss: 1.0375 - val_loss: 0.5593\n",
      "Epoch 38/100\n",
      "282/282 [==============================] - 1s 2ms/step - loss: 1.0372 - val_loss: 0.5711\n",
      "Epoch 39/100\n",
      "282/282 [==============================] - 1s 2ms/step - loss: 1.0371 - val_loss: 0.5567\n",
      "Epoch 40/100\n",
      "282/282 [==============================] - 1s 2ms/step - loss: 1.0374 - val_loss: 0.5569\n",
      "Epoch 41/100\n",
      "282/282 [==============================] - 1s 2ms/step - loss: 1.0363 - val_loss: 0.5535\n",
      "Epoch 42/100\n",
      "282/282 [==============================] - 1s 3ms/step - loss: 1.0368 - val_loss: 0.5513\n",
      "Epoch 43/100\n",
      "282/282 [==============================] - 1s 2ms/step - loss: 1.0357 - val_loss: 0.5481\n",
      "Epoch 44/100\n",
      "282/282 [==============================] - 1s 2ms/step - loss: 1.0349 - val_loss: 0.5687\n",
      "Epoch 45/100\n",
      "282/282 [==============================] - 1s 2ms/step - loss: 1.0378 - val_loss: 0.5471\n",
      "Epoch 46/100\n",
      "282/282 [==============================] - 1s 2ms/step - loss: 1.0362 - val_loss: 0.5652\n",
      "Epoch 47/100\n",
      "282/282 [==============================] - 1s 2ms/step - loss: 1.0348 - val_loss: 0.5536\n",
      "Epoch 48/100\n",
      "282/282 [==============================] - 0s 2ms/step - loss: 1.0350 - val_loss: 0.5443\n",
      "Epoch 49/100\n",
      "282/282 [==============================] - 1s 2ms/step - loss: 1.0351 - val_loss: 0.5576\n",
      "Epoch 50/100\n",
      "282/282 [==============================] - 1s 2ms/step - loss: 1.0336 - val_loss: 0.5457\n",
      "Epoch 51/100\n",
      "282/282 [==============================] - 0s 2ms/step - loss: 1.0361 - val_loss: 0.5636\n",
      "Epoch 52/100\n",
      "282/282 [==============================] - 1s 2ms/step - loss: 1.0344 - val_loss: 0.5421\n",
      "Epoch 53/100\n",
      "282/282 [==============================] - 0s 2ms/step - loss: 1.0343 - val_loss: 0.5596\n",
      "Epoch 54/100\n",
      "282/282 [==============================] - 0s 2ms/step - loss: 1.0354 - val_loss: 0.5472\n",
      "Epoch 55/100\n",
      "282/282 [==============================] - 1s 2ms/step - loss: 1.0346 - val_loss: 0.5453\n",
      "Epoch 56/100\n",
      "282/282 [==============================] - 1s 2ms/step - loss: 1.0342 - val_loss: 0.5455\n",
      "Epoch 57/100\n",
      "282/282 [==============================] - 0s 2ms/step - loss: 1.0339 - val_loss: 0.5469\n",
      "Epoch 58/100\n",
      "282/282 [==============================] - 1s 2ms/step - loss: 1.0338 - val_loss: 0.5616\n",
      "Epoch 59/100\n",
      "282/282 [==============================] - 1s 2ms/step - loss: 1.0340 - val_loss: 0.5479\n",
      "Epoch 60/100\n",
      "282/282 [==============================] - 0s 2ms/step - loss: 1.0335 - val_loss: 0.5522\n",
      "Epoch 61/100\n",
      "282/282 [==============================] - 0s 1ms/step - loss: 1.0345 - val_loss: 0.5458\n",
      "Epoch 62/100\n",
      "282/282 [==============================] - 0s 1ms/step - loss: 1.0331 - val_loss: 0.5414\n",
      "Epoch 63/100\n",
      "282/282 [==============================] - 0s 2ms/step - loss: 1.0330 - val_loss: 0.5497\n",
      "Epoch 64/100\n",
      "282/282 [==============================] - 0s 1ms/step - loss: 1.0332 - val_loss: 0.5426\n",
      "Epoch 65/100\n",
      "282/282 [==============================] - 0s 1ms/step - loss: 1.0327 - val_loss: 0.5626\n",
      "Epoch 66/100\n",
      "282/282 [==============================] - 0s 2ms/step - loss: 1.0342 - val_loss: 0.5483\n",
      "Epoch 67/100\n",
      "282/282 [==============================] - 1s 2ms/step - loss: 1.0333 - val_loss: 0.5415\n",
      "Epoch 68/100\n",
      "282/282 [==============================] - 0s 2ms/step - loss: 1.0322 - val_loss: 0.5476\n",
      "Epoch 69/100\n",
      "282/282 [==============================] - 0s 2ms/step - loss: 1.0322 - val_loss: 0.5468\n",
      "Epoch 70/100\n",
      "282/282 [==============================] - 0s 2ms/step - loss: 1.0331 - val_loss: 0.5717\n",
      "Epoch 71/100\n",
      "282/282 [==============================] - 0s 2ms/step - loss: 1.0292 - val_loss: 0.5383\n",
      "Epoch 72/100\n",
      "282/282 [==============================] - 0s 2ms/step - loss: 1.0271 - val_loss: 0.5405\n",
      "Epoch 73/100\n",
      "282/282 [==============================] - 1s 2ms/step - loss: 1.0312 - val_loss: 0.5414\n",
      "Epoch 74/100\n",
      "282/282 [==============================] - 1s 2ms/step - loss: 1.0240 - val_loss: 0.5454\n",
      "Epoch 75/100\n",
      "282/282 [==============================] - 1s 3ms/step - loss: 1.0237 - val_loss: 0.5677\n",
      "Epoch 76/100\n",
      "282/282 [==============================] - 1s 2ms/step - loss: 1.0281 - val_loss: 0.5479\n",
      "Epoch 77/100\n",
      "282/282 [==============================] - 0s 2ms/step - loss: 1.0275 - val_loss: 0.5949\n",
      "Epoch 78/100\n",
      "282/282 [==============================] - 0s 2ms/step - loss: 1.0264 - val_loss: 0.5371\n",
      "Epoch 79/100\n",
      "282/282 [==============================] - 0s 2ms/step - loss: 1.0242 - val_loss: 0.5505\n",
      "Epoch 80/100\n",
      "282/282 [==============================] - 0s 2ms/step - loss: 1.0262 - val_loss: 0.5634\n",
      "Epoch 81/100\n",
      "282/282 [==============================] - 0s 2ms/step - loss: 1.0267 - val_loss: 0.5571\n",
      "Epoch 82/100\n",
      "282/282 [==============================] - 0s 2ms/step - loss: 1.0254 - val_loss: 0.5418\n",
      "Epoch 83/100\n",
      "282/282 [==============================] - 0s 2ms/step - loss: 1.0208 - val_loss: 0.5481\n",
      "Epoch 84/100\n",
      "282/282 [==============================] - 0s 2ms/step - loss: 1.0267 - val_loss: 0.5504\n",
      "Epoch 85/100\n",
      "282/282 [==============================] - 0s 2ms/step - loss: 1.0242 - val_loss: 0.5883\n",
      "Epoch 86/100\n",
      "282/282 [==============================] - 0s 2ms/step - loss: 1.0236 - val_loss: 0.5390\n",
      "Epoch 87/100\n",
      "282/282 [==============================] - 0s 2ms/step - loss: 1.0240 - val_loss: 0.5758\n",
      "Epoch 88/100\n",
      "282/282 [==============================] - 0s 2ms/step - loss: 1.0188 - val_loss: 0.5665\n",
      "Epoch 89/100\n",
      "282/282 [==============================] - 1s 2ms/step - loss: 1.0187 - val_loss: 0.5923\n",
      "Epoch 90/100\n",
      "282/282 [==============================] - 1s 2ms/step - loss: 1.0160 - val_loss: 0.5431\n",
      "Epoch 91/100\n",
      "282/282 [==============================] - 1s 2ms/step - loss: 1.0255 - val_loss: 0.5361\n",
      "Epoch 92/100\n",
      "282/282 [==============================] - 1s 2ms/step - loss: 1.0165 - val_loss: 0.5777\n",
      "Epoch 93/100\n",
      "282/282 [==============================] - 1s 2ms/step - loss: 1.0199 - val_loss: 0.5480\n",
      "Epoch 94/100\n",
      "282/282 [==============================] - 1s 3ms/step - loss: 1.0189 - val_loss: 0.5381\n",
      "Epoch 95/100\n",
      "282/282 [==============================] - 1s 2ms/step - loss: 1.0210 - val_loss: 0.5390\n",
      "Epoch 96/100\n",
      "282/282 [==============================] - 1s 2ms/step - loss: 1.0177 - val_loss: 0.5464\n",
      "Epoch 97/100\n",
      "282/282 [==============================] - 1s 3ms/step - loss: 1.0228 - val_loss: 0.5741\n",
      "Epoch 98/100\n",
      "282/282 [==============================] - 1s 2ms/step - loss: 1.0155 - val_loss: 0.5796\n",
      "Epoch 99/100\n",
      "282/282 [==============================] - 0s 2ms/step - loss: 1.0222 - val_loss: 0.5532\n",
      "Epoch 100/100\n",
      "282/282 [==============================] - 0s 1ms/step - loss: 1.0104 - val_loss: 0.5630\n"
     ]
    },
    {
     "data": {
      "text/plain": "AutoEncoder(batch_size=32, contamination=0.01, dropout_rate=0.2, epochs=100,\n      hidden_activation='relu', hidden_neurons=[2, 32, 32, 2],\n      l2_regularizer=0.1,\n      loss=<function mean_squared_error at 0x15537cdc0>, optimizer='adam',\n      output_activation='sigmoid', preprocessing=True, random_state=None,\n      validation_size=0.1, verbose=1)"
     },
     "execution_count": 40,
     "metadata": {},
     "output_type": "execute_result"
    }
   ]
  },
  {
   "cell_type": "markdown",
   "metadata": {
    "id": "hIcAk7ZymQ6i"
   },
   "source": [
    "### Filter and Sort Outliers\n",
    "\n",
    "__Your Turn:__ Predict outliers in our dataset using our trained model and filter out the outlier observations and sort by descending order and view the top 5 outlier values similar to 4.1"
   ]
  },
  {
   "cell_type": "code",
   "metadata": {
    "colab": {
     "base_uri": "https://localhost:8080/",
     "height": 207
    },
    "id": "tFHwtudZmQ6i",
    "outputId": "b1c63899-aec8-41a1-909d-7962fee944a3"
   },
   "source": [
    "outlier_predictions = ae_model.predict(subset_df)\n",
    "\n",
    "outliers_df = subset_df.copy(deep=True)\n",
    "outliers_df['Outlier'] = outlier_predictions\n",
    "outliers_df = outliers_df[outliers_df['Outlier'] == 1]\n",
    "\n",
    "print('Total Outliers:', len(outliers_df))\n",
    "outliers_sorted = outliers_df.sort_values(by=['Profit', 'Discount'], ascending=False)\n",
    "outliers_sorted.head(5)"
   ],
   "execution_count": 41,
   "outputs": [
    {
     "name": "stdout",
     "output_type": "stream",
     "text": [
      "Total Outliers: 100\n"
     ]
    },
    {
     "data": {
      "text/plain": "      Discount    Profit  Outlier\n6826       0.0  1.000000        1\n8153       0.0  0.888000        1\n4190       0.0  0.776000        1\n9039       0.0  0.769759        1\n4098       0.0  0.748699        1",
      "text/html": "<div>\n<style scoped>\n    .dataframe tbody tr th:only-of-type {\n        vertical-align: middle;\n    }\n\n    .dataframe tbody tr th {\n        vertical-align: top;\n    }\n\n    .dataframe thead th {\n        text-align: right;\n    }\n</style>\n<table border=\"1\" class=\"dataframe\">\n  <thead>\n    <tr style=\"text-align: right;\">\n      <th></th>\n      <th>Discount</th>\n      <th>Profit</th>\n      <th>Outlier</th>\n    </tr>\n  </thead>\n  <tbody>\n    <tr>\n      <th>6826</th>\n      <td>0.0</td>\n      <td>1.000000</td>\n      <td>1</td>\n    </tr>\n    <tr>\n      <th>8153</th>\n      <td>0.0</td>\n      <td>0.888000</td>\n      <td>1</td>\n    </tr>\n    <tr>\n      <th>4190</th>\n      <td>0.0</td>\n      <td>0.776000</td>\n      <td>1</td>\n    </tr>\n    <tr>\n      <th>9039</th>\n      <td>0.0</td>\n      <td>0.769759</td>\n      <td>1</td>\n    </tr>\n    <tr>\n      <th>4098</th>\n      <td>0.0</td>\n      <td>0.748699</td>\n      <td>1</td>\n    </tr>\n  </tbody>\n</table>\n</div>"
     },
     "execution_count": 41,
     "metadata": {},
     "output_type": "execute_result"
    }
   ]
  },
  {
   "cell_type": "markdown",
   "metadata": {
    "id": "YC71IS1emQ6i"
   },
   "source": [
    "### View Bottom 10 Outlier Transactions\n",
    "\n",
    "__Your turn:__ View the bottom ten transactions "
   ]
  },
  {
   "cell_type": "code",
   "metadata": {
    "colab": {
     "base_uri": "https://localhost:8080/",
     "height": 335
    },
    "id": "9jLOL5D0mQ6i",
    "outputId": "34af20b1-8e7e-4aab-e34d-a635e80a1c79"
   },
   "source": [
    "(df.loc[outliers_sorted.index.tolist()][['City', 'Category', 'Sub-Category', 'Product Name', \n",
    "                                              'Sales', 'Quantity', 'Discount', 'Profit']]).tail(10)"
   ],
   "execution_count": 42,
   "outputs": [
    {
     "data": {
      "text/plain": "              City         Category Sub-Category  \\\n2697  Jacksonville       Technology     Machines   \n1199       Houston  Office Supplies      Binders   \n9639       Concord        Furniture       Tables   \n5310       Houston  Office Supplies      Binders   \n3151        Newark       Technology     Machines   \n4991       Chicago  Office Supplies      Binders   \n3011    Louisville       Technology     Machines   \n9774   San Antonio  Office Supplies      Binders   \n683     Burlington       Technology     Machines   \n7772     Lancaster       Technology     Machines   \n\n                                           Product Name      Sales  Quantity  \\\n2697  Cisco TelePresence System EX90 Videoconferenci...  22638.480         6   \n1199          GBC DocuBind P400 Electric Binding System   1088.792         4   \n9639  Chromcraft Bull-Nose Wood Oval Conference Tabl...   4297.644        13   \n5310  Fellowes PB500 Electric Punch Plastic Comb Bin...   1525.188         6   \n3151          Cubify CubeX 3D Printer Double Head Print   1799.994         2   \n4991               Ibico EPK-21 Electric Binding System   1889.990         5   \n3011          Lexmark MX611dhe Monochrome Laser Printer   2549.985         5   \n9774          GBC DocuBind P400 Electric Binding System   2177.584         8   \n683           Cubify CubeX 3D Printer Triple Head Print   7999.980         4   \n7772          Cubify CubeX 3D Printer Double Head Print   4499.985         5   \n\n      Discount     Profit  \n2697       0.5 -1811.0784  \n1199       0.8 -1850.9464  \n9639       0.4 -1862.3124  \n5310       0.8 -2287.7820  \n3151       0.7 -2639.9912  \n4991       0.8 -2929.4845  \n3011       0.7 -3399.9800  \n9774       0.8 -3701.8928  \n683        0.5 -3839.9904  \n7772       0.7 -6599.9780  ",
      "text/html": "<div>\n<style scoped>\n    .dataframe tbody tr th:only-of-type {\n        vertical-align: middle;\n    }\n\n    .dataframe tbody tr th {\n        vertical-align: top;\n    }\n\n    .dataframe thead th {\n        text-align: right;\n    }\n</style>\n<table border=\"1\" class=\"dataframe\">\n  <thead>\n    <tr style=\"text-align: right;\">\n      <th></th>\n      <th>City</th>\n      <th>Category</th>\n      <th>Sub-Category</th>\n      <th>Product Name</th>\n      <th>Sales</th>\n      <th>Quantity</th>\n      <th>Discount</th>\n      <th>Profit</th>\n    </tr>\n  </thead>\n  <tbody>\n    <tr>\n      <th>2697</th>\n      <td>Jacksonville</td>\n      <td>Technology</td>\n      <td>Machines</td>\n      <td>Cisco TelePresence System EX90 Videoconferenci...</td>\n      <td>22638.480</td>\n      <td>6</td>\n      <td>0.5</td>\n      <td>-1811.0784</td>\n    </tr>\n    <tr>\n      <th>1199</th>\n      <td>Houston</td>\n      <td>Office Supplies</td>\n      <td>Binders</td>\n      <td>GBC DocuBind P400 Electric Binding System</td>\n      <td>1088.792</td>\n      <td>4</td>\n      <td>0.8</td>\n      <td>-1850.9464</td>\n    </tr>\n    <tr>\n      <th>9639</th>\n      <td>Concord</td>\n      <td>Furniture</td>\n      <td>Tables</td>\n      <td>Chromcraft Bull-Nose Wood Oval Conference Tabl...</td>\n      <td>4297.644</td>\n      <td>13</td>\n      <td>0.4</td>\n      <td>-1862.3124</td>\n    </tr>\n    <tr>\n      <th>5310</th>\n      <td>Houston</td>\n      <td>Office Supplies</td>\n      <td>Binders</td>\n      <td>Fellowes PB500 Electric Punch Plastic Comb Bin...</td>\n      <td>1525.188</td>\n      <td>6</td>\n      <td>0.8</td>\n      <td>-2287.7820</td>\n    </tr>\n    <tr>\n      <th>3151</th>\n      <td>Newark</td>\n      <td>Technology</td>\n      <td>Machines</td>\n      <td>Cubify CubeX 3D Printer Double Head Print</td>\n      <td>1799.994</td>\n      <td>2</td>\n      <td>0.7</td>\n      <td>-2639.9912</td>\n    </tr>\n    <tr>\n      <th>4991</th>\n      <td>Chicago</td>\n      <td>Office Supplies</td>\n      <td>Binders</td>\n      <td>Ibico EPK-21 Electric Binding System</td>\n      <td>1889.990</td>\n      <td>5</td>\n      <td>0.8</td>\n      <td>-2929.4845</td>\n    </tr>\n    <tr>\n      <th>3011</th>\n      <td>Louisville</td>\n      <td>Technology</td>\n      <td>Machines</td>\n      <td>Lexmark MX611dhe Monochrome Laser Printer</td>\n      <td>2549.985</td>\n      <td>5</td>\n      <td>0.7</td>\n      <td>-3399.9800</td>\n    </tr>\n    <tr>\n      <th>9774</th>\n      <td>San Antonio</td>\n      <td>Office Supplies</td>\n      <td>Binders</td>\n      <td>GBC DocuBind P400 Electric Binding System</td>\n      <td>2177.584</td>\n      <td>8</td>\n      <td>0.8</td>\n      <td>-3701.8928</td>\n    </tr>\n    <tr>\n      <th>683</th>\n      <td>Burlington</td>\n      <td>Technology</td>\n      <td>Machines</td>\n      <td>Cubify CubeX 3D Printer Triple Head Print</td>\n      <td>7999.980</td>\n      <td>4</td>\n      <td>0.5</td>\n      <td>-3839.9904</td>\n    </tr>\n    <tr>\n      <th>7772</th>\n      <td>Lancaster</td>\n      <td>Technology</td>\n      <td>Machines</td>\n      <td>Cubify CubeX 3D Printer Double Head Print</td>\n      <td>4499.985</td>\n      <td>5</td>\n      <td>0.7</td>\n      <td>-6599.9780</td>\n    </tr>\n  </tbody>\n</table>\n</div>"
     },
     "execution_count": 42,
     "metadata": {},
     "output_type": "execute_result"
    }
   ]
  },
  {
   "cell_type": "markdown",
   "metadata": {
    "id": "JTtiFkHhmQ6j"
   },
   "source": [
    "## 4.4: Visualize Anomalies and Compare Anomaly Detection Models\n",
    "\n",
    "Here we will look at the visual plots of anomalies as detected by the above three models"
   ]
  },
  {
   "cell_type": "code",
   "metadata": {
    "id": "vt13_cpEmQ6j"
   },
   "source": [
    "def visualize_anomalies(model, xx, yy, data_df, ax_obj, subplot_title):\n",
    "    \n",
    "    # predict raw anomaly score\n",
    "    scores_pred = model.decision_function(data_df) * -1\n",
    "    # prediction of a datapoint category outlier or inlier\n",
    "    y_pred = model.predict(data_df)\n",
    "    n_inliers = len(y_pred) - np.count_nonzero(y_pred)\n",
    "    n_outliers = np.count_nonzero(y_pred == 1)\n",
    "\n",
    "\n",
    "    out_df = data_df.copy(deep=True)\n",
    "    out_df['Outlier'] = y_pred.tolist()\n",
    "    # discount - inlier feature 1,  profit - inlier feature 2\n",
    "    inliers_discount = out_df[out_df['Outlier'] == 0]['Discount'].values\n",
    "    inliers_profit = out_df[out_df['Outlier'] == 0]['Profit'].values\n",
    "    # discount - outlier feature 1, profit - outlier feature 2\n",
    "    outliers_discount = out_df[out_df['Outlier'] == 1]['Discount'].values\n",
    "    outliers_profit = out_df[out_df['Outlier'] == 1]['Profit'].values\n",
    "\n",
    "    # Use threshold value to consider a datapoint inlier or outlier\n",
    "    # threshold = stats.scoreatpercentile(scores_pred,100 * outliers_fraction)\n",
    "    threshold = np.percentile(scores_pred, 100 * outliers_fraction)   \n",
    "    # decision function calculates the raw anomaly score for every point\n",
    "    Z = model.decision_function(np.c_[xx.ravel(), yy.ravel()]) * -1\n",
    "    Z = Z.reshape(xx.shape)\n",
    "    # fill blue map colormap from minimum anomaly score to threshold value\n",
    "    ax_obj.contourf(xx, yy, Z, levels=np.linspace(Z.min(), threshold, 7),cmap=plt.cm.Blues_r)\n",
    "    # draw red contour line where anomaly score is equal to thresold\n",
    "    a = ax_obj.contour(xx, yy, Z, levels=[threshold],linewidths=2, colors='red')\n",
    "    # fill orange contour lines where range of anomaly score is from threshold to maximum anomaly score\n",
    "    ax_obj.contourf(xx, yy, Z, levels=[threshold, Z.max()],colors='orange')\n",
    "    b = ax_obj.scatter(inliers_discount, inliers_profit, c='white',s=20, edgecolor='k')\n",
    "    c = ax_obj.scatter(outliers_discount, outliers_profit, c='black',s=20, edgecolor='k')\n",
    "\n",
    "\n",
    "    ax_obj.legend([a.collections[0], b,c], ['learned decision function', 'inliers','outliers'],\n",
    "               prop=matplotlib.font_manager.FontProperties(size=10),loc='upper right')\n",
    "\n",
    "    ax_obj.set_xlim((0, 1))\n",
    "    ax_obj.set_ylim((0, 1))\n",
    "    ax_obj.set_xlabel('Discount')\n",
    "    ax_obj.set_ylabel('Sales')\n",
    "    ax_obj.set_title(subplot_title)"
   ],
   "execution_count": 43,
   "outputs": []
  },
  {
   "cell_type": "code",
   "metadata": {
    "colab": {
     "base_uri": "https://localhost:8080/",
     "height": 403
    },
    "id": "K1UPstAvmQ6j",
    "outputId": "6a7de5bb-784e-4264-fcaa-0c0da0a9e133"
   },
   "source": [
    "outliers_fraction = 0.01\n",
    "xx , yy = np.meshgrid(np.linspace(0, 1, 100), np.linspace(0, 1, 100))\n",
    "fig, ax = plt.subplots(1, 3, figsize=(20, 6))\n",
    "\n",
    "ax_objs = [ax[0], ax[1], ax[2]]\n",
    "models = [cblof_model, if_model, ae_model]\n",
    "plot_titles = ['Cluster-based Local Outlier Factor (CBLOF)',\n",
    "               'Isolation Forest',\n",
    "               'Auto-Encoder']\n",
    "\n",
    "for ax_obj, model, plot_title in zip(ax_objs, models, plot_titles):\n",
    "    visualize_anomalies(model=model,\n",
    "                        xx=xx, yy=yy,\n",
    "                        data_df=subset_df,\n",
    "                        ax_obj=ax_obj,\n",
    "                        subplot_title=plot_title)\n",
    "plt.axis('tight');"
   ],
   "execution_count": 44,
   "outputs": [
    {
     "data": {
      "text/plain": "<Figure size 1440x432 with 3 Axes>",
      "image/png": "[encoded data removed]"
     },
     "metadata": {
      "needs_background": "light"
     },
     "output_type": "display_data"
    }
   ]
  },
  {
   "cell_type": "code",
   "execution_count": null,
   "outputs": [],
   "source": [],
   "metadata": {
    "collapsed": false,
    "pycharm": {
     "name": "#%%\n"
    }
   }
  }
 ]
}